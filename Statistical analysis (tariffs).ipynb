{
 "cells": [
  {
   "cell_type": "markdown",
   "metadata": {
    "toc": true
   },
   "source": [
    "<h1>Содержание<span class=\"tocSkip\"></span></h1>\n",
    "<div class=\"toc\"><ul class=\"toc-item\"><li><span><a href=\"#Изучение-имеющихся-данных.\" data-toc-modified-id=\"Изучение-имеющихся-данных.-1\"><span class=\"toc-item-num\">1&nbsp;&nbsp;</span>Изучение имеющихся данных.</a></span><ul class=\"toc-item\"><li><span><a href=\"#Вывод:\" data-toc-modified-id=\"Вывод:-1.1\"><span class=\"toc-item-num\">1.1&nbsp;&nbsp;</span>Вывод:</a></span></li></ul></li><li><span><a href=\"#Подготовка-данных.\" data-toc-modified-id=\"Подготовка-данных.-2\"><span class=\"toc-item-num\">2&nbsp;&nbsp;</span>Подготовка данных.</a></span><ul class=\"toc-item\"><li><span><a href=\"#Звонки-продолжительностью-0-секунд-и-трафик-0-Мб.\" data-toc-modified-id=\"Звонки-продолжительностью-0-секунд-и-трафик-0-Мб.-2.1\"><span class=\"toc-item-num\">2.1&nbsp;&nbsp;</span>Звонки продолжительностью 0 секунд и трафик 0 Мб.</a></span></li><li><span><a href=\"#Смена-формата-у-дат.\" data-toc-modified-id=\"Смена-формата-у-дат.-2.2\"><span class=\"toc-item-num\">2.2&nbsp;&nbsp;</span>Смена формата у дат.</a></span></li><li><span><a href=\"#Сводные-и-объединённые-таблицы.\" data-toc-modified-id=\"Сводные-и-объединённые-таблицы.-2.3\"><span class=\"toc-item-num\">2.3&nbsp;&nbsp;</span>Сводные и объединённые таблицы.</a></span></li><li><span><a href=\"#Расчёт-стоимости-услуг,-потреблённых-сверх-лимита-соответствующего-тарифного-плана:\" data-toc-modified-id=\"Расчёт-стоимости-услуг,-потреблённых-сверх-лимита-соответствующего-тарифного-плана:-2.4\"><span class=\"toc-item-num\">2.4&nbsp;&nbsp;</span>Расчёт стоимости услуг, потреблённых сверх лимита соответствующего тарифного плана:</a></span></li><li><span><a href=\"#Вывод:\" data-toc-modified-id=\"Вывод:-2.5\"><span class=\"toc-item-num\">2.5&nbsp;&nbsp;</span>Вывод:</a></span></li></ul></li><li><span><a href=\"#Анализ-данных.\" data-toc-modified-id=\"Анализ-данных.-3\"><span class=\"toc-item-num\">3&nbsp;&nbsp;</span>Анализ данных.</a></span><ul class=\"toc-item\"><li><span><a href=\"#Сравнение-статистики-потребления-услуг-абонентами-тарифов-&quot;Смарт&quot;-и-&quot;Ультра&quot;.\" data-toc-modified-id=\"Сравнение-статистики-потребления-услуг-абонентами-тарифов-&quot;Смарт&quot;-и-&quot;Ультра&quot;.-3.1\"><span class=\"toc-item-num\">3.1&nbsp;&nbsp;</span>Сравнение статистики потребления услуг абонентами тарифов \"Смарт\" и \"Ультра\".</a></span></li><li><span><a href=\"#Вывод:\" data-toc-modified-id=\"Вывод:-3.2\"><span class=\"toc-item-num\">3.2&nbsp;&nbsp;</span>Вывод:</a></span></li></ul></li><li><span><a href=\"#Проверка-гипотез\" data-toc-modified-id=\"Проверка-гипотез-4\"><span class=\"toc-item-num\">4&nbsp;&nbsp;</span>Проверка гипотез</a></span><ul class=\"toc-item\"><li><span><a href=\"#Различается-ли-средняя-выручка,-получаемая-от-абонентов-Смарт-и-Ультра?\" data-toc-modified-id=\"Различается-ли-средняя-выручка,-получаемая-от-абонентов-Смарт-и-Ультра?-4.1\"><span class=\"toc-item-num\">4.1&nbsp;&nbsp;</span>Различается ли средняя выручка, получаемая от абонентов Смарт и Ультра?</a></span></li><li><span><a href=\"#Различается-ли-средняя-выручка,-получаемая-от-абонентов-из-Москвы-от-выручки,-получаемой-из-других-регионов?\" data-toc-modified-id=\"Различается-ли-средняя-выручка,-получаемая-от-абонентов-из-Москвы-от-выручки,-получаемой-из-других-регионов?-4.2\"><span class=\"toc-item-num\">4.2&nbsp;&nbsp;</span>Различается ли средняя выручка, получаемая от абонентов из Москвы от выручки, получаемой из других регионов?</a></span></li></ul></li><li><span><a href=\"#Общий-вывод\" data-toc-modified-id=\"Общий-вывод-5\"><span class=\"toc-item-num\">5&nbsp;&nbsp;</span>Общий вывод</a></span></li></ul></div>"
   ]
  },
  {
   "cell_type": "markdown",
   "metadata": {},
   "source": [
    "# Предварительный анализ тарифов \"Смарт\" и \"Ультра\" оператора сотовой связи \"Мегалайн\"."
   ]
  },
  {
   "cell_type": "markdown",
   "metadata": {},
   "source": [
    "Предварительный анализ тарифов на набольшой выборке клиентов (500 пользователей) за 2018 год. <br>\n",
    "Задача: определить, какой из двух тарифных планов более выгоден телеком компании. Вывод требуется для корректировки рекламного бюджета. "
   ]
  },
  {
   "cell_type": "markdown",
   "metadata": {},
   "source": [
    "Описание тарифов: <br>\n",
    "**Тариф \"Смарт\":** \n",
    " - ежемесячная плата: 550 руб.\n",
    " - включено: 550 минут разговора, 50 сообщений, 15 Гб интернет-трафика\n",
    " - стоимость услуг сверх тарифного пакета: \n",
    "    - минута разговора: 3 руб.\n",
    "    - сообщение: 3 руб.\n",
    "    - 1 Гб интернет-трафика: 200 руб.\n",
    "    \n",
    "**Тариф \"Ультра\":**\n",
    "- ежемесячная плата: 1950 руб.\n",
    "- включено: 3000 минут разговора, 1000 сообщений, 30 Гб интернет-трафика\n",
    "- стоимость услуг сверх тарифного пакета: \n",
    "    - минута разговора: 1 руб.\n",
    "    - сообщение: 1 руб.\n",
    "    - 1 Гб интернет-трафика: 150 руб."
   ]
  },
  {
   "cell_type": "markdown",
   "metadata": {},
   "source": [
    "\n",
    "\n",
    "После подготовки имеющихся данных к анализу, будут сделаны необходимые расчёты: <br>\n",
    "* стоимость услуг сверх абонентской платы для каждого абонента в выборке и в среднем; \n",
    "* общая выручка для каждого и в среднем. <br>\n",
    "Проведём сравнение паттернов потребления услуг оператора абонентами двух тарифов: Смарт и Ультра, по каждой из услуг в отдельности (звонки, интернет-трафик, сообщения) и проверим две гипотезы: <br>\n",
    "1) Средняя выручка, получаемая от абонентов двух рассматриваемых тарифов, различается; <br>\n",
    "2) Средняя выручка, получаемая от абонентов из Москвы и из других регионов, различается. <br>\n",
    "При проверке гипотез учтём, что в нашем распоряжении не вся совокупность данных об абонентах оператора, а лишь небольшая выборка. <br>\n",
    "\n",
    "На основе данных, полученных в процессе работы над проектом, сделаем вывод о том, какой из тарифов является более выгодным для оператора. "
   ]
  },
  {
   "cell_type": "markdown",
   "metadata": {},
   "source": [
    "##  Изучение имеющихся данных."
   ]
  },
  {
   "cell_type": "code",
   "execution_count": 1,
   "metadata": {},
   "outputs": [],
   "source": [
    "# импортируем библиотеки, которые понадобятся для работы над проектом:\n",
    "import pandas as pd\n",
    "import numpy as np\n",
    "import math\n",
    "from scipy import stats as st\n",
    "import matplotlib.pyplot as plt\n",
    "import seaborn as sns\n",
    "import warnings\n",
    "warnings.filterwarnings(\"ignore\")"
   ]
  },
  {
   "cell_type": "code",
   "execution_count": 2,
   "metadata": {},
   "outputs": [],
   "source": [
    "# файлы:\n",
    "calls = pd.read_csv('calls.csv')\n",
    "internet = pd.read_csv('internet.csv')\n",
    "messages = pd.read_csv('messages.csv')\n",
    "tariffs = pd.read_csv('tariffs.csv')\n",
    "users = pd.read_csv('users.csv')"
   ]
  },
  {
   "cell_type": "markdown",
   "metadata": {},
   "source": [
    "Смотрим таблицы и общую информацию по ним:"
   ]
  },
  {
   "cell_type": "code",
   "execution_count": 3,
   "metadata": {},
   "outputs": [
    {
     "data": {
      "text/html": [
       "<div>\n",
       "<style scoped>\n",
       "    .dataframe tbody tr th:only-of-type {\n",
       "        vertical-align: middle;\n",
       "    }\n",
       "\n",
       "    .dataframe tbody tr th {\n",
       "        vertical-align: top;\n",
       "    }\n",
       "\n",
       "    .dataframe thead th {\n",
       "        text-align: right;\n",
       "    }\n",
       "</style>\n",
       "<table border=\"1\" class=\"dataframe\">\n",
       "  <thead>\n",
       "    <tr style=\"text-align: right;\">\n",
       "      <th></th>\n",
       "      <th>id</th>\n",
       "      <th>call_date</th>\n",
       "      <th>duration</th>\n",
       "      <th>user_id</th>\n",
       "    </tr>\n",
       "  </thead>\n",
       "  <tbody>\n",
       "    <tr>\n",
       "      <th>0</th>\n",
       "      <td>1000_0</td>\n",
       "      <td>2018-07-25</td>\n",
       "      <td>0.00</td>\n",
       "      <td>1000</td>\n",
       "    </tr>\n",
       "    <tr>\n",
       "      <th>1</th>\n",
       "      <td>1000_1</td>\n",
       "      <td>2018-08-17</td>\n",
       "      <td>0.00</td>\n",
       "      <td>1000</td>\n",
       "    </tr>\n",
       "    <tr>\n",
       "      <th>2</th>\n",
       "      <td>1000_2</td>\n",
       "      <td>2018-06-11</td>\n",
       "      <td>2.85</td>\n",
       "      <td>1000</td>\n",
       "    </tr>\n",
       "    <tr>\n",
       "      <th>3</th>\n",
       "      <td>1000_3</td>\n",
       "      <td>2018-09-21</td>\n",
       "      <td>13.80</td>\n",
       "      <td>1000</td>\n",
       "    </tr>\n",
       "    <tr>\n",
       "      <th>4</th>\n",
       "      <td>1000_4</td>\n",
       "      <td>2018-12-15</td>\n",
       "      <td>5.18</td>\n",
       "      <td>1000</td>\n",
       "    </tr>\n",
       "    <tr>\n",
       "      <th>5</th>\n",
       "      <td>1000_5</td>\n",
       "      <td>2018-11-02</td>\n",
       "      <td>0.00</td>\n",
       "      <td>1000</td>\n",
       "    </tr>\n",
       "    <tr>\n",
       "      <th>6</th>\n",
       "      <td>1000_6</td>\n",
       "      <td>2018-10-18</td>\n",
       "      <td>0.00</td>\n",
       "      <td>1000</td>\n",
       "    </tr>\n",
       "    <tr>\n",
       "      <th>7</th>\n",
       "      <td>1000_7</td>\n",
       "      <td>2018-08-22</td>\n",
       "      <td>18.31</td>\n",
       "      <td>1000</td>\n",
       "    </tr>\n",
       "    <tr>\n",
       "      <th>8</th>\n",
       "      <td>1000_8</td>\n",
       "      <td>2018-09-15</td>\n",
       "      <td>18.44</td>\n",
       "      <td>1000</td>\n",
       "    </tr>\n",
       "    <tr>\n",
       "      <th>9</th>\n",
       "      <td>1000_9</td>\n",
       "      <td>2018-08-15</td>\n",
       "      <td>0.00</td>\n",
       "      <td>1000</td>\n",
       "    </tr>\n",
       "  </tbody>\n",
       "</table>\n",
       "</div>"
      ],
      "text/plain": [
       "       id   call_date  duration  user_id\n",
       "0  1000_0  2018-07-25      0.00     1000\n",
       "1  1000_1  2018-08-17      0.00     1000\n",
       "2  1000_2  2018-06-11      2.85     1000\n",
       "3  1000_3  2018-09-21     13.80     1000\n",
       "4  1000_4  2018-12-15      5.18     1000\n",
       "5  1000_5  2018-11-02      0.00     1000\n",
       "6  1000_6  2018-10-18      0.00     1000\n",
       "7  1000_7  2018-08-22     18.31     1000\n",
       "8  1000_8  2018-09-15     18.44     1000\n",
       "9  1000_9  2018-08-15      0.00     1000"
      ]
     },
     "metadata": {},
     "output_type": "display_data"
    },
    {
     "name": "stdout",
     "output_type": "stream",
     "text": [
      "<class 'pandas.core.frame.DataFrame'>\n",
      "RangeIndex: 202607 entries, 0 to 202606\n",
      "Data columns (total 4 columns):\n",
      " #   Column     Non-Null Count   Dtype  \n",
      "---  ------     --------------   -----  \n",
      " 0   id         202607 non-null  object \n",
      " 1   call_date  202607 non-null  object \n",
      " 2   duration   202607 non-null  float64\n",
      " 3   user_id    202607 non-null  int64  \n",
      "dtypes: float64(1), int64(1), object(2)\n",
      "memory usage: 6.2+ MB\n"
     ]
    }
   ],
   "source": [
    "# звонки:\n",
    "display(calls.head(10))\n",
    "calls.info()\n",
    "# таблица без пропусков в данных; встречаются звонки продолжительностью 0.00 секунд; столбец с датами звонков записан \n",
    "# в виде \"object\"."
   ]
  },
  {
   "cell_type": "code",
   "execution_count": 4,
   "metadata": {},
   "outputs": [
    {
     "data": {
      "text/html": [
       "<div>\n",
       "<style scoped>\n",
       "    .dataframe tbody tr th:only-of-type {\n",
       "        vertical-align: middle;\n",
       "    }\n",
       "\n",
       "    .dataframe tbody tr th {\n",
       "        vertical-align: top;\n",
       "    }\n",
       "\n",
       "    .dataframe thead th {\n",
       "        text-align: right;\n",
       "    }\n",
       "</style>\n",
       "<table border=\"1\" class=\"dataframe\">\n",
       "  <thead>\n",
       "    <tr style=\"text-align: right;\">\n",
       "      <th></th>\n",
       "      <th>Unnamed: 0</th>\n",
       "      <th>id</th>\n",
       "      <th>mb_used</th>\n",
       "      <th>session_date</th>\n",
       "      <th>user_id</th>\n",
       "    </tr>\n",
       "  </thead>\n",
       "  <tbody>\n",
       "    <tr>\n",
       "      <th>0</th>\n",
       "      <td>0</td>\n",
       "      <td>1000_0</td>\n",
       "      <td>112.95</td>\n",
       "      <td>2018-11-25</td>\n",
       "      <td>1000</td>\n",
       "    </tr>\n",
       "    <tr>\n",
       "      <th>1</th>\n",
       "      <td>1</td>\n",
       "      <td>1000_1</td>\n",
       "      <td>1052.81</td>\n",
       "      <td>2018-09-07</td>\n",
       "      <td>1000</td>\n",
       "    </tr>\n",
       "    <tr>\n",
       "      <th>2</th>\n",
       "      <td>2</td>\n",
       "      <td>1000_2</td>\n",
       "      <td>1197.26</td>\n",
       "      <td>2018-06-25</td>\n",
       "      <td>1000</td>\n",
       "    </tr>\n",
       "    <tr>\n",
       "      <th>3</th>\n",
       "      <td>3</td>\n",
       "      <td>1000_3</td>\n",
       "      <td>550.27</td>\n",
       "      <td>2018-08-22</td>\n",
       "      <td>1000</td>\n",
       "    </tr>\n",
       "    <tr>\n",
       "      <th>4</th>\n",
       "      <td>4</td>\n",
       "      <td>1000_4</td>\n",
       "      <td>302.56</td>\n",
       "      <td>2018-09-24</td>\n",
       "      <td>1000</td>\n",
       "    </tr>\n",
       "    <tr>\n",
       "      <th>5</th>\n",
       "      <td>5</td>\n",
       "      <td>1000_5</td>\n",
       "      <td>399.97</td>\n",
       "      <td>2018-10-02</td>\n",
       "      <td>1000</td>\n",
       "    </tr>\n",
       "    <tr>\n",
       "      <th>6</th>\n",
       "      <td>6</td>\n",
       "      <td>1000_6</td>\n",
       "      <td>540.08</td>\n",
       "      <td>2018-09-07</td>\n",
       "      <td>1000</td>\n",
       "    </tr>\n",
       "    <tr>\n",
       "      <th>7</th>\n",
       "      <td>7</td>\n",
       "      <td>1000_7</td>\n",
       "      <td>415.70</td>\n",
       "      <td>2018-07-11</td>\n",
       "      <td>1000</td>\n",
       "    </tr>\n",
       "    <tr>\n",
       "      <th>8</th>\n",
       "      <td>8</td>\n",
       "      <td>1000_8</td>\n",
       "      <td>505.40</td>\n",
       "      <td>2018-10-08</td>\n",
       "      <td>1000</td>\n",
       "    </tr>\n",
       "    <tr>\n",
       "      <th>9</th>\n",
       "      <td>9</td>\n",
       "      <td>1000_9</td>\n",
       "      <td>345.54</td>\n",
       "      <td>2018-09-03</td>\n",
       "      <td>1000</td>\n",
       "    </tr>\n",
       "  </tbody>\n",
       "</table>\n",
       "</div>"
      ],
      "text/plain": [
       "   Unnamed: 0      id  mb_used session_date  user_id\n",
       "0           0  1000_0   112.95   2018-11-25     1000\n",
       "1           1  1000_1  1052.81   2018-09-07     1000\n",
       "2           2  1000_2  1197.26   2018-06-25     1000\n",
       "3           3  1000_3   550.27   2018-08-22     1000\n",
       "4           4  1000_4   302.56   2018-09-24     1000\n",
       "5           5  1000_5   399.97   2018-10-02     1000\n",
       "6           6  1000_6   540.08   2018-09-07     1000\n",
       "7           7  1000_7   415.70   2018-07-11     1000\n",
       "8           8  1000_8   505.40   2018-10-08     1000\n",
       "9           9  1000_9   345.54   2018-09-03     1000"
      ]
     },
     "metadata": {},
     "output_type": "display_data"
    },
    {
     "name": "stdout",
     "output_type": "stream",
     "text": [
      "<class 'pandas.core.frame.DataFrame'>\n",
      "RangeIndex: 149396 entries, 0 to 149395\n",
      "Data columns (total 5 columns):\n",
      " #   Column        Non-Null Count   Dtype  \n",
      "---  ------        --------------   -----  \n",
      " 0   Unnamed: 0    149396 non-null  int64  \n",
      " 1   id            149396 non-null  object \n",
      " 2   mb_used       149396 non-null  float64\n",
      " 3   session_date  149396 non-null  object \n",
      " 4   user_id       149396 non-null  int64  \n",
      "dtypes: float64(1), int64(2), object(2)\n",
      "memory usage: 5.7+ MB\n"
     ]
    }
   ],
   "source": [
    "# интернет:\n",
    "display(internet.head(10))\n",
    "internet.info()\n",
    "# таблица без пропусков в данных; столбец с датами сессий записан в виде \"object\"."
   ]
  },
  {
   "cell_type": "code",
   "execution_count": 5,
   "metadata": {},
   "outputs": [
    {
     "data": {
      "text/html": [
       "<div>\n",
       "<style scoped>\n",
       "    .dataframe tbody tr th:only-of-type {\n",
       "        vertical-align: middle;\n",
       "    }\n",
       "\n",
       "    .dataframe tbody tr th {\n",
       "        vertical-align: top;\n",
       "    }\n",
       "\n",
       "    .dataframe thead th {\n",
       "        text-align: right;\n",
       "    }\n",
       "</style>\n",
       "<table border=\"1\" class=\"dataframe\">\n",
       "  <thead>\n",
       "    <tr style=\"text-align: right;\">\n",
       "      <th></th>\n",
       "      <th>id</th>\n",
       "      <th>message_date</th>\n",
       "      <th>user_id</th>\n",
       "    </tr>\n",
       "  </thead>\n",
       "  <tbody>\n",
       "    <tr>\n",
       "      <th>0</th>\n",
       "      <td>1000_0</td>\n",
       "      <td>2018-06-27</td>\n",
       "      <td>1000</td>\n",
       "    </tr>\n",
       "    <tr>\n",
       "      <th>1</th>\n",
       "      <td>1000_1</td>\n",
       "      <td>2018-10-08</td>\n",
       "      <td>1000</td>\n",
       "    </tr>\n",
       "    <tr>\n",
       "      <th>2</th>\n",
       "      <td>1000_2</td>\n",
       "      <td>2018-08-04</td>\n",
       "      <td>1000</td>\n",
       "    </tr>\n",
       "    <tr>\n",
       "      <th>3</th>\n",
       "      <td>1000_3</td>\n",
       "      <td>2018-06-16</td>\n",
       "      <td>1000</td>\n",
       "    </tr>\n",
       "    <tr>\n",
       "      <th>4</th>\n",
       "      <td>1000_4</td>\n",
       "      <td>2018-12-05</td>\n",
       "      <td>1000</td>\n",
       "    </tr>\n",
       "    <tr>\n",
       "      <th>5</th>\n",
       "      <td>1000_5</td>\n",
       "      <td>2018-06-20</td>\n",
       "      <td>1000</td>\n",
       "    </tr>\n",
       "    <tr>\n",
       "      <th>6</th>\n",
       "      <td>1000_6</td>\n",
       "      <td>2018-11-19</td>\n",
       "      <td>1000</td>\n",
       "    </tr>\n",
       "    <tr>\n",
       "      <th>7</th>\n",
       "      <td>1000_7</td>\n",
       "      <td>2018-10-29</td>\n",
       "      <td>1000</td>\n",
       "    </tr>\n",
       "    <tr>\n",
       "      <th>8</th>\n",
       "      <td>1000_8</td>\n",
       "      <td>2018-06-25</td>\n",
       "      <td>1000</td>\n",
       "    </tr>\n",
       "    <tr>\n",
       "      <th>9</th>\n",
       "      <td>1000_9</td>\n",
       "      <td>2018-12-18</td>\n",
       "      <td>1000</td>\n",
       "    </tr>\n",
       "  </tbody>\n",
       "</table>\n",
       "</div>"
      ],
      "text/plain": [
       "       id message_date  user_id\n",
       "0  1000_0   2018-06-27     1000\n",
       "1  1000_1   2018-10-08     1000\n",
       "2  1000_2   2018-08-04     1000\n",
       "3  1000_3   2018-06-16     1000\n",
       "4  1000_4   2018-12-05     1000\n",
       "5  1000_5   2018-06-20     1000\n",
       "6  1000_6   2018-11-19     1000\n",
       "7  1000_7   2018-10-29     1000\n",
       "8  1000_8   2018-06-25     1000\n",
       "9  1000_9   2018-12-18     1000"
      ]
     },
     "metadata": {},
     "output_type": "display_data"
    },
    {
     "name": "stdout",
     "output_type": "stream",
     "text": [
      "<class 'pandas.core.frame.DataFrame'>\n",
      "RangeIndex: 123036 entries, 0 to 123035\n",
      "Data columns (total 3 columns):\n",
      " #   Column        Non-Null Count   Dtype \n",
      "---  ------        --------------   ----- \n",
      " 0   id            123036 non-null  object\n",
      " 1   message_date  123036 non-null  object\n",
      " 2   user_id       123036 non-null  int64 \n",
      "dtypes: int64(1), object(2)\n",
      "memory usage: 2.8+ MB\n"
     ]
    }
   ],
   "source": [
    "# сообщения:\n",
    "display(messages.head(10))\n",
    "messages.info()\n",
    "# таблица без пропусков в данных; столбец с датами отправления сообщений записан в виде \"object\"."
   ]
  },
  {
   "cell_type": "code",
   "execution_count": 6,
   "metadata": {},
   "outputs": [
    {
     "data": {
      "text/html": [
       "<div>\n",
       "<style scoped>\n",
       "    .dataframe tbody tr th:only-of-type {\n",
       "        vertical-align: middle;\n",
       "    }\n",
       "\n",
       "    .dataframe tbody tr th {\n",
       "        vertical-align: top;\n",
       "    }\n",
       "\n",
       "    .dataframe thead th {\n",
       "        text-align: right;\n",
       "    }\n",
       "</style>\n",
       "<table border=\"1\" class=\"dataframe\">\n",
       "  <thead>\n",
       "    <tr style=\"text-align: right;\">\n",
       "      <th></th>\n",
       "      <th>messages_included</th>\n",
       "      <th>mb_per_month_included</th>\n",
       "      <th>minutes_included</th>\n",
       "      <th>rub_monthly_fee</th>\n",
       "      <th>rub_per_gb</th>\n",
       "      <th>rub_per_message</th>\n",
       "      <th>rub_per_minute</th>\n",
       "      <th>tariff_name</th>\n",
       "    </tr>\n",
       "  </thead>\n",
       "  <tbody>\n",
       "    <tr>\n",
       "      <th>0</th>\n",
       "      <td>50</td>\n",
       "      <td>15360</td>\n",
       "      <td>500</td>\n",
       "      <td>550</td>\n",
       "      <td>200</td>\n",
       "      <td>3</td>\n",
       "      <td>3</td>\n",
       "      <td>smart</td>\n",
       "    </tr>\n",
       "    <tr>\n",
       "      <th>1</th>\n",
       "      <td>1000</td>\n",
       "      <td>30720</td>\n",
       "      <td>3000</td>\n",
       "      <td>1950</td>\n",
       "      <td>150</td>\n",
       "      <td>1</td>\n",
       "      <td>1</td>\n",
       "      <td>ultra</td>\n",
       "    </tr>\n",
       "  </tbody>\n",
       "</table>\n",
       "</div>"
      ],
      "text/plain": [
       "   messages_included  mb_per_month_included  minutes_included  \\\n",
       "0                 50                  15360               500   \n",
       "1               1000                  30720              3000   \n",
       "\n",
       "   rub_monthly_fee  rub_per_gb  rub_per_message  rub_per_minute tariff_name  \n",
       "0              550         200                3               3       smart  \n",
       "1             1950         150                1               1       ultra  "
      ]
     },
     "metadata": {},
     "output_type": "display_data"
    },
    {
     "name": "stdout",
     "output_type": "stream",
     "text": [
      "<class 'pandas.core.frame.DataFrame'>\n",
      "RangeIndex: 2 entries, 0 to 1\n",
      "Data columns (total 8 columns):\n",
      " #   Column                 Non-Null Count  Dtype \n",
      "---  ------                 --------------  ----- \n",
      " 0   messages_included      2 non-null      int64 \n",
      " 1   mb_per_month_included  2 non-null      int64 \n",
      " 2   minutes_included       2 non-null      int64 \n",
      " 3   rub_monthly_fee        2 non-null      int64 \n",
      " 4   rub_per_gb             2 non-null      int64 \n",
      " 5   rub_per_message        2 non-null      int64 \n",
      " 6   rub_per_minute         2 non-null      int64 \n",
      " 7   tariff_name            2 non-null      object\n",
      "dtypes: int64(7), object(1)\n",
      "memory usage: 256.0+ bytes\n"
     ]
    }
   ],
   "source": [
    "# тарифы:\n",
    "display(tariffs.head(10))\n",
    "tariffs.info()"
   ]
  },
  {
   "cell_type": "code",
   "execution_count": 7,
   "metadata": {},
   "outputs": [
    {
     "data": {
      "text/html": [
       "<div>\n",
       "<style scoped>\n",
       "    .dataframe tbody tr th:only-of-type {\n",
       "        vertical-align: middle;\n",
       "    }\n",
       "\n",
       "    .dataframe tbody tr th {\n",
       "        vertical-align: top;\n",
       "    }\n",
       "\n",
       "    .dataframe thead th {\n",
       "        text-align: right;\n",
       "    }\n",
       "</style>\n",
       "<table border=\"1\" class=\"dataframe\">\n",
       "  <thead>\n",
       "    <tr style=\"text-align: right;\">\n",
       "      <th></th>\n",
       "      <th>user_id</th>\n",
       "      <th>age</th>\n",
       "      <th>churn_date</th>\n",
       "      <th>city</th>\n",
       "      <th>first_name</th>\n",
       "      <th>last_name</th>\n",
       "      <th>reg_date</th>\n",
       "      <th>tariff</th>\n",
       "    </tr>\n",
       "  </thead>\n",
       "  <tbody>\n",
       "    <tr>\n",
       "      <th>0</th>\n",
       "      <td>1000</td>\n",
       "      <td>52</td>\n",
       "      <td>NaN</td>\n",
       "      <td>Краснодар</td>\n",
       "      <td>Рафаил</td>\n",
       "      <td>Верещагин</td>\n",
       "      <td>2018-05-25</td>\n",
       "      <td>ultra</td>\n",
       "    </tr>\n",
       "    <tr>\n",
       "      <th>1</th>\n",
       "      <td>1001</td>\n",
       "      <td>41</td>\n",
       "      <td>NaN</td>\n",
       "      <td>Москва</td>\n",
       "      <td>Иван</td>\n",
       "      <td>Ежов</td>\n",
       "      <td>2018-11-01</td>\n",
       "      <td>smart</td>\n",
       "    </tr>\n",
       "    <tr>\n",
       "      <th>2</th>\n",
       "      <td>1002</td>\n",
       "      <td>59</td>\n",
       "      <td>NaN</td>\n",
       "      <td>Стерлитамак</td>\n",
       "      <td>Евгений</td>\n",
       "      <td>Абрамович</td>\n",
       "      <td>2018-06-17</td>\n",
       "      <td>smart</td>\n",
       "    </tr>\n",
       "    <tr>\n",
       "      <th>3</th>\n",
       "      <td>1003</td>\n",
       "      <td>23</td>\n",
       "      <td>NaN</td>\n",
       "      <td>Москва</td>\n",
       "      <td>Белла</td>\n",
       "      <td>Белякова</td>\n",
       "      <td>2018-08-17</td>\n",
       "      <td>ultra</td>\n",
       "    </tr>\n",
       "    <tr>\n",
       "      <th>4</th>\n",
       "      <td>1004</td>\n",
       "      <td>68</td>\n",
       "      <td>NaN</td>\n",
       "      <td>Новокузнецк</td>\n",
       "      <td>Татьяна</td>\n",
       "      <td>Авдеенко</td>\n",
       "      <td>2018-05-14</td>\n",
       "      <td>ultra</td>\n",
       "    </tr>\n",
       "    <tr>\n",
       "      <th>5</th>\n",
       "      <td>1005</td>\n",
       "      <td>67</td>\n",
       "      <td>NaN</td>\n",
       "      <td>Набережные Челны</td>\n",
       "      <td>Афанасий</td>\n",
       "      <td>Горлов</td>\n",
       "      <td>2018-01-25</td>\n",
       "      <td>smart</td>\n",
       "    </tr>\n",
       "    <tr>\n",
       "      <th>6</th>\n",
       "      <td>1006</td>\n",
       "      <td>21</td>\n",
       "      <td>NaN</td>\n",
       "      <td>Ульяновск</td>\n",
       "      <td>Леонид</td>\n",
       "      <td>Ермолаев</td>\n",
       "      <td>2018-02-26</td>\n",
       "      <td>smart</td>\n",
       "    </tr>\n",
       "    <tr>\n",
       "      <th>7</th>\n",
       "      <td>1007</td>\n",
       "      <td>65</td>\n",
       "      <td>NaN</td>\n",
       "      <td>Москва</td>\n",
       "      <td>Юна</td>\n",
       "      <td>Березина</td>\n",
       "      <td>2018-04-19</td>\n",
       "      <td>smart</td>\n",
       "    </tr>\n",
       "    <tr>\n",
       "      <th>8</th>\n",
       "      <td>1008</td>\n",
       "      <td>63</td>\n",
       "      <td>NaN</td>\n",
       "      <td>Челябинск</td>\n",
       "      <td>Рустэм</td>\n",
       "      <td>Пономарёв</td>\n",
       "      <td>2018-12-19</td>\n",
       "      <td>smart</td>\n",
       "    </tr>\n",
       "    <tr>\n",
       "      <th>9</th>\n",
       "      <td>1009</td>\n",
       "      <td>24</td>\n",
       "      <td>NaN</td>\n",
       "      <td>Пермь</td>\n",
       "      <td>Василиса</td>\n",
       "      <td>Блинова</td>\n",
       "      <td>2018-03-22</td>\n",
       "      <td>smart</td>\n",
       "    </tr>\n",
       "  </tbody>\n",
       "</table>\n",
       "</div>"
      ],
      "text/plain": [
       "   user_id  age churn_date              city first_name  last_name  \\\n",
       "0     1000   52        NaN         Краснодар     Рафаил  Верещагин   \n",
       "1     1001   41        NaN            Москва       Иван       Ежов   \n",
       "2     1002   59        NaN       Стерлитамак    Евгений  Абрамович   \n",
       "3     1003   23        NaN            Москва      Белла   Белякова   \n",
       "4     1004   68        NaN       Новокузнецк    Татьяна   Авдеенко   \n",
       "5     1005   67        NaN  Набережные Челны   Афанасий     Горлов   \n",
       "6     1006   21        NaN         Ульяновск     Леонид   Ермолаев   \n",
       "7     1007   65        NaN            Москва        Юна   Березина   \n",
       "8     1008   63        NaN         Челябинск     Рустэм  Пономарёв   \n",
       "9     1009   24        NaN             Пермь   Василиса    Блинова   \n",
       "\n",
       "     reg_date tariff  \n",
       "0  2018-05-25  ultra  \n",
       "1  2018-11-01  smart  \n",
       "2  2018-06-17  smart  \n",
       "3  2018-08-17  ultra  \n",
       "4  2018-05-14  ultra  \n",
       "5  2018-01-25  smart  \n",
       "6  2018-02-26  smart  \n",
       "7  2018-04-19  smart  \n",
       "8  2018-12-19  smart  \n",
       "9  2018-03-22  smart  "
      ]
     },
     "metadata": {},
     "output_type": "display_data"
    },
    {
     "name": "stdout",
     "output_type": "stream",
     "text": [
      "<class 'pandas.core.frame.DataFrame'>\n",
      "RangeIndex: 500 entries, 0 to 499\n",
      "Data columns (total 8 columns):\n",
      " #   Column      Non-Null Count  Dtype \n",
      "---  ------      --------------  ----- \n",
      " 0   user_id     500 non-null    int64 \n",
      " 1   age         500 non-null    int64 \n",
      " 2   churn_date  38 non-null     object\n",
      " 3   city        500 non-null    object\n",
      " 4   first_name  500 non-null    object\n",
      " 5   last_name   500 non-null    object\n",
      " 6   reg_date    500 non-null    object\n",
      " 7   tariff      500 non-null    object\n",
      "dtypes: int64(2), object(6)\n",
      "memory usage: 31.4+ KB\n"
     ]
    }
   ],
   "source": [
    "# пользователи: \n",
    "display(users.head(10))\n",
    "users.info()\n",
    "# много NaN-значений в столбце churn_date, - как следует из описания проекта, пропуски здесь свидетельствуют о том, что тариф\n",
    "# ещё действовал на момент выгрузки данных; даты регистрации и даты прекращения пользования тарифом записаны в виде \"object\"."
   ]
  },
  {
   "cell_type": "markdown",
   "metadata": {},
   "source": [
    "### Вывод: \n",
    "1. Данные без пропусков, за исключением столбца churn_date в таблице \"users\"; эти пропуски не требуют корректировки, так как означают, что пользователь продолжает пользоваться тарифом. \n",
    "2. Таблицы стоит объединить для удобства дальнейшей работы.\n",
    "3. Все столбцы с датами в таблицах - в виде 'object', необходимо привести к типу данных \"datetime\".\n",
    "4. Невооруженным взглядом видно большое количество звонков продолжительностью 0.00 секунд. На следующем этапе буду смотреть, действительно ли их много, насколько они искажают общую картину и, исходя из этого, что с ними делать. Таким же образом стоит проверить трафик."
   ]
  },
  {
   "cell_type": "markdown",
   "metadata": {},
   "source": [
    "## Подготовка данных."
   ]
  },
  {
   "cell_type": "markdown",
   "metadata": {},
   "source": [
    "### Звонки продолжительностью 0 секунд и трафик 0 Мб."
   ]
  },
  {
   "cell_type": "code",
   "execution_count": 8,
   "metadata": {},
   "outputs": [
    {
     "data": {
      "text/plain": [
       "count    202607.000000\n",
       "mean          6.755887\n",
       "std           5.843365\n",
       "min           0.000000\n",
       "25%           1.300000\n",
       "50%           6.000000\n",
       "75%          10.700000\n",
       "max          38.000000\n",
       "Name: duration, dtype: float64"
      ]
     },
     "metadata": {},
     "output_type": "display_data"
    }
   ],
   "source": [
    "display(calls['duration'].describe())"
   ]
  },
  {
   "cell_type": "code",
   "execution_count": 9,
   "metadata": {},
   "outputs": [
    {
     "data": {
      "image/png": "[encoded data removed]",
      "text/plain": [
       "<Figure size 432x288 with 1 Axes>"
      ]
     },
     "metadata": {
      "needs_background": "light"
     },
     "output_type": "display_data"
    }
   ],
   "source": [
    "calls['duration'].hist(bins = 50)\n",
    "plt.title(\"Продолжительность телефоннных разговоров абонентов Мегалайн\")\n",
    "plt.xlabel(\"Продолжительность разговоров, мин.\")\n",
    "plt.ylabel(\"Частота\")\n",
    "plt.show()"
   ]
  },
  {
   "cell_type": "code",
   "execution_count": 10,
   "metadata": {},
   "outputs": [
    {
     "name": "stdout",
     "output_type": "stream",
     "text": [
      "Количество звонков, продлившихся 0 секунд, составляет 19.6% от общего количества.\n"
     ]
    }
   ],
   "source": [
    "zero_calls = len(calls[(calls['duration'] == 0)]) / len(calls['duration'])\n",
    "print(\"Количество звонков, продлившихся 0 секунд, составляет {:.1%} от общего количества.\".format(zero_calls))"
   ]
  },
  {
   "cell_type": "markdown",
   "metadata": {},
   "source": [
    "Почти 20% \"нулевых\" звонков (сброшенные, не отвеченные вызовы) могут сильно исказить данные, при этом неоходимости в \n",
    "информации о таких звонках у нас нет - они не тарифицируются. Стоит удалить эти звонки для получения более релевантных данных. <br>\n",
    "Аномально продолжительных разговоров в наших данных не встречается. "
   ]
  },
  {
   "cell_type": "code",
   "execution_count": 11,
   "metadata": {},
   "outputs": [
    {
     "data": {
      "text/html": [
       "<div>\n",
       "<style scoped>\n",
       "    .dataframe tbody tr th:only-of-type {\n",
       "        vertical-align: middle;\n",
       "    }\n",
       "\n",
       "    .dataframe tbody tr th {\n",
       "        vertical-align: top;\n",
       "    }\n",
       "\n",
       "    .dataframe thead th {\n",
       "        text-align: right;\n",
       "    }\n",
       "</style>\n",
       "<table border=\"1\" class=\"dataframe\">\n",
       "  <thead>\n",
       "    <tr style=\"text-align: right;\">\n",
       "      <th></th>\n",
       "      <th>duration</th>\n",
       "      <th>user_id</th>\n",
       "    </tr>\n",
       "  </thead>\n",
       "  <tbody>\n",
       "    <tr>\n",
       "      <th>count</th>\n",
       "      <td>162994.000000</td>\n",
       "      <td>162994.000000</td>\n",
       "    </tr>\n",
       "    <tr>\n",
       "      <th>mean</th>\n",
       "      <td>8.397794</td>\n",
       "      <td>1254.149877</td>\n",
       "    </tr>\n",
       "    <tr>\n",
       "      <th>std</th>\n",
       "      <td>5.353022</td>\n",
       "      <td>144.751050</td>\n",
       "    </tr>\n",
       "    <tr>\n",
       "      <th>min</th>\n",
       "      <td>0.010000</td>\n",
       "      <td>1000.000000</td>\n",
       "    </tr>\n",
       "    <tr>\n",
       "      <th>25%</th>\n",
       "      <td>4.170000</td>\n",
       "      <td>1126.000000</td>\n",
       "    </tr>\n",
       "    <tr>\n",
       "      <th>50%</th>\n",
       "      <td>7.740000</td>\n",
       "      <td>1261.000000</td>\n",
       "    </tr>\n",
       "    <tr>\n",
       "      <th>75%</th>\n",
       "      <td>11.850000</td>\n",
       "      <td>1379.000000</td>\n",
       "    </tr>\n",
       "    <tr>\n",
       "      <th>max</th>\n",
       "      <td>38.000000</td>\n",
       "      <td>1499.000000</td>\n",
       "    </tr>\n",
       "  </tbody>\n",
       "</table>\n",
       "</div>"
      ],
      "text/plain": [
       "            duration        user_id\n",
       "count  162994.000000  162994.000000\n",
       "mean        8.397794    1254.149877\n",
       "std         5.353022     144.751050\n",
       "min         0.010000    1000.000000\n",
       "25%         4.170000    1126.000000\n",
       "50%         7.740000    1261.000000\n",
       "75%        11.850000    1379.000000\n",
       "max        38.000000    1499.000000"
      ]
     },
     "execution_count": 11,
     "metadata": {},
     "output_type": "execute_result"
    }
   ],
   "source": [
    "# удаляем нулевые звонки:\n",
    "calls = calls.query('duration != 0').reset_index(drop = True)\n",
    "calls.describe()\n",
    "# и средняя, и медианная продолжительность звонков выросли почти на 1.5 минуты, что ещё раз подтверждает влияние \"бесполезных\", \n",
    "# нетарифицируемых звонков на общую картину. "
   ]
  },
  {
   "cell_type": "markdown",
   "metadata": {},
   "source": [
    "Посмотрим, как обстоят дела с аномалиями в трафике:"
   ]
  },
  {
   "cell_type": "code",
   "execution_count": 12,
   "metadata": {},
   "outputs": [
    {
     "data": {
      "text/plain": [
       "count    149396.000000\n",
       "mean        370.192426\n",
       "std         278.300951\n",
       "min           0.000000\n",
       "25%         138.187500\n",
       "50%         348.015000\n",
       "75%         559.552500\n",
       "max        1724.830000\n",
       "Name: mb_used, dtype: float64"
      ]
     },
     "metadata": {},
     "output_type": "display_data"
    }
   ],
   "source": [
    "display(internet['mb_used'].describe())"
   ]
  },
  {
   "cell_type": "code",
   "execution_count": 13,
   "metadata": {},
   "outputs": [
    {
     "data": {
      "image/png": "[encoded data removed]",
      "text/plain": [
       "<Figure size 432x288 with 1 Axes>"
      ]
     },
     "metadata": {
      "needs_background": "light"
     },
     "output_type": "display_data"
    }
   ],
   "source": [
    "internet['mb_used'].hist(bins = 50)\n",
    "plt.title(\"Количество используемого за одну сессию трафика\")\n",
    "plt.xlabel(\"Количество трафика, Мб.\")\n",
    "plt.ylabel(\"Частота\")\n",
    "plt.show()"
   ]
  },
  {
   "cell_type": "code",
   "execution_count": 14,
   "metadata": {},
   "outputs": [
    {
     "name": "stdout",
     "output_type": "stream",
     "text": [
      "Количество сессий с использованием 0 мегабайт, составляет 13.1% от общего количества.\n"
     ]
    }
   ],
   "source": [
    "zero_mb_used = len(internet[(internet['mb_used'] == 0)]) / len(internet['mb_used'])\n",
    "print(\"Количество сессий с использованием 0 мегабайт, составляет {:.1%} от общего количества.\".format(zero_mb_used))"
   ]
  },
  {
   "cell_type": "markdown",
   "metadata": {},
   "source": [
    "Довольно большое количество (13%) сессий без использования трафика. Это могут быть пуш-сообщения, обновления и так далее. Так или иначе, такие сессии не тарифицируются, но отразятся на дальнейшем анализе. Стоит удалить данные о таком трафике, чтобы избежать искажения данных в дальнейшем, при расчете средних показателей и других важных параметров. <br>\n",
    "Аномально большого трафика за одну сессию в наших данных нет, - 1750 Мб вполне может дать просмотр видео в не самом плохом разрешении. "
   ]
  },
  {
   "cell_type": "code",
   "execution_count": 15,
   "metadata": {},
   "outputs": [
    {
     "data": {
      "text/plain": [
       "count    129798.000000\n",
       "mean        426.087210\n",
       "std         255.596447\n",
       "min           0.030000\n",
       "25%         227.460000\n",
       "50%         400.540000\n",
       "75%         592.947500\n",
       "max        1724.830000\n",
       "Name: mb_used, dtype: float64"
      ]
     },
     "execution_count": 15,
     "metadata": {},
     "output_type": "execute_result"
    }
   ],
   "source": [
    "# удаляем нулевые сессии:\n",
    "internet = internet.query('mb_used != 0').reset_index(drop = True)\n",
    "internet['mb_used'].describe()"
   ]
  },
  {
   "cell_type": "markdown",
   "metadata": {},
   "source": [
    "Округляем звонки до минут в большую сторону, так как в обоих рассматриваемых тарифах оператор действует именно так. Заодно тип поменяем на целочисленный, для удобства. "
   ]
  },
  {
   "cell_type": "code",
   "execution_count": 16,
   "metadata": {},
   "outputs": [],
   "source": [
    "calls['duration'] = np.ceil(calls['duration']).astype('int64')"
   ]
  },
  {
   "cell_type": "markdown",
   "metadata": {},
   "source": [
    "### Смена формата у дат."
   ]
  },
  {
   "cell_type": "markdown",
   "metadata": {},
   "source": [
    "Приведем данные к формату datetime и заодно создадим новые столбцы, содержащий месяц события - понадобится потом при расчётах."
   ]
  },
  {
   "cell_type": "code",
   "execution_count": 17,
   "metadata": {},
   "outputs": [
    {
     "name": "stdout",
     "output_type": "stream",
     "text": [
      "<class 'pandas.core.frame.DataFrame'>\n",
      "RangeIndex: 162994 entries, 0 to 162993\n",
      "Data columns (total 5 columns):\n",
      " #   Column     Non-Null Count   Dtype         \n",
      "---  ------     --------------   -----         \n",
      " 0   id         162994 non-null  object        \n",
      " 1   call_date  162994 non-null  datetime64[ns]\n",
      " 2   duration   162994 non-null  int64         \n",
      " 3   user_id    162994 non-null  int64         \n",
      " 4   month      162994 non-null  int64         \n",
      "dtypes: datetime64[ns](1), int64(3), object(1)\n",
      "memory usage: 6.2+ MB\n"
     ]
    },
    {
     "data": {
      "text/html": [
       "<div>\n",
       "<style scoped>\n",
       "    .dataframe tbody tr th:only-of-type {\n",
       "        vertical-align: middle;\n",
       "    }\n",
       "\n",
       "    .dataframe tbody tr th {\n",
       "        vertical-align: top;\n",
       "    }\n",
       "\n",
       "    .dataframe thead th {\n",
       "        text-align: right;\n",
       "    }\n",
       "</style>\n",
       "<table border=\"1\" class=\"dataframe\">\n",
       "  <thead>\n",
       "    <tr style=\"text-align: right;\">\n",
       "      <th></th>\n",
       "      <th>id</th>\n",
       "      <th>call_date</th>\n",
       "      <th>duration</th>\n",
       "      <th>user_id</th>\n",
       "      <th>month</th>\n",
       "    </tr>\n",
       "  </thead>\n",
       "  <tbody>\n",
       "    <tr>\n",
       "      <th>0</th>\n",
       "      <td>1000_2</td>\n",
       "      <td>2018-06-11</td>\n",
       "      <td>3</td>\n",
       "      <td>1000</td>\n",
       "      <td>6</td>\n",
       "    </tr>\n",
       "    <tr>\n",
       "      <th>1</th>\n",
       "      <td>1000_3</td>\n",
       "      <td>2018-09-21</td>\n",
       "      <td>14</td>\n",
       "      <td>1000</td>\n",
       "      <td>9</td>\n",
       "    </tr>\n",
       "    <tr>\n",
       "      <th>2</th>\n",
       "      <td>1000_4</td>\n",
       "      <td>2018-12-15</td>\n",
       "      <td>6</td>\n",
       "      <td>1000</td>\n",
       "      <td>12</td>\n",
       "    </tr>\n",
       "    <tr>\n",
       "      <th>3</th>\n",
       "      <td>1000_7</td>\n",
       "      <td>2018-08-22</td>\n",
       "      <td>19</td>\n",
       "      <td>1000</td>\n",
       "      <td>8</td>\n",
       "    </tr>\n",
       "    <tr>\n",
       "      <th>4</th>\n",
       "      <td>1000_8</td>\n",
       "      <td>2018-09-15</td>\n",
       "      <td>19</td>\n",
       "      <td>1000</td>\n",
       "      <td>9</td>\n",
       "    </tr>\n",
       "    <tr>\n",
       "      <th>5</th>\n",
       "      <td>1000_10</td>\n",
       "      <td>2018-08-22</td>\n",
       "      <td>6</td>\n",
       "      <td>1000</td>\n",
       "      <td>8</td>\n",
       "    </tr>\n",
       "    <tr>\n",
       "      <th>6</th>\n",
       "      <td>1000_11</td>\n",
       "      <td>2018-05-28</td>\n",
       "      <td>19</td>\n",
       "      <td>1000</td>\n",
       "      <td>5</td>\n",
       "    </tr>\n",
       "    <tr>\n",
       "      <th>7</th>\n",
       "      <td>1000_12</td>\n",
       "      <td>2018-07-05</td>\n",
       "      <td>3</td>\n",
       "      <td>1000</td>\n",
       "      <td>7</td>\n",
       "    </tr>\n",
       "    <tr>\n",
       "      <th>8</th>\n",
       "      <td>1000_13</td>\n",
       "      <td>2018-09-29</td>\n",
       "      <td>8</td>\n",
       "      <td>1000</td>\n",
       "      <td>9</td>\n",
       "    </tr>\n",
       "    <tr>\n",
       "      <th>9</th>\n",
       "      <td>1000_14</td>\n",
       "      <td>2018-12-11</td>\n",
       "      <td>10</td>\n",
       "      <td>1000</td>\n",
       "      <td>12</td>\n",
       "    </tr>\n",
       "    <tr>\n",
       "      <th>10</th>\n",
       "      <td>1000_15</td>\n",
       "      <td>2018-07-27</td>\n",
       "      <td>10</td>\n",
       "      <td>1000</td>\n",
       "      <td>7</td>\n",
       "    </tr>\n",
       "    <tr>\n",
       "      <th>11</th>\n",
       "      <td>1000_16</td>\n",
       "      <td>2018-08-11</td>\n",
       "      <td>5</td>\n",
       "      <td>1000</td>\n",
       "      <td>8</td>\n",
       "    </tr>\n",
       "    <tr>\n",
       "      <th>12</th>\n",
       "      <td>1000_17</td>\n",
       "      <td>2018-08-02</td>\n",
       "      <td>13</td>\n",
       "      <td>1000</td>\n",
       "      <td>8</td>\n",
       "    </tr>\n",
       "    <tr>\n",
       "      <th>13</th>\n",
       "      <td>1000_18</td>\n",
       "      <td>2018-06-15</td>\n",
       "      <td>5</td>\n",
       "      <td>1000</td>\n",
       "      <td>6</td>\n",
       "    </tr>\n",
       "    <tr>\n",
       "      <th>14</th>\n",
       "      <td>1000_19</td>\n",
       "      <td>2018-11-02</td>\n",
       "      <td>16</td>\n",
       "      <td>1000</td>\n",
       "      <td>11</td>\n",
       "    </tr>\n",
       "  </tbody>\n",
       "</table>\n",
       "</div>"
      ],
      "text/plain": [
       "         id  call_date  duration  user_id  month\n",
       "0    1000_2 2018-06-11         3     1000      6\n",
       "1    1000_3 2018-09-21        14     1000      9\n",
       "2    1000_4 2018-12-15         6     1000     12\n",
       "3    1000_7 2018-08-22        19     1000      8\n",
       "4    1000_8 2018-09-15        19     1000      9\n",
       "5   1000_10 2018-08-22         6     1000      8\n",
       "6   1000_11 2018-05-28        19     1000      5\n",
       "7   1000_12 2018-07-05         3     1000      7\n",
       "8   1000_13 2018-09-29         8     1000      9\n",
       "9   1000_14 2018-12-11        10     1000     12\n",
       "10  1000_15 2018-07-27        10     1000      7\n",
       "11  1000_16 2018-08-11         5     1000      8\n",
       "12  1000_17 2018-08-02        13     1000      8\n",
       "13  1000_18 2018-06-15         5     1000      6\n",
       "14  1000_19 2018-11-02        16     1000     11"
      ]
     },
     "metadata": {},
     "output_type": "display_data"
    }
   ],
   "source": [
    "# в таблице со звонками:\n",
    "calls['call_date'] = pd.to_datetime(calls['call_date'], format = '%Y-%m-%d')\n",
    "calls['month'] = calls['call_date'].dt.month\n",
    "calls.info()\n",
    "display(calls.head(15))"
   ]
  },
  {
   "cell_type": "code",
   "execution_count": 18,
   "metadata": {},
   "outputs": [
    {
     "name": "stdout",
     "output_type": "stream",
     "text": [
      "<class 'pandas.core.frame.DataFrame'>\n",
      "RangeIndex: 129798 entries, 0 to 129797\n",
      "Data columns (total 6 columns):\n",
      " #   Column        Non-Null Count   Dtype         \n",
      "---  ------        --------------   -----         \n",
      " 0   Unnamed: 0    129798 non-null  int64         \n",
      " 1   id            129798 non-null  object        \n",
      " 2   mb_used       129798 non-null  float64       \n",
      " 3   session_date  129798 non-null  datetime64[ns]\n",
      " 4   user_id       129798 non-null  int64         \n",
      " 5   month         129798 non-null  int64         \n",
      "dtypes: datetime64[ns](1), float64(1), int64(3), object(1)\n",
      "memory usage: 5.9+ MB\n"
     ]
    }
   ],
   "source": [
    "# в таблице с интернет-трафиком:\n",
    "internet['session_date'] = pd.to_datetime(internet['session_date'], format = '%Y-%m-%d')\n",
    "internet['month'] = internet['session_date'].dt.month\n",
    "internet.info()"
   ]
  },
  {
   "cell_type": "code",
   "execution_count": 19,
   "metadata": {},
   "outputs": [
    {
     "name": "stdout",
     "output_type": "stream",
     "text": [
      "<class 'pandas.core.frame.DataFrame'>\n",
      "RangeIndex: 123036 entries, 0 to 123035\n",
      "Data columns (total 4 columns):\n",
      " #   Column        Non-Null Count   Dtype         \n",
      "---  ------        --------------   -----         \n",
      " 0   id            123036 non-null  object        \n",
      " 1   message_date  123036 non-null  datetime64[ns]\n",
      " 2   user_id       123036 non-null  int64         \n",
      " 3   month         123036 non-null  int64         \n",
      "dtypes: datetime64[ns](1), int64(2), object(1)\n",
      "memory usage: 3.8+ MB\n"
     ]
    }
   ],
   "source": [
    "# в таблице с сообщениями:\n",
    "messages['message_date'] = pd.to_datetime(messages['message_date'], format = '%Y-%m-%d')\n",
    "messages['month'] = messages['message_date'].dt.month\n",
    "messages.info()"
   ]
  },
  {
   "cell_type": "code",
   "execution_count": 20,
   "metadata": {},
   "outputs": [
    {
     "name": "stdout",
     "output_type": "stream",
     "text": [
      "<class 'pandas.core.frame.DataFrame'>\n",
      "RangeIndex: 500 entries, 0 to 499\n",
      "Data columns (total 10 columns):\n",
      " #   Column       Non-Null Count  Dtype         \n",
      "---  ------       --------------  -----         \n",
      " 0   user_id      500 non-null    int64         \n",
      " 1   age          500 non-null    int64         \n",
      " 2   churn_date   38 non-null     datetime64[ns]\n",
      " 3   city         500 non-null    object        \n",
      " 4   first_name   500 non-null    object        \n",
      " 5   last_name    500 non-null    object        \n",
      " 6   reg_date     500 non-null    datetime64[ns]\n",
      " 7   tariff       500 non-null    object        \n",
      " 8   reg_month    500 non-null    int64         \n",
      " 9   churn_month  38 non-null     float64       \n",
      "dtypes: datetime64[ns](2), float64(1), int64(3), object(4)\n",
      "memory usage: 39.2+ KB\n"
     ]
    }
   ],
   "source": [
    "# в таблице с пользователями таких столбца два, поменяем оба сразу:\n",
    "for column in users:\n",
    "    if \"date\" in column:\n",
    "        users[column] = pd.to_datetime(users[column], format = '%Y-%m-%d')\n",
    "users['reg_month'] = users['reg_date'].dt.month        \n",
    "users['churn_month'] = users['churn_date'].dt.month\n",
    "users.info()"
   ]
  },
  {
   "cell_type": "markdown",
   "metadata": {},
   "source": [
    "### Сводные и объединённые таблицы. "
   ]
  },
  {
   "cell_type": "markdown",
   "metadata": {},
   "source": [
    "Создадим таблицу, в которой будут сгруппированные данные по пользователям, **количество и длительность звонков в минутах:**"
   ]
  },
  {
   "cell_type": "code",
   "execution_count": 21,
   "metadata": {},
   "outputs": [
    {
     "data": {
      "text/html": [
       "<div>\n",
       "<style scoped>\n",
       "    .dataframe tbody tr th:only-of-type {\n",
       "        vertical-align: middle;\n",
       "    }\n",
       "\n",
       "    .dataframe tbody tr th {\n",
       "        vertical-align: top;\n",
       "    }\n",
       "\n",
       "    .dataframe thead th {\n",
       "        text-align: right;\n",
       "    }\n",
       "</style>\n",
       "<table border=\"1\" class=\"dataframe\">\n",
       "  <thead>\n",
       "    <tr style=\"text-align: right;\">\n",
       "      <th></th>\n",
       "      <th>user_id</th>\n",
       "      <th>month</th>\n",
       "      <th>number_of_calls</th>\n",
       "      <th>duration</th>\n",
       "    </tr>\n",
       "  </thead>\n",
       "  <tbody>\n",
       "    <tr>\n",
       "      <th>0</th>\n",
       "      <td>1000</td>\n",
       "      <td>5</td>\n",
       "      <td>17</td>\n",
       "      <td>159</td>\n",
       "    </tr>\n",
       "    <tr>\n",
       "      <th>1</th>\n",
       "      <td>1000</td>\n",
       "      <td>6</td>\n",
       "      <td>28</td>\n",
       "      <td>172</td>\n",
       "    </tr>\n",
       "    <tr>\n",
       "      <th>2</th>\n",
       "      <td>1000</td>\n",
       "      <td>7</td>\n",
       "      <td>41</td>\n",
       "      <td>340</td>\n",
       "    </tr>\n",
       "    <tr>\n",
       "      <th>3</th>\n",
       "      <td>1000</td>\n",
       "      <td>8</td>\n",
       "      <td>42</td>\n",
       "      <td>408</td>\n",
       "    </tr>\n",
       "    <tr>\n",
       "      <th>4</th>\n",
       "      <td>1000</td>\n",
       "      <td>9</td>\n",
       "      <td>46</td>\n",
       "      <td>466</td>\n",
       "    </tr>\n",
       "  </tbody>\n",
       "</table>\n",
       "</div>"
      ],
      "text/plain": [
       "   user_id  month  number_of_calls  duration\n",
       "0     1000      5               17       159\n",
       "1     1000      6               28       172\n",
       "2     1000      7               41       340\n",
       "3     1000      8               42       408\n",
       "4     1000      9               46       466"
      ]
     },
     "metadata": {},
     "output_type": "display_data"
    }
   ],
   "source": [
    "calls_monthly = calls.pivot_table(index = ['user_id', 'month'], values = \"duration\", aggfunc = ['count', 'sum'])\n",
    "\n",
    "# переименуем столбцы, уберём \"двухэтажные\" названия:\n",
    "calls_monthly.columns = ['number_of_calls', 'duration']\n",
    "calls_monthly.reset_index(inplace = True)\n",
    "display(calls_monthly.head())"
   ]
  },
  {
   "cell_type": "markdown",
   "metadata": {},
   "source": [
    "Составим таблицу, сгруппированную по пользователям, и посчитаем **количество мегабайт по месяцам:**"
   ]
  },
  {
   "cell_type": "code",
   "execution_count": 22,
   "metadata": {},
   "outputs": [
    {
     "data": {
      "text/html": [
       "<div>\n",
       "<style scoped>\n",
       "    .dataframe tbody tr th:only-of-type {\n",
       "        vertical-align: middle;\n",
       "    }\n",
       "\n",
       "    .dataframe tbody tr th {\n",
       "        vertical-align: top;\n",
       "    }\n",
       "\n",
       "    .dataframe thead th {\n",
       "        text-align: right;\n",
       "    }\n",
       "</style>\n",
       "<table border=\"1\" class=\"dataframe\">\n",
       "  <thead>\n",
       "    <tr style=\"text-align: right;\">\n",
       "      <th></th>\n",
       "      <th>user_id</th>\n",
       "      <th>month</th>\n",
       "      <th>gb_used</th>\n",
       "    </tr>\n",
       "  </thead>\n",
       "  <tbody>\n",
       "    <tr>\n",
       "      <th>0</th>\n",
       "      <td>1000</td>\n",
       "      <td>5</td>\n",
       "      <td>3</td>\n",
       "    </tr>\n",
       "    <tr>\n",
       "      <th>1</th>\n",
       "      <td>1000</td>\n",
       "      <td>6</td>\n",
       "      <td>23</td>\n",
       "    </tr>\n",
       "    <tr>\n",
       "      <th>2</th>\n",
       "      <td>1000</td>\n",
       "      <td>7</td>\n",
       "      <td>14</td>\n",
       "    </tr>\n",
       "    <tr>\n",
       "      <th>3</th>\n",
       "      <td>1000</td>\n",
       "      <td>8</td>\n",
       "      <td>14</td>\n",
       "    </tr>\n",
       "    <tr>\n",
       "      <th>4</th>\n",
       "      <td>1000</td>\n",
       "      <td>9</td>\n",
       "      <td>15</td>\n",
       "    </tr>\n",
       "  </tbody>\n",
       "</table>\n",
       "</div>"
      ],
      "text/plain": [
       "   user_id  month  gb_used\n",
       "0     1000      5        3\n",
       "1     1000      6       23\n",
       "2     1000      7       14\n",
       "3     1000      8       14\n",
       "4     1000      9       15"
      ]
     },
     "metadata": {},
     "output_type": "display_data"
    }
   ],
   "source": [
    "internet_monthly = internet.pivot_table(index = ['user_id', 'month'], values = \"mb_used\", aggfunc = \"sum\")\n",
    "\n",
    "# заодно преобразуем Мб в Гб, округляя помесячно в большую сторону, как это предусматривают оба рассматриваемых тарифа:\n",
    "internet_monthly['gb_used'] = np.ceil(internet_monthly['mb_used'] / 1024).astype('int64')\n",
    "internet_monthly = internet_monthly.drop('mb_used', 1)\n",
    "internet_monthly.reset_index(inplace = True)\n",
    "display(internet_monthly.head())"
   ]
  },
  {
   "cell_type": "markdown",
   "metadata": {},
   "source": [
    "Сгруппируем данные по пользователям и посчитаем **количество отправленных сообщений по месяцам:**"
   ]
  },
  {
   "cell_type": "code",
   "execution_count": 23,
   "metadata": {},
   "outputs": [
    {
     "data": {
      "text/html": [
       "<div>\n",
       "<style scoped>\n",
       "    .dataframe tbody tr th:only-of-type {\n",
       "        vertical-align: middle;\n",
       "    }\n",
       "\n",
       "    .dataframe tbody tr th {\n",
       "        vertical-align: top;\n",
       "    }\n",
       "\n",
       "    .dataframe thead th {\n",
       "        text-align: right;\n",
       "    }\n",
       "</style>\n",
       "<table border=\"1\" class=\"dataframe\">\n",
       "  <thead>\n",
       "    <tr style=\"text-align: right;\">\n",
       "      <th></th>\n",
       "      <th>user_id</th>\n",
       "      <th>month</th>\n",
       "      <th>number_of_messages</th>\n",
       "    </tr>\n",
       "  </thead>\n",
       "  <tbody>\n",
       "    <tr>\n",
       "      <th>0</th>\n",
       "      <td>1000</td>\n",
       "      <td>5</td>\n",
       "      <td>22</td>\n",
       "    </tr>\n",
       "    <tr>\n",
       "      <th>1</th>\n",
       "      <td>1000</td>\n",
       "      <td>6</td>\n",
       "      <td>60</td>\n",
       "    </tr>\n",
       "    <tr>\n",
       "      <th>2</th>\n",
       "      <td>1000</td>\n",
       "      <td>7</td>\n",
       "      <td>75</td>\n",
       "    </tr>\n",
       "    <tr>\n",
       "      <th>3</th>\n",
       "      <td>1000</td>\n",
       "      <td>8</td>\n",
       "      <td>81</td>\n",
       "    </tr>\n",
       "    <tr>\n",
       "      <th>4</th>\n",
       "      <td>1000</td>\n",
       "      <td>9</td>\n",
       "      <td>57</td>\n",
       "    </tr>\n",
       "  </tbody>\n",
       "</table>\n",
       "</div>"
      ],
      "text/plain": [
       "   user_id  month  number_of_messages\n",
       "0     1000      5                  22\n",
       "1     1000      6                  60\n",
       "2     1000      7                  75\n",
       "3     1000      8                  81\n",
       "4     1000      9                  57"
      ]
     },
     "metadata": {},
     "output_type": "display_data"
    }
   ],
   "source": [
    "messages_monthly = messages.pivot_table(index = ['user_id', 'month'], values = \"id\", aggfunc = \"count\")\n",
    "messages_monthly.columns = ['number_of_messages']\n",
    "messages_monthly.reset_index(inplace = True)\n",
    "display(messages_monthly.head())"
   ]
  },
  {
   "cell_type": "markdown",
   "metadata": {},
   "source": [
    "Объединим данные так, чтобы **по каждому пользователю можно было увидеть информацию о нем, продолжительность и количество звонков, сообщений, и трафик за каждый месяц:**"
   ]
  },
  {
   "cell_type": "code",
   "execution_count": 24,
   "metadata": {},
   "outputs": [
    {
     "data": {
      "text/html": [
       "<div>\n",
       "<style scoped>\n",
       "    .dataframe tbody tr th:only-of-type {\n",
       "        vertical-align: middle;\n",
       "    }\n",
       "\n",
       "    .dataframe tbody tr th {\n",
       "        vertical-align: top;\n",
       "    }\n",
       "\n",
       "    .dataframe thead th {\n",
       "        text-align: right;\n",
       "    }\n",
       "</style>\n",
       "<table border=\"1\" class=\"dataframe\">\n",
       "  <thead>\n",
       "    <tr style=\"text-align: right;\">\n",
       "      <th></th>\n",
       "      <th>user_id</th>\n",
       "      <th>month</th>\n",
       "      <th>number_of_calls</th>\n",
       "      <th>duration</th>\n",
       "      <th>gb_used</th>\n",
       "      <th>number_of_messages</th>\n",
       "      <th>city</th>\n",
       "      <th>tariff</th>\n",
       "    </tr>\n",
       "  </thead>\n",
       "  <tbody>\n",
       "    <tr>\n",
       "      <th>0</th>\n",
       "      <td>1000</td>\n",
       "      <td>5.0</td>\n",
       "      <td>17.0</td>\n",
       "      <td>159.0</td>\n",
       "      <td>3.0</td>\n",
       "      <td>22.0</td>\n",
       "      <td>Краснодар</td>\n",
       "      <td>ultra</td>\n",
       "    </tr>\n",
       "    <tr>\n",
       "      <th>1</th>\n",
       "      <td>1000</td>\n",
       "      <td>6.0</td>\n",
       "      <td>28.0</td>\n",
       "      <td>172.0</td>\n",
       "      <td>23.0</td>\n",
       "      <td>60.0</td>\n",
       "      <td>Краснодар</td>\n",
       "      <td>ultra</td>\n",
       "    </tr>\n",
       "    <tr>\n",
       "      <th>2</th>\n",
       "      <td>1000</td>\n",
       "      <td>7.0</td>\n",
       "      <td>41.0</td>\n",
       "      <td>340.0</td>\n",
       "      <td>14.0</td>\n",
       "      <td>75.0</td>\n",
       "      <td>Краснодар</td>\n",
       "      <td>ultra</td>\n",
       "    </tr>\n",
       "    <tr>\n",
       "      <th>3</th>\n",
       "      <td>1000</td>\n",
       "      <td>8.0</td>\n",
       "      <td>42.0</td>\n",
       "      <td>408.0</td>\n",
       "      <td>14.0</td>\n",
       "      <td>81.0</td>\n",
       "      <td>Краснодар</td>\n",
       "      <td>ultra</td>\n",
       "    </tr>\n",
       "    <tr>\n",
       "      <th>4</th>\n",
       "      <td>1000</td>\n",
       "      <td>9.0</td>\n",
       "      <td>46.0</td>\n",
       "      <td>466.0</td>\n",
       "      <td>15.0</td>\n",
       "      <td>57.0</td>\n",
       "      <td>Краснодар</td>\n",
       "      <td>ultra</td>\n",
       "    </tr>\n",
       "    <tr>\n",
       "      <th>5</th>\n",
       "      <td>1000</td>\n",
       "      <td>10.0</td>\n",
       "      <td>44.0</td>\n",
       "      <td>350.0</td>\n",
       "      <td>15.0</td>\n",
       "      <td>73.0</td>\n",
       "      <td>Краснодар</td>\n",
       "      <td>ultra</td>\n",
       "    </tr>\n",
       "    <tr>\n",
       "      <th>6</th>\n",
       "      <td>1000</td>\n",
       "      <td>11.0</td>\n",
       "      <td>37.0</td>\n",
       "      <td>338.0</td>\n",
       "      <td>15.0</td>\n",
       "      <td>58.0</td>\n",
       "      <td>Краснодар</td>\n",
       "      <td>ultra</td>\n",
       "    </tr>\n",
       "    <tr>\n",
       "      <th>7</th>\n",
       "      <td>1000</td>\n",
       "      <td>12.0</td>\n",
       "      <td>38.0</td>\n",
       "      <td>333.0</td>\n",
       "      <td>10.0</td>\n",
       "      <td>70.0</td>\n",
       "      <td>Краснодар</td>\n",
       "      <td>ultra</td>\n",
       "    </tr>\n",
       "    <tr>\n",
       "      <th>8</th>\n",
       "      <td>1001</td>\n",
       "      <td>11.0</td>\n",
       "      <td>45.0</td>\n",
       "      <td>430.0</td>\n",
       "      <td>18.0</td>\n",
       "      <td>NaN</td>\n",
       "      <td>Москва</td>\n",
       "      <td>smart</td>\n",
       "    </tr>\n",
       "    <tr>\n",
       "      <th>9</th>\n",
       "      <td>1001</td>\n",
       "      <td>12.0</td>\n",
       "      <td>47.0</td>\n",
       "      <td>414.0</td>\n",
       "      <td>14.0</td>\n",
       "      <td>NaN</td>\n",
       "      <td>Москва</td>\n",
       "      <td>smart</td>\n",
       "    </tr>\n",
       "  </tbody>\n",
       "</table>\n",
       "</div>"
      ],
      "text/plain": [
       "   user_id  month  number_of_calls  duration  gb_used  number_of_messages  \\\n",
       "0     1000    5.0             17.0     159.0      3.0                22.0   \n",
       "1     1000    6.0             28.0     172.0     23.0                60.0   \n",
       "2     1000    7.0             41.0     340.0     14.0                75.0   \n",
       "3     1000    8.0             42.0     408.0     14.0                81.0   \n",
       "4     1000    9.0             46.0     466.0     15.0                57.0   \n",
       "5     1000   10.0             44.0     350.0     15.0                73.0   \n",
       "6     1000   11.0             37.0     338.0     15.0                58.0   \n",
       "7     1000   12.0             38.0     333.0     10.0                70.0   \n",
       "8     1001   11.0             45.0     430.0     18.0                 NaN   \n",
       "9     1001   12.0             47.0     414.0     14.0                 NaN   \n",
       "\n",
       "        city tariff  \n",
       "0  Краснодар  ultra  \n",
       "1  Краснодар  ultra  \n",
       "2  Краснодар  ultra  \n",
       "3  Краснодар  ultra  \n",
       "4  Краснодар  ultra  \n",
       "5  Краснодар  ultra  \n",
       "6  Краснодар  ultra  \n",
       "7  Краснодар  ultra  \n",
       "8     Москва  smart  \n",
       "9     Москва  smart  "
      ]
     },
     "metadata": {},
     "output_type": "display_data"
    }
   ],
   "source": [
    "all_about_users = calls_monthly.merge(internet_monthly, on = ['user_id', 'month'], how = 'outer')\n",
    "all_about_users = all_about_users.merge(messages_monthly, on = ['user_id', 'month'], how = 'outer')\n",
    "all_about_users.reset_index(inplace = True)\n",
    "all_about_users = all_about_users.merge(users[['user_id', 'city', 'tariff']], on = 'user_id', how = 'outer')\n",
    "all_about_users = all_about_users.drop('index', 1).copy()\n",
    "display(all_about_users.head(10))"
   ]
  },
  {
   "cell_type": "markdown",
   "metadata": {},
   "source": [
    "все целочисленные столбцы преобразились в тип float, что скорее всего означает, что там появились NaN-значения. Посмотрим: "
   ]
  },
  {
   "cell_type": "code",
   "execution_count": 25,
   "metadata": {},
   "outputs": [
    {
     "data": {
      "text/plain": [
       "user_id                 0\n",
       "month                   2\n",
       "number_of_calls        48\n",
       "duration               48\n",
       "gb_used                15\n",
       "number_of_messages    499\n",
       "city                    0\n",
       "tariff                  0\n",
       "dtype: int64"
      ]
     },
     "metadata": {},
     "output_type": "display_data"
    },
    {
     "data": {
      "text/html": [
       "<div>\n",
       "<style scoped>\n",
       "    .dataframe tbody tr th:only-of-type {\n",
       "        vertical-align: middle;\n",
       "    }\n",
       "\n",
       "    .dataframe tbody tr th {\n",
       "        vertical-align: top;\n",
       "    }\n",
       "\n",
       "    .dataframe thead th {\n",
       "        text-align: right;\n",
       "    }\n",
       "</style>\n",
       "<table border=\"1\" class=\"dataframe\">\n",
       "  <thead>\n",
       "    <tr style=\"text-align: right;\">\n",
       "      <th></th>\n",
       "      <th>user_id</th>\n",
       "      <th>month</th>\n",
       "      <th>number_of_calls</th>\n",
       "      <th>duration</th>\n",
       "      <th>gb_used</th>\n",
       "      <th>number_of_messages</th>\n",
       "      <th>city</th>\n",
       "      <th>tariff</th>\n",
       "    </tr>\n",
       "  </thead>\n",
       "  <tbody>\n",
       "    <tr>\n",
       "      <th>3214</th>\n",
       "      <td>1128</td>\n",
       "      <td>NaN</td>\n",
       "      <td>NaN</td>\n",
       "      <td>NaN</td>\n",
       "      <td>NaN</td>\n",
       "      <td>NaN</td>\n",
       "      <td>Волжский</td>\n",
       "      <td>ultra</td>\n",
       "    </tr>\n",
       "    <tr>\n",
       "      <th>3215</th>\n",
       "      <td>1371</td>\n",
       "      <td>NaN</td>\n",
       "      <td>NaN</td>\n",
       "      <td>NaN</td>\n",
       "      <td>NaN</td>\n",
       "      <td>NaN</td>\n",
       "      <td>Омск</td>\n",
       "      <td>smart</td>\n",
       "    </tr>\n",
       "  </tbody>\n",
       "</table>\n",
       "</div>"
      ],
      "text/plain": [
       "      user_id  month  number_of_calls  duration  gb_used  number_of_messages  \\\n",
       "3214     1128    NaN              NaN       NaN      NaN                 NaN   \n",
       "3215     1371    NaN              NaN       NaN      NaN                 NaN   \n",
       "\n",
       "          city tariff  \n",
       "3214  Волжский  ultra  \n",
       "3215      Омск  smart  "
      ]
     },
     "metadata": {},
     "output_type": "display_data"
    }
   ],
   "source": [
    "display(all_about_users.isna().sum())\n",
    "display(all_about_users[all_about_users['month'].isna()])"
   ]
  },
  {
   "cell_type": "markdown",
   "metadata": {},
   "source": [
    "NaN-значения здесь свидетельствуют о том, что данным клиентом услуга не использовалась, поэтому логично будет пропуски заменить на 0, и вернуть столбцы к целочисленному типу: "
   ]
  },
  {
   "cell_type": "code",
   "execution_count": 26,
   "metadata": {},
   "outputs": [
    {
     "data": {
      "text/html": [
       "<div>\n",
       "<style scoped>\n",
       "    .dataframe tbody tr th:only-of-type {\n",
       "        vertical-align: middle;\n",
       "    }\n",
       "\n",
       "    .dataframe tbody tr th {\n",
       "        vertical-align: top;\n",
       "    }\n",
       "\n",
       "    .dataframe thead th {\n",
       "        text-align: right;\n",
       "    }\n",
       "</style>\n",
       "<table border=\"1\" class=\"dataframe\">\n",
       "  <thead>\n",
       "    <tr style=\"text-align: right;\">\n",
       "      <th></th>\n",
       "      <th>user_id</th>\n",
       "      <th>month</th>\n",
       "      <th>number_of_calls</th>\n",
       "      <th>duration</th>\n",
       "      <th>gb_used</th>\n",
       "      <th>number_of_messages</th>\n",
       "      <th>city</th>\n",
       "      <th>tariff</th>\n",
       "    </tr>\n",
       "  </thead>\n",
       "  <tbody>\n",
       "    <tr>\n",
       "      <th>0</th>\n",
       "      <td>1000</td>\n",
       "      <td>5.0</td>\n",
       "      <td>17</td>\n",
       "      <td>159</td>\n",
       "      <td>3</td>\n",
       "      <td>22</td>\n",
       "      <td>Краснодар</td>\n",
       "      <td>ultra</td>\n",
       "    </tr>\n",
       "    <tr>\n",
       "      <th>1</th>\n",
       "      <td>1000</td>\n",
       "      <td>6.0</td>\n",
       "      <td>28</td>\n",
       "      <td>172</td>\n",
       "      <td>23</td>\n",
       "      <td>60</td>\n",
       "      <td>Краснодар</td>\n",
       "      <td>ultra</td>\n",
       "    </tr>\n",
       "    <tr>\n",
       "      <th>2</th>\n",
       "      <td>1000</td>\n",
       "      <td>7.0</td>\n",
       "      <td>41</td>\n",
       "      <td>340</td>\n",
       "      <td>14</td>\n",
       "      <td>75</td>\n",
       "      <td>Краснодар</td>\n",
       "      <td>ultra</td>\n",
       "    </tr>\n",
       "    <tr>\n",
       "      <th>3</th>\n",
       "      <td>1000</td>\n",
       "      <td>8.0</td>\n",
       "      <td>42</td>\n",
       "      <td>408</td>\n",
       "      <td>14</td>\n",
       "      <td>81</td>\n",
       "      <td>Краснодар</td>\n",
       "      <td>ultra</td>\n",
       "    </tr>\n",
       "    <tr>\n",
       "      <th>4</th>\n",
       "      <td>1000</td>\n",
       "      <td>9.0</td>\n",
       "      <td>46</td>\n",
       "      <td>466</td>\n",
       "      <td>15</td>\n",
       "      <td>57</td>\n",
       "      <td>Краснодар</td>\n",
       "      <td>ultra</td>\n",
       "    </tr>\n",
       "  </tbody>\n",
       "</table>\n",
       "</div>"
      ],
      "text/plain": [
       "   user_id  month  number_of_calls  duration  gb_used  number_of_messages  \\\n",
       "0     1000    5.0               17       159        3                  22   \n",
       "1     1000    6.0               28       172       23                  60   \n",
       "2     1000    7.0               41       340       14                  75   \n",
       "3     1000    8.0               42       408       14                  81   \n",
       "4     1000    9.0               46       466       15                  57   \n",
       "\n",
       "        city tariff  \n",
       "0  Краснодар  ultra  \n",
       "1  Краснодар  ultra  \n",
       "2  Краснодар  ultra  \n",
       "3  Краснодар  ultra  \n",
       "4  Краснодар  ultra  "
      ]
     },
     "metadata": {},
     "output_type": "display_data"
    }
   ],
   "source": [
    "all_about_users[['number_of_calls', 'duration', 'gb_used', 'number_of_messages']] = all_about_users\\\n",
    "[['number_of_calls', 'duration', 'gb_used', 'number_of_messages']].fillna(value = \"0\").astype('int64')\n",
    "display(all_about_users.head())"
   ]
  },
  {
   "cell_type": "markdown",
   "metadata": {},
   "source": [
    "Пропуски в месяце очевидного логичного объяснения не имеют; посмотрим, какая информация по этим пользователям была изначально:"
   ]
  },
  {
   "cell_type": "code",
   "execution_count": 27,
   "metadata": {},
   "outputs": [
    {
     "data": {
      "text/html": [
       "<div>\n",
       "<style scoped>\n",
       "    .dataframe tbody tr th:only-of-type {\n",
       "        vertical-align: middle;\n",
       "    }\n",
       "\n",
       "    .dataframe tbody tr th {\n",
       "        vertical-align: top;\n",
       "    }\n",
       "\n",
       "    .dataframe thead th {\n",
       "        text-align: right;\n",
       "    }\n",
       "</style>\n",
       "<table border=\"1\" class=\"dataframe\">\n",
       "  <thead>\n",
       "    <tr style=\"text-align: right;\">\n",
       "      <th></th>\n",
       "      <th>id</th>\n",
       "      <th>call_date</th>\n",
       "      <th>duration</th>\n",
       "      <th>user_id</th>\n",
       "      <th>month</th>\n",
       "    </tr>\n",
       "  </thead>\n",
       "  <tbody>\n",
       "  </tbody>\n",
       "</table>\n",
       "</div>"
      ],
      "text/plain": [
       "Empty DataFrame\n",
       "Columns: [id, call_date, duration, user_id, month]\n",
       "Index: []"
      ]
     },
     "metadata": {},
     "output_type": "display_data"
    },
    {
     "data": {
      "text/html": [
       "<div>\n",
       "<style scoped>\n",
       "    .dataframe tbody tr th:only-of-type {\n",
       "        vertical-align: middle;\n",
       "    }\n",
       "\n",
       "    .dataframe tbody tr th {\n",
       "        vertical-align: top;\n",
       "    }\n",
       "\n",
       "    .dataframe thead th {\n",
       "        text-align: right;\n",
       "    }\n",
       "</style>\n",
       "<table border=\"1\" class=\"dataframe\">\n",
       "  <thead>\n",
       "    <tr style=\"text-align: right;\">\n",
       "      <th></th>\n",
       "      <th>Unnamed: 0</th>\n",
       "      <th>id</th>\n",
       "      <th>mb_used</th>\n",
       "      <th>session_date</th>\n",
       "      <th>user_id</th>\n",
       "      <th>month</th>\n",
       "    </tr>\n",
       "  </thead>\n",
       "  <tbody>\n",
       "  </tbody>\n",
       "</table>\n",
       "</div>"
      ],
      "text/plain": [
       "Empty DataFrame\n",
       "Columns: [Unnamed: 0, id, mb_used, session_date, user_id, month]\n",
       "Index: []"
      ]
     },
     "metadata": {},
     "output_type": "display_data"
    },
    {
     "data": {
      "text/html": [
       "<div>\n",
       "<style scoped>\n",
       "    .dataframe tbody tr th:only-of-type {\n",
       "        vertical-align: middle;\n",
       "    }\n",
       "\n",
       "    .dataframe tbody tr th {\n",
       "        vertical-align: top;\n",
       "    }\n",
       "\n",
       "    .dataframe thead th {\n",
       "        text-align: right;\n",
       "    }\n",
       "</style>\n",
       "<table border=\"1\" class=\"dataframe\">\n",
       "  <thead>\n",
       "    <tr style=\"text-align: right;\">\n",
       "      <th></th>\n",
       "      <th>id</th>\n",
       "      <th>message_date</th>\n",
       "      <th>user_id</th>\n",
       "      <th>month</th>\n",
       "    </tr>\n",
       "  </thead>\n",
       "  <tbody>\n",
       "  </tbody>\n",
       "</table>\n",
       "</div>"
      ],
      "text/plain": [
       "Empty DataFrame\n",
       "Columns: [id, message_date, user_id, month]\n",
       "Index: []"
      ]
     },
     "metadata": {},
     "output_type": "display_data"
    },
    {
     "data": {
      "text/html": [
       "<div>\n",
       "<style scoped>\n",
       "    .dataframe tbody tr th:only-of-type {\n",
       "        vertical-align: middle;\n",
       "    }\n",
       "\n",
       "    .dataframe tbody tr th {\n",
       "        vertical-align: top;\n",
       "    }\n",
       "\n",
       "    .dataframe thead th {\n",
       "        text-align: right;\n",
       "    }\n",
       "</style>\n",
       "<table border=\"1\" class=\"dataframe\">\n",
       "  <thead>\n",
       "    <tr style=\"text-align: right;\">\n",
       "      <th></th>\n",
       "      <th>id</th>\n",
       "      <th>call_date</th>\n",
       "      <th>duration</th>\n",
       "      <th>user_id</th>\n",
       "      <th>month</th>\n",
       "    </tr>\n",
       "  </thead>\n",
       "  <tbody>\n",
       "  </tbody>\n",
       "</table>\n",
       "</div>"
      ],
      "text/plain": [
       "Empty DataFrame\n",
       "Columns: [id, call_date, duration, user_id, month]\n",
       "Index: []"
      ]
     },
     "metadata": {},
     "output_type": "display_data"
    },
    {
     "data": {
      "text/html": [
       "<div>\n",
       "<style scoped>\n",
       "    .dataframe tbody tr th:only-of-type {\n",
       "        vertical-align: middle;\n",
       "    }\n",
       "\n",
       "    .dataframe tbody tr th {\n",
       "        vertical-align: top;\n",
       "    }\n",
       "\n",
       "    .dataframe thead th {\n",
       "        text-align: right;\n",
       "    }\n",
       "</style>\n",
       "<table border=\"1\" class=\"dataframe\">\n",
       "  <thead>\n",
       "    <tr style=\"text-align: right;\">\n",
       "      <th></th>\n",
       "      <th>Unnamed: 0</th>\n",
       "      <th>id</th>\n",
       "      <th>mb_used</th>\n",
       "      <th>session_date</th>\n",
       "      <th>user_id</th>\n",
       "      <th>month</th>\n",
       "    </tr>\n",
       "  </thead>\n",
       "  <tbody>\n",
       "  </tbody>\n",
       "</table>\n",
       "</div>"
      ],
      "text/plain": [
       "Empty DataFrame\n",
       "Columns: [Unnamed: 0, id, mb_used, session_date, user_id, month]\n",
       "Index: []"
      ]
     },
     "metadata": {},
     "output_type": "display_data"
    },
    {
     "data": {
      "text/html": [
       "<div>\n",
       "<style scoped>\n",
       "    .dataframe tbody tr th:only-of-type {\n",
       "        vertical-align: middle;\n",
       "    }\n",
       "\n",
       "    .dataframe tbody tr th {\n",
       "        vertical-align: top;\n",
       "    }\n",
       "\n",
       "    .dataframe thead th {\n",
       "        text-align: right;\n",
       "    }\n",
       "</style>\n",
       "<table border=\"1\" class=\"dataframe\">\n",
       "  <thead>\n",
       "    <tr style=\"text-align: right;\">\n",
       "      <th></th>\n",
       "      <th>id</th>\n",
       "      <th>message_date</th>\n",
       "      <th>user_id</th>\n",
       "      <th>month</th>\n",
       "    </tr>\n",
       "  </thead>\n",
       "  <tbody>\n",
       "  </tbody>\n",
       "</table>\n",
       "</div>"
      ],
      "text/plain": [
       "Empty DataFrame\n",
       "Columns: [id, message_date, user_id, month]\n",
       "Index: []"
      ]
     },
     "metadata": {},
     "output_type": "display_data"
    }
   ],
   "source": [
    "display(calls[calls['user_id'] == 1128])\n",
    "display(internet[internet['user_id'] == 1128])\n",
    "display(messages[messages['user_id'] == 1128])\n",
    "display(calls[calls['user_id'] == 1371])\n",
    "display(internet[internet['user_id'] == 1371])\n",
    "display(messages[messages['user_id'] == 1371])"
   ]
  },
  {
   "cell_type": "markdown",
   "metadata": {},
   "source": [
    "Видим, что пустые строки здесь - не результат преобразований датафреймов, а изначальное отсутствие информации по этим пользователям (данные о них есть только в таблице \"users\", но никакой  информации, существенной для наших расчетов: звонки, сообщения, трафик - нет). Удаляем эти строки (тем более, их всего две). Месяцы вернем к целочисленным значениям. "
   ]
  },
  {
   "cell_type": "code",
   "execution_count": 28,
   "metadata": {},
   "outputs": [
    {
     "data": {
      "text/html": [
       "<div>\n",
       "<style scoped>\n",
       "    .dataframe tbody tr th:only-of-type {\n",
       "        vertical-align: middle;\n",
       "    }\n",
       "\n",
       "    .dataframe tbody tr th {\n",
       "        vertical-align: top;\n",
       "    }\n",
       "\n",
       "    .dataframe thead th {\n",
       "        text-align: right;\n",
       "    }\n",
       "</style>\n",
       "<table border=\"1\" class=\"dataframe\">\n",
       "  <thead>\n",
       "    <tr style=\"text-align: right;\">\n",
       "      <th></th>\n",
       "      <th>user_id</th>\n",
       "      <th>month</th>\n",
       "      <th>number_of_calls</th>\n",
       "      <th>duration</th>\n",
       "      <th>gb_used</th>\n",
       "      <th>number_of_messages</th>\n",
       "      <th>city</th>\n",
       "      <th>tariff</th>\n",
       "    </tr>\n",
       "  </thead>\n",
       "  <tbody>\n",
       "  </tbody>\n",
       "</table>\n",
       "</div>"
      ],
      "text/plain": [
       "Empty DataFrame\n",
       "Columns: [user_id, month, number_of_calls, duration, gb_used, number_of_messages, city, tariff]\n",
       "Index: []"
      ]
     },
     "metadata": {},
     "output_type": "display_data"
    },
    {
     "data": {
      "text/html": [
       "<div>\n",
       "<style scoped>\n",
       "    .dataframe tbody tr th:only-of-type {\n",
       "        vertical-align: middle;\n",
       "    }\n",
       "\n",
       "    .dataframe tbody tr th {\n",
       "        vertical-align: top;\n",
       "    }\n",
       "\n",
       "    .dataframe thead th {\n",
       "        text-align: right;\n",
       "    }\n",
       "</style>\n",
       "<table border=\"1\" class=\"dataframe\">\n",
       "  <thead>\n",
       "    <tr style=\"text-align: right;\">\n",
       "      <th></th>\n",
       "      <th>user_id</th>\n",
       "      <th>month</th>\n",
       "      <th>number_of_calls</th>\n",
       "      <th>duration</th>\n",
       "      <th>gb_used</th>\n",
       "      <th>number_of_messages</th>\n",
       "      <th>city</th>\n",
       "      <th>tariff</th>\n",
       "    </tr>\n",
       "  </thead>\n",
       "  <tbody>\n",
       "    <tr>\n",
       "      <th>0</th>\n",
       "      <td>1000</td>\n",
       "      <td>5</td>\n",
       "      <td>17</td>\n",
       "      <td>159</td>\n",
       "      <td>3</td>\n",
       "      <td>22</td>\n",
       "      <td>Краснодар</td>\n",
       "      <td>ultra</td>\n",
       "    </tr>\n",
       "    <tr>\n",
       "      <th>1</th>\n",
       "      <td>1000</td>\n",
       "      <td>6</td>\n",
       "      <td>28</td>\n",
       "      <td>172</td>\n",
       "      <td>23</td>\n",
       "      <td>60</td>\n",
       "      <td>Краснодар</td>\n",
       "      <td>ultra</td>\n",
       "    </tr>\n",
       "    <tr>\n",
       "      <th>2</th>\n",
       "      <td>1000</td>\n",
       "      <td>7</td>\n",
       "      <td>41</td>\n",
       "      <td>340</td>\n",
       "      <td>14</td>\n",
       "      <td>75</td>\n",
       "      <td>Краснодар</td>\n",
       "      <td>ultra</td>\n",
       "    </tr>\n",
       "    <tr>\n",
       "      <th>3</th>\n",
       "      <td>1000</td>\n",
       "      <td>8</td>\n",
       "      <td>42</td>\n",
       "      <td>408</td>\n",
       "      <td>14</td>\n",
       "      <td>81</td>\n",
       "      <td>Краснодар</td>\n",
       "      <td>ultra</td>\n",
       "    </tr>\n",
       "    <tr>\n",
       "      <th>4</th>\n",
       "      <td>1000</td>\n",
       "      <td>9</td>\n",
       "      <td>46</td>\n",
       "      <td>466</td>\n",
       "      <td>15</td>\n",
       "      <td>57</td>\n",
       "      <td>Краснодар</td>\n",
       "      <td>ultra</td>\n",
       "    </tr>\n",
       "  </tbody>\n",
       "</table>\n",
       "</div>"
      ],
      "text/plain": [
       "   user_id  month  number_of_calls  duration  gb_used  number_of_messages  \\\n",
       "0     1000      5               17       159        3                  22   \n",
       "1     1000      6               28       172       23                  60   \n",
       "2     1000      7               41       340       14                  75   \n",
       "3     1000      8               42       408       14                  81   \n",
       "4     1000      9               46       466       15                  57   \n",
       "\n",
       "        city tariff  \n",
       "0  Краснодар  ultra  \n",
       "1  Краснодар  ultra  \n",
       "2  Краснодар  ultra  \n",
       "3  Краснодар  ultra  \n",
       "4  Краснодар  ultra  "
      ]
     },
     "metadata": {},
     "output_type": "display_data"
    }
   ],
   "source": [
    "all_about_users = all_about_users.query('user_id != 1128 and user_id != 1371')\n",
    "display(all_about_users[all_about_users['month'].isna()])\n",
    "all_about_users['month'] = all_about_users['month'].astype('int64')\n",
    "display(all_about_users.head())"
   ]
  },
  {
   "cell_type": "markdown",
   "metadata": {},
   "source": [
    "###  Расчёт стоимости услуг, потреблённых сверх лимита соответствующего тарифного плана:"
   ]
  },
  {
   "cell_type": "code",
   "execution_count": 29,
   "metadata": {},
   "outputs": [],
   "source": [
    "# сделаем столбец, в котором потом будет стоимость перерасхода, а по умолчанию - 0.\n",
    "all_about_users['over_limit'] = 0"
   ]
  },
  {
   "cell_type": "code",
   "execution_count": 30,
   "metadata": {},
   "outputs": [],
   "source": [
    "for i, r in all_about_users.iterrows():\n",
    "    over_limit = 0\n",
    "    limits = {\n",
    "        \"ultra\": {\n",
    "            \"duration\" : {\"limit\": 3000, \"cost\": 1},\n",
    "            \"number_of_messages\" : {\"limit\": 1000, \"cost\": 1},\n",
    "            \"gb_used\" : {\"limit\": 30, \"cost\": 150}\n",
    "        },\n",
    "        \"smart\": {\n",
    "            \"duration\" : {\"limit\": 500, \"cost\": 3},\n",
    "            \"number_of_messages\" : {\"limit\": 50, \"cost\": 3},\n",
    "            \"gb_used\" : {\"limit\": 15, \"cost\": 200}\n",
    "        }\n",
    "    }\n",
    "    \n",
    "    for service in [\"duration\", \"number_of_messages\", \"gb_used\"]:\n",
    "        tariff_config = limits[r[\"tariff\"]][service]\n",
    "        over_usage = r[service] - tariff_config[\"limit\"]\n",
    "        if over_usage > 0:\n",
    "            over_limit += over_usage * tariff_config[\"cost\"]\n",
    "    \n",
    "            \n",
    "    all_about_users['over_limit'][i] = over_limit "
   ]
  },
  {
   "cell_type": "code",
   "execution_count": 31,
   "metadata": {},
   "outputs": [
    {
     "data": {
      "text/html": [
       "<div>\n",
       "<style scoped>\n",
       "    .dataframe tbody tr th:only-of-type {\n",
       "        vertical-align: middle;\n",
       "    }\n",
       "\n",
       "    .dataframe tbody tr th {\n",
       "        vertical-align: top;\n",
       "    }\n",
       "\n",
       "    .dataframe thead th {\n",
       "        text-align: right;\n",
       "    }\n",
       "</style>\n",
       "<table border=\"1\" class=\"dataframe\">\n",
       "  <thead>\n",
       "    <tr style=\"text-align: right;\">\n",
       "      <th></th>\n",
       "      <th>user_id</th>\n",
       "      <th>month</th>\n",
       "      <th>number_of_calls</th>\n",
       "      <th>duration</th>\n",
       "      <th>gb_used</th>\n",
       "      <th>number_of_messages</th>\n",
       "      <th>city</th>\n",
       "      <th>tariff</th>\n",
       "      <th>over_limit</th>\n",
       "    </tr>\n",
       "  </thead>\n",
       "  <tbody>\n",
       "    <tr>\n",
       "      <th>8</th>\n",
       "      <td>1001</td>\n",
       "      <td>11</td>\n",
       "      <td>45</td>\n",
       "      <td>430</td>\n",
       "      <td>18</td>\n",
       "      <td>0</td>\n",
       "      <td>Москва</td>\n",
       "      <td>smart</td>\n",
       "      <td>600</td>\n",
       "    </tr>\n",
       "    <tr>\n",
       "      <th>11</th>\n",
       "      <td>1002</td>\n",
       "      <td>7</td>\n",
       "      <td>21</td>\n",
       "      <td>214</td>\n",
       "      <td>18</td>\n",
       "      <td>11</td>\n",
       "      <td>Стерлитамак</td>\n",
       "      <td>smart</td>\n",
       "      <td>600</td>\n",
       "    </tr>\n",
       "    <tr>\n",
       "      <th>12</th>\n",
       "      <td>1002</td>\n",
       "      <td>8</td>\n",
       "      <td>37</td>\n",
       "      <td>289</td>\n",
       "      <td>20</td>\n",
       "      <td>13</td>\n",
       "      <td>Стерлитамак</td>\n",
       "      <td>smart</td>\n",
       "      <td>1000</td>\n",
       "    </tr>\n",
       "    <tr>\n",
       "      <th>13</th>\n",
       "      <td>1002</td>\n",
       "      <td>9</td>\n",
       "      <td>25</td>\n",
       "      <td>206</td>\n",
       "      <td>17</td>\n",
       "      <td>4</td>\n",
       "      <td>Стерлитамак</td>\n",
       "      <td>smart</td>\n",
       "      <td>400</td>\n",
       "    </tr>\n",
       "    <tr>\n",
       "      <th>15</th>\n",
       "      <td>1002</td>\n",
       "      <td>11</td>\n",
       "      <td>25</td>\n",
       "      <td>243</td>\n",
       "      <td>19</td>\n",
       "      <td>16</td>\n",
       "      <td>Стерлитамак</td>\n",
       "      <td>smart</td>\n",
       "      <td>800</td>\n",
       "    </tr>\n",
       "  </tbody>\n",
       "</table>\n",
       "</div>"
      ],
      "text/plain": [
       "    user_id  month  number_of_calls  duration  gb_used  number_of_messages  \\\n",
       "8      1001     11               45       430       18                   0   \n",
       "11     1002      7               21       214       18                  11   \n",
       "12     1002      8               37       289       20                  13   \n",
       "13     1002      9               25       206       17                   4   \n",
       "15     1002     11               25       243       19                  16   \n",
       "\n",
       "           city tariff  over_limit  \n",
       "8        Москва  smart         600  \n",
       "11  Стерлитамак  smart         600  \n",
       "12  Стерлитамак  smart        1000  \n",
       "13  Стерлитамак  smart         400  \n",
       "15  Стерлитамак  smart         800  "
      ]
     },
     "metadata": {},
     "output_type": "display_data"
    }
   ],
   "source": [
    "display(all_about_users.query('over_limit > 0').head())"
   ]
  },
  {
   "cell_type": "markdown",
   "metadata": {},
   "source": [
    "Для наглядности добавим в ту же таблицу стоимость тарифного плана для каждого пользователя:"
   ]
  },
  {
   "cell_type": "code",
   "execution_count": 32,
   "metadata": {},
   "outputs": [
    {
     "data": {
      "text/html": [
       "<div>\n",
       "<style scoped>\n",
       "    .dataframe tbody tr th:only-of-type {\n",
       "        vertical-align: middle;\n",
       "    }\n",
       "\n",
       "    .dataframe tbody tr th {\n",
       "        vertical-align: top;\n",
       "    }\n",
       "\n",
       "    .dataframe thead th {\n",
       "        text-align: right;\n",
       "    }\n",
       "</style>\n",
       "<table border=\"1\" class=\"dataframe\">\n",
       "  <thead>\n",
       "    <tr style=\"text-align: right;\">\n",
       "      <th></th>\n",
       "      <th>user_id</th>\n",
       "      <th>month</th>\n",
       "      <th>number_of_calls</th>\n",
       "      <th>duration</th>\n",
       "      <th>gb_used</th>\n",
       "      <th>number_of_messages</th>\n",
       "      <th>city</th>\n",
       "      <th>tariff</th>\n",
       "      <th>over_limit</th>\n",
       "      <th>tariff_price</th>\n",
       "    </tr>\n",
       "  </thead>\n",
       "  <tbody>\n",
       "    <tr>\n",
       "      <th>0</th>\n",
       "      <td>1000</td>\n",
       "      <td>5</td>\n",
       "      <td>17</td>\n",
       "      <td>159</td>\n",
       "      <td>3</td>\n",
       "      <td>22</td>\n",
       "      <td>Краснодар</td>\n",
       "      <td>ultra</td>\n",
       "      <td>0</td>\n",
       "      <td>1950</td>\n",
       "    </tr>\n",
       "    <tr>\n",
       "      <th>1</th>\n",
       "      <td>1000</td>\n",
       "      <td>6</td>\n",
       "      <td>28</td>\n",
       "      <td>172</td>\n",
       "      <td>23</td>\n",
       "      <td>60</td>\n",
       "      <td>Краснодар</td>\n",
       "      <td>ultra</td>\n",
       "      <td>0</td>\n",
       "      <td>1950</td>\n",
       "    </tr>\n",
       "    <tr>\n",
       "      <th>2</th>\n",
       "      <td>1000</td>\n",
       "      <td>7</td>\n",
       "      <td>41</td>\n",
       "      <td>340</td>\n",
       "      <td>14</td>\n",
       "      <td>75</td>\n",
       "      <td>Краснодар</td>\n",
       "      <td>ultra</td>\n",
       "      <td>0</td>\n",
       "      <td>1950</td>\n",
       "    </tr>\n",
       "    <tr>\n",
       "      <th>3</th>\n",
       "      <td>1000</td>\n",
       "      <td>8</td>\n",
       "      <td>42</td>\n",
       "      <td>408</td>\n",
       "      <td>14</td>\n",
       "      <td>81</td>\n",
       "      <td>Краснодар</td>\n",
       "      <td>ultra</td>\n",
       "      <td>0</td>\n",
       "      <td>1950</td>\n",
       "    </tr>\n",
       "    <tr>\n",
       "      <th>4</th>\n",
       "      <td>1000</td>\n",
       "      <td>9</td>\n",
       "      <td>46</td>\n",
       "      <td>466</td>\n",
       "      <td>15</td>\n",
       "      <td>57</td>\n",
       "      <td>Краснодар</td>\n",
       "      <td>ultra</td>\n",
       "      <td>0</td>\n",
       "      <td>1950</td>\n",
       "    </tr>\n",
       "  </tbody>\n",
       "</table>\n",
       "</div>"
      ],
      "text/plain": [
       "   user_id  month  number_of_calls  duration  gb_used  number_of_messages  \\\n",
       "0     1000      5               17       159        3                  22   \n",
       "1     1000      6               28       172       23                  60   \n",
       "2     1000      7               41       340       14                  75   \n",
       "3     1000      8               42       408       14                  81   \n",
       "4     1000      9               46       466       15                  57   \n",
       "\n",
       "        city tariff  over_limit  tariff_price  \n",
       "0  Краснодар  ultra           0          1950  \n",
       "1  Краснодар  ultra           0          1950  \n",
       "2  Краснодар  ultra           0          1950  \n",
       "3  Краснодар  ultra           0          1950  \n",
       "4  Краснодар  ultra           0          1950  "
      ]
     },
     "execution_count": 32,
     "metadata": {},
     "output_type": "execute_result"
    }
   ],
   "source": [
    "def tariff_price(tariff):\n",
    "    for t in tariff:\n",
    "        if \"ultra\" in tariff:\n",
    "            return 1950\n",
    "        if 'smart' in tariff:\n",
    "            return 550\n",
    "\n",
    "all_about_users['tariff_price'] = all_about_users['tariff'].apply(tariff_price)\n",
    "all_about_users.head()"
   ]
  },
  {
   "cell_type": "markdown",
   "metadata": {},
   "source": [
    "### Вывод:\n",
    "1. Удалены звонки продолжительностью 0 секунд и сессии с трафиком 0 Мб - они не тарифицируются (следовательно, не важны для расчетов), при этом существенно искажают общую картину.\n",
    "2. Изменены типы данных там, где это было необходимо;\n",
    "3. Продолжительность звонков округлена до минут по каждому звонку, (мегабайты - до гигабайт помесячно будут оруглены на следующем этапе), так как это предусмотрено рассматриваемыми тарифами; \n",
    "4. С помощью сводных таблиц и их объдинения данные приведены в форму, удобную для дальнейшего анализа;\n",
    "5. Для каждого пользователя рассчитана и добавлена в таблицу \"all_about_users\" информация о стоимости тарифа и о стоимости перерасхода тарифного пакета. Видим, что перерасход случается довольно часто и, судя по всему, в основном у пользователей тарифа \"Смарт\" (но это требует проверки). "
   ]
  },
  {
   "cell_type": "markdown",
   "metadata": {},
   "source": [
    "## Анализ данных."
   ]
  },
  {
   "cell_type": "markdown",
   "metadata": {},
   "source": [
    "### Сравнение статистики потребления услуг абонентами тарифов \"Смарт\" и \"Ультра\"."
   ]
  },
  {
   "cell_type": "markdown",
   "metadata": {},
   "source": [
    "Составляем сводную таблицу для анализа выборки (по тарифам):"
   ]
  },
  {
   "cell_type": "code",
   "execution_count": 33,
   "metadata": {},
   "outputs": [
    {
     "data": {
      "text/html": [
       "<div>\n",
       "<style scoped>\n",
       "    .dataframe tbody tr th:only-of-type {\n",
       "        vertical-align: middle;\n",
       "    }\n",
       "\n",
       "    .dataframe tbody tr th {\n",
       "        vertical-align: top;\n",
       "    }\n",
       "\n",
       "    .dataframe thead th {\n",
       "        text-align: right;\n",
       "    }\n",
       "</style>\n",
       "<table border=\"1\" class=\"dataframe\">\n",
       "  <thead>\n",
       "    <tr style=\"text-align: right;\">\n",
       "      <th></th>\n",
       "      <th>duration</th>\n",
       "      <th>gb_used</th>\n",
       "      <th>number_of_messages</th>\n",
       "      <th>over_limit</th>\n",
       "      <th>tariff_price</th>\n",
       "    </tr>\n",
       "    <tr>\n",
       "      <th>tariff</th>\n",
       "      <th></th>\n",
       "      <th></th>\n",
       "      <th></th>\n",
       "      <th></th>\n",
       "      <th></th>\n",
       "    </tr>\n",
       "  </thead>\n",
       "  <tbody>\n",
       "    <tr>\n",
       "      <th>smart</th>\n",
       "      <td>417.934948</td>\n",
       "      <td>16.328847</td>\n",
       "      <td>33.384029</td>\n",
       "      <td>739.973531</td>\n",
       "      <td>550</td>\n",
       "    </tr>\n",
       "    <tr>\n",
       "      <th>ultra</th>\n",
       "      <td>526.623350</td>\n",
       "      <td>19.494416</td>\n",
       "      <td>49.363452</td>\n",
       "      <td>120.152284</td>\n",
       "      <td>1950</td>\n",
       "    </tr>\n",
       "  </tbody>\n",
       "</table>\n",
       "</div>"
      ],
      "text/plain": [
       "          duration    gb_used  number_of_messages  over_limit  tariff_price\n",
       "tariff                                                                     \n",
       "smart   417.934948  16.328847           33.384029  739.973531           550\n",
       "ultra   526.623350  19.494416           49.363452  120.152284          1950"
      ]
     },
     "metadata": {},
     "output_type": "display_data"
    }
   ],
   "source": [
    "#def get_smart_ultra_compare_stat(all_about_users): \n",
    "smart_ultra_compare_stat = all_about_users.pivot_table\\\n",
    "(index = \"tariff\", values = ['duration', 'gb_used', 'number_of_messages', 'tariff_price', 'over_limit'], \\\n",
    "aggfunc = 'mean')\n",
    "\n",
    "display(smart_ultra_compare_stat)"
   ]
  },
  {
   "cell_type": "markdown",
   "metadata": {},
   "source": [
    "Расчитаем дисперсию и стандартное отклонение по каждой из услуг (телефонная связь, интернет, сообщения) по пользователям рассматриваемых тарифов\":\n"
   ]
  },
  {
   "cell_type": "code",
   "execution_count": 34,
   "metadata": {},
   "outputs": [
    {
     "name": "stdout",
     "output_type": "stream",
     "text": [
      "Среднее: 417.93\n",
      "Дисперсия: 36219.31578434428\n",
      "Стандартное отклонение: 190.31372988921288\n"
     ]
    }
   ],
   "source": [
    "# продолжительность звонков (пользователи Смарт): \n",
    "calls_smart_var = np.var(all_about_users[all_about_users['tariff'] == 'smart']['duration'], ddof = 1)\n",
    "calls_smart_stdev = np.sqrt(calls_smart_var)\n",
    "print(\"Среднее: 417.93\")\n",
    "print(\"Дисперсия:\", calls_smart_var)\n",
    "print(\"Стандартное отклонение:\", calls_smart_stdev)"
   ]
  },
  {
   "cell_type": "code",
   "execution_count": 35,
   "metadata": {},
   "outputs": [
    {
     "name": "stdout",
     "output_type": "stream",
     "text": [
      "Среднее: 526.62\n",
      "Дисперсия: 100873.63339730098\n",
      "Стандартное отклонение: 317.6060978591264\n"
     ]
    }
   ],
   "source": [
    "# продолжительность звонков (пользователи Ультра): \n",
    "calls_ultra_var = np.var(all_about_users[all_about_users['tariff'] == 'ultra']['duration'], ddof = 1)\n",
    "calls_ultra_stdev = np.sqrt(calls_ultra_var)\n",
    "print(\"Среднее: 526.62\")\n",
    "print(\"Дисперсия:\", calls_ultra_var)\n",
    "print(\"Стандартное отклонение:\", calls_ultra_stdev)"
   ]
  },
  {
   "cell_type": "code",
   "execution_count": 36,
   "metadata": {},
   "outputs": [
    {
     "data": {
      "image/png": "[encoded data removed]",
      "text/plain": [
       "<Figure size 720x432 with 1 Axes>"
      ]
     },
     "metadata": {
      "needs_background": "light"
     },
     "output_type": "display_data"
    }
   ],
   "source": [
    "fig, (ax1) = plt.subplots(1, figsize = (10, 6))\n",
    "\n",
    "ax1.hist((all_about_users[all_about_users['tariff'] == 'smart']['duration']), bins = 30)\n",
    "ax1.grid(True)\n",
    "\n",
    "ax1.hist((all_about_users[all_about_users['tariff'] == 'ultra']['duration']), bins = 30, alpha = 0.5)\n",
    "ax1.grid(True)\n",
    "ax1.set_title(\"Продолжительность звонков абонентов Смарт и Ультра\")\n",
    "ax1.set_xlabel(\"Частота\")\n",
    "ax1.set_ylabel(\"Количество абонентов\")\n",
    "\n",
    "ax1.legend([\"Смарт\", \"Ультра\"])\n",
    "plt.show()\n"
   ]
  },
  {
   "cell_type": "markdown",
   "metadata": {},
   "source": [
    "Для абонентов \"Смарт\" гистограмма показывает распределение, близкое к нормальному, немного скошенное влево. Виден выраженный пик в районе 450 - 520 минут.\n",
    "Для абонентов \"Ультра\" явных пиков нет; немного повышены значения около \"0\" (продолжительность разговора несколько секунд), и от 230 до 800 минут - продолжительно плато. "
   ]
  },
  {
   "cell_type": "code",
   "execution_count": 37,
   "metadata": {},
   "outputs": [
    {
     "name": "stdout",
     "output_type": "stream",
     "text": [
      "Среднее: 16.32\n",
      "Дисперсия: 33.02870517811161\n",
      "Стандартное отклонение: 5.7470605685090534\n"
     ]
    }
   ],
   "source": [
    "# использованный трафик (пользователи Смарт): \n",
    "gb_used_smart_var = np.var(all_about_users[all_about_users['tariff'] == 'smart']['gb_used'], ddof = 1)\n",
    "gb_used_smart_stdev = np.sqrt(gb_used_smart_var)\n",
    "print(\"Среднее: 16.32\")\n",
    "print(\"Дисперсия:\", gb_used_smart_var)\n",
    "print(\"Стандартное отклонение:\", gb_used_smart_stdev)"
   ]
  },
  {
   "cell_type": "code",
   "execution_count": 38,
   "metadata": {},
   "outputs": [
    {
     "name": "stdout",
     "output_type": "stream",
     "text": [
      "Среднее: 19.49\n",
      "Дисперсия: 97.09168626965459\n",
      "Стандартное отклонение: 9.853511367510293\n"
     ]
    }
   ],
   "source": [
    "# использованный трафик (пользователи Ультра): \n",
    "gb_used_ultra_var = np.var(all_about_users[all_about_users['tariff'] == 'ultra']['gb_used'], ddof = 1)\n",
    "gb_used_ultra_stdev = np.sqrt(gb_used_ultra_var)\n",
    "print(\"Среднее: 19.49\")\n",
    "print(\"Дисперсия:\", gb_used_ultra_var)\n",
    "print(\"Стандартное отклонение:\", gb_used_ultra_stdev)"
   ]
  },
  {
   "cell_type": "code",
   "execution_count": 39,
   "metadata": {},
   "outputs": [
    {
     "data": {
      "image/png": "[encoded data removed]",
      "text/plain": [
       "<Figure size 720x432 with 1 Axes>"
      ]
     },
     "metadata": {
      "needs_background": "light"
     },
     "output_type": "display_data"
    }
   ],
   "source": [
    "fig, (ax1) = plt.subplots(1, figsize = (10, 6))\n",
    "\n",
    "ax1.hist((all_about_users[all_about_users['tariff'] == 'smart']['gb_used']), bins = 30)\n",
    "ax1.grid(True)\n",
    "\n",
    "ax1.hist((all_about_users[all_about_users['tariff'] == 'ultra']['gb_used']), bins = 30, alpha = 0.5)\n",
    "ax1.grid(True)\n",
    "ax1.set_title(\"Количество использованного трафика абонентами Смарт и Ультра\")\n",
    "ax1.set_xlabel(\"Количество гигабайт\")\n",
    "ax1.set_ylabel(\"Частота\")\n",
    "\n",
    "ax1.legend([\"Смарт\", \"Ультра\"])\n",
    "plt.show()"
   ]
  },
  {
   "cell_type": "markdown",
   "metadata": {},
   "source": [
    "Распределение в обоих случаях близко к нормальному, но на гистограмме для абонентов \"Смарт\" есть выраженный значительный пик в районе 14 - 20 Гб, то есть большая его часть приходится на значения сверх тарифного лимита. \n",
    "Распределение для абонентов \"Ультра\" выраженных пиков не имеет, скошено вправо, большая часть потребления трафика приходтся на значения 10 - 25 Гб. "
   ]
  },
  {
   "cell_type": "code",
   "execution_count": 40,
   "metadata": {},
   "outputs": [
    {
     "name": "stdout",
     "output_type": "stream",
     "text": [
      "Среднее: 33.38\n",
      "Дисперсия: 796.8129584480083\n",
      "Стандартное отклонение: 28.22787555676141\n"
     ]
    }
   ],
   "source": [
    "# количество отправленных сообщений (пользователи Смарт): \n",
    "number_of_messages_smart_var = np.var(all_about_users[all_about_users['tariff'] == 'smart']['number_of_messages'], ddof = 1)\n",
    "number_of_messages_smart_stdev = np.sqrt(number_of_messages_smart_var)\n",
    "print(\"Среднее: 33.38\")\n",
    "print(\"Дисперсия:\", number_of_messages_smart_var)\n",
    "print(\"Стандартное отклонение:\", number_of_messages_smart_stdev)"
   ]
  },
  {
   "cell_type": "code",
   "execution_count": 41,
   "metadata": {},
   "outputs": [
    {
     "name": "stdout",
     "output_type": "stream",
     "text": [
      "Среднее: 49.36\n",
      "Дисперсия: 2285.2661425446736\n",
      "Стандартное отклонение: 47.804457350174715\n"
     ]
    }
   ],
   "source": [
    "# количество отправленных сообщений (пользователи Ультра): \n",
    "number_of_messages_ultra_var = np.var(all_about_users[all_about_users['tariff'] == 'ultra']['number_of_messages'], ddof = 1)\n",
    "number_of_messages_ultra_stdev = np.sqrt(number_of_messages_ultra_var)\n",
    "print(\"Среднее: 49.36\")\n",
    "print(\"Дисперсия:\", number_of_messages_ultra_var)\n",
    "print(\"Стандартное отклонение:\", number_of_messages_ultra_stdev)"
   ]
  },
  {
   "cell_type": "code",
   "execution_count": 42,
   "metadata": {},
   "outputs": [
    {
     "data": {
      "image/png": "[encoded data removed]",
      "text/plain": [
       "<Figure size 720x432 with 1 Axes>"
      ]
     },
     "metadata": {
      "needs_background": "light"
     },
     "output_type": "display_data"
    }
   ],
   "source": [
    "fig, (ax1) = plt.subplots(1, figsize = (10, 6))\n",
    "\n",
    "ax1.hist((all_about_users[all_about_users['tariff'] == 'smart']['number_of_messages']), bins = 30)\n",
    "ax1.grid(True)\n",
    "\n",
    "ax1.hist((all_about_users[all_about_users['tariff'] == 'ultra']['number_of_messages']), bins = 30, alpha = 0.5)\n",
    "ax1.grid(True)\n",
    "ax1.set_title(\"Количество отправленных сообщений абонентами Смарт и Ультра\")\n",
    "ax1.set_xlabel(\"Количество сообщений\")\n",
    "ax1.set_ylabel(\"Частота\")\n",
    "\n",
    "ax1.legend([\"Смарт\", \"Ультра\"])\n",
    "plt.show()"
   ]
  },
  {
   "cell_type": "markdown",
   "metadata": {},
   "source": [
    "В обоих случаях гистограмма показывает экспоненциальное распределение: большему количеству отправляемых сообщений соответствует меньшая частота. На гистограмме для пользователей \"Ультра\" длинный хвост, тем не менее значения даже близко не подходят к установленному тарифом лимиту."
   ]
  },
  {
   "cell_type": "markdown",
   "metadata": {},
   "source": [
    "### Вывод: \n",
    "1. рассчитано среднее, дисперсия и стандартное отклонение по выборке. Относительно паттернов использования тарифов - они заметно отличаются, у пользователей \"Ультра\" нет таких явно-выраженных пиков при использовании минут разговора и трафика, но надо учесть, что выборка по \"Ультре\" больше подвержена искажениям и случайным значениям, так как абонентов \"Ультра\" мало (малое количество данных).\n",
    "2. Люди редко пользуются сообщениями, поэтому распределение экспоненциальное. "
   ]
  },
  {
   "cell_type": "markdown",
   "metadata": {},
   "source": [
    "## Проверка гипотез"
   ]
  },
  {
   "cell_type": "markdown",
   "metadata": {},
   "source": [
    "### Различается ли средняя выручка, получаемая от абонентов Смарт и Ультра? "
   ]
  },
  {
   "cell_type": "markdown",
   "metadata": {},
   "source": [
    "Прежде всего, рассчитаем выручку по каждому абоненту и добавим соответствующий столбец в таблицу:"
   ]
  },
  {
   "cell_type": "code",
   "execution_count": 43,
   "metadata": {},
   "outputs": [
    {
     "data": {
      "text/html": [
       "<div>\n",
       "<style scoped>\n",
       "    .dataframe tbody tr th:only-of-type {\n",
       "        vertical-align: middle;\n",
       "    }\n",
       "\n",
       "    .dataframe tbody tr th {\n",
       "        vertical-align: top;\n",
       "    }\n",
       "\n",
       "    .dataframe thead th {\n",
       "        text-align: right;\n",
       "    }\n",
       "</style>\n",
       "<table border=\"1\" class=\"dataframe\">\n",
       "  <thead>\n",
       "    <tr style=\"text-align: right;\">\n",
       "      <th></th>\n",
       "      <th>user_id</th>\n",
       "      <th>month</th>\n",
       "      <th>number_of_calls</th>\n",
       "      <th>duration</th>\n",
       "      <th>gb_used</th>\n",
       "      <th>number_of_messages</th>\n",
       "      <th>city</th>\n",
       "      <th>tariff</th>\n",
       "      <th>over_limit</th>\n",
       "      <th>tariff_price</th>\n",
       "      <th>revenue</th>\n",
       "    </tr>\n",
       "  </thead>\n",
       "  <tbody>\n",
       "    <tr>\n",
       "      <th>0</th>\n",
       "      <td>1000</td>\n",
       "      <td>5</td>\n",
       "      <td>17</td>\n",
       "      <td>159</td>\n",
       "      <td>3</td>\n",
       "      <td>22</td>\n",
       "      <td>Краснодар</td>\n",
       "      <td>ultra</td>\n",
       "      <td>0</td>\n",
       "      <td>1950</td>\n",
       "      <td>1950</td>\n",
       "    </tr>\n",
       "    <tr>\n",
       "      <th>1</th>\n",
       "      <td>1000</td>\n",
       "      <td>6</td>\n",
       "      <td>28</td>\n",
       "      <td>172</td>\n",
       "      <td>23</td>\n",
       "      <td>60</td>\n",
       "      <td>Краснодар</td>\n",
       "      <td>ultra</td>\n",
       "      <td>0</td>\n",
       "      <td>1950</td>\n",
       "      <td>1950</td>\n",
       "    </tr>\n",
       "    <tr>\n",
       "      <th>2</th>\n",
       "      <td>1000</td>\n",
       "      <td>7</td>\n",
       "      <td>41</td>\n",
       "      <td>340</td>\n",
       "      <td>14</td>\n",
       "      <td>75</td>\n",
       "      <td>Краснодар</td>\n",
       "      <td>ultra</td>\n",
       "      <td>0</td>\n",
       "      <td>1950</td>\n",
       "      <td>1950</td>\n",
       "    </tr>\n",
       "    <tr>\n",
       "      <th>3</th>\n",
       "      <td>1000</td>\n",
       "      <td>8</td>\n",
       "      <td>42</td>\n",
       "      <td>408</td>\n",
       "      <td>14</td>\n",
       "      <td>81</td>\n",
       "      <td>Краснодар</td>\n",
       "      <td>ultra</td>\n",
       "      <td>0</td>\n",
       "      <td>1950</td>\n",
       "      <td>1950</td>\n",
       "    </tr>\n",
       "    <tr>\n",
       "      <th>4</th>\n",
       "      <td>1000</td>\n",
       "      <td>9</td>\n",
       "      <td>46</td>\n",
       "      <td>466</td>\n",
       "      <td>15</td>\n",
       "      <td>57</td>\n",
       "      <td>Краснодар</td>\n",
       "      <td>ultra</td>\n",
       "      <td>0</td>\n",
       "      <td>1950</td>\n",
       "      <td>1950</td>\n",
       "    </tr>\n",
       "  </tbody>\n",
       "</table>\n",
       "</div>"
      ],
      "text/plain": [
       "   user_id  month  number_of_calls  duration  gb_used  number_of_messages  \\\n",
       "0     1000      5               17       159        3                  22   \n",
       "1     1000      6               28       172       23                  60   \n",
       "2     1000      7               41       340       14                  75   \n",
       "3     1000      8               42       408       14                  81   \n",
       "4     1000      9               46       466       15                  57   \n",
       "\n",
       "        city tariff  over_limit  tariff_price  revenue  \n",
       "0  Краснодар  ultra           0          1950     1950  \n",
       "1  Краснодар  ultra           0          1950     1950  \n",
       "2  Краснодар  ultra           0          1950     1950  \n",
       "3  Краснодар  ultra           0          1950     1950  \n",
       "4  Краснодар  ultra           0          1950     1950  "
      ]
     },
     "metadata": {},
     "output_type": "display_data"
    }
   ],
   "source": [
    "all_about_users['revenue'] = all_about_users['tariff_price'] + all_about_users['over_limit']\n",
    "display(all_about_users.head())"
   ]
  },
  {
   "cell_type": "markdown",
   "metadata": {},
   "source": [
    "Сформулируем **нулевую и альтернативную гипотезы:** <br>\n",
    "**H<sub>0</sub>**: Средняя выручка, получаемая от абонентов Смарт и Ультра равна.<br>\n",
    "**H<sub>1</sub>**: Средняя выручка, получаемая от абонентов Смарт и Ультра не равна. "
   ]
  },
  {
   "cell_type": "markdown",
   "metadata": {},
   "source": [
    "Создадим переменные, чтобы удобней было обращаться к нашим данным по выручке:"
   ]
  },
  {
   "cell_type": "code",
   "execution_count": 44,
   "metadata": {},
   "outputs": [],
   "source": [
    "revenue_smart = all_about_users[all_about_users['tariff'] == 'smart']['revenue']\n",
    "revenue_ultra = all_about_users[all_about_users['tariff'] == 'ultra']['revenue']"
   ]
  },
  {
   "cell_type": "markdown",
   "metadata": {},
   "source": [
    "Для проверки гипотезы используем тест Стьюдента (t-test):"
   ]
  },
  {
   "cell_type": "code",
   "execution_count": 45,
   "metadata": {},
   "outputs": [
    {
     "name": "stdout",
     "output_type": "stream",
     "text": [
      "р-значение: 1.4229814360764067e-160\n",
      "Отвергаем нулевую гипотезу.\n"
     ]
    }
   ],
   "source": [
    "# задаем критический уровень статистической значимости:\n",
    "alpha = 0.05\n",
    "\n",
    "# проверяем гипотезу о равенстве двух генеральных совокупностей по взятым из них выборкам:\n",
    "result = st.ttest_ind(revenue_smart, revenue_ultra)\n",
    "\n",
    "print('р-значение:', result.pvalue)\n",
    "\n",
    "if result.pvalue < alpha:\n",
    "    print('Отвергаем нулевую гипотезу.')\n",
    "else:\n",
    "    print(\"Не получилось отвергнуть нулевую гипотезу\")\n"
   ]
  },
  {
   "cell_type": "markdown",
   "metadata": {},
   "source": [
    "Таким образом, анализ выборок с помощью теста Стьюдента показывает, что веротяность того, что нулевая гипотеза (гипотеза о равенстве средней выручки, получаемой от двух тарифов) верна - ничтожно мала, что **подтверждает альтернативную гипотезу**: cредняя выручка, получаемая от абонентов двух тарифов, не равна).  "
   ]
  },
  {
   "cell_type": "markdown",
   "metadata": {},
   "source": [
    "Так как проверенная гипотеза - двухсторонняя, полученный результат ничего не говорит нам о том, выручка от какого тарифа больше. \n",
    "Сравним средние показатели по нашим выборкам и ответим на этот вопрос."
   ]
  },
  {
   "cell_type": "code",
   "execution_count": 46,
   "metadata": {},
   "outputs": [
    {
     "name": "stdout",
     "output_type": "stream",
     "text": [
      "Средняя выручка по тарифу Смарт: 1289.9735307312696\n",
      "Средняя выручка по тарифу Ультра: 2070.1522842639592\n"
     ]
    }
   ],
   "source": [
    "# расчитаем среднюю выручку для каждого из тарифов:\n",
    "print(\"Средняя выручка по тарифу Смарт:\", revenue_smart.mean())\n",
    "print(\"Средняя выручка по тарифу Ультра:\", revenue_ultra.mean())"
   ]
  },
  {
   "cell_type": "markdown",
   "metadata": {},
   "source": [
    "Посмотрим на двух графиках реальные и нормализованные значения по выручке:"
   ]
  },
  {
   "cell_type": "code",
   "execution_count": 47,
   "metadata": {},
   "outputs": [
    {
     "data": {
      "image/png": "[encoded data removed]",
      "text/plain": [
       "<Figure size 1008x576 with 2 Axes>"
      ]
     },
     "metadata": {
      "needs_background": "light"
     },
     "output_type": "display_data"
    }
   ],
   "source": [
    "fig, axes = plt.subplots(1, 2)\n",
    "\n",
    "revenue_smart.hist(figsize = (14, 8), ax=axes[0], alpha = 0.7)\n",
    "revenue_ultra.hist(figsize = (14, 8), ax=axes[0])\n",
    "\n",
    "\n",
    "revenue_smart.hist(figsize = (14,8), ax=axes[1], alpha = 0.7, density=True)\n",
    "revenue_ultra.hist(figsize = (14, 8), ax=axes[1], density = True)\n",
    "\n",
    "axes[0].set(xlabel= \"выручка, руб.\",ylabel=\"частота\", title = 'реальные значения', label = \"fgfg\")\n",
    "axes[1].set(xlabel=\"выручка, руб.\",ylabel=\"частота\", title = 'нормализованные значения')\n",
    "axes[0].legend([\"Смарт\", \"Ультра\"])\n",
    "axes[1].legend([\"Смарт\", \"Ультра\"])\n",
    "fig.suptitle('Сравнение выручки, получаемой от абонентов Смарт и Ультра',\n",
    "             y = 1.0,\n",
    "             fontsize = 17)\n",
    "\n",
    "plt.show()\n"
   ]
  },
  {
   "cell_type": "markdown",
   "metadata": {},
   "source": [
    "Мы видим, что хотя средняя выручка от абонента \"Ультра\" существенно выше выручки, получаемой от абонента \"Смарт\" (2070 руб. против 1290), но в абсолютных значениях доля выручки от \"Смарта\" существенно превышает долю от \"Ультра\"."
   ]
  },
  {
   "cell_type": "markdown",
   "metadata": {},
   "source": [
    "### Различается ли средняя выручка, получаемая от абонентов из Москвы от выручки, получаемой из других регионов? "
   ]
  },
  {
   "cell_type": "markdown",
   "metadata": {},
   "source": [
    "Сформулируем нулевую и альтернативную гипотезы: <br>\n",
    "**H<sub>0</sub>**: Средняя выручка, получаемая от абонентов из Москвы и из других регионов равна.<br>\n",
    "**H<sub>1</sub>**: Средняя выручка, получаемая от абонентов из Москвы и из других регионов не равна. "
   ]
  },
  {
   "cell_type": "markdown",
   "metadata": {},
   "source": [
    "Создадим переменные, чтобы удобней было обращаться к нашим данным по выручке:"
   ]
  },
  {
   "cell_type": "code",
   "execution_count": 48,
   "metadata": {},
   "outputs": [],
   "source": [
    "revenue_moscow = all_about_users[all_about_users['city'] == 'Москва']['revenue']\n",
    "revenue_not_moscow = all_about_users[all_about_users['city'] != 'Москва']['revenue']"
   ]
  },
  {
   "cell_type": "markdown",
   "metadata": {},
   "source": [
    "Для проверки гипотезы используем тест Стьюдента (t-test):"
   ]
  },
  {
   "cell_type": "code",
   "execution_count": 49,
   "metadata": {},
   "outputs": [
    {
     "name": "stdout",
     "output_type": "stream",
     "text": [
      "р-значение: 0.5440152911670224\n",
      "Не получилось отвергнуть нулевую гипотезу\n"
     ]
    }
   ],
   "source": [
    "# задаем критический уровень статистической значимости:\n",
    "alpha = 0.05\n",
    "\n",
    "# проверяем гипотезу о равенстве двух генеральных совокупностей по взятым из них выборкам:\n",
    "result = st.ttest_ind(revenue_moscow, revenue_not_moscow)\n",
    "\n",
    "print('р-значение:', result.pvalue)\n",
    "\n",
    "if result.pvalue < alpha:\n",
    "    print('Отвергаем нулевую гипотезу.')\n",
    "else:\n",
    "    print(\"Не получилось отвергнуть нулевую гипотезу\")\n"
   ]
  },
  {
   "cell_type": "markdown",
   "metadata": {},
   "source": [
    "С вероятностью 54% наблюдаемое нами при подсчете среднего по выборкам различие (само по себе небольшое) случайно и на самом деле средние выручки генеральных совокупностей равны. "
   ]
  },
  {
   "cell_type": "code",
   "execution_count": 50,
   "metadata": {},
   "outputs": [
    {
     "name": "stdout",
     "output_type": "stream",
     "text": [
      "Средняя выручка по абонентам из Москвы: 1546.7135842880523\n",
      "Средняя выручка по абонентам не из Москвы: 1524.9362274298885\n"
     ]
    }
   ],
   "source": [
    "# расчитаем среднюю выручку для абонентов из Москвы и из других регионов:\n",
    "print(\"Средняя выручка по абонентам из Москвы:\", revenue_moscow.mean())\n",
    "print(\"Средняя выручка по абонентам не из Москвы:\", revenue_not_moscow.mean())"
   ]
  },
  {
   "cell_type": "markdown",
   "metadata": {},
   "source": [
    "Интересно будет сравнить Москву и не-Москву по тарифам: "
   ]
  },
  {
   "cell_type": "code",
   "execution_count": 51,
   "metadata": {},
   "outputs": [],
   "source": [
    "# Москва:\n",
    "moscow_smart = all_about_users.query('city == \"Москва\" and tariff == \"smart\"')\n",
    "moscow_smart_revenue = moscow_smart['revenue']\n",
    "\n",
    "moscow_ultra = all_about_users.query('city == \"Москва\" and tariff == \"ultra\"')\n",
    "moscow_ultra_revenue = moscow_ultra['revenue']"
   ]
  },
  {
   "cell_type": "code",
   "execution_count": 52,
   "metadata": {},
   "outputs": [],
   "source": [
    "# не Москва:\n",
    "not_moscow_smart = all_about_users.query('city != \"Москва\" and tariff == \"smart\"')\n",
    "not_moscow_smart_revenue = not_moscow_smart['revenue']\n",
    "\n",
    "not_moscow_ultra = all_about_users.query('city != \"Москва\" and tariff == \"ultra\"')\n",
    "not_moscow_ultra_revenue = not_moscow_ultra['revenue']"
   ]
  },
  {
   "cell_type": "markdown",
   "metadata": {},
   "source": [
    "Сформулируем нулевую и альтернативную гипотезы: <br>\n",
    "**H<sub>0</sub>**: Средняя выручка, получаемая от абонентов Смарт из Москвы и из других регионов равна.<br>\n",
    "**H<sub>1</sub>**: Средняя выручка, получаемая от абонентов Смарт из Москвы и из других регионов не равна. "
   ]
  },
  {
   "cell_type": "markdown",
   "metadata": {},
   "source": [
    "Для проверки гипотезы используем тест Стьюдента (t-test):"
   ]
  },
  {
   "cell_type": "code",
   "execution_count": 53,
   "metadata": {},
   "outputs": [
    {
     "name": "stdout",
     "output_type": "stream",
     "text": [
      "р-значение: 0.18150864159228705\n",
      "Не получилось отвергнуть нулевую гипотезу\n"
     ]
    }
   ],
   "source": [
    "# сравниваем Москву и не-Москву с тарифом Смарт:\n",
    "# задаем критический уровень статистической значимости:\n",
    "alpha = 0.05\n",
    "\n",
    "# проверяем гипотезу о равенстве двух генеральных совокупностей по взятым из них выборкам:\n",
    "result = st.ttest_ind(moscow_smart_revenue, not_moscow_smart_revenue)\n",
    "\n",
    "print('р-значение:', result.pvalue)\n",
    "\n",
    "if result.pvalue < alpha:\n",
    "    print('Отвергаем нулевую гипотезу.')\n",
    "else:\n",
    "    print(\"Не получилось отвергнуть нулевую гипотезу\")\n"
   ]
  },
  {
   "cell_type": "code",
   "execution_count": 54,
   "metadata": {},
   "outputs": [
    {
     "name": "stdout",
     "output_type": "stream",
     "text": [
      "р-значение: 0.8614477943640767\n",
      "Не получилось отвергнуть нулевую гипотезу\n"
     ]
    }
   ],
   "source": [
    "# сравниваем Москву и не-Москву с тарифом Ультра:\n",
    "# задаем критический уровень статистической значимости:\n",
    "alpha = 0.05\n",
    "\n",
    "# проверяем гипотезу о равенстве двух генеральных совокупностей по взятым из них выборкам:\n",
    "result = st.ttest_ind(moscow_ultra_revenue, not_moscow_ultra_revenue)\n",
    "\n",
    "print('р-значение:', result.pvalue)\n",
    "\n",
    "if result.pvalue < alpha:\n",
    "    print('Отвергаем нулевую гипотезу.')\n",
    "else:\n",
    "    print(\"Не получилось отвергнуть нулевую гипотезу\")\n"
   ]
  },
  {
   "cell_type": "code",
   "execution_count": 55,
   "metadata": {},
   "outputs": [
    {
     "name": "stdout",
     "output_type": "stream",
     "text": [
      "Средняя выручка по Москва смарт : 1239.3575129533679\n",
      "Средняя выручка не Москва смарт: 1300.5746066196418\n",
      "Средняя выручка по Москва ультра : 2074.0\n",
      "Средняя выручка не Москва ультра: 2069.0131578947367\n"
     ]
    }
   ],
   "source": [
    "# расчитаем среднюю выручку для каждого из тарифов:\n",
    "print(\"Средняя выручка по Москва смарт :\", moscow_smart_revenue.mean())\n",
    "print(\"Средняя выручка не Москва смарт:\", not_moscow_smart_revenue.mean())\n",
    "print(\"Средняя выручка по Москва ультра :\", moscow_ultra_revenue.mean())\n",
    "print(\"Средняя выручка не Москва ультра:\", not_moscow_ultra_revenue.mean())"
   ]
  },
  {
   "cell_type": "markdown",
   "metadata": {},
   "source": [
    "Не удалось опровергнуть гипотезу о том, что средняя выручка по абонентам из Москвы и не из Москвы равна. Поскольку вывот оказался контринтуитивным (для меня), проверили данную гипотезу по отдельности для абонентов, пользующихся разными тарифами. Опровергнуть нулевую гипотезу не удалось ни в одном случае."
   ]
  },
  {
   "cell_type": "markdown",
   "metadata": {},
   "source": [
    "## Общий вывод"
   ]
  },
  {
   "cell_type": "markdown",
   "metadata": {},
   "source": [
    "**1. Звонки и трафик:**<br>\n",
    "Распределение по количеству минут у абонентов Смарт имеет четко выраженный максимум в районе 450-520 минут (при лимите 500 минут); пик трафика приходится на диапазон 14-20 Гб (при лимите 15). Абоненты часто выходят за пределы лимита, установленного тарифным планом. <br>\n",
    "<br>\n",
    "Распределение по количеству минут разговора и по используемому трафику у абонентов Ультра гораздо более плоское, чем у абонентов Смарт, нет явно выраженных пиков. Лимит по разговорам не превышается вообще, по трафику - редко. <br>"
   ]
  },
  {
   "cell_type": "markdown",
   "metadata": {},
   "source": [
    "**2. Сообщения:** <br>\n",
    "Распределение по количеству отправляемых сообщений у абонентов Смарт и Ультра мало отличается друг от друга: самые высокие значения в обоих случаях - с почти нулевым количество отправленных сообщений. Однако абоненты Смарт часто превышают установленный тарифом лимит, а абоненты Ультра свой лимит не выбирают. "
   ]
  },
  {
   "cell_type": "markdown",
   "metadata": {},
   "source": [
    "**3. Выручка:** <br>\n",
    "Распределение по выручке на нашей выборке выглядит совершенно по-разному для абонентов Смарт и Ультра: абоненты Смарт в среднем платят в два раза больше, чем установленная абонентская плата; абоненты Ультра в среднем также не укладываются в тарифный план, но выручка составляет примерно 106% от абонентской платы, то есть превышает её незначительно. "
   ]
  },
  {
   "cell_type": "markdown",
   "metadata": {},
   "source": [
    "**4. Гипотеза о разнице средних выручек между абонентами разных тарифов** в генеральной совокупности: <br>\n",
    "Для проверки гипотезы проведен т-тест проверки равенства средних двух генеральных совокупностей. Нулевая гипотеза (о равенстве средних) опровергнута: вероятность того, что средние выручки генеральных совокупностей равны, близка к 0. С большой степенью вероятности мы можем утверждать, что средняя выручка от пользователей тарифов Смарт и Ультра различается. "
   ]
  },
  {
   "cell_type": "markdown",
   "metadata": {},
   "source": [
    "**5. Гипотеза о разнице средних выручек между абонентам из Москвы и из других регионов:** <br> \n",
    "Проведена проверка для абонентов из Москвы и из других регионов вместе и отдельно по каждому из тарифов. Ни в одном случае нулевую гипотезу (о равенстве средних) опровергнуть не удалось. "
   ]
  },
  {
   "cell_type": "markdown",
   "metadata": {},
   "source": [
    "**6.Какой из тарифов перспективнее для оператора?** <br>\n",
    "Все данные, полученные в ходе этой работы свидетельствуют о том, что выручка, получаемая в среднем от каждого абонента Ультра существенно превышает выручку от абонента Смарт (2070 руб. против 1290 руб.). Однако остается открытым вопрос о том, насколько перспективно развитие данного тарифа: не смотря на то, что абоненты Смарт в среднем существенно превышают тарифный лимит и оплачивают дополнительно услуги сверх лимита, этот тариф всё ещё обходится абонентам существенно дешевле, чем Ультра. Вопрос о покупательской способности, готовности и потенциале тарифа Ультра, к сожалению, лежит за рамками данной работы и у нас нет никаких данных для обоснованных выводов на этот счет. Однако для оператора он однозначно выгоднее. \n"
   ]
  }
 ],
 "metadata": {
  "ExecuteTimeLog": [
   {
    "duration": 1408,
    "start_time": "2021-07-02T15:11:58.812Z"
   },
   {
    "duration": 2245,
    "start_time": "2021-07-02T15:15:52.585Z"
   },
   {
    "duration": 547,
    "start_time": "2021-07-02T15:16:32.610Z"
   },
   {
    "duration": 34,
    "start_time": "2021-07-02T15:19:49.336Z"
   },
   {
    "duration": 39,
    "start_time": "2021-07-02T15:20:32.929Z"
   },
   {
    "duration": 35,
    "start_time": "2021-07-02T15:28:44.662Z"
   },
   {
    "duration": 37,
    "start_time": "2021-07-02T15:30:04.813Z"
   },
   {
    "duration": 36,
    "start_time": "2021-07-02T15:32:41.113Z"
   },
   {
    "duration": 31,
    "start_time": "2021-07-02T15:34:21.447Z"
   },
   {
    "duration": 27,
    "start_time": "2021-07-02T15:35:12.828Z"
   },
   {
    "duration": 27,
    "start_time": "2021-07-02T15:37:01.372Z"
   },
   {
    "duration": 18,
    "start_time": "2021-07-02T15:38:42.275Z"
   },
   {
    "duration": 19,
    "start_time": "2021-07-02T15:39:54.972Z"
   },
   {
    "duration": 42,
    "start_time": "2021-07-02T15:41:11.098Z"
   },
   {
    "duration": 23,
    "start_time": "2021-07-02T15:47:42.379Z"
   },
   {
    "duration": 37,
    "start_time": "2021-07-02T16:57:31.562Z"
   },
   {
    "duration": 361,
    "start_time": "2021-07-02T16:58:03.365Z"
   },
   {
    "duration": 330,
    "start_time": "2021-07-02T16:58:51.385Z"
   },
   {
    "duration": 43,
    "start_time": "2021-07-02T16:59:05.163Z"
   },
   {
    "duration": 300,
    "start_time": "2021-07-02T16:59:33.065Z"
   },
   {
    "duration": 48,
    "start_time": "2021-07-02T16:59:47.987Z"
   },
   {
    "duration": 55,
    "start_time": "2021-07-02T17:00:30.608Z"
   },
   {
    "duration": 28,
    "start_time": "2021-07-02T17:00:53.069Z"
   },
   {
    "duration": 33,
    "start_time": "2021-07-02T18:26:13.013Z"
   },
   {
    "duration": 32,
    "start_time": "2021-07-02T18:28:40.153Z"
   },
   {
    "duration": 31,
    "start_time": "2021-07-02T18:28:52.843Z"
   },
   {
    "duration": 334,
    "start_time": "2021-07-02T18:29:27.184Z"
   },
   {
    "duration": 349,
    "start_time": "2021-07-02T18:30:25.068Z"
   },
   {
    "duration": 100,
    "start_time": "2021-07-02T18:34:04.157Z"
   },
   {
    "duration": 97,
    "start_time": "2021-07-02T18:34:17.441Z"
   },
   {
    "duration": 550,
    "start_time": "2021-07-02T18:34:52.670Z"
   },
   {
    "duration": 40,
    "start_time": "2021-07-02T18:36:45.040Z"
   },
   {
    "duration": 42,
    "start_time": "2021-07-02T18:37:03.355Z"
   },
   {
    "duration": 42,
    "start_time": "2021-07-02T18:40:37.029Z"
   },
   {
    "duration": 41,
    "start_time": "2021-07-02T18:45:18.321Z"
   },
   {
    "duration": 41,
    "start_time": "2021-07-02T18:48:19.569Z"
   },
   {
    "duration": 66,
    "start_time": "2021-07-02T18:48:38.229Z"
   },
   {
    "duration": 70,
    "start_time": "2021-07-02T18:54:30.558Z"
   },
   {
    "duration": 7,
    "start_time": "2021-07-02T19:01:30.137Z"
   },
   {
    "duration": 88,
    "start_time": "2021-07-02T19:08:00.710Z"
   },
   {
    "duration": 37,
    "start_time": "2021-07-02T19:08:08.722Z"
   },
   {
    "duration": 43,
    "start_time": "2021-07-02T19:08:25.491Z"
   },
   {
    "duration": 70,
    "start_time": "2021-07-02T19:10:10.975Z"
   },
   {
    "duration": 46,
    "start_time": "2021-07-02T19:10:56.495Z"
   },
   {
    "duration": 103,
    "start_time": "2021-07-02T19:12:46.233Z"
   },
   {
    "duration": 308,
    "start_time": "2021-07-02T19:13:07.241Z"
   },
   {
    "duration": 109,
    "start_time": "2021-07-02T19:14:04.412Z"
   },
   {
    "duration": 3782,
    "start_time": "2021-07-02T19:14:27.648Z"
   },
   {
    "duration": 1159,
    "start_time": "2021-07-02T19:15:05.948Z"
   },
   {
    "duration": 303,
    "start_time": "2021-07-02T19:17:24.918Z"
   },
   {
    "duration": 9,
    "start_time": "2021-07-02T19:17:30.972Z"
   },
   {
    "duration": 14,
    "start_time": "2021-07-02T19:17:52.962Z"
   },
   {
    "duration": 102,
    "start_time": "2021-07-02T19:23:09.330Z"
   },
   {
    "duration": 53,
    "start_time": "2021-07-02T19:23:43.958Z"
   },
   {
    "duration": 36,
    "start_time": "2021-07-02T19:24:58.781Z"
   },
   {
    "duration": 45,
    "start_time": "2021-07-02T19:25:32.024Z"
   },
   {
    "duration": 27,
    "start_time": "2021-07-02T19:27:16.551Z"
   },
   {
    "duration": 30,
    "start_time": "2021-07-02T19:27:45.764Z"
   },
   {
    "duration": 32,
    "start_time": "2021-07-02T19:28:41.327Z"
   },
   {
    "duration": 35,
    "start_time": "2021-07-02T19:28:59.656Z"
   },
   {
    "duration": 1542,
    "start_time": "2021-07-02T19:30:21.142Z"
   },
   {
    "duration": 622,
    "start_time": "2021-07-02T19:30:22.687Z"
   },
   {
    "duration": 54,
    "start_time": "2021-07-02T19:30:23.312Z"
   },
   {
    "duration": 57,
    "start_time": "2021-07-02T19:30:23.369Z"
   },
   {
    "duration": 41,
    "start_time": "2021-07-02T19:30:23.430Z"
   },
   {
    "duration": 48,
    "start_time": "2021-07-02T19:30:23.474Z"
   },
   {
    "duration": 27,
    "start_time": "2021-07-02T19:30:23.525Z"
   },
   {
    "duration": 88,
    "start_time": "2021-07-02T19:30:23.555Z"
   },
   {
    "duration": 89,
    "start_time": "2021-07-02T19:30:23.645Z"
   },
   {
    "duration": 7,
    "start_time": "2021-07-02T19:30:23.737Z"
   },
   {
    "duration": 63,
    "start_time": "2021-07-02T19:30:23.747Z"
   },
   {
    "duration": 55,
    "start_time": "2021-07-02T19:30:23.813Z"
   },
   {
    "duration": 63,
    "start_time": "2021-07-02T19:30:23.871Z"
   },
   {
    "duration": 17,
    "start_time": "2021-07-02T19:30:23.937Z"
   },
   {
    "duration": 74,
    "start_time": "2021-07-02T19:30:57.093Z"
   },
   {
    "duration": 73,
    "start_time": "2021-07-02T19:31:34.066Z"
   },
   {
    "duration": 56,
    "start_time": "2021-07-02T19:32:37.594Z"
   },
   {
    "duration": 68,
    "start_time": "2021-07-02T19:36:24.061Z"
   },
   {
    "duration": 1537,
    "start_time": "2021-07-02T19:36:42.618Z"
   },
   {
    "duration": 585,
    "start_time": "2021-07-02T19:36:44.158Z"
   },
   {
    "duration": 40,
    "start_time": "2021-07-02T19:36:44.747Z"
   },
   {
    "duration": 45,
    "start_time": "2021-07-02T19:36:44.790Z"
   },
   {
    "duration": 27,
    "start_time": "2021-07-02T19:36:44.837Z"
   },
   {
    "duration": 65,
    "start_time": "2021-07-02T19:36:44.867Z"
   },
   {
    "duration": 23,
    "start_time": "2021-07-02T19:36:44.935Z"
   },
   {
    "duration": 91,
    "start_time": "2021-07-02T19:36:44.962Z"
   },
   {
    "duration": 73,
    "start_time": "2021-07-02T19:36:45.056Z"
   },
   {
    "duration": 8,
    "start_time": "2021-07-02T19:36:45.133Z"
   },
   {
    "duration": 119,
    "start_time": "2021-07-02T19:36:45.144Z"
   },
   {
    "duration": 62,
    "start_time": "2021-07-02T19:36:45.265Z"
   },
   {
    "duration": 51,
    "start_time": "2021-07-02T19:36:45.329Z"
   },
   {
    "duration": 27,
    "start_time": "2021-07-02T19:36:45.400Z"
   },
   {
    "duration": 52,
    "start_time": "2021-07-02T19:37:56.237Z"
   },
   {
    "duration": 7335,
    "start_time": "2021-07-02T19:38:32.410Z"
   },
   {
    "duration": 42,
    "start_time": "2021-07-02T19:39:04.315Z"
   },
   {
    "duration": 24,
    "start_time": "2021-07-02T19:40:59.455Z"
   },
   {
    "duration": 74,
    "start_time": "2021-07-02T20:01:01.941Z"
   },
   {
    "duration": 364,
    "start_time": "2021-07-02T20:09:00.474Z"
   },
   {
    "duration": 65,
    "start_time": "2021-07-02T20:09:20.123Z"
   },
   {
    "duration": 77,
    "start_time": "2021-07-02T20:11:11.556Z"
   },
   {
    "duration": 58,
    "start_time": "2021-07-02T20:15:58.394Z"
   },
   {
    "duration": 48,
    "start_time": "2021-07-02T20:19:44.079Z"
   },
   {
    "duration": 304,
    "start_time": "2021-07-02T20:27:28.365Z"
   },
   {
    "duration": 29,
    "start_time": "2021-07-02T20:27:45.515Z"
   },
   {
    "duration": 296,
    "start_time": "2021-07-02T20:29:02.973Z"
   },
   {
    "duration": 296,
    "start_time": "2021-07-02T20:29:18.991Z"
   },
   {
    "duration": 75,
    "start_time": "2021-07-02T20:31:14.908Z"
   },
   {
    "duration": 58,
    "start_time": "2021-07-02T20:31:30.762Z"
   },
   {
    "duration": 50,
    "start_time": "2021-07-02T20:31:40.694Z"
   },
   {
    "duration": 39,
    "start_time": "2021-07-02T20:32:48.871Z"
   },
   {
    "duration": 310,
    "start_time": "2021-07-02T20:33:13.098Z"
   },
   {
    "duration": 320,
    "start_time": "2021-07-02T20:35:54.958Z"
   },
   {
    "duration": 1624,
    "start_time": "2021-07-02T20:36:30.561Z"
   },
   {
    "duration": 755,
    "start_time": "2021-07-02T20:36:32.188Z"
   },
   {
    "duration": 40,
    "start_time": "2021-07-02T20:36:32.946Z"
   },
   {
    "duration": 49,
    "start_time": "2021-07-02T20:36:32.989Z"
   },
   {
    "duration": 28,
    "start_time": "2021-07-02T20:36:33.042Z"
   },
   {
    "duration": 45,
    "start_time": "2021-07-02T20:36:33.072Z"
   },
   {
    "duration": 28,
    "start_time": "2021-07-02T20:36:33.121Z"
   },
   {
    "duration": 90,
    "start_time": "2021-07-02T20:36:33.154Z"
   },
   {
    "duration": 80,
    "start_time": "2021-07-02T20:36:33.246Z"
   },
   {
    "duration": 6,
    "start_time": "2021-07-02T20:36:33.329Z"
   },
   {
    "duration": 114,
    "start_time": "2021-07-02T20:36:33.338Z"
   },
   {
    "duration": 86,
    "start_time": "2021-07-02T20:36:33.454Z"
   },
   {
    "duration": 77,
    "start_time": "2021-07-02T20:36:33.542Z"
   },
   {
    "duration": 22,
    "start_time": "2021-07-02T20:36:33.624Z"
   },
   {
    "duration": 103,
    "start_time": "2021-07-02T20:36:33.649Z"
   },
   {
    "duration": 59,
    "start_time": "2021-07-02T20:36:33.754Z"
   },
   {
    "duration": 43,
    "start_time": "2021-07-02T20:36:33.815Z"
   },
   {
    "duration": 432,
    "start_time": "2021-07-02T20:36:33.861Z"
   },
   {
    "duration": 71,
    "start_time": "2021-07-02T20:41:44.504Z"
   },
   {
    "duration": 307,
    "start_time": "2021-07-02T20:44:50.414Z"
   },
   {
    "duration": 297,
    "start_time": "2021-07-02T20:45:23.332Z"
   },
   {
    "duration": 376,
    "start_time": "2021-07-02T20:47:17.574Z"
   },
   {
    "duration": 1483,
    "start_time": "2021-07-02T20:47:39.175Z"
   },
   {
    "duration": 555,
    "start_time": "2021-07-02T20:47:40.661Z"
   },
   {
    "duration": 44,
    "start_time": "2021-07-02T20:47:41.220Z"
   },
   {
    "duration": 53,
    "start_time": "2021-07-02T20:47:41.267Z"
   },
   {
    "duration": 26,
    "start_time": "2021-07-02T20:47:41.323Z"
   },
   {
    "duration": 50,
    "start_time": "2021-07-02T20:47:41.351Z"
   },
   {
    "duration": 29,
    "start_time": "2021-07-02T20:47:41.406Z"
   },
   {
    "duration": 107,
    "start_time": "2021-07-02T20:47:41.441Z"
   },
   {
    "duration": 90,
    "start_time": "2021-07-02T20:47:41.553Z"
   },
   {
    "duration": 6,
    "start_time": "2021-07-02T20:47:41.646Z"
   },
   {
    "duration": 126,
    "start_time": "2021-07-02T20:47:41.655Z"
   },
   {
    "duration": 89,
    "start_time": "2021-07-02T20:47:41.784Z"
   },
   {
    "duration": 75,
    "start_time": "2021-07-02T20:47:41.876Z"
   },
   {
    "duration": 21,
    "start_time": "2021-07-02T20:47:41.954Z"
   },
   {
    "duration": 455,
    "start_time": "2021-07-02T20:47:42.002Z"
   },
   {
    "duration": -42890,
    "start_time": "2021-07-02T20:48:25.350Z"
   },
   {
    "duration": -42912,
    "start_time": "2021-07-02T20:48:25.373Z"
   },
   {
    "duration": -42913,
    "start_time": "2021-07-02T20:48:25.375Z"
   },
   {
    "duration": 76,
    "start_time": "2021-07-02T20:48:03.578Z"
   },
   {
    "duration": 40,
    "start_time": "2021-07-02T20:48:30.648Z"
   },
   {
    "duration": 1496,
    "start_time": "2021-07-02T20:48:36.708Z"
   },
   {
    "duration": 571,
    "start_time": "2021-07-02T20:48:38.207Z"
   },
   {
    "duration": 52,
    "start_time": "2021-07-02T20:48:38.781Z"
   },
   {
    "duration": 38,
    "start_time": "2021-07-02T20:48:38.836Z"
   },
   {
    "duration": 54,
    "start_time": "2021-07-02T20:48:38.876Z"
   },
   {
    "duration": 17,
    "start_time": "2021-07-02T20:48:38.933Z"
   },
   {
    "duration": 63,
    "start_time": "2021-07-02T20:48:38.953Z"
   },
   {
    "duration": 45,
    "start_time": "2021-07-02T20:48:39.021Z"
   },
   {
    "duration": 96,
    "start_time": "2021-07-02T20:48:39.069Z"
   },
   {
    "duration": 6,
    "start_time": "2021-07-02T20:48:39.167Z"
   },
   {
    "duration": 125,
    "start_time": "2021-07-02T20:48:39.176Z"
   },
   {
    "duration": 76,
    "start_time": "2021-07-02T20:48:39.304Z"
   },
   {
    "duration": 63,
    "start_time": "2021-07-02T20:48:39.402Z"
   },
   {
    "duration": 43,
    "start_time": "2021-07-02T20:48:39.468Z"
   },
   {
    "duration": 86,
    "start_time": "2021-07-02T20:48:39.514Z"
   },
   {
    "duration": 43,
    "start_time": "2021-07-02T20:48:39.605Z"
   },
   {
    "duration": 75,
    "start_time": "2021-07-02T20:48:39.651Z"
   },
   {
    "duration": 438,
    "start_time": "2021-07-02T20:48:39.729Z"
   },
   {
    "duration": 81,
    "start_time": "2021-07-02T20:54:22.972Z"
   },
   {
    "duration": 389,
    "start_time": "2021-07-02T20:57:46.168Z"
   },
   {
    "duration": 65,
    "start_time": "2021-07-02T20:57:53.161Z"
   },
   {
    "duration": 294,
    "start_time": "2021-07-02T21:01:02.967Z"
   },
   {
    "duration": 303,
    "start_time": "2021-07-02T21:01:22.437Z"
   },
   {
    "duration": 74,
    "start_time": "2021-07-02T21:03:37.359Z"
   },
   {
    "duration": 57,
    "start_time": "2021-07-02T21:03:47.217Z"
   },
   {
    "duration": 66,
    "start_time": "2021-07-02T21:04:03.877Z"
   },
   {
    "duration": 37,
    "start_time": "2021-07-02T21:04:11.029Z"
   },
   {
    "duration": 25,
    "start_time": "2021-07-02T21:04:51.447Z"
   },
   {
    "duration": 1506,
    "start_time": "2021-07-02T21:09:43.879Z"
   },
   {
    "duration": 557,
    "start_time": "2021-07-02T21:09:45.388Z"
   },
   {
    "duration": 39,
    "start_time": "2021-07-02T21:09:45.948Z"
   },
   {
    "duration": 43,
    "start_time": "2021-07-02T21:09:45.990Z"
   },
   {
    "duration": 29,
    "start_time": "2021-07-02T21:09:46.035Z"
   },
   {
    "duration": 47,
    "start_time": "2021-07-02T21:09:46.066Z"
   },
   {
    "duration": 22,
    "start_time": "2021-07-02T21:09:46.116Z"
   },
   {
    "duration": 75,
    "start_time": "2021-07-02T21:09:46.140Z"
   },
   {
    "duration": 83,
    "start_time": "2021-07-02T21:09:46.219Z"
   },
   {
    "duration": 8,
    "start_time": "2021-07-02T21:09:46.310Z"
   },
   {
    "duration": 113,
    "start_time": "2021-07-02T21:09:46.320Z"
   },
   {
    "duration": 91,
    "start_time": "2021-07-02T21:09:46.436Z"
   },
   {
    "duration": 57,
    "start_time": "2021-07-02T21:09:46.529Z"
   },
   {
    "duration": 22,
    "start_time": "2021-07-02T21:09:46.601Z"
   },
   {
    "duration": 98,
    "start_time": "2021-07-02T21:09:46.626Z"
   },
   {
    "duration": 41,
    "start_time": "2021-07-02T21:09:46.726Z"
   },
   {
    "duration": 67,
    "start_time": "2021-07-02T21:09:46.770Z"
   },
   {
    "duration": 27,
    "start_time": "2021-07-02T21:09:46.839Z"
   },
   {
    "duration": 275,
    "start_time": "2021-07-03T04:43:43.227Z"
   },
   {
    "duration": 1056,
    "start_time": "2021-07-03T04:43:58.343Z"
   },
   {
    "duration": 366,
    "start_time": "2021-07-03T04:43:59.401Z"
   },
   {
    "duration": 27,
    "start_time": "2021-07-03T04:43:59.769Z"
   },
   {
    "duration": 19,
    "start_time": "2021-07-03T04:43:59.798Z"
   },
   {
    "duration": 18,
    "start_time": "2021-07-03T04:43:59.831Z"
   },
   {
    "duration": 10,
    "start_time": "2021-07-03T04:43:59.851Z"
   },
   {
    "duration": 32,
    "start_time": "2021-07-03T04:43:59.864Z"
   },
   {
    "duration": 31,
    "start_time": "2021-07-03T04:43:59.898Z"
   },
   {
    "duration": 69,
    "start_time": "2021-07-03T04:43:59.930Z"
   },
   {
    "duration": 6,
    "start_time": "2021-07-03T04:44:00.001Z"
   },
   {
    "duration": 65,
    "start_time": "2021-07-03T04:44:00.008Z"
   },
   {
    "duration": 47,
    "start_time": "2021-07-03T04:44:00.091Z"
   },
   {
    "duration": 51,
    "start_time": "2021-07-03T04:44:00.140Z"
   },
   {
    "duration": 11,
    "start_time": "2021-07-03T04:44:00.193Z"
   },
   {
    "duration": 56,
    "start_time": "2021-07-03T04:44:00.206Z"
   },
   {
    "duration": 351,
    "start_time": "2021-07-03T04:44:00.263Z"
   },
   {
    "duration": -43443,
    "start_time": "2021-07-03T04:44:44.058Z"
   },
   {
    "duration": -43448,
    "start_time": "2021-07-03T04:44:44.064Z"
   },
   {
    "duration": 5641,
    "start_time": "2021-07-03T04:44:40.289Z"
   },
   {
    "duration": 29,
    "start_time": "2021-07-03T04:45:23.023Z"
   },
   {
    "duration": 566,
    "start_time": "2021-07-03T04:46:39.466Z"
   },
   {
    "duration": 31,
    "start_time": "2021-07-03T04:46:51.353Z"
   },
   {
    "duration": 30,
    "start_time": "2021-07-03T04:49:05.595Z"
   },
   {
    "duration": 29,
    "start_time": "2021-07-03T04:51:45.772Z"
   },
   {
    "duration": 29,
    "start_time": "2021-07-03T04:53:25.213Z"
   },
   {
    "duration": 49,
    "start_time": "2021-07-03T04:57:07.284Z"
   },
   {
    "duration": 50,
    "start_time": "2021-07-03T04:59:33.166Z"
   },
   {
    "duration": 30,
    "start_time": "2021-07-03T05:00:12.982Z"
   },
   {
    "duration": 27,
    "start_time": "2021-07-03T05:01:07.490Z"
   },
   {
    "duration": 15,
    "start_time": "2021-07-03T05:01:12.746Z"
   },
   {
    "duration": 255,
    "start_time": "2021-07-03T05:02:40.210Z"
   },
   {
    "duration": 27,
    "start_time": "2021-07-03T05:03:53.725Z"
   },
   {
    "duration": 30,
    "start_time": "2021-07-03T05:04:37.700Z"
   },
   {
    "duration": 21,
    "start_time": "2021-07-03T05:05:44.798Z"
   },
   {
    "duration": 25,
    "start_time": "2021-07-03T05:11:37.819Z"
   },
   {
    "duration": 28,
    "start_time": "2021-07-03T05:43:20.972Z"
   },
   {
    "duration": 27,
    "start_time": "2021-07-03T05:44:15.645Z"
   },
   {
    "duration": 112,
    "start_time": "2021-07-03T07:51:06.926Z"
   },
   {
    "duration": 4,
    "start_time": "2021-07-03T07:51:19.058Z"
   },
   {
    "duration": 4,
    "start_time": "2021-07-03T07:51:27.673Z"
   },
   {
    "duration": 531,
    "start_time": "2021-07-03T07:56:54.960Z"
   },
   {
    "duration": 1730,
    "start_time": "2021-07-03T07:57:29.999Z"
   },
   {
    "duration": 665,
    "start_time": "2021-07-03T07:57:31.737Z"
   },
   {
    "duration": 47,
    "start_time": "2021-07-03T07:57:32.405Z"
   },
   {
    "duration": 38,
    "start_time": "2021-07-03T07:57:32.455Z"
   },
   {
    "duration": 28,
    "start_time": "2021-07-03T07:57:32.497Z"
   },
   {
    "duration": 49,
    "start_time": "2021-07-03T07:57:32.528Z"
   },
   {
    "duration": 32,
    "start_time": "2021-07-03T07:57:32.581Z"
   },
   {
    "duration": 93,
    "start_time": "2021-07-03T07:57:32.619Z"
   },
   {
    "duration": 111,
    "start_time": "2021-07-03T07:57:32.716Z"
   },
   {
    "duration": 22,
    "start_time": "2021-07-03T07:57:32.830Z"
   },
   {
    "duration": 106,
    "start_time": "2021-07-03T07:57:32.856Z"
   },
   {
    "duration": 75,
    "start_time": "2021-07-03T07:57:32.966Z"
   },
   {
    "duration": 59,
    "start_time": "2021-07-03T07:57:33.062Z"
   },
   {
    "duration": 44,
    "start_time": "2021-07-03T07:57:33.125Z"
   },
   {
    "duration": 90,
    "start_time": "2021-07-03T07:57:33.172Z"
   },
   {
    "duration": 51,
    "start_time": "2021-07-03T07:57:33.265Z"
   },
   {
    "duration": 63,
    "start_time": "2021-07-03T07:57:33.318Z"
   },
   {
    "duration": 51,
    "start_time": "2021-07-03T07:57:33.384Z"
   },
   {
    "duration": 1811,
    "start_time": "2021-07-03T07:57:33.463Z"
   },
   {
    "duration": -44107,
    "start_time": "2021-07-03T07:58:19.384Z"
   },
   {
    "duration": 414,
    "start_time": "2021-07-03T08:04:57.612Z"
   },
   {
    "duration": 48,
    "start_time": "2021-07-03T08:06:03.271Z"
   },
   {
    "duration": 4,
    "start_time": "2021-07-03T08:17:17.090Z"
   },
   {
    "duration": 1612,
    "start_time": "2021-07-03T08:19:37.616Z"
   },
   {
    "duration": 127,
    "start_time": "2021-07-03T08:52:52.287Z"
   },
   {
    "duration": 18,
    "start_time": "2021-07-03T08:53:03.215Z"
   },
   {
    "duration": 658,
    "start_time": "2021-07-03T08:56:11.799Z"
   },
   {
    "duration": 96,
    "start_time": "2021-07-03T08:57:16.747Z"
   },
   {
    "duration": 60,
    "start_time": "2021-07-03T08:57:44.224Z"
   },
   {
    "duration": 61,
    "start_time": "2021-07-03T08:58:00.249Z"
   },
   {
    "duration": 62,
    "start_time": "2021-07-03T08:58:11.377Z"
   },
   {
    "duration": 25,
    "start_time": "2021-07-03T08:58:19.697Z"
   },
   {
    "duration": 8747,
    "start_time": "2021-07-03T08:58:46.264Z"
   },
   {
    "duration": 9,
    "start_time": "2021-07-03T08:59:01.926Z"
   },
   {
    "duration": 5,
    "start_time": "2021-07-03T09:00:25.682Z"
   },
   {
    "duration": 44,
    "start_time": "2021-07-03T09:05:08.283Z"
   },
   {
    "duration": 5,
    "start_time": "2021-07-03T09:05:18.301Z"
   },
   {
    "duration": 10,
    "start_time": "2021-07-03T09:06:06.199Z"
   },
   {
    "duration": 18,
    "start_time": "2021-07-03T09:07:32.987Z"
   },
   {
    "duration": 8,
    "start_time": "2021-07-03T09:17:59.977Z"
   },
   {
    "duration": 10,
    "start_time": "2021-07-03T09:18:49.415Z"
   },
   {
    "duration": 19,
    "start_time": "2021-07-03T09:19:15.955Z"
   },
   {
    "duration": 11,
    "start_time": "2021-07-03T09:19:42.729Z"
   },
   {
    "duration": 19,
    "start_time": "2021-07-03T09:19:54.348Z"
   },
   {
    "duration": 23,
    "start_time": "2021-07-03T09:23:30.955Z"
   },
   {
    "duration": 41,
    "start_time": "2021-07-03T09:24:42.617Z"
   },
   {
    "duration": 355,
    "start_time": "2021-07-03T09:36:52.339Z"
   },
   {
    "duration": 2032,
    "start_time": "2021-07-03T09:37:59.558Z"
   },
   {
    "duration": 658,
    "start_time": "2021-07-03T09:38:01.592Z"
   },
   {
    "duration": 41,
    "start_time": "2021-07-03T09:38:02.253Z"
   },
   {
    "duration": 18,
    "start_time": "2021-07-03T09:38:02.297Z"
   },
   {
    "duration": 59,
    "start_time": "2021-07-03T09:38:02.318Z"
   },
   {
    "duration": 27,
    "start_time": "2021-07-03T09:38:02.379Z"
   },
   {
    "duration": 17,
    "start_time": "2021-07-03T09:38:02.408Z"
   },
   {
    "duration": 48,
    "start_time": "2021-07-03T09:38:02.429Z"
   },
   {
    "duration": 45,
    "start_time": "2021-07-03T09:38:02.481Z"
   },
   {
    "duration": 101,
    "start_time": "2021-07-03T09:38:02.528Z"
   },
   {
    "duration": 6,
    "start_time": "2021-07-03T09:38:02.632Z"
   },
   {
    "duration": 107,
    "start_time": "2021-07-03T09:38:02.641Z"
   },
   {
    "duration": 69,
    "start_time": "2021-07-03T09:38:02.761Z"
   },
   {
    "duration": 71,
    "start_time": "2021-07-03T09:38:02.833Z"
   },
   {
    "duration": 18,
    "start_time": "2021-07-03T09:38:02.906Z"
   },
   {
    "duration": 95,
    "start_time": "2021-07-03T09:38:02.927Z"
   },
   {
    "duration": 55,
    "start_time": "2021-07-03T09:38:03.024Z"
   },
   {
    "duration": 41,
    "start_time": "2021-07-03T09:38:03.082Z"
   },
   {
    "duration": 63,
    "start_time": "2021-07-03T09:38:03.126Z"
   },
   {
    "duration": 17,
    "start_time": "2021-07-03T09:38:03.191Z"
   },
   {
    "duration": 542,
    "start_time": "2021-07-03T09:38:03.211Z"
   },
   {
    "duration": -44134,
    "start_time": "2021-07-03T09:38:47.889Z"
   },
   {
    "duration": -44138,
    "start_time": "2021-07-03T09:38:47.894Z"
   },
   {
    "duration": 39,
    "start_time": "2021-07-03T09:39:05.020Z"
   },
   {
    "duration": 69,
    "start_time": "2021-07-03T09:39:09.994Z"
   },
   {
    "duration": 396,
    "start_time": "2021-07-03T09:39:17.356Z"
   },
   {
    "duration": 2052,
    "start_time": "2021-07-03T09:39:36.029Z"
   },
   {
    "duration": 749,
    "start_time": "2021-07-03T09:39:38.085Z"
   },
   {
    "duration": 60,
    "start_time": "2021-07-03T09:39:38.839Z"
   },
   {
    "duration": 26,
    "start_time": "2021-07-03T09:39:38.903Z"
   },
   {
    "duration": 59,
    "start_time": "2021-07-03T09:39:38.932Z"
   },
   {
    "duration": 27,
    "start_time": "2021-07-03T09:39:38.993Z"
   },
   {
    "duration": 48,
    "start_time": "2021-07-03T09:39:39.022Z"
   },
   {
    "duration": 26,
    "start_time": "2021-07-03T09:39:39.074Z"
   },
   {
    "duration": 69,
    "start_time": "2021-07-03T09:39:39.102Z"
   },
   {
    "duration": 68,
    "start_time": "2021-07-03T09:39:39.173Z"
   },
   {
    "duration": 21,
    "start_time": "2021-07-03T09:39:39.243Z"
   },
   {
    "duration": 103,
    "start_time": "2021-07-03T09:39:39.266Z"
   },
   {
    "duration": 69,
    "start_time": "2021-07-03T09:39:39.371Z"
   },
   {
    "duration": 68,
    "start_time": "2021-07-03T09:39:39.442Z"
   },
   {
    "duration": 19,
    "start_time": "2021-07-03T09:39:39.512Z"
   },
   {
    "duration": 90,
    "start_time": "2021-07-03T09:39:39.534Z"
   },
   {
    "duration": 59,
    "start_time": "2021-07-03T09:39:39.627Z"
   },
   {
    "duration": 76,
    "start_time": "2021-07-03T09:39:39.688Z"
   },
   {
    "duration": 52,
    "start_time": "2021-07-03T09:39:39.767Z"
   },
   {
    "duration": 43,
    "start_time": "2021-07-03T09:39:39.821Z"
   },
   {
    "duration": 1665,
    "start_time": "2021-07-03T09:39:39.867Z"
   },
   {
    "duration": -43902,
    "start_time": "2021-07-03T09:40:25.437Z"
   },
   {
    "duration": -43903,
    "start_time": "2021-07-03T09:40:25.441Z"
   },
   {
    "duration": 22,
    "start_time": "2021-07-03T09:40:04.791Z"
   },
   {
    "duration": 20,
    "start_time": "2021-07-03T09:40:50.767Z"
   },
   {
    "duration": 359,
    "start_time": "2021-07-03T09:41:37.511Z"
   },
   {
    "duration": 21,
    "start_time": "2021-07-03T09:41:47.366Z"
   },
   {
    "duration": 23,
    "start_time": "2021-07-03T09:42:32.557Z"
   },
   {
    "duration": 24,
    "start_time": "2021-07-03T09:42:57.506Z"
   },
   {
    "duration": 16,
    "start_time": "2021-07-03T09:43:21.652Z"
   },
   {
    "duration": 18,
    "start_time": "2021-07-03T09:43:49.469Z"
   },
   {
    "duration": 46,
    "start_time": "2021-07-03T09:44:19.894Z"
   },
   {
    "duration": 6,
    "start_time": "2021-07-03T09:49:27.017Z"
   },
   {
    "duration": 364,
    "start_time": "2021-07-03T09:50:00.542Z"
   },
   {
    "duration": 377,
    "start_time": "2021-07-03T09:51:05.328Z"
   },
   {
    "duration": 369,
    "start_time": "2021-07-03T09:51:09.290Z"
   },
   {
    "duration": 373,
    "start_time": "2021-07-03T09:51:56.284Z"
   },
   {
    "duration": 2599,
    "start_time": "2021-07-03T09:53:54.054Z"
   },
   {
    "duration": 16,
    "start_time": "2021-07-03T09:54:48.989Z"
   },
   {
    "duration": 901,
    "start_time": "2021-07-03T09:56:44.991Z"
   },
   {
    "duration": 17,
    "start_time": "2021-07-03T09:56:55.699Z"
   },
   {
    "duration": 26,
    "start_time": "2021-07-03T09:57:24.976Z"
   },
   {
    "duration": 2335,
    "start_time": "2021-07-03T09:57:53.853Z"
   },
   {
    "duration": 1504,
    "start_time": "2021-07-03T11:34:12.772Z"
   },
   {
    "duration": 4584,
    "start_time": "2021-07-03T11:34:42.781Z"
   },
   {
    "duration": 4337,
    "start_time": "2021-07-03T11:35:14.860Z"
   },
   {
    "duration": 1567,
    "start_time": "2021-07-03T11:35:49.929Z"
   },
   {
    "duration": 4343,
    "start_time": "2021-07-03T11:37:18.845Z"
   },
   {
    "duration": 13,
    "start_time": "2021-07-03T11:39:14.104Z"
   },
   {
    "duration": 8394,
    "start_time": "2021-07-03T11:39:49.903Z"
   },
   {
    "duration": 6,
    "start_time": "2021-07-03T11:40:19.640Z"
   },
   {
    "duration": 103,
    "start_time": "2021-07-03T11:41:59.671Z"
   },
   {
    "duration": 336,
    "start_time": "2021-07-03T11:42:08.048Z"
   },
   {
    "duration": 6,
    "start_time": "2021-07-03T11:42:20.753Z"
   },
   {
    "duration": 363,
    "start_time": "2021-07-03T11:42:36.733Z"
   },
   {
    "duration": 8,
    "start_time": "2021-07-03T11:43:03.984Z"
   },
   {
    "duration": 7,
    "start_time": "2021-07-03T11:43:18.902Z"
   },
   {
    "duration": 9,
    "start_time": "2021-07-03T11:43:24.719Z"
   },
   {
    "duration": 10,
    "start_time": "2021-07-03T11:44:20.031Z"
   },
   {
    "duration": 7897,
    "start_time": "2021-07-03T11:46:14.771Z"
   },
   {
    "duration": 14,
    "start_time": "2021-07-03T11:46:52.899Z"
   },
   {
    "duration": 21,
    "start_time": "2021-07-03T11:47:28.805Z"
   },
   {
    "duration": 13,
    "start_time": "2021-07-03T11:47:37.593Z"
   },
   {
    "duration": 14,
    "start_time": "2021-07-03T11:48:14.556Z"
   },
   {
    "duration": 1842,
    "start_time": "2021-07-03T11:48:36.255Z"
   },
   {
    "duration": 21,
    "start_time": "2021-07-03T11:48:41.507Z"
   },
   {
    "duration": 16,
    "start_time": "2021-07-03T11:49:10.499Z"
   },
   {
    "duration": 210,
    "start_time": "2021-07-03T11:49:14.072Z"
   },
   {
    "duration": 124,
    "start_time": "2021-07-03T11:49:31.204Z"
   },
   {
    "duration": 628,
    "start_time": "2021-07-03T11:49:52.361Z"
   },
   {
    "duration": 13,
    "start_time": "2021-07-03T11:49:56.159Z"
   },
   {
    "duration": 23,
    "start_time": "2021-07-03T11:50:47.995Z"
   },
   {
    "duration": 22,
    "start_time": "2021-07-03T11:51:05.331Z"
   },
   {
    "duration": 601,
    "start_time": "2021-07-03T11:56:09.422Z"
   },
   {
    "duration": 1259,
    "start_time": "2021-07-03T12:02:36.429Z"
   },
   {
    "duration": 23,
    "start_time": "2021-07-03T12:02:41.722Z"
   },
   {
    "duration": 33,
    "start_time": "2021-07-03T12:03:36.693Z"
   },
   {
    "duration": 32,
    "start_time": "2021-07-03T12:03:50.612Z"
   },
   {
    "duration": 33,
    "start_time": "2021-07-03T12:04:19.972Z"
   },
   {
    "duration": 381,
    "start_time": "2021-07-03T12:05:04.040Z"
   },
   {
    "duration": 28,
    "start_time": "2021-07-03T12:05:31.377Z"
   },
   {
    "duration": 25,
    "start_time": "2021-07-03T12:05:38.777Z"
   },
   {
    "duration": 25,
    "start_time": "2021-07-03T12:05:54.167Z"
   },
   {
    "duration": 24,
    "start_time": "2021-07-03T12:06:21.768Z"
   },
   {
    "duration": 26,
    "start_time": "2021-07-03T12:06:32.523Z"
   },
   {
    "duration": 24,
    "start_time": "2021-07-03T12:06:47.536Z"
   },
   {
    "duration": 1469,
    "start_time": "2021-07-03T18:39:14.815Z"
   },
   {
    "duration": 539,
    "start_time": "2021-07-03T18:39:16.287Z"
   },
   {
    "duration": 41,
    "start_time": "2021-07-03T18:39:16.829Z"
   },
   {
    "duration": 18,
    "start_time": "2021-07-03T18:39:16.873Z"
   },
   {
    "duration": 32,
    "start_time": "2021-07-03T18:39:16.894Z"
   },
   {
    "duration": 52,
    "start_time": "2021-07-03T18:39:16.928Z"
   },
   {
    "duration": 19,
    "start_time": "2021-07-03T18:39:16.983Z"
   },
   {
    "duration": 56,
    "start_time": "2021-07-03T18:39:17.006Z"
   },
   {
    "duration": 42,
    "start_time": "2021-07-03T18:39:17.066Z"
   },
   {
    "duration": 94,
    "start_time": "2021-07-03T18:39:17.111Z"
   },
   {
    "duration": 6,
    "start_time": "2021-07-03T18:39:17.208Z"
   },
   {
    "duration": 107,
    "start_time": "2021-07-03T18:39:17.216Z"
   },
   {
    "duration": 81,
    "start_time": "2021-07-03T18:39:17.326Z"
   },
   {
    "duration": 67,
    "start_time": "2021-07-03T18:39:17.409Z"
   },
   {
    "duration": 19,
    "start_time": "2021-07-03T18:39:17.479Z"
   },
   {
    "duration": 92,
    "start_time": "2021-07-03T18:39:17.501Z"
   },
   {
    "duration": 42,
    "start_time": "2021-07-03T18:39:17.596Z"
   },
   {
    "duration": 61,
    "start_time": "2021-07-03T18:39:17.640Z"
   },
   {
    "duration": 65,
    "start_time": "2021-07-03T18:39:17.703Z"
   },
   {
    "duration": 23,
    "start_time": "2021-07-03T18:39:17.771Z"
   },
   {
    "duration": 67,
    "start_time": "2021-07-03T18:39:17.797Z"
   },
   {
    "duration": 48,
    "start_time": "2021-07-03T18:39:17.867Z"
   },
   {
    "duration": 30,
    "start_time": "2021-07-03T18:39:17.961Z"
   },
   {
    "duration": 17,
    "start_time": "2021-07-03T18:39:17.994Z"
   },
   {
    "duration": 1235,
    "start_time": "2021-07-03T18:39:18.014Z"
   },
   {
    "duration": 569,
    "start_time": "2021-07-03T18:39:19.252Z"
   },
   {
    "duration": -43911,
    "start_time": "2021-07-03T18:40:03.736Z"
   },
   {
    "duration": 112,
    "start_time": "2021-07-03T18:40:04.258Z"
   },
   {
    "duration": 365,
    "start_time": "2021-07-03T18:40:11.604Z"
   },
   {
    "duration": 36,
    "start_time": "2021-07-03T18:40:33.624Z"
   },
   {
    "duration": 25,
    "start_time": "2021-07-03T18:42:10.745Z"
   },
   {
    "duration": 1203,
    "start_time": "2021-07-03T18:45:43.789Z"
   },
   {
    "duration": 23,
    "start_time": "2021-07-03T18:45:51.783Z"
   },
   {
    "duration": 20,
    "start_time": "2021-07-03T19:02:32.000Z"
   },
   {
    "duration": 21,
    "start_time": "2021-07-03T19:02:43.869Z"
   },
   {
    "duration": 19,
    "start_time": "2021-07-03T19:03:04.212Z"
   },
   {
    "duration": 1514,
    "start_time": "2021-07-03T19:21:05.732Z"
   },
   {
    "duration": 513,
    "start_time": "2021-07-03T19:21:07.249Z"
   },
   {
    "duration": 42,
    "start_time": "2021-07-03T19:21:07.765Z"
   },
   {
    "duration": 19,
    "start_time": "2021-07-03T19:21:07.810Z"
   },
   {
    "duration": 61,
    "start_time": "2021-07-03T19:21:07.832Z"
   },
   {
    "duration": 30,
    "start_time": "2021-07-03T19:21:07.896Z"
   },
   {
    "duration": 17,
    "start_time": "2021-07-03T19:21:07.961Z"
   },
   {
    "duration": 23,
    "start_time": "2021-07-03T19:21:07.983Z"
   },
   {
    "duration": 79,
    "start_time": "2021-07-03T19:21:08.009Z"
   },
   {
    "duration": 78,
    "start_time": "2021-07-03T19:21:08.091Z"
   },
   {
    "duration": 6,
    "start_time": "2021-07-03T19:21:08.172Z"
   },
   {
    "duration": 113,
    "start_time": "2021-07-03T19:21:08.181Z"
   },
   {
    "duration": 89,
    "start_time": "2021-07-03T19:21:08.298Z"
   },
   {
    "duration": 75,
    "start_time": "2021-07-03T19:21:08.390Z"
   },
   {
    "duration": 21,
    "start_time": "2021-07-03T19:21:08.468Z"
   },
   {
    "duration": 117,
    "start_time": "2021-07-03T19:21:08.493Z"
   },
   {
    "duration": 72,
    "start_time": "2021-07-03T19:21:08.613Z"
   },
   {
    "duration": 57,
    "start_time": "2021-07-03T19:21:08.688Z"
   },
   {
    "duration": 64,
    "start_time": "2021-07-03T19:21:08.763Z"
   },
   {
    "duration": 48,
    "start_time": "2021-07-03T19:21:08.830Z"
   },
   {
    "duration": 37,
    "start_time": "2021-07-03T19:21:08.881Z"
   },
   {
    "duration": 69,
    "start_time": "2021-07-03T19:21:08.921Z"
   },
   {
    "duration": 27,
    "start_time": "2021-07-03T19:21:08.994Z"
   },
   {
    "duration": 8451,
    "start_time": "2021-07-03T19:21:09.024Z"
   },
   {
    "duration": -43718,
    "start_time": "2021-07-03T19:22:01.196Z"
   },
   {
    "duration": -43721,
    "start_time": "2021-07-03T19:22:01.200Z"
   },
   {
    "duration": 8092,
    "start_time": "2021-07-03T19:30:53.406Z"
   },
   {
    "duration": 44,
    "start_time": "2021-07-03T19:32:07.418Z"
   },
   {
    "duration": 1726,
    "start_time": "2021-07-03T19:32:19.441Z"
   },
   {
    "duration": 771,
    "start_time": "2021-07-03T19:32:21.171Z"
   },
   {
    "duration": 77,
    "start_time": "2021-07-03T19:32:21.947Z"
   },
   {
    "duration": 42,
    "start_time": "2021-07-03T19:32:22.029Z"
   },
   {
    "duration": 39,
    "start_time": "2021-07-03T19:32:22.075Z"
   },
   {
    "duration": 55,
    "start_time": "2021-07-03T19:32:22.117Z"
   },
   {
    "duration": 17,
    "start_time": "2021-07-03T19:32:22.174Z"
   },
   {
    "duration": 24,
    "start_time": "2021-07-03T19:32:22.195Z"
   },
   {
    "duration": 77,
    "start_time": "2021-07-03T19:32:22.222Z"
   },
   {
    "duration": 96,
    "start_time": "2021-07-03T19:32:22.301Z"
   },
   {
    "duration": 6,
    "start_time": "2021-07-03T19:32:22.400Z"
   },
   {
    "duration": 119,
    "start_time": "2021-07-03T19:32:22.409Z"
   },
   {
    "duration": 87,
    "start_time": "2021-07-03T19:32:22.531Z"
   },
   {
    "duration": 68,
    "start_time": "2021-07-03T19:32:22.621Z"
   },
   {
    "duration": 20,
    "start_time": "2021-07-03T19:32:22.691Z"
   },
   {
    "duration": 100,
    "start_time": "2021-07-03T19:32:22.714Z"
   },
   {
    "duration": 67,
    "start_time": "2021-07-03T19:32:22.816Z"
   },
   {
    "duration": 45,
    "start_time": "2021-07-03T19:32:22.885Z"
   },
   {
    "duration": 74,
    "start_time": "2021-07-03T19:32:22.933Z"
   },
   {
    "duration": 19,
    "start_time": "2021-07-03T19:32:23.010Z"
   },
   {
    "duration": 50,
    "start_time": "2021-07-03T19:32:23.032Z"
   },
   {
    "duration": 79,
    "start_time": "2021-07-03T19:32:23.084Z"
   },
   {
    "duration": 27,
    "start_time": "2021-07-03T19:32:23.168Z"
   },
   {
    "duration": 8230,
    "start_time": "2021-07-03T19:32:23.198Z"
   },
   {
    "duration": -43806,
    "start_time": "2021-07-03T19:33:15.236Z"
   },
   {
    "duration": -43808,
    "start_time": "2021-07-03T19:33:15.240Z"
   },
   {
    "duration": 5,
    "start_time": "2021-07-03T19:35:51.396Z"
   },
   {
    "duration": 1159,
    "start_time": "2021-07-03T19:35:59.823Z"
   },
   {
    "duration": 23,
    "start_time": "2021-07-03T19:36:09.015Z"
   },
   {
    "duration": 20,
    "start_time": "2021-07-03T19:36:13.882Z"
   },
   {
    "duration": 4,
    "start_time": "2021-07-03T19:37:54.577Z"
   },
   {
    "duration": 1512,
    "start_time": "2021-07-03T19:39:12.138Z"
   },
   {
    "duration": 531,
    "start_time": "2021-07-03T19:39:13.653Z"
   },
   {
    "duration": 42,
    "start_time": "2021-07-03T19:39:14.188Z"
   },
   {
    "duration": 19,
    "start_time": "2021-07-03T19:39:14.233Z"
   },
   {
    "duration": 34,
    "start_time": "2021-07-03T19:39:14.263Z"
   },
   {
    "duration": 27,
    "start_time": "2021-07-03T19:39:14.300Z"
   },
   {
    "duration": 47,
    "start_time": "2021-07-03T19:39:14.330Z"
   },
   {
    "duration": 22,
    "start_time": "2021-07-03T19:39:14.381Z"
   },
   {
    "duration": 77,
    "start_time": "2021-07-03T19:39:14.406Z"
   },
   {
    "duration": 79,
    "start_time": "2021-07-03T19:39:14.486Z"
   },
   {
    "duration": 6,
    "start_time": "2021-07-03T19:39:14.568Z"
   },
   {
    "duration": 111,
    "start_time": "2021-07-03T19:39:14.577Z"
   },
   {
    "duration": 82,
    "start_time": "2021-07-03T19:39:14.690Z"
   },
   {
    "duration": 56,
    "start_time": "2021-07-03T19:39:14.775Z"
   },
   {
    "duration": 39,
    "start_time": "2021-07-03T19:39:14.834Z"
   },
   {
    "duration": 88,
    "start_time": "2021-07-03T19:39:14.876Z"
   },
   {
    "duration": 45,
    "start_time": "2021-07-03T19:39:14.966Z"
   },
   {
    "duration": 66,
    "start_time": "2021-07-03T19:39:15.013Z"
   },
   {
    "duration": 47,
    "start_time": "2021-07-03T19:39:15.082Z"
   },
   {
    "duration": 48,
    "start_time": "2021-07-03T19:39:15.132Z"
   },
   {
    "duration": 38,
    "start_time": "2021-07-03T19:39:15.183Z"
   },
   {
    "duration": 86,
    "start_time": "2021-07-03T19:39:15.224Z"
   },
   {
    "duration": 69,
    "start_time": "2021-07-03T19:39:15.315Z"
   },
   {
    "duration": 5,
    "start_time": "2021-07-03T19:39:15.387Z"
   },
   {
    "duration": 1941,
    "start_time": "2021-07-03T19:39:15.395Z"
   },
   {
    "duration": 42,
    "start_time": "2021-07-03T19:39:17.339Z"
   },
   {
    "duration": 18,
    "start_time": "2021-07-03T19:39:17.384Z"
   },
   {
    "duration": 381,
    "start_time": "2021-07-04T08:24:33.461Z"
   },
   {
    "duration": 1558,
    "start_time": "2021-07-04T08:24:43.961Z"
   },
   {
    "duration": 516,
    "start_time": "2021-07-04T08:24:45.521Z"
   },
   {
    "duration": 41,
    "start_time": "2021-07-04T08:24:46.040Z"
   },
   {
    "duration": 11,
    "start_time": "2021-07-04T08:24:46.083Z"
   },
   {
    "duration": 33,
    "start_time": "2021-07-04T08:24:46.096Z"
   },
   {
    "duration": 27,
    "start_time": "2021-07-04T08:24:46.132Z"
   },
   {
    "duration": 52,
    "start_time": "2021-07-04T08:24:46.161Z"
   },
   {
    "duration": 23,
    "start_time": "2021-07-04T08:24:46.216Z"
   },
   {
    "duration": 80,
    "start_time": "2021-07-04T08:24:46.242Z"
   },
   {
    "duration": 66,
    "start_time": "2021-07-04T08:24:46.324Z"
   },
   {
    "duration": 19,
    "start_time": "2021-07-04T08:24:46.393Z"
   },
   {
    "duration": 111,
    "start_time": "2021-07-04T08:24:46.415Z"
   },
   {
    "duration": 89,
    "start_time": "2021-07-04T08:24:46.529Z"
   },
   {
    "duration": 64,
    "start_time": "2021-07-04T08:24:46.621Z"
   },
   {
    "duration": 39,
    "start_time": "2021-07-04T08:24:46.688Z"
   },
   {
    "duration": 93,
    "start_time": "2021-07-04T08:24:46.730Z"
   },
   {
    "duration": 44,
    "start_time": "2021-07-04T08:24:46.826Z"
   },
   {
    "duration": 67,
    "start_time": "2021-07-04T08:24:46.872Z"
   },
   {
    "duration": 43,
    "start_time": "2021-07-04T08:24:46.941Z"
   },
   {
    "duration": 37,
    "start_time": "2021-07-04T08:24:46.987Z"
   },
   {
    "duration": 26,
    "start_time": "2021-07-04T08:24:47.027Z"
   },
   {
    "duration": 82,
    "start_time": "2021-07-04T08:24:47.055Z"
   },
   {
    "duration": 27,
    "start_time": "2021-07-04T08:24:47.143Z"
   },
   {
    "duration": 5,
    "start_time": "2021-07-04T08:24:47.209Z"
   },
   {
    "duration": 1242,
    "start_time": "2021-07-04T08:24:47.217Z"
   },
   {
    "duration": 23,
    "start_time": "2021-07-04T08:24:48.461Z"
   },
   {
    "duration": 34,
    "start_time": "2021-07-04T08:24:48.487Z"
   },
   {
    "duration": 147,
    "start_time": "2021-07-04T08:55:52.271Z"
   },
   {
    "duration": 122,
    "start_time": "2021-07-04T08:56:18.960Z"
   },
   {
    "duration": 127,
    "start_time": "2021-07-04T08:56:56.710Z"
   },
   {
    "duration": 6,
    "start_time": "2021-07-04T08:57:14.677Z"
   },
   {
    "duration": 5,
    "start_time": "2021-07-04T09:08:18.863Z"
   },
   {
    "duration": 463,
    "start_time": "2021-07-04T09:08:51.424Z"
   },
   {
    "duration": 356,
    "start_time": "2021-07-04T09:09:59.399Z"
   },
   {
    "duration": 385,
    "start_time": "2021-07-04T09:10:37.679Z"
   },
   {
    "duration": 1678,
    "start_time": "2021-07-04T09:12:52.775Z"
   },
   {
    "duration": 514,
    "start_time": "2021-07-04T09:12:54.456Z"
   },
   {
    "duration": 41,
    "start_time": "2021-07-04T09:12:54.973Z"
   },
   {
    "duration": 13,
    "start_time": "2021-07-04T09:12:55.018Z"
   },
   {
    "duration": 39,
    "start_time": "2021-07-04T09:12:55.034Z"
   },
   {
    "duration": 39,
    "start_time": "2021-07-04T09:12:55.109Z"
   },
   {
    "duration": 23,
    "start_time": "2021-07-04T09:12:55.151Z"
   },
   {
    "duration": 58,
    "start_time": "2021-07-04T09:12:55.179Z"
   },
   {
    "duration": 72,
    "start_time": "2021-07-04T09:12:55.241Z"
   },
   {
    "duration": 164,
    "start_time": "2021-07-04T09:12:55.316Z"
   },
   {
    "duration": 6,
    "start_time": "2021-07-04T09:12:55.482Z"
   },
   {
    "duration": 97,
    "start_time": "2021-07-04T09:12:55.491Z"
   },
   {
    "duration": 88,
    "start_time": "2021-07-04T09:12:55.591Z"
   },
   {
    "duration": 71,
    "start_time": "2021-07-04T09:12:55.682Z"
   },
   {
    "duration": 20,
    "start_time": "2021-07-04T09:12:55.756Z"
   },
   {
    "duration": 115,
    "start_time": "2021-07-04T09:12:55.779Z"
   },
   {
    "duration": 43,
    "start_time": "2021-07-04T09:12:55.897Z"
   },
   {
    "duration": 44,
    "start_time": "2021-07-04T09:12:55.942Z"
   },
   {
    "duration": 60,
    "start_time": "2021-07-04T09:12:55.989Z"
   },
   {
    "duration": 19,
    "start_time": "2021-07-04T09:12:56.052Z"
   },
   {
    "duration": 58,
    "start_time": "2021-07-04T09:12:56.074Z"
   },
   {
    "duration": 87,
    "start_time": "2021-07-04T09:12:56.134Z"
   },
   {
    "duration": 32,
    "start_time": "2021-07-04T09:12:56.227Z"
   },
   {
    "duration": 4,
    "start_time": "2021-07-04T09:12:56.262Z"
   },
   {
    "duration": 1326,
    "start_time": "2021-07-04T09:12:56.269Z"
   },
   {
    "duration": 32,
    "start_time": "2021-07-04T09:12:57.597Z"
   },
   {
    "duration": 24,
    "start_time": "2021-07-04T09:12:57.631Z"
   },
   {
    "duration": 6,
    "start_time": "2021-07-04T09:12:57.657Z"
   },
   {
    "duration": 790,
    "start_time": "2021-07-04T09:12:57.665Z"
   },
   {
    "duration": 711,
    "start_time": "2021-07-04T09:20:28.781Z"
   },
   {
    "duration": 782,
    "start_time": "2021-07-04T09:21:08.682Z"
   },
   {
    "duration": 715,
    "start_time": "2021-07-04T09:21:59.145Z"
   },
   {
    "duration": 3,
    "start_time": "2021-07-04T09:22:12.002Z"
   },
   {
    "duration": 303,
    "start_time": "2021-07-04T09:22:34.574Z"
   },
   {
    "duration": 4,
    "start_time": "2021-07-04T09:23:31.470Z"
   },
   {
    "duration": 4,
    "start_time": "2021-07-04T09:23:55.590Z"
   },
   {
    "duration": 5,
    "start_time": "2021-07-04T09:24:25.685Z"
   },
   {
    "duration": 6,
    "start_time": "2021-07-04T09:39:28.227Z"
   },
   {
    "duration": 6,
    "start_time": "2021-07-04T09:39:36.862Z"
   },
   {
    "duration": 7,
    "start_time": "2021-07-04T09:39:40.445Z"
   },
   {
    "duration": 853,
    "start_time": "2021-07-04T09:43:49.450Z"
   },
   {
    "duration": 371,
    "start_time": "2021-07-04T09:44:58.188Z"
   },
   {
    "duration": 549,
    "start_time": "2021-07-04T09:46:53.015Z"
   },
   {
    "duration": 123,
    "start_time": "2021-07-04T09:47:09.630Z"
   },
   {
    "duration": 123,
    "start_time": "2021-07-04T09:47:44.492Z"
   },
   {
    "duration": 117,
    "start_time": "2021-07-04T09:48:38.528Z"
   },
   {
    "duration": 500,
    "start_time": "2021-07-04T09:50:23.613Z"
   },
   {
    "duration": 18,
    "start_time": "2021-07-04T09:50:39.417Z"
   },
   {
    "duration": 18,
    "start_time": "2021-07-04T09:51:18.049Z"
   },
   {
    "duration": 28,
    "start_time": "2021-07-04T09:51:42.808Z"
   },
   {
    "duration": 908,
    "start_time": "2021-07-04T09:53:21.106Z"
   },
   {
    "duration": 44,
    "start_time": "2021-07-04T09:54:27.805Z"
   },
   {
    "duration": 7,
    "start_time": "2021-07-04T10:34:24.707Z"
   },
   {
    "duration": 7,
    "start_time": "2021-07-04T10:36:19.577Z"
   },
   {
    "duration": 9,
    "start_time": "2021-07-04T10:50:59.908Z"
   },
   {
    "duration": 9,
    "start_time": "2021-07-04T11:02:39.183Z"
   },
   {
    "duration": 9,
    "start_time": "2021-07-04T11:03:04.006Z"
   },
   {
    "duration": 28,
    "start_time": "2021-07-04T11:07:50.763Z"
   },
   {
    "duration": 10,
    "start_time": "2021-07-04T11:10:48.365Z"
   },
   {
    "duration": 10,
    "start_time": "2021-07-04T11:16:32.302Z"
   },
   {
    "duration": 11,
    "start_time": "2021-07-04T11:17:28.329Z"
   },
   {
    "duration": 10,
    "start_time": "2021-07-04T11:18:06.174Z"
   },
   {
    "duration": 8,
    "start_time": "2021-07-04T11:20:33.316Z"
   },
   {
    "duration": 9,
    "start_time": "2021-07-04T11:29:13.810Z"
   },
   {
    "duration": 9,
    "start_time": "2021-07-04T11:31:00.018Z"
   },
   {
    "duration": 6,
    "start_time": "2021-07-04T12:51:23.774Z"
   },
   {
    "duration": 12,
    "start_time": "2021-07-04T12:52:16.459Z"
   },
   {
    "duration": 355,
    "start_time": "2021-07-04T12:53:32.559Z"
   },
   {
    "duration": 9,
    "start_time": "2021-07-04T12:53:43.192Z"
   },
   {
    "duration": 317,
    "start_time": "2021-07-04T12:54:55.766Z"
   },
   {
    "duration": 350,
    "start_time": "2021-07-04T13:00:24.833Z"
   },
   {
    "duration": 1582,
    "start_time": "2021-07-04T13:00:37.302Z"
   },
   {
    "duration": 587,
    "start_time": "2021-07-04T13:00:38.886Z"
   },
   {
    "duration": 52,
    "start_time": "2021-07-04T13:00:39.477Z"
   },
   {
    "duration": 11,
    "start_time": "2021-07-04T13:00:39.532Z"
   },
   {
    "duration": 32,
    "start_time": "2021-07-04T13:00:39.546Z"
   },
   {
    "duration": 53,
    "start_time": "2021-07-04T13:00:39.580Z"
   },
   {
    "duration": 20,
    "start_time": "2021-07-04T13:00:39.635Z"
   },
   {
    "duration": 74,
    "start_time": "2021-07-04T13:00:39.662Z"
   },
   {
    "duration": 92,
    "start_time": "2021-07-04T13:00:39.740Z"
   },
   {
    "duration": 80,
    "start_time": "2021-07-04T13:00:39.835Z"
   },
   {
    "duration": 6,
    "start_time": "2021-07-04T13:00:39.917Z"
   },
   {
    "duration": 161,
    "start_time": "2021-07-04T13:00:39.926Z"
   },
   {
    "duration": 86,
    "start_time": "2021-07-04T13:00:40.089Z"
   },
   {
    "duration": 78,
    "start_time": "2021-07-04T13:00:40.177Z"
   },
   {
    "duration": 22,
    "start_time": "2021-07-04T13:00:40.258Z"
   },
   {
    "duration": 113,
    "start_time": "2021-07-04T13:00:40.309Z"
   },
   {
    "duration": 63,
    "start_time": "2021-07-04T13:00:40.425Z"
   },
   {
    "duration": 63,
    "start_time": "2021-07-04T13:00:40.509Z"
   },
   {
    "duration": 64,
    "start_time": "2021-07-04T13:00:40.576Z"
   },
   {
    "duration": 21,
    "start_time": "2021-07-04T13:00:40.643Z"
   },
   {
    "duration": 59,
    "start_time": "2021-07-04T13:00:40.667Z"
   },
   {
    "duration": 44,
    "start_time": "2021-07-04T13:00:40.729Z"
   },
   {
    "duration": 59,
    "start_time": "2021-07-04T13:00:40.779Z"
   },
   {
    "duration": 4,
    "start_time": "2021-07-04T13:00:40.841Z"
   },
   {
    "duration": 1580,
    "start_time": "2021-07-04T13:00:40.847Z"
   },
   {
    "duration": 25,
    "start_time": "2021-07-04T13:00:42.429Z"
   },
   {
    "duration": 28,
    "start_time": "2021-07-04T13:00:42.457Z"
   },
   {
    "duration": 29,
    "start_time": "2021-07-04T13:00:42.509Z"
   },
   {
    "duration": 16,
    "start_time": "2021-07-04T13:00:42.541Z"
   },
   {
    "duration": 9,
    "start_time": "2021-07-04T13:00:42.560Z"
   },
   {
    "duration": 625,
    "start_time": "2021-07-04T13:00:42.610Z"
   },
   {
    "duration": -43704,
    "start_time": "2021-07-04T13:01:26.943Z"
   },
   {
    "duration": -43706,
    "start_time": "2021-07-04T13:01:26.947Z"
   },
   {
    "duration": -43708,
    "start_time": "2021-07-04T13:01:26.951Z"
   },
   {
    "duration": -43711,
    "start_time": "2021-07-04T13:01:26.956Z"
   },
   {
    "duration": 392,
    "start_time": "2021-07-04T13:01:15.333Z"
   },
   {
    "duration": 1196,
    "start_time": "2021-07-04T13:07:24.295Z"
   },
   {
    "duration": 694,
    "start_time": "2021-07-04T13:13:56.992Z"
   },
   {
    "duration": 5035,
    "start_time": "2021-07-04T13:15:51.755Z"
   },
   {
    "duration": 774,
    "start_time": "2021-07-04T13:16:27.214Z"
   },
   {
    "duration": 690,
    "start_time": "2021-07-04T13:18:21.991Z"
   },
   {
    "duration": 692,
    "start_time": "2021-07-04T13:18:52.867Z"
   },
   {
    "duration": 683,
    "start_time": "2021-07-04T13:20:27.465Z"
   },
   {
    "duration": 854,
    "start_time": "2021-07-04T13:26:03.605Z"
   },
   {
    "duration": 890,
    "start_time": "2021-07-04T13:28:03.690Z"
   },
   {
    "duration": 927,
    "start_time": "2021-07-04T13:32:38.688Z"
   },
   {
    "duration": 848,
    "start_time": "2021-07-04T13:33:12.519Z"
   },
   {
    "duration": 1282,
    "start_time": "2021-07-04T13:33:24.357Z"
   },
   {
    "duration": 876,
    "start_time": "2021-07-04T13:39:11.728Z"
   },
   {
    "duration": 842,
    "start_time": "2021-07-04T13:40:21.514Z"
   },
   {
    "duration": 1087,
    "start_time": "2021-07-04T13:40:47.283Z"
   },
   {
    "duration": 896,
    "start_time": "2021-07-04T13:41:12.408Z"
   },
   {
    "duration": 875,
    "start_time": "2021-07-04T13:43:00.426Z"
   },
   {
    "duration": 865,
    "start_time": "2021-07-04T13:43:58.072Z"
   },
   {
    "duration": 930,
    "start_time": "2021-07-04T13:55:38.897Z"
   },
   {
    "duration": 873,
    "start_time": "2021-07-04T13:56:50.882Z"
   },
   {
    "duration": 1109,
    "start_time": "2021-07-04T13:57:38.817Z"
   },
   {
    "duration": 877,
    "start_time": "2021-07-04T13:58:55.911Z"
   },
   {
    "duration": 1528,
    "start_time": "2021-07-04T15:15:55.588Z"
   },
   {
    "duration": 556,
    "start_time": "2021-07-04T15:15:57.119Z"
   },
   {
    "duration": 44,
    "start_time": "2021-07-04T15:15:57.678Z"
   },
   {
    "duration": 11,
    "start_time": "2021-07-04T15:15:57.725Z"
   },
   {
    "duration": 75,
    "start_time": "2021-07-04T15:15:57.739Z"
   },
   {
    "duration": 45,
    "start_time": "2021-07-04T15:15:57.817Z"
   },
   {
    "duration": 56,
    "start_time": "2021-07-04T15:15:57.865Z"
   },
   {
    "duration": 33,
    "start_time": "2021-07-04T15:15:57.925Z"
   },
   {
    "duration": 95,
    "start_time": "2021-07-04T15:15:57.966Z"
   },
   {
    "duration": 120,
    "start_time": "2021-07-04T15:15:58.066Z"
   },
   {
    "duration": 21,
    "start_time": "2021-07-04T15:15:58.189Z"
   },
   {
    "duration": 151,
    "start_time": "2021-07-04T15:15:58.213Z"
   },
   {
    "duration": 131,
    "start_time": "2021-07-04T15:15:58.367Z"
   },
   {
    "duration": 96,
    "start_time": "2021-07-04T15:15:58.502Z"
   },
   {
    "duration": 31,
    "start_time": "2021-07-04T15:15:58.610Z"
   },
   {
    "duration": 137,
    "start_time": "2021-07-04T15:15:58.644Z"
   },
   {
    "duration": 79,
    "start_time": "2021-07-04T15:15:58.785Z"
   },
   {
    "duration": 93,
    "start_time": "2021-07-04T15:15:58.867Z"
   },
   {
    "duration": 92,
    "start_time": "2021-07-04T15:15:58.964Z"
   },
   {
    "duration": 54,
    "start_time": "2021-07-04T15:15:59.060Z"
   },
   {
    "duration": 43,
    "start_time": "2021-07-04T15:15:59.118Z"
   },
   {
    "duration": 100,
    "start_time": "2021-07-04T15:15:59.165Z"
   },
   {
    "duration": 54,
    "start_time": "2021-07-04T15:15:59.268Z"
   },
   {
    "duration": 5,
    "start_time": "2021-07-04T15:15:59.325Z"
   },
   {
    "duration": 1302,
    "start_time": "2021-07-04T15:15:59.333Z"
   },
   {
    "duration": 23,
    "start_time": "2021-07-04T15:16:00.638Z"
   },
   {
    "duration": 49,
    "start_time": "2021-07-04T15:16:00.666Z"
   },
   {
    "duration": 37,
    "start_time": "2021-07-04T15:16:00.718Z"
   },
   {
    "duration": 10,
    "start_time": "2021-07-04T15:16:00.758Z"
   },
   {
    "duration": 40,
    "start_time": "2021-07-04T15:16:00.771Z"
   },
   {
    "duration": 912,
    "start_time": "2021-07-04T15:16:00.814Z"
   },
   {
    "duration": 10,
    "start_time": "2021-07-04T15:16:01.729Z"
   },
   {
    "duration": 34,
    "start_time": "2021-07-04T15:16:01.741Z"
   },
   {
    "duration": 892,
    "start_time": "2021-07-04T15:16:01.778Z"
   },
   {
    "duration": 10,
    "start_time": "2021-07-04T15:16:02.672Z"
   },
   {
    "duration": 30,
    "start_time": "2021-07-04T15:16:02.685Z"
   },
   {
    "duration": 905,
    "start_time": "2021-07-04T15:16:02.719Z"
   },
   {
    "duration": 296,
    "start_time": "2021-07-04T15:16:03.627Z"
   },
   {
    "duration": 5,
    "start_time": "2021-07-04T15:17:40.665Z"
   },
   {
    "duration": 26,
    "start_time": "2021-07-04T15:18:10.027Z"
   },
   {
    "duration": 18,
    "start_time": "2021-07-04T15:18:44.681Z"
   },
   {
    "duration": 7,
    "start_time": "2021-07-04T15:28:50.659Z"
   },
   {
    "duration": 9,
    "start_time": "2021-07-04T15:29:13.174Z"
   },
   {
    "duration": 8,
    "start_time": "2021-07-04T15:44:22.728Z"
   },
   {
    "duration": 483,
    "start_time": "2021-07-04T17:25:42.360Z"
   },
   {
    "duration": 340,
    "start_time": "2021-07-04T17:26:14.062Z"
   },
   {
    "duration": 953,
    "start_time": "2021-07-04T17:26:56.483Z"
   },
   {
    "duration": 160,
    "start_time": "2021-07-04T17:39:17.655Z"
   },
   {
    "duration": 524,
    "start_time": "2021-07-04T17:39:30.573Z"
   },
   {
    "duration": 8,
    "start_time": "2021-07-04T20:16:40.129Z"
   },
   {
    "duration": 6,
    "start_time": "2021-07-04T20:17:55.756Z"
   },
   {
    "duration": 365,
    "start_time": "2021-07-04T20:21:17.539Z"
   },
   {
    "duration": 388,
    "start_time": "2021-07-04T20:23:13.803Z"
   },
   {
    "duration": 364,
    "start_time": "2021-07-04T20:23:23.425Z"
   },
   {
    "duration": 477,
    "start_time": "2021-07-04T20:26:19.163Z"
   },
   {
    "duration": 653,
    "start_time": "2021-07-04T20:32:19.379Z"
   },
   {
    "duration": 534,
    "start_time": "2021-07-04T20:32:46.791Z"
   },
   {
    "duration": 371,
    "start_time": "2021-07-04T20:35:20.420Z"
   },
   {
    "duration": 407,
    "start_time": "2021-07-04T20:36:22.008Z"
   },
   {
    "duration": 1151,
    "start_time": "2021-07-04T20:37:29.105Z"
   },
   {
    "duration": 1106,
    "start_time": "2021-07-04T20:37:50.138Z"
   },
   {
    "duration": 803,
    "start_time": "2021-07-04T20:39:09.674Z"
   },
   {
    "duration": 755,
    "start_time": "2021-07-04T20:39:54.601Z"
   },
   {
    "duration": 419,
    "start_time": "2021-07-04T20:45:06.721Z"
   },
   {
    "duration": 476,
    "start_time": "2021-07-04T20:45:45.350Z"
   },
   {
    "duration": 539,
    "start_time": "2021-07-04T20:46:55.433Z"
   },
   {
    "duration": 365,
    "start_time": "2021-07-04T20:48:03.712Z"
   },
   {
    "duration": 541,
    "start_time": "2021-07-04T20:48:18.768Z"
   },
   {
    "duration": 940,
    "start_time": "2021-07-04T20:48:51.619Z"
   },
   {
    "duration": 738,
    "start_time": "2021-07-04T20:49:15.932Z"
   },
   {
    "duration": 523,
    "start_time": "2021-07-04T21:27:10.792Z"
   },
   {
    "duration": 1069,
    "start_time": "2021-07-04T21:39:15.666Z"
   },
   {
    "duration": 510,
    "start_time": "2021-07-04T21:39:34.554Z"
   },
   {
    "duration": 645,
    "start_time": "2021-07-04T21:45:25.922Z"
   },
   {
    "duration": 47965,
    "start_time": "2021-07-04T21:45:48.032Z"
   },
   {
    "duration": 345,
    "start_time": "2021-07-04T21:50:46.353Z"
   },
   {
    "duration": 345,
    "start_time": "2021-07-04T21:51:16.287Z"
   },
   {
    "duration": 303,
    "start_time": "2021-07-04T21:52:22.297Z"
   },
   {
    "duration": 923,
    "start_time": "2021-07-04T21:52:41.028Z"
   },
   {
    "duration": 8791,
    "start_time": "2021-07-04T21:54:03.355Z"
   },
   {
    "duration": 303,
    "start_time": "2021-07-04T21:54:30.725Z"
   },
   {
    "duration": 124,
    "start_time": "2021-07-04T21:54:57.483Z"
   },
   {
    "duration": 325,
    "start_time": "2021-07-04T21:55:05.120Z"
   },
   {
    "duration": 543,
    "start_time": "2021-07-04T21:56:53.612Z"
   },
   {
    "duration": 373,
    "start_time": "2021-07-04T21:58:23.793Z"
   },
   {
    "duration": 305,
    "start_time": "2021-07-04T21:58:41.536Z"
   },
   {
    "duration": 382,
    "start_time": "2021-07-04T22:01:52.106Z"
   },
   {
    "duration": 372,
    "start_time": "2021-07-04T22:05:46.414Z"
   },
   {
    "duration": 112,
    "start_time": "2021-07-04T22:07:08.514Z"
   },
   {
    "duration": 388,
    "start_time": "2021-07-04T22:07:36.788Z"
   },
   {
    "duration": 389,
    "start_time": "2021-07-04T22:09:23.311Z"
   },
   {
    "duration": 353,
    "start_time": "2021-07-04T22:10:43.586Z"
   },
   {
    "duration": 904,
    "start_time": "2021-07-04T22:13:33.628Z"
   },
   {
    "duration": 558,
    "start_time": "2021-07-04T22:14:02.873Z"
   },
   {
    "duration": 2244,
    "start_time": "2021-07-04T22:14:50.778Z"
   },
   {
    "duration": 558,
    "start_time": "2021-07-04T22:15:25.430Z"
   },
   {
    "duration": 635,
    "start_time": "2021-07-04T22:15:52.813Z"
   },
   {
    "duration": 727,
    "start_time": "2021-07-04T22:16:25.250Z"
   },
   {
    "duration": 730,
    "start_time": "2021-07-04T22:16:47.698Z"
   },
   {
    "duration": 721,
    "start_time": "2021-07-04T22:17:12.996Z"
   },
   {
    "duration": 718,
    "start_time": "2021-07-04T22:18:34.268Z"
   },
   {
    "duration": 997,
    "start_time": "2021-07-04T22:19:06.871Z"
   },
   {
    "duration": 311,
    "start_time": "2021-07-04T22:21:21.472Z"
   },
   {
    "duration": 419,
    "start_time": "2021-07-04T22:21:50.748Z"
   },
   {
    "duration": 355,
    "start_time": "2021-07-04T22:22:23.337Z"
   },
   {
    "duration": 293,
    "start_time": "2021-07-04T22:23:40.371Z"
   },
   {
    "duration": 113,
    "start_time": "2021-07-04T22:24:31.085Z"
   },
   {
    "duration": 752,
    "start_time": "2021-07-04T22:24:45.596Z"
   },
   {
    "duration": 500,
    "start_time": "2021-07-04T22:25:50.077Z"
   },
   {
    "duration": 983,
    "start_time": "2021-07-04T22:26:11.502Z"
   },
   {
    "duration": 502,
    "start_time": "2021-07-04T22:27:20.149Z"
   },
   {
    "duration": 559,
    "start_time": "2021-07-04T22:27:34.596Z"
   },
   {
    "duration": 12,
    "start_time": "2021-07-04T22:28:55.412Z"
   },
   {
    "duration": 13,
    "start_time": "2021-07-04T22:32:36.038Z"
   },
   {
    "duration": 15,
    "start_time": "2021-07-04T22:32:48.764Z"
   },
   {
    "duration": 14,
    "start_time": "2021-07-04T22:32:54.701Z"
   },
   {
    "duration": 497,
    "start_time": "2021-07-04T22:33:36.382Z"
   },
   {
    "duration": 493,
    "start_time": "2021-07-04T22:33:52.318Z"
   },
   {
    "duration": 306,
    "start_time": "2021-07-04T22:34:17.397Z"
   },
   {
    "duration": 543,
    "start_time": "2021-07-04T22:34:41.383Z"
   },
   {
    "duration": 551,
    "start_time": "2021-07-04T22:35:03.565Z"
   },
   {
    "duration": 555,
    "start_time": "2021-07-04T22:35:27.695Z"
   },
   {
    "duration": 562,
    "start_time": "2021-07-04T22:35:41.787Z"
   },
   {
    "duration": 1282,
    "start_time": "2021-07-04T22:37:23.608Z"
   },
   {
    "duration": 1279,
    "start_time": "2021-07-04T22:37:48.560Z"
   },
   {
    "duration": 621,
    "start_time": "2021-07-04T22:38:20.935Z"
   },
   {
    "duration": 730,
    "start_time": "2021-07-04T22:39:22.202Z"
   },
   {
    "duration": 477,
    "start_time": "2021-07-04T22:40:00.158Z"
   },
   {
    "duration": 1059,
    "start_time": "2021-07-04T22:40:45.980Z"
   },
   {
    "duration": 1130,
    "start_time": "2021-07-04T22:43:31.759Z"
   },
   {
    "duration": 1564,
    "start_time": "2021-07-04T22:43:56.538Z"
   },
   {
    "duration": 979,
    "start_time": "2021-07-04T22:44:56.077Z"
   },
   {
    "duration": 1010,
    "start_time": "2021-07-04T22:45:19.589Z"
   },
   {
    "duration": 1023,
    "start_time": "2021-07-04T22:45:43.717Z"
   },
   {
    "duration": 1025,
    "start_time": "2021-07-04T22:46:48.518Z"
   },
   {
    "duration": 1120,
    "start_time": "2021-07-04T22:47:16.772Z"
   },
   {
    "duration": 146,
    "start_time": "2021-07-04T22:49:26.699Z"
   },
   {
    "duration": 129,
    "start_time": "2021-07-04T22:50:18.395Z"
   },
   {
    "duration": 123,
    "start_time": "2021-07-04T22:51:29.128Z"
   },
   {
    "duration": 937,
    "start_time": "2021-07-04T22:51:46.686Z"
   },
   {
    "duration": 1199,
    "start_time": "2021-07-04T22:52:57.745Z"
   },
   {
    "duration": 659,
    "start_time": "2021-07-04T22:53:44.615Z"
   },
   {
    "duration": 915,
    "start_time": "2021-07-04T22:54:33.331Z"
   },
   {
    "duration": 911,
    "start_time": "2021-07-04T22:55:37.810Z"
   },
   {
    "duration": 109,
    "start_time": "2021-07-04T22:56:24.988Z"
   },
   {
    "duration": 969,
    "start_time": "2021-07-04T22:56:36.609Z"
   },
   {
    "duration": 153,
    "start_time": "2021-07-04T23:02:12.137Z"
   },
   {
    "duration": 367,
    "start_time": "2021-07-05T08:36:01.914Z"
   },
   {
    "duration": 1526,
    "start_time": "2021-07-05T08:40:15.387Z"
   },
   {
    "duration": 547,
    "start_time": "2021-07-05T08:40:16.915Z"
   },
   {
    "duration": 42,
    "start_time": "2021-07-05T08:40:17.465Z"
   },
   {
    "duration": 10,
    "start_time": "2021-07-05T08:40:17.510Z"
   },
   {
    "duration": 56,
    "start_time": "2021-07-05T08:40:17.523Z"
   },
   {
    "duration": 28,
    "start_time": "2021-07-05T08:40:17.582Z"
   },
   {
    "duration": 16,
    "start_time": "2021-07-05T08:40:17.612Z"
   },
   {
    "duration": 52,
    "start_time": "2021-07-05T08:40:17.630Z"
   },
   {
    "duration": 49,
    "start_time": "2021-07-05T08:40:17.687Z"
   },
   {
    "duration": 64,
    "start_time": "2021-07-05T08:40:17.767Z"
   },
   {
    "duration": 6,
    "start_time": "2021-07-05T08:40:17.833Z"
   },
   {
    "duration": 109,
    "start_time": "2021-07-05T08:40:17.842Z"
   },
   {
    "duration": 77,
    "start_time": "2021-07-05T08:40:17.953Z"
   },
   {
    "duration": 75,
    "start_time": "2021-07-05T08:40:18.032Z"
   },
   {
    "duration": 19,
    "start_time": "2021-07-05T08:40:18.110Z"
   },
   {
    "duration": 90,
    "start_time": "2021-07-05T08:40:18.132Z"
   },
   {
    "duration": 55,
    "start_time": "2021-07-05T08:40:18.224Z"
   },
   {
    "duration": 42,
    "start_time": "2021-07-05T08:40:18.282Z"
   },
   {
    "duration": 65,
    "start_time": "2021-07-05T08:40:18.327Z"
   },
   {
    "duration": 19,
    "start_time": "2021-07-05T08:40:18.394Z"
   },
   {
    "duration": 55,
    "start_time": "2021-07-05T08:40:18.415Z"
   },
   {
    "duration": 47,
    "start_time": "2021-07-05T08:40:18.473Z"
   },
   {
    "duration": 67,
    "start_time": "2021-07-05T08:40:18.522Z"
   },
   {
    "duration": 4,
    "start_time": "2021-07-05T08:40:18.592Z"
   },
   {
    "duration": 1401,
    "start_time": "2021-07-05T08:40:18.598Z"
   },
   {
    "duration": 22,
    "start_time": "2021-07-05T08:40:20.001Z"
   },
   {
    "duration": 40,
    "start_time": "2021-07-05T08:40:20.028Z"
   },
   {
    "duration": 27,
    "start_time": "2021-07-05T08:40:20.071Z"
   },
   {
    "duration": 12,
    "start_time": "2021-07-05T08:40:20.101Z"
   },
   {
    "duration": 16,
    "start_time": "2021-07-05T08:40:20.116Z"
   },
   {
    "duration": 1433,
    "start_time": "2021-07-05T08:40:20.169Z"
   },
   {
    "duration": 9,
    "start_time": "2021-07-05T08:40:21.604Z"
   },
   {
    "duration": 10,
    "start_time": "2021-07-05T08:40:21.615Z"
   },
   {
    "duration": 912,
    "start_time": "2021-07-05T08:40:21.628Z"
   },
   {
    "duration": 10,
    "start_time": "2021-07-05T08:40:22.542Z"
   },
   {
    "duration": 10,
    "start_time": "2021-07-05T08:40:22.568Z"
   },
   {
    "duration": 904,
    "start_time": "2021-07-05T08:40:22.580Z"
   },
   {
    "duration": 17,
    "start_time": "2021-07-05T08:40:23.487Z"
   },
   {
    "duration": 19,
    "start_time": "2021-07-05T08:40:23.506Z"
   },
   {
    "duration": 9,
    "start_time": "2021-07-05T08:40:23.528Z"
   },
   {
    "duration": 30,
    "start_time": "2021-07-05T08:40:23.539Z"
   },
   {
    "duration": 510,
    "start_time": "2021-07-05T08:40:23.572Z"
   },
   {
    "duration": 688,
    "start_time": "2021-07-05T08:48:29.479Z"
   },
   {
    "duration": 541,
    "start_time": "2021-07-05T08:49:16.994Z"
   },
   {
    "duration": 552,
    "start_time": "2021-07-05T08:50:22.273Z"
   },
   {
    "duration": 639,
    "start_time": "2021-07-05T08:50:42.600Z"
   },
   {
    "duration": 540,
    "start_time": "2021-07-05T08:51:38.387Z"
   },
   {
    "duration": 545,
    "start_time": "2021-07-05T08:52:30.834Z"
   },
   {
    "duration": 1096,
    "start_time": "2021-07-05T08:56:25.876Z"
   },
   {
    "duration": 1318,
    "start_time": "2021-07-05T09:00:54.039Z"
   },
   {
    "duration": 1246,
    "start_time": "2021-07-05T09:01:39.695Z"
   },
   {
    "duration": 1069,
    "start_time": "2021-07-05T09:02:11.733Z"
   },
   {
    "duration": 1003,
    "start_time": "2021-07-05T09:08:35.838Z"
   },
   {
    "duration": 921,
    "start_time": "2021-07-05T09:11:38.197Z"
   },
   {
    "duration": 872,
    "start_time": "2021-07-05T09:12:18.144Z"
   },
   {
    "duration": 539,
    "start_time": "2021-07-05T09:13:37.311Z"
   },
   {
    "duration": 637,
    "start_time": "2021-07-05T09:13:46.416Z"
   },
   {
    "duration": 1011,
    "start_time": "2021-07-05T09:17:50.020Z"
   },
   {
    "duration": 1044,
    "start_time": "2021-07-05T09:19:19.492Z"
   },
   {
    "duration": 906,
    "start_time": "2021-07-05T09:21:14.019Z"
   },
   {
    "duration": 892,
    "start_time": "2021-07-05T09:26:07.301Z"
   },
   {
    "duration": 1187,
    "start_time": "2021-07-05T09:26:59.380Z"
   },
   {
    "duration": 1438,
    "start_time": "2021-07-05T09:29:52.849Z"
   },
   {
    "duration": 1072,
    "start_time": "2021-07-05T09:30:06.455Z"
   },
   {
    "duration": 1045,
    "start_time": "2021-07-05T09:30:27.504Z"
   },
   {
    "duration": 1268,
    "start_time": "2021-07-05T09:31:35.172Z"
   },
   {
    "duration": 1206,
    "start_time": "2021-07-05T09:33:01.566Z"
   },
   {
    "duration": 1053,
    "start_time": "2021-07-05T09:33:52.810Z"
   },
   {
    "duration": 1016,
    "start_time": "2021-07-05T09:34:16.383Z"
   },
   {
    "duration": 1274,
    "start_time": "2021-07-05T09:40:10.051Z"
   },
   {
    "duration": 634,
    "start_time": "2021-07-05T09:41:35.134Z"
   },
   {
    "duration": 594,
    "start_time": "2021-07-05T09:41:53.416Z"
   },
   {
    "duration": 662,
    "start_time": "2021-07-05T09:42:03.671Z"
   },
   {
    "duration": 838,
    "start_time": "2021-07-05T09:42:15.916Z"
   },
   {
    "duration": 731,
    "start_time": "2021-07-05T09:43:06.159Z"
   },
   {
    "duration": 763,
    "start_time": "2021-07-05T09:43:28.458Z"
   },
   {
    "duration": 1019,
    "start_time": "2021-07-05T09:45:07.187Z"
   },
   {
    "duration": 828,
    "start_time": "2021-07-05T09:51:18.255Z"
   },
   {
    "duration": 827,
    "start_time": "2021-07-05T09:53:50.408Z"
   },
   {
    "duration": 813,
    "start_time": "2021-07-05T09:56:53.029Z"
   },
   {
    "duration": 811,
    "start_time": "2021-07-05T09:58:12.156Z"
   },
   {
    "duration": 1154,
    "start_time": "2021-07-05T09:59:59.220Z"
   },
   {
    "duration": 826,
    "start_time": "2021-07-05T10:01:23.524Z"
   },
   {
    "duration": 822,
    "start_time": "2021-07-05T10:03:46.647Z"
   },
   {
    "duration": 958,
    "start_time": "2021-07-05T10:06:07.861Z"
   },
   {
    "duration": 979,
    "start_time": "2021-07-05T10:06:22.237Z"
   },
   {
    "duration": 995,
    "start_time": "2021-07-05T10:08:32.244Z"
   },
   {
    "duration": 801,
    "start_time": "2021-07-05T10:08:48.076Z"
   },
   {
    "duration": 795,
    "start_time": "2021-07-05T10:10:21.499Z"
   },
   {
    "duration": 1203,
    "start_time": "2021-07-05T10:12:43.059Z"
   },
   {
    "duration": 858,
    "start_time": "2021-07-05T10:13:04.260Z"
   },
   {
    "duration": 849,
    "start_time": "2021-07-05T10:13:20.638Z"
   },
   {
    "duration": 805,
    "start_time": "2021-07-05T10:15:54.112Z"
   },
   {
    "duration": 587,
    "start_time": "2021-07-05T10:18:05.863Z"
   },
   {
    "duration": 733,
    "start_time": "2021-07-05T10:18:39.764Z"
   },
   {
    "duration": 500,
    "start_time": "2021-07-05T10:19:13.670Z"
   },
   {
    "duration": 573,
    "start_time": "2021-07-05T10:20:17.355Z"
   },
   {
    "duration": 928,
    "start_time": "2021-07-05T10:21:37.154Z"
   },
   {
    "duration": 711,
    "start_time": "2021-07-05T10:22:04.086Z"
   },
   {
    "duration": 574,
    "start_time": "2021-07-05T10:22:24.045Z"
   },
   {
    "duration": 523,
    "start_time": "2021-07-05T10:23:25.657Z"
   },
   {
    "duration": 636,
    "start_time": "2021-07-05T10:24:08.046Z"
   },
   {
    "duration": 1191,
    "start_time": "2021-07-05T10:24:32.879Z"
   },
   {
    "duration": 1201,
    "start_time": "2021-07-05T10:24:52.602Z"
   },
   {
    "duration": 2028,
    "start_time": "2021-07-05T10:25:10.449Z"
   },
   {
    "duration": 977,
    "start_time": "2021-07-05T10:25:26.600Z"
   },
   {
    "duration": 935,
    "start_time": "2021-07-05T10:26:43.003Z"
   },
   {
    "duration": 527,
    "start_time": "2021-07-05T10:26:56.551Z"
   },
   {
    "duration": 556,
    "start_time": "2021-07-05T10:27:59.315Z"
   },
   {
    "duration": 850,
    "start_time": "2021-07-05T10:28:38.772Z"
   },
   {
    "duration": 854,
    "start_time": "2021-07-05T10:28:53.955Z"
   },
   {
    "duration": 845,
    "start_time": "2021-07-05T10:41:29.360Z"
   },
   {
    "duration": 851,
    "start_time": "2021-07-05T10:43:26.035Z"
   },
   {
    "duration": 863,
    "start_time": "2021-07-05T10:44:00.443Z"
   },
   {
    "duration": 808,
    "start_time": "2021-07-05T10:44:15.840Z"
   },
   {
    "duration": 121,
    "start_time": "2021-07-05T10:44:36.880Z"
   },
   {
    "duration": 858,
    "start_time": "2021-07-05T10:47:36.233Z"
   },
   {
    "duration": 840,
    "start_time": "2021-07-05T10:47:49.137Z"
   },
   {
    "duration": 1141,
    "start_time": "2021-07-05T10:48:11.941Z"
   },
   {
    "duration": 1117,
    "start_time": "2021-07-05T10:48:30.920Z"
   },
   {
    "duration": 575,
    "start_time": "2021-07-05T10:48:44.302Z"
   },
   {
    "duration": 865,
    "start_time": "2021-07-05T10:49:11.672Z"
   },
   {
    "duration": 831,
    "start_time": "2021-07-05T10:49:53.189Z"
   },
   {
    "duration": 870,
    "start_time": "2021-07-05T10:50:06.728Z"
   },
   {
    "duration": 7,
    "start_time": "2021-07-05T11:08:05.645Z"
   },
   {
    "duration": 1594,
    "start_time": "2021-07-05T11:08:54.161Z"
   },
   {
    "duration": 544,
    "start_time": "2021-07-05T11:08:55.758Z"
   },
   {
    "duration": 41,
    "start_time": "2021-07-05T11:08:56.305Z"
   },
   {
    "duration": 10,
    "start_time": "2021-07-05T11:08:56.349Z"
   },
   {
    "duration": 33,
    "start_time": "2021-07-05T11:08:56.362Z"
   },
   {
    "duration": 26,
    "start_time": "2021-07-05T11:08:56.398Z"
   },
   {
    "duration": 40,
    "start_time": "2021-07-05T11:08:56.427Z"
   },
   {
    "duration": 24,
    "start_time": "2021-07-05T11:08:56.473Z"
   },
   {
    "duration": 79,
    "start_time": "2021-07-05T11:08:56.502Z"
   },
   {
    "duration": 65,
    "start_time": "2021-07-05T11:08:56.583Z"
   },
   {
    "duration": 6,
    "start_time": "2021-07-05T11:08:56.668Z"
   },
   {
    "duration": 111,
    "start_time": "2021-07-05T11:08:56.676Z"
   },
   {
    "duration": 83,
    "start_time": "2021-07-05T11:08:56.790Z"
   },
   {
    "duration": 56,
    "start_time": "2021-07-05T11:08:56.875Z"
   },
   {
    "duration": 39,
    "start_time": "2021-07-05T11:08:56.933Z"
   },
   {
    "duration": 70,
    "start_time": "2021-07-05T11:08:56.974Z"
   },
   {
    "duration": 62,
    "start_time": "2021-07-05T11:08:57.046Z"
   },
   {
    "duration": 70,
    "start_time": "2021-07-05T11:08:57.111Z"
   },
   {
    "duration": 45,
    "start_time": "2021-07-05T11:08:57.184Z"
   },
   {
    "duration": 44,
    "start_time": "2021-07-05T11:08:57.231Z"
   },
   {
    "duration": 26,
    "start_time": "2021-07-05T11:08:57.277Z"
   },
   {
    "duration": 76,
    "start_time": "2021-07-05T11:08:57.305Z"
   },
   {
    "duration": 25,
    "start_time": "2021-07-05T11:08:57.386Z"
   },
   {
    "duration": 4,
    "start_time": "2021-07-05T11:08:57.414Z"
   },
   {
    "duration": 1236,
    "start_time": "2021-07-05T11:08:57.420Z"
   },
   {
    "duration": 28,
    "start_time": "2021-07-05T11:08:58.659Z"
   },
   {
    "duration": 21,
    "start_time": "2021-07-05T11:08:58.689Z"
   },
   {
    "duration": 55,
    "start_time": "2021-07-05T11:08:58.712Z"
   },
   {
    "duration": 8,
    "start_time": "2021-07-05T11:08:58.770Z"
   },
   {
    "duration": 11,
    "start_time": "2021-07-05T11:08:58.781Z"
   },
   {
    "duration": 989,
    "start_time": "2021-07-05T11:08:58.794Z"
   },
   {
    "duration": 8,
    "start_time": "2021-07-05T11:08:59.786Z"
   },
   {
    "duration": 13,
    "start_time": "2021-07-05T11:08:59.797Z"
   },
   {
    "duration": 897,
    "start_time": "2021-07-05T11:08:59.812Z"
   },
   {
    "duration": 10,
    "start_time": "2021-07-05T11:09:00.712Z"
   },
   {
    "duration": 12,
    "start_time": "2021-07-05T11:09:00.725Z"
   },
   {
    "duration": 1028,
    "start_time": "2021-07-05T11:09:00.740Z"
   },
   {
    "duration": 18,
    "start_time": "2021-07-05T11:09:01.770Z"
   },
   {
    "duration": 19,
    "start_time": "2021-07-05T11:09:01.790Z"
   },
   {
    "duration": 29,
    "start_time": "2021-07-05T11:09:01.811Z"
   },
   {
    "duration": 25,
    "start_time": "2021-07-05T11:09:01.843Z"
   },
   {
    "duration": 954,
    "start_time": "2021-07-05T11:09:01.870Z"
   },
   {
    "duration": 117,
    "start_time": "2021-07-05T11:09:02.827Z"
   },
   {
    "duration": -44049,
    "start_time": "2021-07-05T11:09:46.996Z"
   },
   {
    "duration": -44053,
    "start_time": "2021-07-05T11:09:47.001Z"
   },
   {
    "duration": -44056,
    "start_time": "2021-07-05T11:09:47.006Z"
   },
   {
    "duration": -44060,
    "start_time": "2021-07-05T11:09:47.011Z"
   },
   {
    "duration": 8,
    "start_time": "2021-07-05T11:10:11.247Z"
   },
   {
    "duration": 114,
    "start_time": "2021-07-05T11:10:15.539Z"
   },
   {
    "duration": 7,
    "start_time": "2021-07-05T11:10:28.042Z"
   },
   {
    "duration": 127,
    "start_time": "2021-07-05T11:47:32.152Z"
   },
   {
    "duration": 7,
    "start_time": "2021-07-05T11:48:00.275Z"
   },
   {
    "duration": 101,
    "start_time": "2021-07-05T11:50:14.242Z"
   },
   {
    "duration": 131,
    "start_time": "2021-07-05T11:50:52.634Z"
   },
   {
    "duration": 115,
    "start_time": "2021-07-05T11:51:01.043Z"
   },
   {
    "duration": 107,
    "start_time": "2021-07-05T11:51:20.132Z"
   },
   {
    "duration": 9,
    "start_time": "2021-07-05T11:51:34.399Z"
   },
   {
    "duration": 20,
    "start_time": "2021-07-05T11:52:59.619Z"
   },
   {
    "duration": 12,
    "start_time": "2021-07-05T11:53:40.933Z"
   },
   {
    "duration": 11,
    "start_time": "2021-07-05T11:55:04.112Z"
   },
   {
    "duration": 12,
    "start_time": "2021-07-05T11:55:51.643Z"
   },
   {
    "duration": 14,
    "start_time": "2021-07-05T11:57:07.317Z"
   },
   {
    "duration": 149,
    "start_time": "2021-07-05T12:01:43.596Z"
   },
   {
    "duration": 111,
    "start_time": "2021-07-05T12:02:24.464Z"
   },
   {
    "duration": 436,
    "start_time": "2021-07-05T12:03:17.829Z"
   },
   {
    "duration": 13,
    "start_time": "2021-07-05T12:04:13.252Z"
   },
   {
    "duration": 19,
    "start_time": "2021-07-05T12:04:16.118Z"
   },
   {
    "duration": 9,
    "start_time": "2021-07-05T12:04:20.677Z"
   },
   {
    "duration": 6,
    "start_time": "2021-07-05T12:05:07.049Z"
   },
   {
    "duration": 7,
    "start_time": "2021-07-05T12:08:18.448Z"
   },
   {
    "duration": 20,
    "start_time": "2021-07-05T13:21:57.077Z"
   },
   {
    "duration": 1518,
    "start_time": "2021-07-05T13:27:14.950Z"
   },
   {
    "duration": 562,
    "start_time": "2021-07-05T13:27:16.470Z"
   },
   {
    "duration": 42,
    "start_time": "2021-07-05T13:27:17.034Z"
   },
   {
    "duration": 33,
    "start_time": "2021-07-05T13:27:17.078Z"
   },
   {
    "duration": 53,
    "start_time": "2021-07-05T13:27:17.114Z"
   },
   {
    "duration": 495,
    "start_time": "2021-07-05T13:27:17.171Z"
   },
   {
    "duration": -44650,
    "start_time": "2021-07-05T13:28:02.320Z"
   },
   {
    "duration": -44660,
    "start_time": "2021-07-05T13:28:02.332Z"
   },
   {
    "duration": -44777,
    "start_time": "2021-07-05T13:28:02.451Z"
   },
   {
    "duration": -44781,
    "start_time": "2021-07-05T13:28:02.456Z"
   },
   {
    "duration": -44786,
    "start_time": "2021-07-05T13:28:02.463Z"
   },
   {
    "duration": -44789,
    "start_time": "2021-07-05T13:28:02.467Z"
   },
   {
    "duration": -44794,
    "start_time": "2021-07-05T13:28:02.473Z"
   },
   {
    "duration": -44802,
    "start_time": "2021-07-05T13:28:02.483Z"
   },
   {
    "duration": -44807,
    "start_time": "2021-07-05T13:28:02.489Z"
   },
   {
    "duration": -44811,
    "start_time": "2021-07-05T13:28:02.495Z"
   },
   {
    "duration": -44818,
    "start_time": "2021-07-05T13:28:02.503Z"
   },
   {
    "duration": -44820,
    "start_time": "2021-07-05T13:28:02.507Z"
   },
   {
    "duration": -44825,
    "start_time": "2021-07-05T13:28:02.513Z"
   },
   {
    "duration": -44828,
    "start_time": "2021-07-05T13:28:02.517Z"
   },
   {
    "duration": -44831,
    "start_time": "2021-07-05T13:28:02.522Z"
   },
   {
    "duration": -44836,
    "start_time": "2021-07-05T13:28:02.528Z"
   },
   {
    "duration": -44838,
    "start_time": "2021-07-05T13:28:02.532Z"
   },
   {
    "duration": -44842,
    "start_time": "2021-07-05T13:28:02.537Z"
   },
   {
    "duration": -44849,
    "start_time": "2021-07-05T13:28:02.545Z"
   },
   {
    "duration": -44868,
    "start_time": "2021-07-05T13:28:02.566Z"
   },
   {
    "duration": -44873,
    "start_time": "2021-07-05T13:28:02.572Z"
   },
   {
    "duration": -44876,
    "start_time": "2021-07-05T13:28:02.577Z"
   },
   {
    "duration": -44880,
    "start_time": "2021-07-05T13:28:02.582Z"
   },
   {
    "duration": -44883,
    "start_time": "2021-07-05T13:28:02.587Z"
   },
   {
    "duration": -44886,
    "start_time": "2021-07-05T13:28:02.591Z"
   },
   {
    "duration": -44888,
    "start_time": "2021-07-05T13:28:02.596Z"
   },
   {
    "duration": -44940,
    "start_time": "2021-07-05T13:28:02.649Z"
   },
   {
    "duration": -44886,
    "start_time": "2021-07-05T13:28:02.653Z"
   },
   {
    "duration": -44891,
    "start_time": "2021-07-05T13:28:02.659Z"
   },
   {
    "duration": -44894,
    "start_time": "2021-07-05T13:28:02.664Z"
   },
   {
    "duration": -44906,
    "start_time": "2021-07-05T13:28:02.677Z"
   },
   {
    "duration": -44909,
    "start_time": "2021-07-05T13:28:02.682Z"
   },
   {
    "duration": -44913,
    "start_time": "2021-07-05T13:28:02.687Z"
   },
   {
    "duration": -44916,
    "start_time": "2021-07-05T13:28:02.692Z"
   },
   {
    "duration": -44921,
    "start_time": "2021-07-05T13:28:02.698Z"
   },
   {
    "duration": -44923,
    "start_time": "2021-07-05T13:28:02.702Z"
   },
   {
    "duration": -44927,
    "start_time": "2021-07-05T13:28:02.707Z"
   },
   {
    "duration": -44929,
    "start_time": "2021-07-05T13:28:02.711Z"
   },
   {
    "duration": -44929,
    "start_time": "2021-07-05T13:28:02.715Z"
   },
   {
    "duration": 331,
    "start_time": "2021-07-05T13:27:17.788Z"
   },
   {
    "duration": -44719,
    "start_time": "2021-07-05T13:28:02.841Z"
   },
   {
    "duration": -44751,
    "start_time": "2021-07-05T13:28:02.874Z"
   },
   {
    "duration": -44759,
    "start_time": "2021-07-05T13:28:02.883Z"
   },
   {
    "duration": 18,
    "start_time": "2021-07-05T13:28:13.697Z"
   },
   {
    "duration": 22,
    "start_time": "2021-07-05T13:28:20.512Z"
   },
   {
    "duration": 30,
    "start_time": "2021-07-05T13:28:35.795Z"
   },
   {
    "duration": 1490,
    "start_time": "2021-07-05T13:37:09.971Z"
   },
   {
    "duration": 540,
    "start_time": "2021-07-05T13:37:11.463Z"
   },
   {
    "duration": 42,
    "start_time": "2021-07-05T13:37:12.006Z"
   },
   {
    "duration": 38,
    "start_time": "2021-07-05T13:37:12.051Z"
   },
   {
    "duration": 28,
    "start_time": "2021-07-05T13:37:12.091Z"
   },
   {
    "duration": 50,
    "start_time": "2021-07-05T13:37:12.121Z"
   },
   {
    "duration": 22,
    "start_time": "2021-07-05T13:37:12.173Z"
   },
   {
    "duration": 29,
    "start_time": "2021-07-05T13:37:12.199Z"
   },
   {
    "duration": 99,
    "start_time": "2021-07-05T13:37:12.231Z"
   },
   {
    "duration": 6,
    "start_time": "2021-07-05T13:37:12.332Z"
   },
   {
    "duration": 130,
    "start_time": "2021-07-05T13:37:12.341Z"
   },
   {
    "duration": 69,
    "start_time": "2021-07-05T13:37:12.474Z"
   },
   {
    "duration": 71,
    "start_time": "2021-07-05T13:37:12.546Z"
   },
   {
    "duration": 17,
    "start_time": "2021-07-05T13:37:12.620Z"
   },
   {
    "duration": 91,
    "start_time": "2021-07-05T13:37:12.640Z"
   },
   {
    "duration": 54,
    "start_time": "2021-07-05T13:37:12.733Z"
   },
   {
    "duration": 42,
    "start_time": "2021-07-05T13:37:12.790Z"
   },
   {
    "duration": 69,
    "start_time": "2021-07-05T13:37:12.835Z"
   },
   {
    "duration": 19,
    "start_time": "2021-07-05T13:37:12.906Z"
   },
   {
    "duration": 52,
    "start_time": "2021-07-05T13:37:12.928Z"
   },
   {
    "duration": 42,
    "start_time": "2021-07-05T13:37:12.983Z"
   },
   {
    "duration": 59,
    "start_time": "2021-07-05T13:37:13.028Z"
   },
   {
    "duration": 4,
    "start_time": "2021-07-05T13:37:13.092Z"
   },
   {
    "duration": 1228,
    "start_time": "2021-07-05T13:37:13.099Z"
   },
   {
    "duration": 24,
    "start_time": "2021-07-05T13:37:14.329Z"
   },
   {
    "duration": 19,
    "start_time": "2021-07-05T13:37:14.367Z"
   },
   {
    "duration": 36,
    "start_time": "2021-07-05T13:37:14.389Z"
   },
   {
    "duration": 9,
    "start_time": "2021-07-05T13:37:14.428Z"
   },
   {
    "duration": 35,
    "start_time": "2021-07-05T13:37:14.439Z"
   },
   {
    "duration": 917,
    "start_time": "2021-07-05T13:37:14.477Z"
   },
   {
    "duration": 11,
    "start_time": "2021-07-05T13:37:15.397Z"
   },
   {
    "duration": 12,
    "start_time": "2021-07-05T13:37:15.411Z"
   },
   {
    "duration": 1009,
    "start_time": "2021-07-05T13:37:15.425Z"
   },
   {
    "duration": 9,
    "start_time": "2021-07-05T13:37:16.437Z"
   },
   {
    "duration": 26,
    "start_time": "2021-07-05T13:37:16.448Z"
   },
   {
    "duration": 951,
    "start_time": "2021-07-05T13:37:16.476Z"
   },
   {
    "duration": 18,
    "start_time": "2021-07-05T13:37:17.430Z"
   },
   {
    "duration": 21,
    "start_time": "2021-07-05T13:37:17.451Z"
   },
   {
    "duration": 16,
    "start_time": "2021-07-05T13:37:17.474Z"
   },
   {
    "duration": 18,
    "start_time": "2021-07-05T13:37:17.492Z"
   },
   {
    "duration": 1015,
    "start_time": "2021-07-05T13:37:17.513Z"
   },
   {
    "duration": 8,
    "start_time": "2021-07-05T13:37:18.530Z"
   },
   {
    "duration": 27,
    "start_time": "2021-07-05T13:37:18.540Z"
   },
   {
    "duration": 6,
    "start_time": "2021-07-05T13:37:18.569Z"
   },
   {
    "duration": 25,
    "start_time": "2021-07-05T13:37:18.577Z"
   },
   {
    "duration": 24,
    "start_time": "2021-07-05T13:37:18.605Z"
   },
   {
    "duration": 11,
    "start_time": "2021-07-05T13:37:18.632Z"
   },
   {
    "duration": 24,
    "start_time": "2021-07-05T13:37:18.645Z"
   },
   {
    "duration": 11,
    "start_time": "2021-07-05T13:37:18.671Z"
   },
   {
    "duration": 19,
    "start_time": "2021-07-05T14:03:54.846Z"
   },
   {
    "duration": 78,
    "start_time": "2021-07-05T14:11:15.800Z"
   },
   {
    "duration": 84,
    "start_time": "2021-07-05T14:11:28.711Z"
   },
   {
    "duration": 713,
    "start_time": "2021-07-05T14:11:51.477Z"
   },
   {
    "duration": 668,
    "start_time": "2021-07-05T14:12:10.856Z"
   },
   {
    "duration": 6548,
    "start_time": "2021-07-05T14:13:15.293Z"
   },
   {
    "duration": 44,
    "start_time": "2021-07-05T14:13:29.155Z"
   },
   {
    "duration": 28,
    "start_time": "2021-07-05T14:14:13.736Z"
   },
   {
    "duration": 709,
    "start_time": "2021-07-05T14:30:48.176Z"
   },
   {
    "duration": 614,
    "start_time": "2021-07-05T14:31:08.167Z"
   },
   {
    "duration": 734,
    "start_time": "2021-07-05T14:31:25.518Z"
   },
   {
    "duration": 694,
    "start_time": "2021-07-05T14:38:58.432Z"
   },
   {
    "duration": 604,
    "start_time": "2021-07-05T14:39:14.078Z"
   },
   {
    "duration": 4,
    "start_time": "2021-07-05T14:45:44.241Z"
   },
   {
    "duration": 533,
    "start_time": "2021-07-05T14:48:02.772Z"
   },
   {
    "duration": 602,
    "start_time": "2021-07-05T14:50:09.734Z"
   },
   {
    "duration": 7,
    "start_time": "2021-07-05T16:34:25.053Z"
   },
   {
    "duration": 5,
    "start_time": "2021-07-05T17:12:23.452Z"
   },
   {
    "duration": 5,
    "start_time": "2021-07-05T17:12:56.807Z"
   },
   {
    "duration": 1500,
    "start_time": "2021-07-05T17:31:27.855Z"
   },
   {
    "duration": 565,
    "start_time": "2021-07-05T17:31:29.357Z"
   },
   {
    "duration": 41,
    "start_time": "2021-07-05T17:31:29.925Z"
   },
   {
    "duration": 33,
    "start_time": "2021-07-05T17:31:29.969Z"
   },
   {
    "duration": 26,
    "start_time": "2021-07-05T17:31:30.005Z"
   },
   {
    "duration": 63,
    "start_time": "2021-07-05T17:31:30.033Z"
   },
   {
    "duration": 35,
    "start_time": "2021-07-05T17:31:30.099Z"
   },
   {
    "duration": 51,
    "start_time": "2021-07-05T17:31:30.140Z"
   },
   {
    "duration": 80,
    "start_time": "2021-07-05T17:31:30.194Z"
   },
   {
    "duration": 6,
    "start_time": "2021-07-05T17:31:30.276Z"
   },
   {
    "duration": 130,
    "start_time": "2021-07-05T17:31:30.285Z"
   },
   {
    "duration": 83,
    "start_time": "2021-07-05T17:31:30.418Z"
   },
   {
    "duration": 74,
    "start_time": "2021-07-05T17:31:30.503Z"
   },
   {
    "duration": 18,
    "start_time": "2021-07-05T17:31:30.579Z"
   },
   {
    "duration": 96,
    "start_time": "2021-07-05T17:31:30.600Z"
   },
   {
    "duration": 43,
    "start_time": "2021-07-05T17:31:30.698Z"
   },
   {
    "duration": 64,
    "start_time": "2021-07-05T17:31:30.744Z"
   },
   {
    "duration": 64,
    "start_time": "2021-07-05T17:31:30.810Z"
   },
   {
    "duration": 20,
    "start_time": "2021-07-05T17:31:30.876Z"
   },
   {
    "duration": 30,
    "start_time": "2021-07-05T17:31:30.898Z"
   },
   {
    "duration": 74,
    "start_time": "2021-07-05T17:31:30.930Z"
   },
   {
    "duration": 28,
    "start_time": "2021-07-05T17:31:31.007Z"
   },
   {
    "duration": 13,
    "start_time": "2021-07-05T17:31:31.071Z"
   },
   {
    "duration": 1277,
    "start_time": "2021-07-05T17:31:31.087Z"
   },
   {
    "duration": 18,
    "start_time": "2021-07-05T17:31:32.367Z"
   },
   {
    "duration": 21,
    "start_time": "2021-07-05T17:31:32.387Z"
   },
   {
    "duration": 26,
    "start_time": "2021-07-05T17:31:32.411Z"
   },
   {
    "duration": 8,
    "start_time": "2021-07-05T17:31:32.467Z"
   },
   {
    "duration": 10,
    "start_time": "2021-07-05T17:31:32.478Z"
   },
   {
    "duration": 642,
    "start_time": "2021-07-05T17:31:32.490Z"
   },
   {
    "duration": 8,
    "start_time": "2021-07-05T17:31:33.135Z"
   },
   {
    "duration": 27,
    "start_time": "2021-07-05T17:31:33.145Z"
   },
   {
    "duration": 605,
    "start_time": "2021-07-05T17:31:33.175Z"
   },
   {
    "duration": 9,
    "start_time": "2021-07-05T17:31:33.783Z"
   },
   {
    "duration": 9,
    "start_time": "2021-07-05T17:31:33.795Z"
   },
   {
    "duration": 632,
    "start_time": "2021-07-05T17:31:33.806Z"
   },
   {
    "duration": 31,
    "start_time": "2021-07-05T17:31:34.441Z"
   },
   {
    "duration": 10,
    "start_time": "2021-07-05T17:31:34.475Z"
   },
   {
    "duration": 7,
    "start_time": "2021-07-05T17:31:34.487Z"
   },
   {
    "duration": 8,
    "start_time": "2021-07-05T17:31:34.497Z"
   },
   {
    "duration": 972,
    "start_time": "2021-07-05T17:31:34.508Z"
   },
   {
    "duration": 8,
    "start_time": "2021-07-05T17:31:35.482Z"
   },
   {
    "duration": 11,
    "start_time": "2021-07-05T17:31:35.492Z"
   },
   {
    "duration": 9,
    "start_time": "2021-07-05T17:31:35.505Z"
   },
   {
    "duration": 8,
    "start_time": "2021-07-05T17:31:35.517Z"
   },
   {
    "duration": 47,
    "start_time": "2021-07-05T17:31:35.527Z"
   },
   {
    "duration": 19,
    "start_time": "2021-07-05T17:31:35.577Z"
   },
   {
    "duration": 7,
    "start_time": "2021-07-05T17:31:35.599Z"
   },
   {
    "duration": 8,
    "start_time": "2021-07-05T17:31:35.609Z"
   },
   {
    "duration": 8,
    "start_time": "2021-07-05T17:31:35.620Z"
   },
   {
    "duration": 1628,
    "start_time": "2021-07-05T17:47:22.794Z"
   },
   {
    "duration": 718,
    "start_time": "2021-07-05T17:47:24.425Z"
   },
   {
    "duration": 43,
    "start_time": "2021-07-05T17:47:25.146Z"
   },
   {
    "duration": 34,
    "start_time": "2021-07-05T17:47:25.192Z"
   },
   {
    "duration": 55,
    "start_time": "2021-07-05T17:47:25.229Z"
   },
   {
    "duration": 18,
    "start_time": "2021-07-05T17:47:25.286Z"
   },
   {
    "duration": 23,
    "start_time": "2021-07-05T17:47:25.306Z"
   },
   {
    "duration": 30,
    "start_time": "2021-07-05T17:47:25.370Z"
   },
   {
    "duration": 84,
    "start_time": "2021-07-05T17:47:25.403Z"
   },
   {
    "duration": 6,
    "start_time": "2021-07-05T17:47:25.489Z"
   },
   {
    "duration": 113,
    "start_time": "2021-07-05T17:47:25.497Z"
   },
   {
    "duration": 90,
    "start_time": "2021-07-05T17:47:25.612Z"
   },
   {
    "duration": 63,
    "start_time": "2021-07-05T17:47:25.704Z"
   },
   {
    "duration": 21,
    "start_time": "2021-07-05T17:47:25.769Z"
   },
   {
    "duration": 123,
    "start_time": "2021-07-05T17:47:25.792Z"
   },
   {
    "duration": 73,
    "start_time": "2021-07-05T17:47:25.918Z"
   },
   {
    "duration": 75,
    "start_time": "2021-07-05T17:47:25.995Z"
   },
   {
    "duration": 59,
    "start_time": "2021-07-05T17:47:26.073Z"
   },
   {
    "duration": 54,
    "start_time": "2021-07-05T17:47:26.135Z"
   },
   {
    "duration": 40,
    "start_time": "2021-07-05T17:47:26.192Z"
   },
   {
    "duration": 77,
    "start_time": "2021-07-05T17:47:26.235Z"
   },
   {
    "duration": 65,
    "start_time": "2021-07-05T17:47:26.314Z"
   },
   {
    "duration": 4,
    "start_time": "2021-07-05T17:47:26.384Z"
   },
   {
    "duration": 1231,
    "start_time": "2021-07-05T17:47:26.391Z"
   },
   {
    "duration": 19,
    "start_time": "2021-07-05T17:47:27.624Z"
   },
   {
    "duration": 37,
    "start_time": "2021-07-05T17:47:27.645Z"
   },
   {
    "duration": 27,
    "start_time": "2021-07-05T17:47:27.684Z"
   },
   {
    "duration": 9,
    "start_time": "2021-07-05T17:47:27.713Z"
   },
   {
    "duration": 50,
    "start_time": "2021-07-05T17:47:27.724Z"
   },
   {
    "duration": 784,
    "start_time": "2021-07-05T17:47:27.777Z"
   },
   {
    "duration": 8,
    "start_time": "2021-07-05T17:47:28.567Z"
   },
   {
    "duration": 10,
    "start_time": "2021-07-05T17:47:28.578Z"
   },
   {
    "duration": 632,
    "start_time": "2021-07-05T17:47:28.591Z"
   },
   {
    "duration": 27,
    "start_time": "2021-07-05T17:47:29.226Z"
   },
   {
    "duration": 20,
    "start_time": "2021-07-05T17:47:29.257Z"
   },
   {
    "duration": 587,
    "start_time": "2021-07-05T17:47:29.280Z"
   },
   {
    "duration": 19,
    "start_time": "2021-07-05T17:47:29.870Z"
   },
   {
    "duration": 16,
    "start_time": "2021-07-05T17:47:29.892Z"
   },
   {
    "duration": 9,
    "start_time": "2021-07-05T17:47:29.911Z"
   },
   {
    "duration": 44,
    "start_time": "2021-07-05T17:47:29.923Z"
   },
   {
    "duration": 1075,
    "start_time": "2021-07-05T17:47:29.970Z"
   },
   {
    "duration": 20,
    "start_time": "2021-07-05T17:47:31.047Z"
   },
   {
    "duration": 9,
    "start_time": "2021-07-05T17:47:31.070Z"
   },
   {
    "duration": 25,
    "start_time": "2021-07-05T17:47:31.082Z"
   },
   {
    "duration": 18,
    "start_time": "2021-07-05T17:47:31.110Z"
   },
   {
    "duration": 29,
    "start_time": "2021-07-05T17:47:31.131Z"
   },
   {
    "duration": 49,
    "start_time": "2021-07-05T17:47:31.162Z"
   },
   {
    "duration": 31,
    "start_time": "2021-07-05T17:47:31.214Z"
   },
   {
    "duration": 24,
    "start_time": "2021-07-05T17:47:31.248Z"
   },
   {
    "duration": 25,
    "start_time": "2021-07-05T17:47:31.274Z"
   },
   {
    "duration": 1400,
    "start_time": "2021-07-05T19:23:40.711Z"
   },
   {
    "duration": 510,
    "start_time": "2021-07-05T19:23:42.114Z"
   },
   {
    "duration": 39,
    "start_time": "2021-07-05T19:23:42.627Z"
   },
   {
    "duration": 32,
    "start_time": "2021-07-05T19:23:42.669Z"
   },
   {
    "duration": 26,
    "start_time": "2021-07-05T19:23:42.703Z"
   },
   {
    "duration": 17,
    "start_time": "2021-07-05T19:23:42.755Z"
   },
   {
    "duration": 20,
    "start_time": "2021-07-05T19:23:42.774Z"
   },
   {
    "duration": 63,
    "start_time": "2021-07-05T19:23:42.797Z"
   },
   {
    "duration": 56,
    "start_time": "2021-07-05T19:23:42.863Z"
   },
   {
    "duration": 5,
    "start_time": "2021-07-05T19:23:42.922Z"
   },
   {
    "duration": 105,
    "start_time": "2021-07-05T19:23:42.929Z"
   },
   {
    "duration": 81,
    "start_time": "2021-07-05T19:23:43.037Z"
   },
   {
    "duration": 71,
    "start_time": "2021-07-05T19:23:43.121Z"
   },
   {
    "duration": 19,
    "start_time": "2021-07-05T19:23:43.194Z"
   },
   {
    "duration": 86,
    "start_time": "2021-07-05T19:23:43.215Z"
   },
   {
    "duration": 53,
    "start_time": "2021-07-05T19:23:43.303Z"
   },
   {
    "duration": 40,
    "start_time": "2021-07-05T19:23:43.358Z"
   },
   {
    "duration": 61,
    "start_time": "2021-07-05T19:23:43.400Z"
   },
   {
    "duration": 18,
    "start_time": "2021-07-05T19:23:43.463Z"
   },
   {
    "duration": 24,
    "start_time": "2021-07-05T19:23:43.484Z"
   },
   {
    "duration": 70,
    "start_time": "2021-07-05T19:23:43.510Z"
   },
   {
    "duration": 25,
    "start_time": "2021-07-05T19:23:43.582Z"
   },
   {
    "duration": 4,
    "start_time": "2021-07-05T19:23:43.613Z"
   },
   {
    "duration": 1166,
    "start_time": "2021-07-05T19:23:43.620Z"
   },
   {
    "duration": 15,
    "start_time": "2021-07-05T19:23:44.789Z"
   },
   {
    "duration": 22,
    "start_time": "2021-07-05T19:23:44.807Z"
   },
   {
    "duration": 43,
    "start_time": "2021-07-05T19:23:44.831Z"
   },
   {
    "duration": 8,
    "start_time": "2021-07-05T19:23:44.876Z"
   },
   {
    "duration": 7,
    "start_time": "2021-07-05T19:23:44.886Z"
   },
   {
    "duration": 585,
    "start_time": "2021-07-05T19:23:44.896Z"
   },
   {
    "duration": 8,
    "start_time": "2021-07-05T19:23:45.485Z"
   },
   {
    "duration": 19,
    "start_time": "2021-07-05T19:23:45.495Z"
   },
   {
    "duration": 579,
    "start_time": "2021-07-05T19:23:45.517Z"
   },
   {
    "duration": 8,
    "start_time": "2021-07-05T19:23:46.099Z"
   },
   {
    "duration": 11,
    "start_time": "2021-07-05T19:23:46.109Z"
   },
   {
    "duration": 585,
    "start_time": "2021-07-05T19:23:46.122Z"
   },
   {
    "duration": 16,
    "start_time": "2021-07-05T19:23:46.710Z"
   },
   {
    "duration": 28,
    "start_time": "2021-07-05T19:23:46.728Z"
   },
   {
    "duration": 7,
    "start_time": "2021-07-05T19:23:46.759Z"
   },
   {
    "duration": 8,
    "start_time": "2021-07-05T19:23:46.768Z"
   },
   {
    "duration": 911,
    "start_time": "2021-07-05T19:23:46.779Z"
   },
   {
    "duration": 7,
    "start_time": "2021-07-05T19:23:47.692Z"
   },
   {
    "duration": 8,
    "start_time": "2021-07-05T19:23:47.702Z"
   },
   {
    "duration": 9,
    "start_time": "2021-07-05T19:23:47.712Z"
   },
   {
    "duration": 33,
    "start_time": "2021-07-05T19:23:47.723Z"
   },
   {
    "duration": 18,
    "start_time": "2021-07-05T19:23:47.758Z"
   },
   {
    "duration": 14,
    "start_time": "2021-07-05T19:23:47.779Z"
   },
   {
    "duration": 9,
    "start_time": "2021-07-05T19:23:47.796Z"
   },
   {
    "duration": 52,
    "start_time": "2021-07-05T19:23:47.807Z"
   },
   {
    "duration": 10,
    "start_time": "2021-07-05T19:23:47.862Z"
   },
   {
    "duration": 22,
    "start_time": "2021-07-05T19:43:48.029Z"
   },
   {
    "duration": 17,
    "start_time": "2021-07-05T19:43:55.160Z"
   },
   {
    "duration": 66,
    "start_time": "2021-07-06T10:08:13.385Z"
   },
   {
    "duration": 1083,
    "start_time": "2021-07-06T10:08:25.634Z"
   },
   {
    "duration": 281,
    "start_time": "2021-07-06T10:08:49.416Z"
   },
   {
    "duration": 1088,
    "start_time": "2021-07-06T10:08:59.515Z"
   },
   {
    "duration": 437,
    "start_time": "2021-07-06T10:09:00.605Z"
   },
   {
    "duration": 29,
    "start_time": "2021-07-06T10:09:01.044Z"
   },
   {
    "duration": 21,
    "start_time": "2021-07-06T10:09:01.075Z"
   },
   {
    "duration": 21,
    "start_time": "2021-07-06T10:09:01.151Z"
   },
   {
    "duration": 11,
    "start_time": "2021-07-06T10:09:01.173Z"
   },
   {
    "duration": 15,
    "start_time": "2021-07-06T10:09:01.186Z"
   },
   {
    "duration": 23,
    "start_time": "2021-07-06T10:09:01.203Z"
   },
   {
    "duration": 60,
    "start_time": "2021-07-06T10:09:01.228Z"
   },
   {
    "duration": 4,
    "start_time": "2021-07-06T10:09:01.290Z"
   },
   {
    "duration": 65,
    "start_time": "2021-07-06T10:09:01.296Z"
   },
   {
    "duration": 70,
    "start_time": "2021-07-06T10:09:01.363Z"
   },
   {
    "duration": 61,
    "start_time": "2021-07-06T10:09:01.435Z"
   },
   {
    "duration": 13,
    "start_time": "2021-07-06T10:09:01.499Z"
   },
   {
    "duration": 72,
    "start_time": "2021-07-06T10:09:01.514Z"
   },
   {
    "duration": 31,
    "start_time": "2021-07-06T10:09:01.587Z"
   },
   {
    "duration": 32,
    "start_time": "2021-07-06T10:09:01.619Z"
   },
   {
    "duration": 54,
    "start_time": "2021-07-06T10:09:01.652Z"
   },
   {
    "duration": 12,
    "start_time": "2021-07-06T10:09:01.708Z"
   },
   {
    "duration": 25,
    "start_time": "2021-07-06T10:09:01.722Z"
   },
   {
    "duration": 48,
    "start_time": "2021-07-06T10:09:01.749Z"
   },
   {
    "duration": 18,
    "start_time": "2021-07-06T10:09:01.798Z"
   },
   {
    "duration": 3,
    "start_time": "2021-07-06T10:09:01.818Z"
   },
   {
    "duration": 633,
    "start_time": "2021-07-06T10:09:01.824Z"
   },
   {
    "duration": 13,
    "start_time": "2021-07-06T10:09:02.460Z"
   },
   {
    "duration": 22,
    "start_time": "2021-07-06T10:09:02.475Z"
   },
   {
    "duration": 19,
    "start_time": "2021-07-06T10:09:02.499Z"
   },
   {
    "duration": 7,
    "start_time": "2021-07-06T10:09:02.519Z"
   },
   {
    "duration": 6,
    "start_time": "2021-07-06T10:09:02.528Z"
   },
   {
    "duration": 418,
    "start_time": "2021-07-06T10:09:02.535Z"
   },
   {
    "duration": 7,
    "start_time": "2021-07-06T10:09:02.954Z"
   },
   {
    "duration": 22,
    "start_time": "2021-07-06T10:09:02.963Z"
   },
   {
    "duration": 386,
    "start_time": "2021-07-06T10:09:02.986Z"
   },
   {
    "duration": 12,
    "start_time": "2021-07-06T10:09:03.374Z"
   },
   {
    "duration": 6,
    "start_time": "2021-07-06T10:09:03.387Z"
   },
   {
    "duration": 391,
    "start_time": "2021-07-06T10:09:03.395Z"
   },
   {
    "duration": 11,
    "start_time": "2021-07-06T10:09:03.788Z"
   },
   {
    "duration": 6,
    "start_time": "2021-07-06T10:09:03.801Z"
   },
   {
    "duration": 5,
    "start_time": "2021-07-06T10:09:03.809Z"
   },
   {
    "duration": 5,
    "start_time": "2021-07-06T10:09:03.816Z"
   },
   {
    "duration": 655,
    "start_time": "2021-07-06T10:09:03.822Z"
   },
   {
    "duration": 10,
    "start_time": "2021-07-06T10:09:04.479Z"
   },
   {
    "duration": 5,
    "start_time": "2021-07-06T10:09:04.490Z"
   },
   {
    "duration": 7,
    "start_time": "2021-07-06T10:09:04.496Z"
   },
   {
    "duration": 4,
    "start_time": "2021-07-06T10:09:04.505Z"
   },
   {
    "duration": 14,
    "start_time": "2021-07-06T10:09:04.511Z"
   },
   {
    "duration": 10,
    "start_time": "2021-07-06T10:09:04.527Z"
   },
   {
    "duration": 5,
    "start_time": "2021-07-06T10:09:04.539Z"
   },
   {
    "duration": 43,
    "start_time": "2021-07-06T10:09:04.546Z"
   },
   {
    "duration": 9,
    "start_time": "2021-07-06T10:09:04.591Z"
   },
   {
    "duration": 380,
    "start_time": "2021-07-06T10:12:55.829Z"
   },
   {
    "duration": 372,
    "start_time": "2021-07-06T10:13:44.403Z"
   },
   {
    "duration": 368,
    "start_time": "2021-07-06T10:13:57.024Z"
   },
   {
    "duration": 18,
    "start_time": "2021-07-06T10:39:00.453Z"
   },
   {
    "duration": 16,
    "start_time": "2021-07-06T10:39:54.098Z"
   },
   {
    "duration": 24,
    "start_time": "2021-07-06T10:41:35.951Z"
   },
   {
    "duration": 24,
    "start_time": "2021-07-06T10:42:00.678Z"
   },
   {
    "duration": 19,
    "start_time": "2021-07-06T10:42:13.035Z"
   },
   {
    "duration": 1122,
    "start_time": "2021-07-06T10:44:55.935Z"
   },
   {
    "duration": 413,
    "start_time": "2021-07-06T10:44:57.059Z"
   },
   {
    "duration": 32,
    "start_time": "2021-07-06T10:44:57.475Z"
   },
   {
    "duration": 26,
    "start_time": "2021-07-06T10:44:57.509Z"
   },
   {
    "duration": 50,
    "start_time": "2021-07-06T10:44:57.537Z"
   },
   {
    "duration": 12,
    "start_time": "2021-07-06T10:44:57.589Z"
   },
   {
    "duration": 16,
    "start_time": "2021-07-06T10:44:57.603Z"
   },
   {
    "duration": 27,
    "start_time": "2021-07-06T10:44:57.621Z"
   },
   {
    "duration": 83,
    "start_time": "2021-07-06T10:44:57.650Z"
   },
   {
    "duration": 20,
    "start_time": "2021-07-06T10:44:57.735Z"
   },
   {
    "duration": 29,
    "start_time": "2021-07-06T10:44:57.757Z"
   },
   {
    "duration": 74,
    "start_time": "2021-07-06T10:44:57.788Z"
   },
   {
    "duration": 77,
    "start_time": "2021-07-06T10:44:57.864Z"
   },
   {
    "duration": 59,
    "start_time": "2021-07-06T10:44:57.943Z"
   },
   {
    "duration": 14,
    "start_time": "2021-07-06T10:44:58.003Z"
   },
   {
    "duration": 73,
    "start_time": "2021-07-06T10:44:58.019Z"
   },
   {
    "duration": 32,
    "start_time": "2021-07-06T10:44:58.094Z"
   },
   {
    "duration": 32,
    "start_time": "2021-07-06T10:44:58.128Z"
   },
   {
    "duration": 51,
    "start_time": "2021-07-06T10:44:58.162Z"
   },
   {
    "duration": 14,
    "start_time": "2021-07-06T10:44:58.215Z"
   },
   {
    "duration": 19,
    "start_time": "2021-07-06T10:44:58.230Z"
   },
   {
    "duration": 57,
    "start_time": "2021-07-06T10:44:58.250Z"
   },
   {
    "duration": 19,
    "start_time": "2021-07-06T10:44:58.311Z"
   },
   {
    "duration": 4,
    "start_time": "2021-07-06T10:44:58.333Z"
   },
   {
    "duration": 682,
    "start_time": "2021-07-06T10:44:58.339Z"
   },
   {
    "duration": 13,
    "start_time": "2021-07-06T10:44:59.023Z"
   },
   {
    "duration": 15,
    "start_time": "2021-07-06T10:44:59.038Z"
   },
   {
    "duration": 40,
    "start_time": "2021-07-06T10:44:59.055Z"
   },
   {
    "duration": 7,
    "start_time": "2021-07-06T10:44:59.097Z"
   },
   {
    "duration": 7,
    "start_time": "2021-07-06T10:44:59.106Z"
   },
   {
    "duration": 431,
    "start_time": "2021-07-06T10:44:59.115Z"
   },
   {
    "duration": 7,
    "start_time": "2021-07-06T10:44:59.547Z"
   },
   {
    "duration": 8,
    "start_time": "2021-07-06T10:44:59.556Z"
   },
   {
    "duration": 419,
    "start_time": "2021-07-06T10:44:59.566Z"
   },
   {
    "duration": 7,
    "start_time": "2021-07-06T10:44:59.987Z"
   },
   {
    "duration": 22,
    "start_time": "2021-07-06T10:44:59.995Z"
   },
   {
    "duration": 418,
    "start_time": "2021-07-06T10:45:00.019Z"
   },
   {
    "duration": 16,
    "start_time": "2021-07-06T10:45:00.440Z"
   },
   {
    "duration": 10,
    "start_time": "2021-07-06T10:45:00.458Z"
   },
   {
    "duration": 22,
    "start_time": "2021-07-06T10:45:00.470Z"
   },
   {
    "duration": 19,
    "start_time": "2021-07-06T10:45:00.494Z"
   },
   {
    "duration": 693,
    "start_time": "2021-07-06T10:45:00.515Z"
   },
   {
    "duration": 7,
    "start_time": "2021-07-06T10:45:01.209Z"
   },
   {
    "duration": 16,
    "start_time": "2021-07-06T10:45:01.218Z"
   },
   {
    "duration": 13,
    "start_time": "2021-07-06T10:45:01.236Z"
   },
   {
    "duration": 39,
    "start_time": "2021-07-06T10:45:01.251Z"
   },
   {
    "duration": 15,
    "start_time": "2021-07-06T10:45:01.292Z"
   },
   {
    "duration": 18,
    "start_time": "2021-07-06T10:45:01.309Z"
   },
   {
    "duration": 10,
    "start_time": "2021-07-06T10:45:01.329Z"
   },
   {
    "duration": 16,
    "start_time": "2021-07-06T10:45:01.340Z"
   },
   {
    "duration": 16,
    "start_time": "2021-07-06T10:45:01.358Z"
   },
   {
    "duration": 417,
    "start_time": "2021-07-06T13:35:01.457Z"
   },
   {
    "duration": 1536,
    "start_time": "2021-07-06T13:35:13.915Z"
   },
   {
    "duration": 532,
    "start_time": "2021-07-06T13:35:15.454Z"
   },
   {
    "duration": 45,
    "start_time": "2021-07-06T13:35:15.989Z"
   },
   {
    "duration": 41,
    "start_time": "2021-07-06T13:35:16.037Z"
   },
   {
    "duration": 26,
    "start_time": "2021-07-06T13:35:16.080Z"
   },
   {
    "duration": 16,
    "start_time": "2021-07-06T13:35:16.108Z"
   },
   {
    "duration": 55,
    "start_time": "2021-07-06T13:35:16.126Z"
   },
   {
    "duration": 31,
    "start_time": "2021-07-06T13:35:16.183Z"
   },
   {
    "duration": 101,
    "start_time": "2021-07-06T13:35:16.218Z"
   },
   {
    "duration": 107,
    "start_time": "2021-07-06T13:35:16.322Z"
   },
   {
    "duration": -45167,
    "start_time": "2021-07-06T13:36:01.600Z"
   },
   {
    "duration": -45176,
    "start_time": "2021-07-06T13:36:01.610Z"
   },
   {
    "duration": -45244,
    "start_time": "2021-07-06T13:36:01.679Z"
   },
   {
    "duration": -45276,
    "start_time": "2021-07-06T13:36:01.713Z"
   },
   {
    "duration": -45288,
    "start_time": "2021-07-06T13:36:01.726Z"
   },
   {
    "duration": -45299,
    "start_time": "2021-07-06T13:36:01.738Z"
   },
   {
    "duration": -45313,
    "start_time": "2021-07-06T13:36:01.754Z"
   },
   {
    "duration": -45320,
    "start_time": "2021-07-06T13:36:01.762Z"
   },
   {
    "duration": -45334,
    "start_time": "2021-07-06T13:36:01.777Z"
   },
   {
    "duration": -45342,
    "start_time": "2021-07-06T13:36:01.787Z"
   },
   {
    "duration": -45350,
    "start_time": "2021-07-06T13:36:01.797Z"
   },
   {
    "duration": -45620,
    "start_time": "2021-07-06T13:36:02.068Z"
   },
   {
    "duration": -45626,
    "start_time": "2021-07-06T13:36:02.076Z"
   },
   {
    "duration": -45661,
    "start_time": "2021-07-06T13:36:02.112Z"
   },
   {
    "duration": -45669,
    "start_time": "2021-07-06T13:36:02.122Z"
   },
   {
    "duration": -45706,
    "start_time": "2021-07-06T13:36:02.160Z"
   },
   {
    "duration": -45714,
    "start_time": "2021-07-06T13:36:02.170Z"
   },
   {
    "duration": -45743,
    "start_time": "2021-07-06T13:36:02.200Z"
   },
   {
    "duration": -45770,
    "start_time": "2021-07-06T13:36:02.228Z"
   },
   {
    "duration": -45780,
    "start_time": "2021-07-06T13:36:02.240Z"
   },
   {
    "duration": -45819,
    "start_time": "2021-07-06T13:36:02.280Z"
   },
   {
    "duration": -45830,
    "start_time": "2021-07-06T13:36:02.292Z"
   },
   {
    "duration": -45839,
    "start_time": "2021-07-06T13:36:02.302Z"
   },
   {
    "duration": -45843,
    "start_time": "2021-07-06T13:36:02.308Z"
   },
   {
    "duration": -45848,
    "start_time": "2021-07-06T13:36:02.315Z"
   },
   {
    "duration": -45855,
    "start_time": "2021-07-06T13:36:02.323Z"
   },
   {
    "duration": -45908,
    "start_time": "2021-07-06T13:36:02.377Z"
   },
   {
    "duration": -45918,
    "start_time": "2021-07-06T13:36:02.388Z"
   },
   {
    "duration": -45930,
    "start_time": "2021-07-06T13:36:02.402Z"
   },
   {
    "duration": -45935,
    "start_time": "2021-07-06T13:36:02.408Z"
   },
   {
    "duration": -45940,
    "start_time": "2021-07-06T13:36:02.414Z"
   },
   {
    "duration": -45952,
    "start_time": "2021-07-06T13:36:02.427Z"
   },
   {
    "duration": -45960,
    "start_time": "2021-07-06T13:36:02.437Z"
   },
   {
    "duration": -45964,
    "start_time": "2021-07-06T13:36:02.443Z"
   },
   {
    "duration": -45973,
    "start_time": "2021-07-06T13:36:02.453Z"
   },
   {
    "duration": -45980,
    "start_time": "2021-07-06T13:36:02.461Z"
   },
   {
    "duration": -45990,
    "start_time": "2021-07-06T13:36:02.472Z"
   },
   {
    "duration": -45995,
    "start_time": "2021-07-06T13:36:02.479Z"
   },
   {
    "duration": -46005,
    "start_time": "2021-07-06T13:36:02.490Z"
   },
   {
    "duration": -46010,
    "start_time": "2021-07-06T13:36:02.496Z"
   },
   {
    "duration": -46016,
    "start_time": "2021-07-06T13:36:02.504Z"
   },
   {
    "duration": -46020,
    "start_time": "2021-07-06T13:36:02.509Z"
   },
   {
    "duration": -46048,
    "start_time": "2021-07-06T13:36:02.538Z"
   },
   {
    "duration": 23,
    "start_time": "2021-07-06T13:35:31.435Z"
   },
   {
    "duration": 469,
    "start_time": "2021-07-06T13:38:26.372Z"
   },
   {
    "duration": 26,
    "start_time": "2021-07-06T13:38:55.724Z"
   },
   {
    "duration": 324,
    "start_time": "2021-07-06T13:40:43.447Z"
   },
   {
    "duration": 408,
    "start_time": "2021-07-06T13:40:56.465Z"
   },
   {
    "duration": 472,
    "start_time": "2021-07-06T13:57:57.284Z"
   },
   {
    "duration": 390,
    "start_time": "2021-07-06T18:53:22.234Z"
   },
   {
    "duration": 1581,
    "start_time": "2021-07-06T18:53:54.373Z"
   },
   {
    "duration": 548,
    "start_time": "2021-07-06T18:53:55.957Z"
   },
   {
    "duration": 44,
    "start_time": "2021-07-06T18:53:56.509Z"
   },
   {
    "duration": 35,
    "start_time": "2021-07-06T18:53:56.557Z"
   },
   {
    "duration": 27,
    "start_time": "2021-07-06T18:53:56.595Z"
   },
   {
    "duration": 45,
    "start_time": "2021-07-06T18:53:56.624Z"
   },
   {
    "duration": 24,
    "start_time": "2021-07-06T18:53:56.671Z"
   },
   {
    "duration": 27,
    "start_time": "2021-07-06T18:53:56.698Z"
   },
   {
    "duration": 459,
    "start_time": "2021-07-06T18:53:56.728Z"
   },
   {
    "duration": 61,
    "start_time": "2021-07-06T18:53:57.189Z"
   },
   {
    "duration": 497,
    "start_time": "2021-07-06T18:53:57.252Z"
   },
   {
    "duration": 35,
    "start_time": "2021-07-06T18:53:57.752Z"
   },
   {
    "duration": 5,
    "start_time": "2021-07-06T18:53:57.789Z"
   },
   {
    "duration": 131,
    "start_time": "2021-07-06T18:53:57.797Z"
   },
   {
    "duration": 88,
    "start_time": "2021-07-06T18:53:57.931Z"
   },
   {
    "duration": 64,
    "start_time": "2021-07-06T18:53:58.021Z"
   },
   {
    "duration": 18,
    "start_time": "2021-07-06T18:53:58.088Z"
   },
   {
    "duration": 86,
    "start_time": "2021-07-06T18:53:58.108Z"
   },
   {
    "duration": 40,
    "start_time": "2021-07-06T18:53:58.196Z"
   },
   {
    "duration": 63,
    "start_time": "2021-07-06T18:53:58.238Z"
   },
   {
    "duration": 68,
    "start_time": "2021-07-06T18:53:58.303Z"
   },
   {
    "duration": 19,
    "start_time": "2021-07-06T18:53:58.374Z"
   },
   {
    "duration": 27,
    "start_time": "2021-07-06T18:53:58.398Z"
   },
   {
    "duration": 78,
    "start_time": "2021-07-06T18:53:58.428Z"
   },
   {
    "duration": 70,
    "start_time": "2021-07-06T18:53:58.510Z"
   },
   {
    "duration": 4,
    "start_time": "2021-07-06T18:53:58.583Z"
   },
   {
    "duration": 1220,
    "start_time": "2021-07-06T18:53:58.589Z"
   },
   {
    "duration": 17,
    "start_time": "2021-07-06T18:53:59.812Z"
   },
   {
    "duration": 38,
    "start_time": "2021-07-06T18:53:59.832Z"
   },
   {
    "duration": 27,
    "start_time": "2021-07-06T18:53:59.872Z"
   },
   {
    "duration": 9,
    "start_time": "2021-07-06T18:53:59.901Z"
   },
   {
    "duration": 10,
    "start_time": "2021-07-06T18:53:59.912Z"
   },
   {
    "duration": 610,
    "start_time": "2021-07-06T18:53:59.968Z"
   },
   {
    "duration": 9,
    "start_time": "2021-07-06T18:54:00.580Z"
   },
   {
    "duration": 12,
    "start_time": "2021-07-06T18:54:00.592Z"
   },
   {
    "duration": 616,
    "start_time": "2021-07-06T18:54:00.606Z"
   },
   {
    "duration": 9,
    "start_time": "2021-07-06T18:54:01.225Z"
   },
   {
    "duration": 34,
    "start_time": "2021-07-06T18:54:01.236Z"
   },
   {
    "duration": 697,
    "start_time": "2021-07-06T18:54:01.272Z"
   },
   {
    "duration": 18,
    "start_time": "2021-07-06T18:54:01.972Z"
   },
   {
    "duration": 19,
    "start_time": "2021-07-06T18:54:01.992Z"
   },
   {
    "duration": 15,
    "start_time": "2021-07-06T18:54:02.014Z"
   },
   {
    "duration": 11,
    "start_time": "2021-07-06T18:54:02.032Z"
   },
   {
    "duration": 887,
    "start_time": "2021-07-06T18:54:02.066Z"
   },
   {
    "duration": 18,
    "start_time": "2021-07-06T18:54:02.956Z"
   },
   {
    "duration": 7,
    "start_time": "2021-07-06T18:54:02.976Z"
   },
   {
    "duration": 7,
    "start_time": "2021-07-06T18:54:02.986Z"
   },
   {
    "duration": 6,
    "start_time": "2021-07-06T18:54:02.996Z"
   },
   {
    "duration": 63,
    "start_time": "2021-07-06T18:54:03.004Z"
   },
   {
    "duration": 15,
    "start_time": "2021-07-06T18:54:03.069Z"
   },
   {
    "duration": 8,
    "start_time": "2021-07-06T18:54:03.087Z"
   },
   {
    "duration": 7,
    "start_time": "2021-07-06T18:54:03.097Z"
   },
   {
    "duration": 8,
    "start_time": "2021-07-06T18:54:03.107Z"
   },
   {
    "duration": 432,
    "start_time": "2021-07-06T19:03:44.706Z"
   },
   {
    "duration": 4,
    "start_time": "2021-07-06T19:04:14.281Z"
   },
   {
    "duration": 5,
    "start_time": "2021-07-06T19:04:51.485Z"
   },
   {
    "duration": 16,
    "start_time": "2021-07-06T19:05:34.807Z"
   },
   {
    "duration": 904,
    "start_time": "2021-07-06T19:11:32.707Z"
   },
   {
    "duration": 769,
    "start_time": "2021-07-06T19:12:55.672Z"
   },
   {
    "duration": 755,
    "start_time": "2021-07-06T19:13:25.276Z"
   },
   {
    "duration": 434,
    "start_time": "2021-07-06T19:15:14.169Z"
   },
   {
    "duration": 451,
    "start_time": "2021-07-06T19:16:51.312Z"
   },
   {
    "duration": 18,
    "start_time": "2021-07-06T19:20:43.491Z"
   },
   {
    "duration": 538,
    "start_time": "2021-07-06T19:24:07.762Z"
   },
   {
    "duration": 438,
    "start_time": "2021-07-06T19:26:59.069Z"
   },
   {
    "duration": 11,
    "start_time": "2021-07-06T19:28:20.120Z"
   },
   {
    "duration": 69,
    "start_time": "2021-07-06T19:36:55.583Z"
   },
   {
    "duration": 32,
    "start_time": "2021-07-06T19:37:26.033Z"
   },
   {
    "duration": 29,
    "start_time": "2021-07-06T19:42:48.527Z"
   },
   {
    "duration": 1596,
    "start_time": "2021-07-06T19:46:22.283Z"
   },
   {
    "duration": 5428,
    "start_time": "2021-07-06T19:46:23.881Z"
   },
   {
    "duration": 42,
    "start_time": "2021-07-06T19:46:29.312Z"
   },
   {
    "duration": 32,
    "start_time": "2021-07-06T19:46:29.357Z"
   },
   {
    "duration": 28,
    "start_time": "2021-07-06T19:46:29.392Z"
   },
   {
    "duration": 45,
    "start_time": "2021-07-06T19:46:29.422Z"
   },
   {
    "duration": 22,
    "start_time": "2021-07-06T19:46:29.470Z"
   },
   {
    "duration": 30,
    "start_time": "2021-07-06T19:46:29.498Z"
   },
   {
    "duration": 720,
    "start_time": "2021-07-06T19:46:29.533Z"
   },
   {
    "duration": 21,
    "start_time": "2021-07-06T19:46:30.256Z"
   },
   {
    "duration": 107,
    "start_time": "2021-07-06T19:46:30.281Z"
   },
   {
    "duration": 23,
    "start_time": "2021-07-06T19:46:30.392Z"
   },
   {
    "duration": 752,
    "start_time": "2021-07-06T19:46:30.418Z"
   },
   {
    "duration": 9,
    "start_time": "2021-07-06T19:46:31.172Z"
   },
   {
    "duration": 53,
    "start_time": "2021-07-06T19:46:31.184Z"
   },
   {
    "duration": 32,
    "start_time": "2021-07-06T19:46:31.240Z"
   },
   {
    "duration": 115,
    "start_time": "2021-07-06T19:46:31.275Z"
   },
   {
    "duration": 108,
    "start_time": "2021-07-06T19:46:31.393Z"
   },
   {
    "duration": 97,
    "start_time": "2021-07-06T19:46:31.505Z"
   },
   {
    "duration": 24,
    "start_time": "2021-07-06T19:46:31.605Z"
   },
   {
    "duration": 89,
    "start_time": "2021-07-06T19:46:31.632Z"
   },
   {
    "duration": 67,
    "start_time": "2021-07-06T19:46:31.724Z"
   },
   {
    "duration": 69,
    "start_time": "2021-07-06T19:46:31.800Z"
   },
   {
    "duration": 46,
    "start_time": "2021-07-06T19:46:31.873Z"
   },
   {
    "duration": 46,
    "start_time": "2021-07-06T19:46:31.921Z"
   },
   {
    "duration": 27,
    "start_time": "2021-07-06T19:46:31.970Z"
   },
   {
    "duration": 75,
    "start_time": "2021-07-06T19:46:32.000Z"
   },
   {
    "duration": 28,
    "start_time": "2021-07-06T19:46:32.078Z"
   },
   {
    "duration": 4,
    "start_time": "2021-07-06T19:46:32.108Z"
   },
   {
    "duration": 1358,
    "start_time": "2021-07-06T19:46:32.115Z"
   },
   {
    "duration": 24,
    "start_time": "2021-07-06T19:46:33.476Z"
   },
   {
    "duration": 20,
    "start_time": "2021-07-06T19:46:33.502Z"
   },
   {
    "duration": 53,
    "start_time": "2021-07-06T19:46:33.524Z"
   },
   {
    "duration": 9,
    "start_time": "2021-07-06T19:46:33.579Z"
   },
   {
    "duration": 9,
    "start_time": "2021-07-06T19:46:33.591Z"
   },
   {
    "duration": 684,
    "start_time": "2021-07-06T19:46:33.603Z"
   },
   {
    "duration": 12,
    "start_time": "2021-07-06T19:46:34.290Z"
   },
   {
    "duration": 11,
    "start_time": "2021-07-06T19:46:34.305Z"
   },
   {
    "duration": 624,
    "start_time": "2021-07-06T19:46:34.319Z"
   },
   {
    "duration": 9,
    "start_time": "2021-07-06T19:46:34.945Z"
   },
   {
    "duration": 9,
    "start_time": "2021-07-06T19:46:34.968Z"
   },
   {
    "duration": 704,
    "start_time": "2021-07-06T19:46:34.980Z"
   },
   {
    "duration": 19,
    "start_time": "2021-07-06T19:46:35.686Z"
   },
   {
    "duration": 13,
    "start_time": "2021-07-06T19:46:35.708Z"
   },
   {
    "duration": 13,
    "start_time": "2021-07-06T19:46:35.725Z"
   },
   {
    "duration": 7,
    "start_time": "2021-07-06T19:46:35.769Z"
   },
   {
    "duration": 1393,
    "start_time": "2021-07-06T19:46:35.779Z"
   },
   {
    "duration": 11,
    "start_time": "2021-07-06T19:46:37.175Z"
   },
   {
    "duration": 7,
    "start_time": "2021-07-06T19:46:37.190Z"
   },
   {
    "duration": 10,
    "start_time": "2021-07-06T19:46:37.200Z"
   },
   {
    "duration": 8,
    "start_time": "2021-07-06T19:46:37.213Z"
   },
   {
    "duration": 14,
    "start_time": "2021-07-06T19:46:37.268Z"
   },
   {
    "duration": 20,
    "start_time": "2021-07-06T19:46:37.284Z"
   },
   {
    "duration": 9,
    "start_time": "2021-07-06T19:46:37.307Z"
   },
   {
    "duration": 71,
    "start_time": "2021-07-06T19:46:37.319Z"
   },
   {
    "duration": 14,
    "start_time": "2021-07-06T19:46:37.392Z"
   },
   {
    "duration": 1522,
    "start_time": "2021-07-06T19:56:00.286Z"
   },
   {
    "duration": 552,
    "start_time": "2021-07-06T19:56:01.811Z"
   },
   {
    "duration": 42,
    "start_time": "2021-07-06T19:56:02.366Z"
   },
   {
    "duration": 56,
    "start_time": "2021-07-06T19:56:02.411Z"
   },
   {
    "duration": 27,
    "start_time": "2021-07-06T19:56:02.469Z"
   },
   {
    "duration": 19,
    "start_time": "2021-07-06T19:56:02.499Z"
   },
   {
    "duration": 55,
    "start_time": "2021-07-06T19:56:02.520Z"
   },
   {
    "duration": 23,
    "start_time": "2021-07-06T19:56:02.579Z"
   },
   {
    "duration": 486,
    "start_time": "2021-07-06T19:56:02.605Z"
   },
   {
    "duration": 12,
    "start_time": "2021-07-06T19:56:03.094Z"
   },
   {
    "duration": 84,
    "start_time": "2021-07-06T19:56:03.108Z"
   },
   {
    "duration": 18,
    "start_time": "2021-07-06T19:56:03.194Z"
   },
   {
    "duration": 442,
    "start_time": "2021-07-06T19:56:03.214Z"
   },
   {
    "duration": 14,
    "start_time": "2021-07-06T19:56:03.659Z"
   },
   {
    "duration": 42,
    "start_time": "2021-07-06T19:56:03.676Z"
   },
   {
    "duration": 5,
    "start_time": "2021-07-06T19:56:03.721Z"
   },
   {
    "duration": 118,
    "start_time": "2021-07-06T19:56:03.729Z"
   },
   {
    "duration": 71,
    "start_time": "2021-07-06T19:56:03.849Z"
   },
   {
    "duration": 71,
    "start_time": "2021-07-06T19:56:03.923Z"
   },
   {
    "duration": 18,
    "start_time": "2021-07-06T19:56:03.997Z"
   },
   {
    "duration": 85,
    "start_time": "2021-07-06T19:56:04.017Z"
   },
   {
    "duration": 37,
    "start_time": "2021-07-06T19:56:04.105Z"
   },
   {
    "duration": 57,
    "start_time": "2021-07-06T19:56:04.147Z"
   },
   {
    "duration": 64,
    "start_time": "2021-07-06T19:56:04.208Z"
   },
   {
    "duration": 19,
    "start_time": "2021-07-06T19:56:04.275Z"
   },
   {
    "duration": 26,
    "start_time": "2021-07-06T19:56:04.297Z"
   },
   {
    "duration": 73,
    "start_time": "2021-07-06T19:56:04.325Z"
   },
   {
    "duration": 27,
    "start_time": "2021-07-06T19:56:04.401Z"
   },
   {
    "duration": 37,
    "start_time": "2021-07-06T19:56:04.431Z"
   },
   {
    "duration": 1231,
    "start_time": "2021-07-06T19:56:04.471Z"
   },
   {
    "duration": 18,
    "start_time": "2021-07-06T19:56:05.705Z"
   },
   {
    "duration": 44,
    "start_time": "2021-07-06T19:56:05.726Z"
   },
   {
    "duration": 37,
    "start_time": "2021-07-06T19:56:05.772Z"
   },
   {
    "duration": 13,
    "start_time": "2021-07-06T19:56:05.812Z"
   },
   {
    "duration": 39,
    "start_time": "2021-07-06T19:56:05.828Z"
   },
   {
    "duration": 587,
    "start_time": "2021-07-06T19:56:05.870Z"
   },
   {
    "duration": 10,
    "start_time": "2021-07-06T19:56:06.467Z"
   },
   {
    "duration": 8,
    "start_time": "2021-07-06T19:56:06.480Z"
   },
   {
    "duration": 608,
    "start_time": "2021-07-06T19:56:06.490Z"
   },
   {
    "duration": 9,
    "start_time": "2021-07-06T19:56:07.101Z"
   },
   {
    "duration": 11,
    "start_time": "2021-07-06T19:56:07.113Z"
   },
   {
    "duration": 691,
    "start_time": "2021-07-06T19:56:07.127Z"
   },
   {
    "duration": 18,
    "start_time": "2021-07-06T19:56:07.821Z"
   },
   {
    "duration": 31,
    "start_time": "2021-07-06T19:56:07.842Z"
   },
   {
    "duration": 8,
    "start_time": "2021-07-06T19:56:07.876Z"
   },
   {
    "duration": 8,
    "start_time": "2021-07-06T19:56:07.887Z"
   },
   {
    "duration": 910,
    "start_time": "2021-07-06T19:56:07.897Z"
   },
   {
    "duration": 7,
    "start_time": "2021-07-06T19:56:08.810Z"
   },
   {
    "duration": 10,
    "start_time": "2021-07-06T19:56:08.820Z"
   },
   {
    "duration": 35,
    "start_time": "2021-07-06T19:56:08.833Z"
   },
   {
    "duration": 17,
    "start_time": "2021-07-06T19:56:08.871Z"
   },
   {
    "duration": 19,
    "start_time": "2021-07-06T19:56:08.891Z"
   },
   {
    "duration": 7,
    "start_time": "2021-07-06T19:56:08.913Z"
   },
   {
    "duration": 8,
    "start_time": "2021-07-06T19:56:08.922Z"
   },
   {
    "duration": 37,
    "start_time": "2021-07-06T19:56:08.932Z"
   },
   {
    "duration": 1519,
    "start_time": "2021-07-07T06:54:55.150Z"
   },
   {
    "duration": 544,
    "start_time": "2021-07-07T06:54:56.672Z"
   },
   {
    "duration": 41,
    "start_time": "2021-07-07T06:54:57.219Z"
   },
   {
    "duration": 32,
    "start_time": "2021-07-07T06:54:57.263Z"
   },
   {
    "duration": 27,
    "start_time": "2021-07-07T06:54:57.297Z"
   },
   {
    "duration": 17,
    "start_time": "2021-07-07T06:54:57.326Z"
   },
   {
    "duration": 21,
    "start_time": "2021-07-07T06:54:57.368Z"
   },
   {
    "duration": 24,
    "start_time": "2021-07-07T06:54:57.393Z"
   },
   {
    "duration": 485,
    "start_time": "2021-07-07T06:54:57.423Z"
   },
   {
    "duration": 11,
    "start_time": "2021-07-07T06:54:57.911Z"
   },
   {
    "duration": 82,
    "start_time": "2021-07-07T06:54:57.924Z"
   },
   {
    "duration": 17,
    "start_time": "2021-07-07T06:54:58.008Z"
   },
   {
    "duration": 464,
    "start_time": "2021-07-07T06:54:58.027Z"
   },
   {
    "duration": 11,
    "start_time": "2021-07-07T06:54:58.493Z"
   },
   {
    "duration": 60,
    "start_time": "2021-07-07T06:54:58.506Z"
   },
   {
    "duration": 6,
    "start_time": "2021-07-07T06:54:58.569Z"
   },
   {
    "duration": 105,
    "start_time": "2021-07-07T06:54:58.577Z"
   },
   {
    "duration": 64,
    "start_time": "2021-07-07T06:54:58.684Z"
   },
   {
    "duration": 70,
    "start_time": "2021-07-07T06:54:58.751Z"
   },
   {
    "duration": 19,
    "start_time": "2021-07-07T06:54:58.823Z"
   },
   {
    "duration": 68,
    "start_time": "2021-07-07T06:54:58.867Z"
   },
   {
    "duration": 62,
    "start_time": "2021-07-07T06:54:58.938Z"
   },
   {
    "duration": 67,
    "start_time": "2021-07-07T06:54:59.003Z"
   },
   {
    "duration": 44,
    "start_time": "2021-07-07T06:54:59.073Z"
   },
   {
    "duration": 47,
    "start_time": "2021-07-07T06:54:59.120Z"
   },
   {
    "duration": 27,
    "start_time": "2021-07-07T06:54:59.169Z"
   },
   {
    "duration": 76,
    "start_time": "2021-07-07T06:54:59.202Z"
   },
   {
    "duration": 28,
    "start_time": "2021-07-07T06:54:59.282Z"
   },
   {
    "duration": 4,
    "start_time": "2021-07-07T06:54:59.312Z"
   },
   {
    "duration": 1328,
    "start_time": "2021-07-07T06:54:59.318Z"
   },
   {
    "duration": 22,
    "start_time": "2021-07-07T06:55:00.649Z"
   },
   {
    "duration": 25,
    "start_time": "2021-07-07T06:55:00.673Z"
   },
   {
    "duration": 31,
    "start_time": "2021-07-07T06:55:00.700Z"
   },
   {
    "duration": 8,
    "start_time": "2021-07-07T06:55:00.733Z"
   },
   {
    "duration": 11,
    "start_time": "2021-07-07T06:55:00.744Z"
   },
   {
    "duration": 749,
    "start_time": "2021-07-07T06:55:00.757Z"
   },
   {
    "duration": 9,
    "start_time": "2021-07-07T06:55:01.508Z"
   },
   {
    "duration": 17,
    "start_time": "2021-07-07T06:55:01.520Z"
   },
   {
    "duration": 711,
    "start_time": "2021-07-07T06:55:01.540Z"
   },
   {
    "duration": 16,
    "start_time": "2021-07-07T06:55:02.253Z"
   },
   {
    "duration": 22,
    "start_time": "2021-07-07T06:55:02.272Z"
   },
   {
    "duration": 676,
    "start_time": "2021-07-07T06:55:02.296Z"
   },
   {
    "duration": 17,
    "start_time": "2021-07-07T06:55:02.975Z"
   },
   {
    "duration": 10,
    "start_time": "2021-07-07T06:55:02.994Z"
   },
   {
    "duration": 7,
    "start_time": "2021-07-07T06:55:03.007Z"
   },
   {
    "duration": 10,
    "start_time": "2021-07-07T06:55:03.016Z"
   },
   {
    "duration": 906,
    "start_time": "2021-07-07T06:55:03.028Z"
   },
   {
    "duration": 9,
    "start_time": "2021-07-07T06:55:03.937Z"
   },
   {
    "duration": 8,
    "start_time": "2021-07-07T06:55:03.966Z"
   },
   {
    "duration": 7,
    "start_time": "2021-07-07T06:55:03.977Z"
   },
   {
    "duration": 17,
    "start_time": "2021-07-07T06:55:03.987Z"
   },
   {
    "duration": 26,
    "start_time": "2021-07-07T06:55:04.007Z"
   },
   {
    "duration": 39,
    "start_time": "2021-07-07T06:55:04.035Z"
   },
   {
    "duration": 27,
    "start_time": "2021-07-07T06:55:04.077Z"
   },
   {
    "duration": 22,
    "start_time": "2021-07-07T06:55:04.107Z"
   }
  ],
  "kernelspec": {
   "display_name": "Python 3",
   "language": "python",
   "name": "python3"
  },
  "language_info": {
   "codemirror_mode": {
    "name": "ipython",
    "version": 3
   },
   "file_extension": ".py",
   "mimetype": "text/x-python",
   "name": "python",
   "nbconvert_exporter": "python",
   "pygments_lexer": "ipython3",
   "version": "3.7.0"
  },
  "toc": {
   "base_numbering": 1,
   "nav_menu": {},
   "number_sections": true,
   "sideBar": true,
   "skip_h1_title": true,
   "title_cell": "Содержание",
   "title_sidebar": "Содержание",
   "toc_cell": true,
   "toc_position": {},
   "toc_section_display": true,
   "toc_window_display": false
  }
 },
 "nbformat": 4,
 "nbformat_minor": 2
}

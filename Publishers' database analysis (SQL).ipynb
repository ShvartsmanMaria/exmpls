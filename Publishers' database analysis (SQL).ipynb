{
 "cells": [
  {
   "cell_type": "markdown",
   "id": "65d5ef8c",
   "metadata": {},
   "source": [
    "# Анализ баз данных книжных издательств. "
   ]
  },
  {
   "cell_type": "markdown",
   "id": "0a645ea3",
   "metadata": {},
   "source": [
    "Компанией приобретен крупный сервис для чтения книг по подписке. В нашем распоряжении есть базы данных, содержащие информацию о книгах, издательствах, авторах, а также пользовательские рецензии и рейтинг. \n",
    "Задача данного проекта - проанлизировать базу данных и ответить на следующие вопросы: \n",
    "- сколько книг вышло после 1 января 2000 года;\n",
    "- количество обзоров и средний рейтинг для каждой книги;\n",
    "- определить издательство, выпустившее наибольшее количество книг толще 50 страниц;\n",
    "- определить автора с самой высокой средней оценкой книг, учитывая только книги с 50 и более оценками;\n",
    "- среднее количество обзоров от пользователей, поставивших более 50 оценок. \n",
    "\n",
    "Полученная информация будет использована для создания нового торгового предложения. \n",
    "\n"
   ]
  },
  {
   "cell_type": "markdown",
   "id": "83aff5cb",
   "metadata": {},
   "source": [
    "Описание исходных данных:\n",
    "\n",
    "\n",
    "**Таблица \"books\"**\n",
    "- 'book_id' - идентификатор книги;\n",
    "- 'author_id' - идентификатор автора;\n",
    "- 'title' - название книги;\n",
    "- 'num_pages' - количество страниц;\n",
    "- 'publication_date' - дата пубикации;\n",
    "- 'publisher_id' - идентификатор издателя.\n",
    "\n",
    "\n",
    "**Таблица \"authors\"**\n",
    "- 'author_id' - идентификатор автора;\n",
    "- 'author' - имя автора.\n",
    "\n",
    "\n",
    "**Таблица \"publishers\"**\n",
    "- 'publisher_id' - \n",
    "- 'publisher' - \n",
    "\n",
    "\n",
    "**Таблица \"ratings\"**\n",
    "- 'rating_id' - идентификатор оценки;\n",
    "- 'book_id' - идентификатор книги;\n",
    "- 'username' - имя пользователя;\n",
    "- 'rating' - оценка книги.\n",
    "\n",
    "\n",
    "**Таблица \"reviews\"**\n",
    "- 'review_id' - идентификатор обзора;\n",
    "- 'book_id' - идентификатор книги;\n",
    "- 'username' - имя пользователя;\n",
    "- 'text' - текст обзора."
   ]
  },
  {
   "cell_type": "markdown",
   "id": "0163b455",
   "metadata": {},
   "source": [
    "## Содержание"
   ]
  },
  {
   "cell_type": "markdown",
   "id": "6a7197e3",
   "metadata": {},
   "source": [
    "* [1. Загрузка данных](#chapter1)\n",
    "    \n",
    "* [2. Изучение данных](#chapter2)\n",
    "    * [2.1.Таблица \"books\"](#Section_2_1)\n",
    "    * [2.2.Таблица \"authors\"](#section_2_2)\n",
    "    * [2.3.Таблица \"publishers\"](#Section_2_3)\n",
    "    * [2.4.Таблица \"ratings\"](#section_2_4)\n",
    "    * [2.5.Таблица \"reviews\"](#section_2_5)\n",
    "* [3. Количество книг, опубликованных после 1 января 2000 года](#chapter3)\n",
    "* [4. Количество обзоров и средний рейтинг для каждой книги](#chapter4)\n",
    "* [5. Издательство, выпустившее наибольшее количество книг](#chapter5)\n",
    "* [6. Автор с самой высокой средней оценкой книг](#chapter6)\n",
    "* [7. Среднее количество обзоров от пользователей](#chapter7)"
   ]
  },
  {
   "cell_type": "markdown",
   "id": "ff8c35a2",
   "metadata": {},
   "source": [
    "## 1. Загрузка данных <a class=\"anchor\" id=\"chapter1\"></a>"
   ]
  },
  {
   "cell_type": "code",
   "execution_count": 1,
   "id": "84c3ca78",
   "metadata": {},
   "outputs": [],
   "source": [
    "# импортируем библиотеки:\n",
    "import pandas as pd\n",
    "from sqlalchemy import create_engine\n",
    "\n",
    "# устанавливаем параметры\n",
    "db_config = {'user': 'praktikum_student', # имя пользователя\n",
    "             'pwd': 'Sdf4$2;d-d30pp', # пароль\n",
    "             'host': 'rc1b-wcoijxj3yxfsf3fs.mdb.yandexcloud.net',\n",
    "             'port': 6432, # порт подключения\n",
    "             'db': 'data-analyst-final-project-db'} # название базы данных\n",
    "connection_string = 'postgresql://{}:{}@{}:{}/{}'.format(db_config['user'],\n",
    "                                                         db_config['pwd'],\n",
    "                                                         db_config['host'],\n",
    "                                                         db_config['port'],\n",
    "               \n",
    "                                                         db_config['db'])\n",
    "# сохраняем коннектор\n",
    "engine = create_engine(connection_string, connect_args={'sslmode':'require'}) "
   ]
  },
  {
   "cell_type": "code",
   "execution_count": 2,
   "id": "5dd611af",
   "metadata": {},
   "outputs": [],
   "source": [
    "# функция для выполнения sql-запросов:\n",
    "def read_sql(query):\n",
    "    re = pd.io.sql.read_sql(query, con = engine)\n",
    "    return re"
   ]
  },
  {
   "cell_type": "markdown",
   "id": "54d69995",
   "metadata": {},
   "source": [
    "## 2. Изучение данных: <a class=\"anchor\" id=\"chapter2\"></a>"
   ]
  },
  {
   "cell_type": "markdown",
   "id": "2beaaae2",
   "metadata": {},
   "source": [
    "### 2.1. Таблица 'books': <a class=\"anchor\" id=\"section_2_1\"></a>"
   ]
  },
  {
   "cell_type": "code",
   "execution_count": 3,
   "id": "ba27760c",
   "metadata": {},
   "outputs": [
    {
     "data": {
      "text/html": [
       "<div>\n",
       "<style scoped>\n",
       "    .dataframe tbody tr th:only-of-type {\n",
       "        vertical-align: middle;\n",
       "    }\n",
       "\n",
       "    .dataframe tbody tr th {\n",
       "        vertical-align: top;\n",
       "    }\n",
       "\n",
       "    .dataframe thead th {\n",
       "        text-align: right;\n",
       "    }\n",
       "</style>\n",
       "<table border=\"1\" class=\"dataframe\">\n",
       "  <thead>\n",
       "    <tr style=\"text-align: right;\">\n",
       "      <th></th>\n",
       "      <th>book_id</th>\n",
       "      <th>author_id</th>\n",
       "      <th>title</th>\n",
       "      <th>num_pages</th>\n",
       "      <th>publication_date</th>\n",
       "      <th>publisher_id</th>\n",
       "    </tr>\n",
       "  </thead>\n",
       "  <tbody>\n",
       "    <tr>\n",
       "      <th>0</th>\n",
       "      <td>1</td>\n",
       "      <td>546</td>\n",
       "      <td>'Salem's Lot</td>\n",
       "      <td>594</td>\n",
       "      <td>2005-11-01</td>\n",
       "      <td>93</td>\n",
       "    </tr>\n",
       "    <tr>\n",
       "      <th>1</th>\n",
       "      <td>2</td>\n",
       "      <td>465</td>\n",
       "      <td>1 000 Places to See Before You Die</td>\n",
       "      <td>992</td>\n",
       "      <td>2003-05-22</td>\n",
       "      <td>336</td>\n",
       "    </tr>\n",
       "    <tr>\n",
       "      <th>2</th>\n",
       "      <td>3</td>\n",
       "      <td>407</td>\n",
       "      <td>13 Little Blue Envelopes (Little Blue Envelope...</td>\n",
       "      <td>322</td>\n",
       "      <td>2010-12-21</td>\n",
       "      <td>135</td>\n",
       "    </tr>\n",
       "    <tr>\n",
       "      <th>3</th>\n",
       "      <td>4</td>\n",
       "      <td>82</td>\n",
       "      <td>1491: New Revelations of the Americas Before C...</td>\n",
       "      <td>541</td>\n",
       "      <td>2006-10-10</td>\n",
       "      <td>309</td>\n",
       "    </tr>\n",
       "    <tr>\n",
       "      <th>4</th>\n",
       "      <td>5</td>\n",
       "      <td>125</td>\n",
       "      <td>1776</td>\n",
       "      <td>386</td>\n",
       "      <td>2006-07-04</td>\n",
       "      <td>268</td>\n",
       "    </tr>\n",
       "  </tbody>\n",
       "</table>\n",
       "</div>"
      ],
      "text/plain": [
       "   book_id  author_id                                              title  \\\n",
       "0        1        546                                       'Salem's Lot   \n",
       "1        2        465                 1 000 Places to See Before You Die   \n",
       "2        3        407  13 Little Blue Envelopes (Little Blue Envelope...   \n",
       "3        4         82  1491: New Revelations of the Americas Before C...   \n",
       "4        5        125                                               1776   \n",
       "\n",
       "   num_pages publication_date  publisher_id  \n",
       "0        594       2005-11-01            93  \n",
       "1        992       2003-05-22           336  \n",
       "2        322       2010-12-21           135  \n",
       "3        541       2006-10-10           309  \n",
       "4        386       2006-07-04           268  "
      ]
     },
     "execution_count": 3,
     "metadata": {},
     "output_type": "execute_result"
    }
   ],
   "source": [
    "books = \"\"\"\n",
    "SELECT *\n",
    "FROM books\n",
    "limit 5\n",
    "\"\"\"\n",
    "\n",
    "read_sql(books)"
   ]
  },
  {
   "cell_type": "markdown",
   "id": "5366eeb0",
   "metadata": {},
   "source": [
    "### 2.2. Таблица 'authors': <a class=\"anchor\" id=\"section_2_2\"></a>"
   ]
  },
  {
   "cell_type": "code",
   "execution_count": 4,
   "id": "24e1c242",
   "metadata": {},
   "outputs": [
    {
     "data": {
      "text/html": [
       "<div>\n",
       "<style scoped>\n",
       "    .dataframe tbody tr th:only-of-type {\n",
       "        vertical-align: middle;\n",
       "    }\n",
       "\n",
       "    .dataframe tbody tr th {\n",
       "        vertical-align: top;\n",
       "    }\n",
       "\n",
       "    .dataframe thead th {\n",
       "        text-align: right;\n",
       "    }\n",
       "</style>\n",
       "<table border=\"1\" class=\"dataframe\">\n",
       "  <thead>\n",
       "    <tr style=\"text-align: right;\">\n",
       "      <th></th>\n",
       "      <th>author_id</th>\n",
       "      <th>author</th>\n",
       "    </tr>\n",
       "  </thead>\n",
       "  <tbody>\n",
       "    <tr>\n",
       "      <th>0</th>\n",
       "      <td>1</td>\n",
       "      <td>A.S. Byatt</td>\n",
       "    </tr>\n",
       "    <tr>\n",
       "      <th>1</th>\n",
       "      <td>2</td>\n",
       "      <td>Aesop/Laura Harris/Laura Gibbs</td>\n",
       "    </tr>\n",
       "    <tr>\n",
       "      <th>2</th>\n",
       "      <td>3</td>\n",
       "      <td>Agatha Christie</td>\n",
       "    </tr>\n",
       "    <tr>\n",
       "      <th>3</th>\n",
       "      <td>4</td>\n",
       "      <td>Alan Brennert</td>\n",
       "    </tr>\n",
       "    <tr>\n",
       "      <th>4</th>\n",
       "      <td>5</td>\n",
       "      <td>Alan Moore/David   Lloyd</td>\n",
       "    </tr>\n",
       "  </tbody>\n",
       "</table>\n",
       "</div>"
      ],
      "text/plain": [
       "   author_id                          author\n",
       "0          1                      A.S. Byatt\n",
       "1          2  Aesop/Laura Harris/Laura Gibbs\n",
       "2          3                 Agatha Christie\n",
       "3          4                   Alan Brennert\n",
       "4          5        Alan Moore/David   Lloyd"
      ]
     },
     "execution_count": 4,
     "metadata": {},
     "output_type": "execute_result"
    }
   ],
   "source": [
    "authors = \"\"\"\n",
    "SELECT *\n",
    "FROM authors\n",
    "limit 5\n",
    "\"\"\"\n",
    "\n",
    "read_sql(authors)"
   ]
  },
  {
   "cell_type": "markdown",
   "id": "686599f4",
   "metadata": {},
   "source": [
    "### 2.3. Таблица 'publishers': <a class=\"anchor\" id=\"section_2_3\"></a>"
   ]
  },
  {
   "cell_type": "code",
   "execution_count": 5,
   "id": "c23e9744",
   "metadata": {},
   "outputs": [
    {
     "data": {
      "text/html": [
       "<div>\n",
       "<style scoped>\n",
       "    .dataframe tbody tr th:only-of-type {\n",
       "        vertical-align: middle;\n",
       "    }\n",
       "\n",
       "    .dataframe tbody tr th {\n",
       "        vertical-align: top;\n",
       "    }\n",
       "\n",
       "    .dataframe thead th {\n",
       "        text-align: right;\n",
       "    }\n",
       "</style>\n",
       "<table border=\"1\" class=\"dataframe\">\n",
       "  <thead>\n",
       "    <tr style=\"text-align: right;\">\n",
       "      <th></th>\n",
       "      <th>publisher_id</th>\n",
       "      <th>publisher</th>\n",
       "    </tr>\n",
       "  </thead>\n",
       "  <tbody>\n",
       "    <tr>\n",
       "      <th>0</th>\n",
       "      <td>1</td>\n",
       "      <td>Ace</td>\n",
       "    </tr>\n",
       "    <tr>\n",
       "      <th>1</th>\n",
       "      <td>2</td>\n",
       "      <td>Ace Book</td>\n",
       "    </tr>\n",
       "    <tr>\n",
       "      <th>2</th>\n",
       "      <td>3</td>\n",
       "      <td>Ace Books</td>\n",
       "    </tr>\n",
       "    <tr>\n",
       "      <th>3</th>\n",
       "      <td>4</td>\n",
       "      <td>Ace Hardcover</td>\n",
       "    </tr>\n",
       "    <tr>\n",
       "      <th>4</th>\n",
       "      <td>5</td>\n",
       "      <td>Addison Wesley Publishing Company</td>\n",
       "    </tr>\n",
       "  </tbody>\n",
       "</table>\n",
       "</div>"
      ],
      "text/plain": [
       "   publisher_id                          publisher\n",
       "0             1                                Ace\n",
       "1             2                           Ace Book\n",
       "2             3                          Ace Books\n",
       "3             4                      Ace Hardcover\n",
       "4             5  Addison Wesley Publishing Company"
      ]
     },
     "execution_count": 5,
     "metadata": {},
     "output_type": "execute_result"
    }
   ],
   "source": [
    "publishers = \"\"\"\n",
    "SELECT *\n",
    "FROM publishers\n",
    "limit 5\n",
    "\"\"\"\n",
    "\n",
    "read_sql(publishers)"
   ]
  },
  {
   "cell_type": "markdown",
   "id": "3dd893fa",
   "metadata": {},
   "source": [
    "### 2.4. Таблица 'ratings': <a class=\"anchor\" id=\"section_2_4\"></a>"
   ]
  },
  {
   "cell_type": "code",
   "execution_count": 6,
   "id": "f2e5b2de",
   "metadata": {},
   "outputs": [
    {
     "data": {
      "text/html": [
       "<div>\n",
       "<style scoped>\n",
       "    .dataframe tbody tr th:only-of-type {\n",
       "        vertical-align: middle;\n",
       "    }\n",
       "\n",
       "    .dataframe tbody tr th {\n",
       "        vertical-align: top;\n",
       "    }\n",
       "\n",
       "    .dataframe thead th {\n",
       "        text-align: right;\n",
       "    }\n",
       "</style>\n",
       "<table border=\"1\" class=\"dataframe\">\n",
       "  <thead>\n",
       "    <tr style=\"text-align: right;\">\n",
       "      <th></th>\n",
       "      <th>rating_id</th>\n",
       "      <th>book_id</th>\n",
       "      <th>username</th>\n",
       "      <th>rating</th>\n",
       "    </tr>\n",
       "  </thead>\n",
       "  <tbody>\n",
       "    <tr>\n",
       "      <th>0</th>\n",
       "      <td>1</td>\n",
       "      <td>1</td>\n",
       "      <td>ryanfranco</td>\n",
       "      <td>4</td>\n",
       "    </tr>\n",
       "    <tr>\n",
       "      <th>1</th>\n",
       "      <td>2</td>\n",
       "      <td>1</td>\n",
       "      <td>grantpatricia</td>\n",
       "      <td>2</td>\n",
       "    </tr>\n",
       "    <tr>\n",
       "      <th>2</th>\n",
       "      <td>3</td>\n",
       "      <td>1</td>\n",
       "      <td>brandtandrea</td>\n",
       "      <td>5</td>\n",
       "    </tr>\n",
       "    <tr>\n",
       "      <th>3</th>\n",
       "      <td>4</td>\n",
       "      <td>2</td>\n",
       "      <td>lorichen</td>\n",
       "      <td>3</td>\n",
       "    </tr>\n",
       "    <tr>\n",
       "      <th>4</th>\n",
       "      <td>5</td>\n",
       "      <td>2</td>\n",
       "      <td>mariokeller</td>\n",
       "      <td>2</td>\n",
       "    </tr>\n",
       "  </tbody>\n",
       "</table>\n",
       "</div>"
      ],
      "text/plain": [
       "   rating_id  book_id       username  rating\n",
       "0          1        1     ryanfranco       4\n",
       "1          2        1  grantpatricia       2\n",
       "2          3        1   brandtandrea       5\n",
       "3          4        2       lorichen       3\n",
       "4          5        2    mariokeller       2"
      ]
     },
     "execution_count": 6,
     "metadata": {},
     "output_type": "execute_result"
    }
   ],
   "source": [
    "ratings = \"\"\"\n",
    "SELECT *\n",
    "FROM ratings\n",
    "limit 5\n",
    "\"\"\"\n",
    "\n",
    "read_sql(ratings)"
   ]
  },
  {
   "cell_type": "markdown",
   "id": "ffaad62d",
   "metadata": {},
   "source": [
    "### 2.5. Таблица 'reviews': <a class=\"anchor\" id=\"section_2_5\"></a>"
   ]
  },
  {
   "cell_type": "code",
   "execution_count": 7,
   "id": "038d7964",
   "metadata": {},
   "outputs": [
    {
     "data": {
      "text/html": [
       "<div>\n",
       "<style scoped>\n",
       "    .dataframe tbody tr th:only-of-type {\n",
       "        vertical-align: middle;\n",
       "    }\n",
       "\n",
       "    .dataframe tbody tr th {\n",
       "        vertical-align: top;\n",
       "    }\n",
       "\n",
       "    .dataframe thead th {\n",
       "        text-align: right;\n",
       "    }\n",
       "</style>\n",
       "<table border=\"1\" class=\"dataframe\">\n",
       "  <thead>\n",
       "    <tr style=\"text-align: right;\">\n",
       "      <th></th>\n",
       "      <th>review_id</th>\n",
       "      <th>book_id</th>\n",
       "      <th>username</th>\n",
       "      <th>text</th>\n",
       "    </tr>\n",
       "  </thead>\n",
       "  <tbody>\n",
       "    <tr>\n",
       "      <th>0</th>\n",
       "      <td>1</td>\n",
       "      <td>1</td>\n",
       "      <td>brandtandrea</td>\n",
       "      <td>Mention society tell send professor analysis. ...</td>\n",
       "    </tr>\n",
       "    <tr>\n",
       "      <th>1</th>\n",
       "      <td>2</td>\n",
       "      <td>1</td>\n",
       "      <td>ryanfranco</td>\n",
       "      <td>Foot glass pretty audience hit themselves. Amo...</td>\n",
       "    </tr>\n",
       "    <tr>\n",
       "      <th>2</th>\n",
       "      <td>3</td>\n",
       "      <td>2</td>\n",
       "      <td>lorichen</td>\n",
       "      <td>Listen treat keep worry. Miss husband tax but ...</td>\n",
       "    </tr>\n",
       "    <tr>\n",
       "      <th>3</th>\n",
       "      <td>4</td>\n",
       "      <td>3</td>\n",
       "      <td>johnsonamanda</td>\n",
       "      <td>Finally month interesting blue could nature cu...</td>\n",
       "    </tr>\n",
       "    <tr>\n",
       "      <th>4</th>\n",
       "      <td>5</td>\n",
       "      <td>3</td>\n",
       "      <td>scotttamara</td>\n",
       "      <td>Nation purpose heavy give wait song will. List...</td>\n",
       "    </tr>\n",
       "  </tbody>\n",
       "</table>\n",
       "</div>"
      ],
      "text/plain": [
       "   review_id  book_id       username  \\\n",
       "0          1        1   brandtandrea   \n",
       "1          2        1     ryanfranco   \n",
       "2          3        2       lorichen   \n",
       "3          4        3  johnsonamanda   \n",
       "4          5        3    scotttamara   \n",
       "\n",
       "                                                text  \n",
       "0  Mention society tell send professor analysis. ...  \n",
       "1  Foot glass pretty audience hit themselves. Amo...  \n",
       "2  Listen treat keep worry. Miss husband tax but ...  \n",
       "3  Finally month interesting blue could nature cu...  \n",
       "4  Nation purpose heavy give wait song will. List...  "
      ]
     },
     "execution_count": 7,
     "metadata": {},
     "output_type": "execute_result"
    }
   ],
   "source": [
    "reviews = \"\"\"\n",
    "SELECT *\n",
    "FROM reviews\n",
    "limit 5\n",
    "\"\"\"\n",
    "\n",
    "read_sql(reviews)"
   ]
  },
  {
   "cell_type": "markdown",
   "id": "2363e417",
   "metadata": {},
   "source": [
    "## 3. Количество книг, опубликованных после 1 января 2000 года. <a class=\"anchor\" id=\"chapter3\"></a>"
   ]
  },
  {
   "cell_type": "code",
   "execution_count": 8,
   "id": "049b6075",
   "metadata": {},
   "outputs": [
    {
     "data": {
      "text/html": [
       "<div>\n",
       "<style scoped>\n",
       "    .dataframe tbody tr th:only-of-type {\n",
       "        vertical-align: middle;\n",
       "    }\n",
       "\n",
       "    .dataframe tbody tr th {\n",
       "        vertical-align: top;\n",
       "    }\n",
       "\n",
       "    .dataframe thead th {\n",
       "        text-align: right;\n",
       "    }\n",
       "</style>\n",
       "<table border=\"1\" class=\"dataframe\">\n",
       "  <thead>\n",
       "    <tr style=\"text-align: right;\">\n",
       "      <th></th>\n",
       "      <th>books_count</th>\n",
       "    </tr>\n",
       "  </thead>\n",
       "  <tbody>\n",
       "    <tr>\n",
       "      <th>0</th>\n",
       "      <td>821</td>\n",
       "    </tr>\n",
       "  </tbody>\n",
       "</table>\n",
       "</div>"
      ],
      "text/plain": [
       "   books_count\n",
       "0          821"
      ]
     },
     "execution_count": 8,
     "metadata": {},
     "output_type": "execute_result"
    }
   ],
   "source": [
    "books_count = \"\"\"\n",
    "            SELECT COUNT (*) AS books_count\n",
    "            FROM books\n",
    "            WHERE \n",
    "                books.publication_date >= '2000-01-01';\n",
    "            \"\"\"\n",
    "\n",
    "read_sql(books_count)\n"
   ]
  },
  {
   "cell_type": "markdown",
   "id": "9ddec771",
   "metadata": {},
   "source": [
    "**821 книга была издана после 01.01.2000**"
   ]
  },
  {
   "cell_type": "markdown",
   "id": "61046954",
   "metadata": {},
   "source": [
    "## 4. Количество обзоров и средний рейтинг для каждой книги. <a class=\"anchor\" id=\"chapter4\"></a>"
   ]
  },
  {
   "cell_type": "code",
   "execution_count": 9,
   "id": "26133bf3",
   "metadata": {},
   "outputs": [
    {
     "data": {
      "text/html": [
       "<div>\n",
       "<style scoped>\n",
       "    .dataframe tbody tr th:only-of-type {\n",
       "        vertical-align: middle;\n",
       "    }\n",
       "\n",
       "    .dataframe tbody tr th {\n",
       "        vertical-align: top;\n",
       "    }\n",
       "\n",
       "    .dataframe thead th {\n",
       "        text-align: right;\n",
       "    }\n",
       "</style>\n",
       "<table border=\"1\" class=\"dataframe\">\n",
       "  <thead>\n",
       "    <tr style=\"text-align: right;\">\n",
       "      <th></th>\n",
       "      <th>book_id</th>\n",
       "      <th>author</th>\n",
       "      <th>title</th>\n",
       "      <th>number_users_reviews</th>\n",
       "      <th>average_rating</th>\n",
       "    </tr>\n",
       "  </thead>\n",
       "  <tbody>\n",
       "    <tr>\n",
       "      <th>0</th>\n",
       "      <td>86</td>\n",
       "      <td>Mercedes Lackey</td>\n",
       "      <td>Arrows of the Queen (Heralds of Valdemar  #1)</td>\n",
       "      <td>2</td>\n",
       "      <td>5.0</td>\n",
       "    </tr>\n",
       "    <tr>\n",
       "      <th>1</th>\n",
       "      <td>901</td>\n",
       "      <td>Robert Kirkman/Tony Moore/Charlie Adlard/Cliff...</td>\n",
       "      <td>The Walking Dead  Book One (The Walking Dead #...</td>\n",
       "      <td>2</td>\n",
       "      <td>5.0</td>\n",
       "    </tr>\n",
       "    <tr>\n",
       "      <th>2</th>\n",
       "      <td>390</td>\n",
       "      <td>William Faulkner</td>\n",
       "      <td>Light in August</td>\n",
       "      <td>2</td>\n",
       "      <td>5.0</td>\n",
       "    </tr>\n",
       "    <tr>\n",
       "      <th>3</th>\n",
       "      <td>972</td>\n",
       "      <td>Jon Kabat-Zinn</td>\n",
       "      <td>Wherever You Go  There You Are: Mindfulness Me...</td>\n",
       "      <td>2</td>\n",
       "      <td>5.0</td>\n",
       "    </tr>\n",
       "    <tr>\n",
       "      <th>4</th>\n",
       "      <td>136</td>\n",
       "      <td>John Eldredge/Stasi Eldredge</td>\n",
       "      <td>Captivating: Unveiling the Mystery of a Woman'...</td>\n",
       "      <td>2</td>\n",
       "      <td>5.0</td>\n",
       "    </tr>\n",
       "  </tbody>\n",
       "</table>\n",
       "</div>"
      ],
      "text/plain": [
       "   book_id                                             author  \\\n",
       "0       86                                    Mercedes Lackey   \n",
       "1      901  Robert Kirkman/Tony Moore/Charlie Adlard/Cliff...   \n",
       "2      390                                   William Faulkner   \n",
       "3      972                                     Jon Kabat-Zinn   \n",
       "4      136                       John Eldredge/Stasi Eldredge   \n",
       "\n",
       "                                               title  number_users_reviews  \\\n",
       "0      Arrows of the Queen (Heralds of Valdemar  #1)                     2   \n",
       "1  The Walking Dead  Book One (The Walking Dead #...                     2   \n",
       "2                                    Light in August                     2   \n",
       "3  Wherever You Go  There You Are: Mindfulness Me...                     2   \n",
       "4  Captivating: Unveiling the Mystery of a Woman'...                     2   \n",
       "\n",
       "   average_rating  \n",
       "0             5.0  \n",
       "1             5.0  \n",
       "2             5.0  \n",
       "3             5.0  \n",
       "4             5.0  "
      ]
     },
     "execution_count": 9,
     "metadata": {},
     "output_type": "execute_result"
    }
   ],
   "source": [
    "rev_rat = \"\"\"\n",
    "\n",
    "SELECT books.book_id, \n",
    "    authors.author,\n",
    "    books.title, \n",
    "    COUNT(DISTINCT review_id) AS number_users_reviews, \n",
    "    ROUND(AVG(ratings.rating),2) AS average_rating\n",
    "FROM books\n",
    "    LEFT JOIN reviews on books.book_id = reviews.book_id \n",
    "    LEFT JOIN ratings on books.book_id = ratings.book_id \n",
    "    LEFT JOIN authors on books.author_id = authors.author_id \n",
    "GROUP BY books.book_id, authors.author_id\n",
    "ORDER BY average_rating desc \n",
    "\"\"\"\n",
    "read_sql(rev_rat)[:5]"
   ]
  },
  {
   "cell_type": "markdown",
   "id": "9e58b3d9",
   "metadata": {},
   "source": [
    "Составлена таблица, отражающая количество обзоров и рейтинг для каждой книги."
   ]
  },
  {
   "cell_type": "markdown",
   "id": "bc903f2b",
   "metadata": {},
   "source": [
    "## 5. Издательство, выпустившее наибольшее количество книг (больше 50 страниц). <a class=\"anchor\" id=\"chapter5\"></a>"
   ]
  },
  {
   "cell_type": "code",
   "execution_count": 10,
   "id": "8b4c33b1",
   "metadata": {},
   "outputs": [
    {
     "data": {
      "text/html": [
       "<div>\n",
       "<style scoped>\n",
       "    .dataframe tbody tr th:only-of-type {\n",
       "        vertical-align: middle;\n",
       "    }\n",
       "\n",
       "    .dataframe tbody tr th {\n",
       "        vertical-align: top;\n",
       "    }\n",
       "\n",
       "    .dataframe thead th {\n",
       "        text-align: right;\n",
       "    }\n",
       "</style>\n",
       "<table border=\"1\" class=\"dataframe\">\n",
       "  <thead>\n",
       "    <tr style=\"text-align: right;\">\n",
       "      <th></th>\n",
       "      <th>publisher_id</th>\n",
       "      <th>publisher</th>\n",
       "      <th>count_books</th>\n",
       "    </tr>\n",
       "  </thead>\n",
       "  <tbody>\n",
       "    <tr>\n",
       "      <th>0</th>\n",
       "      <td>212</td>\n",
       "      <td>Penguin Books</td>\n",
       "      <td>42</td>\n",
       "    </tr>\n",
       "  </tbody>\n",
       "</table>\n",
       "</div>"
      ],
      "text/plain": [
       "   publisher_id      publisher  count_books\n",
       "0           212  Penguin Books           42"
      ]
     },
     "execution_count": 10,
     "metadata": {},
     "output_type": "execute_result"
    }
   ],
   "source": [
    "top_publisher = \"\"\"\n",
    "SELECT\n",
    "    DISTINCT publishers.publisher_id,\n",
    "    publishers.publisher,\n",
    "    COUNT(books.book_id) OVER (PARTITION BY publishers.publisher_id) AS count_books\n",
    "FROM books\n",
    "    INNER JOIN publishers using(publisher_id)\n",
    "WHERE books.num_pages > 50\n",
    "ORDER BY count_books DESC\n",
    "limit 1\n",
    "\"\"\"\n",
    "\n",
    "read_sql(top_publisher)"
   ]
  },
  {
   "cell_type": "markdown",
   "id": "3ba14dfc",
   "metadata": {},
   "source": [
    "Наибольшее количество книг (42) выпустило издательство Penguin Books."
   ]
  },
  {
   "cell_type": "markdown",
   "id": "2eef35ab",
   "metadata": {},
   "source": [
    "## 6. Автор с самой высокой средней оценкой книг, учитывая только популярные (50 и более оценок) <a class=\"anchor\" id=\"chapter6\"></a>"
   ]
  },
  {
   "cell_type": "code",
   "execution_count": 11,
   "id": "1a6d7b05",
   "metadata": {},
   "outputs": [
    {
     "data": {
      "text/html": [
       "<div>\n",
       "<style scoped>\n",
       "    .dataframe tbody tr th:only-of-type {\n",
       "        vertical-align: middle;\n",
       "    }\n",
       "\n",
       "    .dataframe tbody tr th {\n",
       "        vertical-align: top;\n",
       "    }\n",
       "\n",
       "    .dataframe thead th {\n",
       "        text-align: right;\n",
       "    }\n",
       "</style>\n",
       "<table border=\"1\" class=\"dataframe\">\n",
       "  <thead>\n",
       "    <tr style=\"text-align: right;\">\n",
       "      <th></th>\n",
       "      <th>author_id</th>\n",
       "      <th>author</th>\n",
       "      <th>count_books</th>\n",
       "      <th>avg_rat</th>\n",
       "    </tr>\n",
       "  </thead>\n",
       "  <tbody>\n",
       "    <tr>\n",
       "      <th>0</th>\n",
       "      <td>236</td>\n",
       "      <td>J.K. Rowling/Mary GrandPré</td>\n",
       "      <td>4</td>\n",
       "      <td>4.285</td>\n",
       "    </tr>\n",
       "  </tbody>\n",
       "</table>\n",
       "</div>"
      ],
      "text/plain": [
       "   author_id                      author  count_books  avg_rat\n",
       "0        236  J.K. Rowling/Mary GrandPré            4    4.285"
      ]
     },
     "execution_count": 11,
     "metadata": {},
     "output_type": "execute_result"
    }
   ],
   "source": [
    "top_author = \"\"\"\n",
    "WITH books_rating(book_id, author_id, count_marks, avg_rating)\n",
    "AS (\n",
    "SELECT \n",
    "   DISTINCT book_id,\n",
    "   authors.author_id,\n",
    "   count(rating_id) OVER (PARTITION by book_id) AS count_marks,\n",
    "   ROUND(avg(rating) OVER (PARTITION by book_id), 2) AS avg_rating\n",
    "FROM books \n",
    "   LEFT JOIN ratings using(book_id)\n",
    "   RIGHT JOIN authors using(author_id)\n",
    ")\n",
    "SELECT\n",
    "    authors.author_id,\n",
    "    authors.author, \n",
    "    COUNT(book_id) AS count_books,\n",
    "    AVG(avg_rating) AS avg_rat    \n",
    "FROM books_rating\n",
    "INNER JOIN authors on books_rating.author_id = authors.author_id \n",
    "WHERE count_marks > 50\n",
    "GROUP BY authors.author_id\n",
    "ORDER BY avg_rat DESC \n",
    "limit 1\n",
    "\"\"\"\n",
    "read_sql(top_author)"
   ]
  },
  {
   "cell_type": "markdown",
   "id": "4f72af36",
   "metadata": {},
   "source": [
    " Самая высокая средняя оценка среди популярных книг (т.е. у книг, получивших больше 50 оценок) - у Джоан Роулинг."
   ]
  },
  {
   "cell_type": "markdown",
   "id": "a168339b",
   "metadata": {},
   "source": [
    "## 7. Среднее количество обзоров от пользователей, поставивших более 50 оценок. <a class=\"anchor\" id=\"chapter7\"></a>"
   ]
  },
  {
   "cell_type": "code",
   "execution_count": 12,
   "id": "c4e5acc8",
   "metadata": {},
   "outputs": [
    {
     "data": {
      "text/html": [
       "<div>\n",
       "<style scoped>\n",
       "    .dataframe tbody tr th:only-of-type {\n",
       "        vertical-align: middle;\n",
       "    }\n",
       "\n",
       "    .dataframe tbody tr th {\n",
       "        vertical-align: top;\n",
       "    }\n",
       "\n",
       "    .dataframe thead th {\n",
       "        text-align: right;\n",
       "    }\n",
       "</style>\n",
       "<table border=\"1\" class=\"dataframe\">\n",
       "  <thead>\n",
       "    <tr style=\"text-align: right;\">\n",
       "      <th></th>\n",
       "      <th>avg_reviews</th>\n",
       "    </tr>\n",
       "  </thead>\n",
       "  <tbody>\n",
       "    <tr>\n",
       "      <th>0</th>\n",
       "      <td>24.33</td>\n",
       "    </tr>\n",
       "  </tbody>\n",
       "</table>\n",
       "</div>"
      ],
      "text/plain": [
       "   avg_reviews\n",
       "0        24.33"
      ]
     },
     "execution_count": 12,
     "metadata": {},
     "output_type": "execute_result"
    }
   ],
   "source": [
    "avg_reviews = \"\"\"\n",
    "WITH users_rated_50_plus (username)\n",
    "AS (\n",
    "SELECT \n",
    "   ratings.username \n",
    "FROM ratings \n",
    "GROUP BY username\n",
    "HAVING count(rating_id) > 50\n",
    "),\n",
    "users_count_reviews (username, count_reviews)\n",
    "AS (\n",
    "    SELECT \n",
    "        DISTINCT username,\n",
    "        COUNT(review_id) OVER (PARTITION by username) AS count_reviews\n",
    "    FROM users_rated_50_plus\n",
    "        INNER JOIN reviews USING(username)\n",
    ")\n",
    "SELECT ROUND(AVG(count_reviews), 2) AS avg_reviews \n",
    "FROM users_count_reviews\n",
    "\"\"\"\n",
    "read_sql(avg_reviews)"
   ]
  },
  {
   "cell_type": "markdown",
   "id": "b52b0c6b",
   "metadata": {},
   "source": [
    "Среднее количество обзоров от пользователей, поставивших более 50 оценок, составляет 24.3."
   ]
  }
 ],
 "metadata": {
  "kernelspec": {
   "display_name": "Python 3",
   "language": "python",
   "name": "python3"
  },
  "language_info": {
   "codemirror_mode": {
    "name": "ipython",
    "version": 3
   },
   "file_extension": ".py",
   "mimetype": "text/x-python",
   "name": "python",
   "nbconvert_exporter": "python",
   "pygments_lexer": "ipython3",
   "version": "3.7.0"
  }
 },
 "nbformat": 4,
 "nbformat_minor": 5
}

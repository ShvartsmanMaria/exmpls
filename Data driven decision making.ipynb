{
 "cells": [
  {
   "cell_type": "markdown",
   "metadata": {
    "toc": true
   },
   "source": [
    "<h1>Содержание<span class=\"tocSkip\"></span></h1>\n",
    "<div class=\"toc\"><ul class=\"toc-item\"><li><span><a href=\"#Приоритизация-гипотез.\" data-toc-modified-id=\"Приоритизация-гипотез.-1\"><span class=\"toc-item-num\">1&nbsp;&nbsp;</span>Приоритизация гипотез.</a></span></li><li><span><a href=\"#Анализ-А/В---теста.\" data-toc-modified-id=\"Анализ-А/В---теста.-2\"><span class=\"toc-item-num\">2&nbsp;&nbsp;</span>Анализ А/В - теста.</a></span><ul class=\"toc-item\"><li><span><a href=\"#Кумулятивная-выручка-по-группам.\" data-toc-modified-id=\"Кумулятивная-выручка-по-группам.-2.1\"><span class=\"toc-item-num\">2.1&nbsp;&nbsp;</span>Кумулятивная выручка по группам.</a></span></li><li><span><a href=\"#Кумулятивный-средний-чек-по-группам.\" data-toc-modified-id=\"Кумулятивный-средний-чек-по-группам.-2.2\"><span class=\"toc-item-num\">2.2&nbsp;&nbsp;</span>Кумулятивный средний чек по группам.</a></span></li><li><span><a href=\"#Относительное-изменение-кумулятивного-среднего-чека-группы-В-к-группе-А.\" data-toc-modified-id=\"Относительное-изменение-кумулятивного-среднего-чека-группы-В-к-группе-А.-2.3\"><span class=\"toc-item-num\">2.3&nbsp;&nbsp;</span>Относительное изменение кумулятивного среднего чека группы В к группе А.</a></span></li><li><span><a href=\"#Кумулятивная-конверсия-по-группам.\" data-toc-modified-id=\"Кумулятивная-конверсия-по-группам.-2.4\"><span class=\"toc-item-num\">2.4&nbsp;&nbsp;</span>Кумулятивная конверсия по группам.</a></span></li><li><span><a href=\"#Относительное-изменение-кумулятивной-конверсии-группы-В-к-группе-А.\" data-toc-modified-id=\"Относительное-изменение-кумулятивной-конверсии-группы-В-к-группе-А.-2.5\"><span class=\"toc-item-num\">2.5&nbsp;&nbsp;</span>Относительное изменение кумулятивной конверсии группы В к группе А.</a></span></li><li><span><a href=\"#Распределение-количества-и-стоимости-заказов-по-пользователям;-поиск-аномалий.\" data-toc-modified-id=\"Распределение-количества-и-стоимости-заказов-по-пользователям;-поиск-аномалий.-2.6\"><span class=\"toc-item-num\">2.6&nbsp;&nbsp;</span>Распределение количества и стоимости заказов по пользователям; поиск аномалий.</a></span></li><li><span><a href=\"#Cтатистическая-значимость-различий-в-конверсии-между-группами-по-сырым-и-очищенным-данным.\" data-toc-modified-id=\"Cтатистическая-значимость-различий-в-конверсии-между-группами-по-сырым-и-очищенным-данным.-2.7\"><span class=\"toc-item-num\">2.7&nbsp;&nbsp;</span>Cтатистическая значимость различий в конверсии между группами по сырым и очищенным данным.</a></span></li><li><span><a href=\"#Cтатистическая-значимость-различий-в-среднем-чеке-между-группами-по-сырым-и-очищенным-данным.\" data-toc-modified-id=\"Cтатистическая-значимость-различий-в-среднем-чеке-между-группами-по-сырым-и-очищенным-данным.-2.8\"><span class=\"toc-item-num\">2.8&nbsp;&nbsp;</span>Cтатистическая значимость различий в среднем чеке между группами по сырым и очищенным данным.</a></span></li></ul></li><li><span><a href=\"#Выводы:\" data-toc-modified-id=\"Выводы:-3\"><span class=\"toc-item-num\">3&nbsp;&nbsp;</span>Выводы:</a></span></li></ul></div>"
   ]
  },
  {
   "cell_type": "markdown",
   "metadata": {},
   "source": [
    "# Приоритизация гипотез; анализ результатов A/B-теста."
   ]
  },
  {
   "cell_type": "markdown",
   "metadata": {},
   "source": [
    "Задачи проекта: \n",
    "1. Выбор приоритетной гипотезы по увеличению выручки интернет-магазина;\n",
    "2. Анализ результатов А/В-теста."
   ]
  },
  {
   "cell_type": "code",
   "execution_count": 1,
   "metadata": {},
   "outputs": [],
   "source": [
    "import pandas as pd\n",
    "import numpy as np\n",
    "from scipy import stats as st\n",
    "import math as mth\n",
    "import datetime as dt\n",
    "import matplotlib.pyplot as plt\n",
    "import warnings\n",
    "warnings.filterwarnings('ignore')"
   ]
  },
  {
   "cell_type": "markdown",
   "metadata": {},
   "source": [
    "## Приоритизация гипотез."
   ]
  },
  {
   "cell_type": "code",
   "execution_count": 2,
   "metadata": {},
   "outputs": [],
   "source": [
    "hypothesis = pd.read_csv('hypothesis.csv')"
   ]
  },
  {
   "cell_type": "code",
   "execution_count": 3,
   "metadata": {},
   "outputs": [
    {
     "data": {
      "text/html": [
       "<div>\n",
       "<style scoped>\n",
       "    .dataframe tbody tr th:only-of-type {\n",
       "        vertical-align: middle;\n",
       "    }\n",
       "\n",
       "    .dataframe tbody tr th {\n",
       "        vertical-align: top;\n",
       "    }\n",
       "\n",
       "    .dataframe thead th {\n",
       "        text-align: right;\n",
       "    }\n",
       "</style>\n",
       "<table border=\"1\" class=\"dataframe\">\n",
       "  <thead>\n",
       "    <tr style=\"text-align: right;\">\n",
       "      <th></th>\n",
       "      <th>Hypothesis</th>\n",
       "      <th>Reach</th>\n",
       "      <th>Impact</th>\n",
       "      <th>Confidence</th>\n",
       "      <th>Efforts</th>\n",
       "    </tr>\n",
       "  </thead>\n",
       "  <tbody>\n",
       "    <tr>\n",
       "      <td>0</td>\n",
       "      <td>Добавить два новых канала привлечения трафика,...</td>\n",
       "      <td>3</td>\n",
       "      <td>10</td>\n",
       "      <td>8</td>\n",
       "      <td>6</td>\n",
       "    </tr>\n",
       "    <tr>\n",
       "      <td>1</td>\n",
       "      <td>Запустить собственную службу доставки, что сок...</td>\n",
       "      <td>2</td>\n",
       "      <td>5</td>\n",
       "      <td>4</td>\n",
       "      <td>10</td>\n",
       "    </tr>\n",
       "    <tr>\n",
       "      <td>2</td>\n",
       "      <td>Добавить блоки рекомендаций товаров на сайт ин...</td>\n",
       "      <td>8</td>\n",
       "      <td>3</td>\n",
       "      <td>7</td>\n",
       "      <td>3</td>\n",
       "    </tr>\n",
       "    <tr>\n",
       "      <td>3</td>\n",
       "      <td>Изменить структура категорий, что увеличит кон...</td>\n",
       "      <td>8</td>\n",
       "      <td>3</td>\n",
       "      <td>3</td>\n",
       "      <td>8</td>\n",
       "    </tr>\n",
       "    <tr>\n",
       "      <td>4</td>\n",
       "      <td>Изменить цвет фона главной страницы, чтобы уве...</td>\n",
       "      <td>3</td>\n",
       "      <td>1</td>\n",
       "      <td>1</td>\n",
       "      <td>1</td>\n",
       "    </tr>\n",
       "    <tr>\n",
       "      <td>5</td>\n",
       "      <td>Добавить страницу отзывов клиентов о магазине,...</td>\n",
       "      <td>3</td>\n",
       "      <td>2</td>\n",
       "      <td>2</td>\n",
       "      <td>3</td>\n",
       "    </tr>\n",
       "    <tr>\n",
       "      <td>6</td>\n",
       "      <td>Показать на главной странице баннеры с актуаль...</td>\n",
       "      <td>5</td>\n",
       "      <td>3</td>\n",
       "      <td>8</td>\n",
       "      <td>3</td>\n",
       "    </tr>\n",
       "    <tr>\n",
       "      <td>7</td>\n",
       "      <td>Добавить форму подписки на все основные страни...</td>\n",
       "      <td>10</td>\n",
       "      <td>7</td>\n",
       "      <td>8</td>\n",
       "      <td>5</td>\n",
       "    </tr>\n",
       "    <tr>\n",
       "      <td>8</td>\n",
       "      <td>Запустить акцию, дающую скидку на товар в день...</td>\n",
       "      <td>1</td>\n",
       "      <td>9</td>\n",
       "      <td>9</td>\n",
       "      <td>5</td>\n",
       "    </tr>\n",
       "  </tbody>\n",
       "</table>\n",
       "</div>"
      ],
      "text/plain": [
       "                                          Hypothesis  Reach  Impact  \\\n",
       "0  Добавить два новых канала привлечения трафика,...      3      10   \n",
       "1  Запустить собственную службу доставки, что сок...      2       5   \n",
       "2  Добавить блоки рекомендаций товаров на сайт ин...      8       3   \n",
       "3  Изменить структура категорий, что увеличит кон...      8       3   \n",
       "4  Изменить цвет фона главной страницы, чтобы уве...      3       1   \n",
       "5  Добавить страницу отзывов клиентов о магазине,...      3       2   \n",
       "6  Показать на главной странице баннеры с актуаль...      5       3   \n",
       "7  Добавить форму подписки на все основные страни...     10       7   \n",
       "8  Запустить акцию, дающую скидку на товар в день...      1       9   \n",
       "\n",
       "   Confidence  Efforts  \n",
       "0           8        6  \n",
       "1           4       10  \n",
       "2           7        3  \n",
       "3           3        8  \n",
       "4           1        1  \n",
       "5           2        3  \n",
       "6           8        3  \n",
       "7           8        5  \n",
       "8           9        5  "
      ]
     },
     "metadata": {},
     "output_type": "display_data"
    },
    {
     "name": "stdout",
     "output_type": "stream",
     "text": [
      "<class 'pandas.core.frame.DataFrame'>\n",
      "RangeIndex: 9 entries, 0 to 8\n",
      "Data columns (total 5 columns):\n",
      "Hypothesis    9 non-null object\n",
      "Reach         9 non-null int64\n",
      "Impact        9 non-null int64\n",
      "Confidence    9 non-null int64\n",
      "Efforts       9 non-null int64\n",
      "dtypes: int64(4), object(1)\n",
      "memory usage: 488.0+ bytes\n"
     ]
    }
   ],
   "source": [
    "display(hypothesis)\n",
    "hypothesis.info()"
   ]
  },
  {
   "cell_type": "markdown",
   "metadata": {},
   "source": [
    "<div style=\"background:#d4d6fa; color:#000; padding:10px\">\n",
    "    <p><b> Комментарий ревьюера: </b></p>\n",
    "    \n",
    "По-хорошему всё равно нужно написать пару слов о качестве входных данных. Но будем считать, что таблица маленькая. Всём всё видно. И с данными всё в порядке.\n",
    "</div>\n"
   ]
  },
  {
   "cell_type": "markdown",
   "metadata": {},
   "source": [
    "Приоритизация: **метод ICE**"
   ]
  },
  {
   "cell_type": "code",
   "execution_count": 4,
   "metadata": {},
   "outputs": [
    {
     "data": {
      "text/html": [
       "<div>\n",
       "<style scoped>\n",
       "    .dataframe tbody tr th:only-of-type {\n",
       "        vertical-align: middle;\n",
       "    }\n",
       "\n",
       "    .dataframe tbody tr th {\n",
       "        vertical-align: top;\n",
       "    }\n",
       "\n",
       "    .dataframe thead th {\n",
       "        text-align: right;\n",
       "    }\n",
       "</style>\n",
       "<table border=\"1\" class=\"dataframe\">\n",
       "  <thead>\n",
       "    <tr style=\"text-align: right;\">\n",
       "      <th></th>\n",
       "      <th>Hypothesis</th>\n",
       "      <th>ICE</th>\n",
       "    </tr>\n",
       "  </thead>\n",
       "  <tbody>\n",
       "    <tr>\n",
       "      <td>8</td>\n",
       "      <td>Запустить акцию, дающую скидку на товар в день...</td>\n",
       "      <td>16.20</td>\n",
       "    </tr>\n",
       "    <tr>\n",
       "      <td>0</td>\n",
       "      <td>Добавить два новых канала привлечения трафика,...</td>\n",
       "      <td>13.33</td>\n",
       "    </tr>\n",
       "    <tr>\n",
       "      <td>7</td>\n",
       "      <td>Добавить форму подписки на все основные страни...</td>\n",
       "      <td>11.20</td>\n",
       "    </tr>\n",
       "    <tr>\n",
       "      <td>6</td>\n",
       "      <td>Показать на главной странице баннеры с актуаль...</td>\n",
       "      <td>8.00</td>\n",
       "    </tr>\n",
       "    <tr>\n",
       "      <td>2</td>\n",
       "      <td>Добавить блоки рекомендаций товаров на сайт ин...</td>\n",
       "      <td>7.00</td>\n",
       "    </tr>\n",
       "    <tr>\n",
       "      <td>1</td>\n",
       "      <td>Запустить собственную службу доставки, что сок...</td>\n",
       "      <td>2.00</td>\n",
       "    </tr>\n",
       "    <tr>\n",
       "      <td>5</td>\n",
       "      <td>Добавить страницу отзывов клиентов о магазине,...</td>\n",
       "      <td>1.33</td>\n",
       "    </tr>\n",
       "    <tr>\n",
       "      <td>3</td>\n",
       "      <td>Изменить структура категорий, что увеличит кон...</td>\n",
       "      <td>1.12</td>\n",
       "    </tr>\n",
       "    <tr>\n",
       "      <td>4</td>\n",
       "      <td>Изменить цвет фона главной страницы, чтобы уве...</td>\n",
       "      <td>1.00</td>\n",
       "    </tr>\n",
       "  </tbody>\n",
       "</table>\n",
       "</div>"
      ],
      "text/plain": [
       "                                          Hypothesis    ICE\n",
       "8  Запустить акцию, дающую скидку на товар в день...  16.20\n",
       "0  Добавить два новых канала привлечения трафика,...  13.33\n",
       "7  Добавить форму подписки на все основные страни...  11.20\n",
       "6  Показать на главной странице баннеры с актуаль...   8.00\n",
       "2  Добавить блоки рекомендаций товаров на сайт ин...   7.00\n",
       "1  Запустить собственную службу доставки, что сок...   2.00\n",
       "5  Добавить страницу отзывов клиентов о магазине,...   1.33\n",
       "3  Изменить структура категорий, что увеличит кон...   1.12\n",
       "4  Изменить цвет фона главной страницы, чтобы уве...   1.00"
      ]
     },
     "metadata": {},
     "output_type": "display_data"
    }
   ],
   "source": [
    "hypothesis['ICE'] = (hypothesis['Impact'] * hypothesis['Confidence'] / hypothesis['Efforts']).round(2)\n",
    "display(hypothesis[['Hypothesis', 'ICE']].sort_values(by = 'ICE', ascending = False))"
   ]
  },
  {
   "cell_type": "markdown",
   "metadata": {},
   "source": [
    "Приортизицаия: **метод RICE**"
   ]
  },
  {
   "cell_type": "code",
   "execution_count": 5,
   "metadata": {},
   "outputs": [
    {
     "data": {
      "text/html": [
       "<div>\n",
       "<style scoped>\n",
       "    .dataframe tbody tr th:only-of-type {\n",
       "        vertical-align: middle;\n",
       "    }\n",
       "\n",
       "    .dataframe tbody tr th {\n",
       "        vertical-align: top;\n",
       "    }\n",
       "\n",
       "    .dataframe thead th {\n",
       "        text-align: right;\n",
       "    }\n",
       "</style>\n",
       "<table border=\"1\" class=\"dataframe\">\n",
       "  <thead>\n",
       "    <tr style=\"text-align: right;\">\n",
       "      <th></th>\n",
       "      <th>Hypothesis</th>\n",
       "      <th>ICE</th>\n",
       "      <th>RICE</th>\n",
       "    </tr>\n",
       "  </thead>\n",
       "  <tbody>\n",
       "    <tr>\n",
       "      <td>7</td>\n",
       "      <td>Добавить форму подписки на все основные страни...</td>\n",
       "      <td>11.20</td>\n",
       "      <td>112.0</td>\n",
       "    </tr>\n",
       "    <tr>\n",
       "      <td>2</td>\n",
       "      <td>Добавить блоки рекомендаций товаров на сайт ин...</td>\n",
       "      <td>7.00</td>\n",
       "      <td>56.0</td>\n",
       "    </tr>\n",
       "    <tr>\n",
       "      <td>0</td>\n",
       "      <td>Добавить два новых канала привлечения трафика,...</td>\n",
       "      <td>13.33</td>\n",
       "      <td>40.0</td>\n",
       "    </tr>\n",
       "    <tr>\n",
       "      <td>6</td>\n",
       "      <td>Показать на главной странице баннеры с актуаль...</td>\n",
       "      <td>8.00</td>\n",
       "      <td>40.0</td>\n",
       "    </tr>\n",
       "    <tr>\n",
       "      <td>8</td>\n",
       "      <td>Запустить акцию, дающую скидку на товар в день...</td>\n",
       "      <td>16.20</td>\n",
       "      <td>16.2</td>\n",
       "    </tr>\n",
       "    <tr>\n",
       "      <td>3</td>\n",
       "      <td>Изменить структура категорий, что увеличит кон...</td>\n",
       "      <td>1.12</td>\n",
       "      <td>9.0</td>\n",
       "    </tr>\n",
       "    <tr>\n",
       "      <td>1</td>\n",
       "      <td>Запустить собственную службу доставки, что сок...</td>\n",
       "      <td>2.00</td>\n",
       "      <td>4.0</td>\n",
       "    </tr>\n",
       "    <tr>\n",
       "      <td>5</td>\n",
       "      <td>Добавить страницу отзывов клиентов о магазине,...</td>\n",
       "      <td>1.33</td>\n",
       "      <td>4.0</td>\n",
       "    </tr>\n",
       "    <tr>\n",
       "      <td>4</td>\n",
       "      <td>Изменить цвет фона главной страницы, чтобы уве...</td>\n",
       "      <td>1.00</td>\n",
       "      <td>3.0</td>\n",
       "    </tr>\n",
       "  </tbody>\n",
       "</table>\n",
       "</div>"
      ],
      "text/plain": [
       "                                          Hypothesis    ICE   RICE\n",
       "7  Добавить форму подписки на все основные страни...  11.20  112.0\n",
       "2  Добавить блоки рекомендаций товаров на сайт ин...   7.00   56.0\n",
       "0  Добавить два новых канала привлечения трафика,...  13.33   40.0\n",
       "6  Показать на главной странице баннеры с актуаль...   8.00   40.0\n",
       "8  Запустить акцию, дающую скидку на товар в день...  16.20   16.2\n",
       "3  Изменить структура категорий, что увеличит кон...   1.12    9.0\n",
       "1  Запустить собственную службу доставки, что сок...   2.00    4.0\n",
       "5  Добавить страницу отзывов клиентов о магазине,...   1.33    4.0\n",
       "4  Изменить цвет фона главной страницы, чтобы уве...   1.00    3.0"
      ]
     },
     "metadata": {},
     "output_type": "display_data"
    }
   ],
   "source": [
    "hypothesis['RICE'] = (hypothesis['Reach'] * hypothesis['Impact'] * hypothesis['Confidence'] / hypothesis['Efforts']).round(2)\n",
    "display(hypothesis[['Hypothesis', 'ICE', 'RICE']].sort_values(by = 'RICE', ascending = False))"
   ]
  },
  {
   "cell_type": "markdown",
   "metadata": {},
   "source": [
    "По **ICE** в топе были **гипотезы 8, 0, 7**. <br>\n",
    "По **RICE** - **гипотезы 7, 2, 0**. <br>\n",
    "Разница между двумя этими методиками только в учете одного параметра: Reach (охват пользователей), RICE при оценке его учитывает, ICE - нет. В итоге результаты различаются, но не драматически: **гипотезы №7 и №0 входят в топ-3 в обоих случаях**. <br> \n",
    "С проверки этих гипотез и имеет смысл начать, тем более, что сама компания оценивает актуальность и значимость (impact) этих гипотез на 7 и 10 из 10."
   ]
  },
  {
   "cell_type": "markdown",
   "metadata": {},
   "source": [
    "## Анализ А/В - теста. "
   ]
  },
  {
   "cell_type": "markdown",
   "metadata": {},
   "source": [
    "Посмотрим на **исходные данные**:"
   ]
  },
  {
   "cell_type": "code",
   "execution_count": 6,
   "metadata": {},
   "outputs": [],
   "source": [
    "orders = pd.read_csv('orders.csv')"
   ]
  },
  {
   "cell_type": "code",
   "execution_count": 7,
   "metadata": {},
   "outputs": [
    {
     "data": {
      "text/html": [
       "<div>\n",
       "<style scoped>\n",
       "    .dataframe tbody tr th:only-of-type {\n",
       "        vertical-align: middle;\n",
       "    }\n",
       "\n",
       "    .dataframe tbody tr th {\n",
       "        vertical-align: top;\n",
       "    }\n",
       "\n",
       "    .dataframe thead th {\n",
       "        text-align: right;\n",
       "    }\n",
       "</style>\n",
       "<table border=\"1\" class=\"dataframe\">\n",
       "  <thead>\n",
       "    <tr style=\"text-align: right;\">\n",
       "      <th></th>\n",
       "      <th>transactionId</th>\n",
       "      <th>visitorId</th>\n",
       "      <th>date</th>\n",
       "      <th>revenue</th>\n",
       "      <th>group</th>\n",
       "    </tr>\n",
       "  </thead>\n",
       "  <tbody>\n",
       "    <tr>\n",
       "      <td>0</td>\n",
       "      <td>3667963787</td>\n",
       "      <td>3312258926</td>\n",
       "      <td>2019-08-15</td>\n",
       "      <td>1650</td>\n",
       "      <td>B</td>\n",
       "    </tr>\n",
       "    <tr>\n",
       "      <td>1</td>\n",
       "      <td>2804400009</td>\n",
       "      <td>3642806036</td>\n",
       "      <td>2019-08-15</td>\n",
       "      <td>730</td>\n",
       "      <td>B</td>\n",
       "    </tr>\n",
       "    <tr>\n",
       "      <td>2</td>\n",
       "      <td>2961555356</td>\n",
       "      <td>4069496402</td>\n",
       "      <td>2019-08-15</td>\n",
       "      <td>400</td>\n",
       "      <td>A</td>\n",
       "    </tr>\n",
       "    <tr>\n",
       "      <td>3</td>\n",
       "      <td>3797467345</td>\n",
       "      <td>1196621759</td>\n",
       "      <td>2019-08-15</td>\n",
       "      <td>9759</td>\n",
       "      <td>B</td>\n",
       "    </tr>\n",
       "    <tr>\n",
       "      <td>4</td>\n",
       "      <td>2282983706</td>\n",
       "      <td>2322279887</td>\n",
       "      <td>2019-08-15</td>\n",
       "      <td>2308</td>\n",
       "      <td>B</td>\n",
       "    </tr>\n",
       "  </tbody>\n",
       "</table>\n",
       "</div>"
      ],
      "text/plain": [
       "   transactionId   visitorId        date  revenue group\n",
       "0     3667963787  3312258926  2019-08-15     1650     B\n",
       "1     2804400009  3642806036  2019-08-15      730     B\n",
       "2     2961555356  4069496402  2019-08-15      400     A\n",
       "3     3797467345  1196621759  2019-08-15     9759     B\n",
       "4     2282983706  2322279887  2019-08-15     2308     B"
      ]
     },
     "metadata": {},
     "output_type": "display_data"
    },
    {
     "name": "stdout",
     "output_type": "stream",
     "text": [
      "<class 'pandas.core.frame.DataFrame'>\n",
      "RangeIndex: 1197 entries, 0 to 1196\n",
      "Data columns (total 5 columns):\n",
      "transactionId    1197 non-null int64\n",
      "visitorId        1197 non-null int64\n",
      "date             1197 non-null object\n",
      "revenue          1197 non-null int64\n",
      "group            1197 non-null object\n",
      "dtypes: int64(3), object(2)\n",
      "memory usage: 46.9+ KB\n"
     ]
    }
   ],
   "source": [
    "display(orders.head())\n",
    "orders.info()"
   ]
  },
  {
   "cell_type": "code",
   "execution_count": 8,
   "metadata": {},
   "outputs": [],
   "source": [
    "visitors = pd.read_csv('visitors.csv')"
   ]
  },
  {
   "cell_type": "code",
   "execution_count": 9,
   "metadata": {},
   "outputs": [
    {
     "data": {
      "text/html": [
       "<div>\n",
       "<style scoped>\n",
       "    .dataframe tbody tr th:only-of-type {\n",
       "        vertical-align: middle;\n",
       "    }\n",
       "\n",
       "    .dataframe tbody tr th {\n",
       "        vertical-align: top;\n",
       "    }\n",
       "\n",
       "    .dataframe thead th {\n",
       "        text-align: right;\n",
       "    }\n",
       "</style>\n",
       "<table border=\"1\" class=\"dataframe\">\n",
       "  <thead>\n",
       "    <tr style=\"text-align: right;\">\n",
       "      <th></th>\n",
       "      <th>date</th>\n",
       "      <th>group</th>\n",
       "      <th>visitors</th>\n",
       "    </tr>\n",
       "  </thead>\n",
       "  <tbody>\n",
       "    <tr>\n",
       "      <td>0</td>\n",
       "      <td>2019-08-01</td>\n",
       "      <td>A</td>\n",
       "      <td>719</td>\n",
       "    </tr>\n",
       "    <tr>\n",
       "      <td>1</td>\n",
       "      <td>2019-08-02</td>\n",
       "      <td>A</td>\n",
       "      <td>619</td>\n",
       "    </tr>\n",
       "    <tr>\n",
       "      <td>2</td>\n",
       "      <td>2019-08-03</td>\n",
       "      <td>A</td>\n",
       "      <td>507</td>\n",
       "    </tr>\n",
       "    <tr>\n",
       "      <td>3</td>\n",
       "      <td>2019-08-04</td>\n",
       "      <td>A</td>\n",
       "      <td>717</td>\n",
       "    </tr>\n",
       "    <tr>\n",
       "      <td>4</td>\n",
       "      <td>2019-08-05</td>\n",
       "      <td>A</td>\n",
       "      <td>756</td>\n",
       "    </tr>\n",
       "  </tbody>\n",
       "</table>\n",
       "</div>"
      ],
      "text/plain": [
       "         date group  visitors\n",
       "0  2019-08-01     A       719\n",
       "1  2019-08-02     A       619\n",
       "2  2019-08-03     A       507\n",
       "3  2019-08-04     A       717\n",
       "4  2019-08-05     A       756"
      ]
     },
     "metadata": {},
     "output_type": "display_data"
    },
    {
     "name": "stdout",
     "output_type": "stream",
     "text": [
      "<class 'pandas.core.frame.DataFrame'>\n",
      "RangeIndex: 62 entries, 0 to 61\n",
      "Data columns (total 3 columns):\n",
      "date        62 non-null object\n",
      "group       62 non-null object\n",
      "visitors    62 non-null int64\n",
      "dtypes: int64(1), object(2)\n",
      "memory usage: 1.6+ KB\n"
     ]
    }
   ],
   "source": [
    "display(visitors.head())\n",
    "visitors.info()"
   ]
  },
  {
   "cell_type": "markdown",
   "metadata": {},
   "source": [
    "данные без пропусков; стоит изменить тип данных в столбцах с датами:"
   ]
  },
  {
   "cell_type": "code",
   "execution_count": 10,
   "metadata": {},
   "outputs": [
    {
     "data": {
      "text/plain": [
       "0"
      ]
     },
     "metadata": {},
     "output_type": "display_data"
    },
    {
     "data": {
      "text/plain": [
       "0"
      ]
     },
     "metadata": {},
     "output_type": "display_data"
    }
   ],
   "source": [
    "display(orders.duplicated().sum())\n",
    "display(visitors.duplicated().sum())"
   ]
  },
  {
   "cell_type": "code",
   "execution_count": 11,
   "metadata": {},
   "outputs": [],
   "source": [
    "orders['date'] = orders['date'].map(lambda x: dt.datetime.strptime(x, '%Y-%m-%d'))\n",
    "visitors['date'] = visitors['date'].map(lambda x: dt.datetime.strptime(x, '%Y-%m-%d'))"
   ]
  },
  {
   "cell_type": "markdown",
   "metadata": {},
   "source": [
    "Посмотрим, **насколько корректно поделен трафик между группами**:\n",
    "1. равны ли группы по количеству пользователей;\n",
    "2. является ли каждый пользователь участником только одной из групп."
   ]
  },
  {
   "cell_type": "code",
   "execution_count": 12,
   "metadata": {},
   "outputs": [
    {
     "data": {
      "text/plain": [
       "group\n",
       "A    503\n",
       "B    586\n",
       "Name: visitorId, dtype: int64"
      ]
     },
     "execution_count": 12,
     "metadata": {},
     "output_type": "execute_result"
    }
   ],
   "source": [
    "# количество пользователей в группах А и В:\n",
    "orders.groupby('group')['visitorId'].nunique()"
   ]
  },
  {
   "cell_type": "code",
   "execution_count": 13,
   "metadata": {},
   "outputs": [
    {
     "name": "stdout",
     "output_type": "stream",
     "text": [
      "Отношение количества участников группы А к участникам группы В (в процентах): 85.83617747440273\n"
     ]
    }
   ],
   "source": [
    "ratio_AB = orders.query('group == \"A\"')['visitorId'].nunique() / orders.query('group == \"B\"')['visitorId'].nunique() * 100\n",
    "print('Отношение количества участников группы А к участникам группы В (в процентах):', ratio_AB)"
   ]
  },
  {
   "cell_type": "markdown",
   "metadata": {},
   "source": [
    "Допустимым считается различие между группами по количеству участников не более 1%, в нашем случае - почти 15%.  "
   ]
  },
  {
   "cell_type": "code",
   "execution_count": 14,
   "metadata": {},
   "outputs": [
    {
     "data": {
      "text/plain": [
       "(58, 2)"
      ]
     },
     "execution_count": 14,
     "metadata": {},
     "output_type": "execute_result"
    }
   ],
   "source": [
    "# уникальность участников:\n",
    "not_unique_users = orders.groupby('visitorId')['group'].nunique().reset_index()\n",
    "not_unique_users[not_unique_users['group'] > 1].shape"
   ]
  },
  {
   "cell_type": "markdown",
   "metadata": {},
   "source": [
    "58 пользователей (почти 18%) у нас участвуют одновременно в двух группах."
   ]
  },
  {
   "cell_type": "markdown",
   "metadata": {},
   "source": [
    "Итак, у нас около 15% разница в численном составе сравниваемых групп и около 18% пользователей являются участниками двух групп одновременно. Теоретически можно было бы убрать \"двойных агентов\" из исследования, но это может нарушить репрезентативность выборок. \n",
    "**Приходится признать, что трафик поделен некорректно** и исправить это мы не можем. <br>\n",
    "Анализ проведём по имеющимся данным, но к результатам будем относиться с подозрением)"
   ]
  },
  {
   "cell_type": "markdown",
   "metadata": {},
   "source": [
    "### Кумулятивная выручка по группам. "
   ]
  },
  {
   "cell_type": "code",
   "execution_count": 15,
   "metadata": {},
   "outputs": [],
   "source": [
    "# получим агрегированные кумулятивные данные по дням заказов: \n",
    "dates_groups = orders[['date', 'group']].drop_duplicates()\n",
    "orders_agg = dates_groups.apply(lambda x: orders[np.logical_and(orders['date'] <= x['date'], orders['group'] == \\\n",
    "x['group'])].agg({'date' : 'max', 'group' : 'max', 'transactionId' : pd.Series.nunique, 'visitorId' : pd.Series.nunique, \\\n",
    "'revenue' : 'sum'}), axis=1).sort_values(by=['date','group'])"
   ]
  },
  {
   "cell_type": "code",
   "execution_count": 16,
   "metadata": {},
   "outputs": [],
   "source": [
    "visitors_agg = dates_groups.apply(lambda x: visitors[np.logical_and(visitors['date'] <= x['date'], visitors['group'] == \\\n",
    "x['group'])].agg({'date' : 'max', 'group' : 'max', 'visitors' : 'sum'}), axis=1).sort_values(by=['date','group'])"
   ]
  },
  {
   "cell_type": "code",
   "execution_count": 17,
   "metadata": {},
   "outputs": [
    {
     "data": {
      "text/html": [
       "<div>\n",
       "<style scoped>\n",
       "    .dataframe tbody tr th:only-of-type {\n",
       "        vertical-align: middle;\n",
       "    }\n",
       "\n",
       "    .dataframe tbody tr th {\n",
       "        vertical-align: top;\n",
       "    }\n",
       "\n",
       "    .dataframe thead th {\n",
       "        text-align: right;\n",
       "    }\n",
       "</style>\n",
       "<table border=\"1\" class=\"dataframe\">\n",
       "  <thead>\n",
       "    <tr style=\"text-align: right;\">\n",
       "      <th></th>\n",
       "      <th>date</th>\n",
       "      <th>group</th>\n",
       "      <th>orders</th>\n",
       "      <th>buyers</th>\n",
       "      <th>revenue</th>\n",
       "      <th>visitors</th>\n",
       "    </tr>\n",
       "  </thead>\n",
       "  <tbody>\n",
       "    <tr>\n",
       "      <td>0</td>\n",
       "      <td>2019-08-01</td>\n",
       "      <td>A</td>\n",
       "      <td>24</td>\n",
       "      <td>20</td>\n",
       "      <td>148579</td>\n",
       "      <td>719</td>\n",
       "    </tr>\n",
       "    <tr>\n",
       "      <td>1</td>\n",
       "      <td>2019-08-01</td>\n",
       "      <td>B</td>\n",
       "      <td>21</td>\n",
       "      <td>20</td>\n",
       "      <td>101217</td>\n",
       "      <td>713</td>\n",
       "    </tr>\n",
       "    <tr>\n",
       "      <td>2</td>\n",
       "      <td>2019-08-02</td>\n",
       "      <td>A</td>\n",
       "      <td>44</td>\n",
       "      <td>38</td>\n",
       "      <td>242401</td>\n",
       "      <td>1338</td>\n",
       "    </tr>\n",
       "    <tr>\n",
       "      <td>3</td>\n",
       "      <td>2019-08-02</td>\n",
       "      <td>B</td>\n",
       "      <td>45</td>\n",
       "      <td>43</td>\n",
       "      <td>266748</td>\n",
       "      <td>1294</td>\n",
       "    </tr>\n",
       "    <tr>\n",
       "      <td>4</td>\n",
       "      <td>2019-08-03</td>\n",
       "      <td>A</td>\n",
       "      <td>68</td>\n",
       "      <td>62</td>\n",
       "      <td>354874</td>\n",
       "      <td>1845</td>\n",
       "    </tr>\n",
       "  </tbody>\n",
       "</table>\n",
       "</div>"
      ],
      "text/plain": [
       "        date group  orders  buyers  revenue  visitors\n",
       "0 2019-08-01     A      24      20   148579       719\n",
       "1 2019-08-01     B      21      20   101217       713\n",
       "2 2019-08-02     A      44      38   242401      1338\n",
       "3 2019-08-02     B      45      43   266748      1294\n",
       "4 2019-08-03     A      68      62   354874      1845"
      ]
     },
     "execution_count": 17,
     "metadata": {},
     "output_type": "execute_result"
    }
   ],
   "source": [
    "cumulative_data = orders_agg.merge(visitors_agg, left_on = ['date', 'group'], right_on = ['date', 'group'])\n",
    "cumulative_data.columns = ['date', 'group', 'orders', 'buyers', 'revenue', 'visitors']\n",
    "cumulative_data.head()"
   ]
  },
  {
   "cell_type": "code",
   "execution_count": 18,
   "metadata": {},
   "outputs": [],
   "source": [
    "# отделим датафреймы с кумулятивным количеством заказов и кумулятивной выручкой по дням и по группам:\n",
    "cum_revenue_A = cumulative_data[cumulative_data['group'] == 'A'][['date', 'orders', 'revenue']]\n",
    "cum_revenue_B = cumulative_data[cumulative_data['group'] == 'B'][['date', 'orders', 'revenue']]"
   ]
  },
  {
   "cell_type": "code",
   "execution_count": 19,
   "metadata": {},
   "outputs": [
    {
     "data": {
      "image/png": "[encoded data removed]",
      "text/plain": [
       "<Figure size 864x360 with 1 Axes>"
      ]
     },
     "metadata": {
      "needs_background": "light"
     },
     "output_type": "display_data"
    }
   ],
   "source": [
    "# график выручки по группам:\n",
    "plt.figure(figsize=(12,5))\n",
    "plt.title(\"Кумулятивная выручка по дням\")\n",
    "plt.xlabel(\"Дни\")\n",
    "plt.ylabel(\"Выручка\")\n",
    "plt.plot(cum_revenue_A['date'], cum_revenue_A['revenue'], label = 'A')\n",
    "plt.plot(cum_revenue_B['date'], cum_revenue_B['revenue'], label = 'B')\n",
    "plt.legend()\n",
    "plt.show()"
   ]
  },
  {
   "cell_type": "markdown",
   "metadata": {},
   "source": [
    "Выручка группы А плавно растет в течение всего теста; в группе В - резкий скачок в районе 18-19 августа. Это может означать всплеск числа заказов, или появление очень дорогих заказов в выборке. Наличие здесь аномалий проверим позже."
   ]
  },
  {
   "cell_type": "markdown",
   "metadata": {},
   "source": [
    "### Кумулятивный средний чек по группам. "
   ]
  },
  {
   "cell_type": "code",
   "execution_count": 20,
   "metadata": {},
   "outputs": [
    {
     "data": {
      "image/png": "[encoded data removed]",
      "text/plain": [
       "<Figure size 864x360 with 1 Axes>"
      ]
     },
     "metadata": {
      "needs_background": "light"
     },
     "output_type": "display_data"
    }
   ],
   "source": [
    "plt.figure(figsize=(12,5))\n",
    "plt.title(\"Кумулятивный средний чек по дням\")\n",
    "plt.xlabel(\"Дни\")\n",
    "plt.ylabel(\"Средний чек\")\n",
    "plt.plot(cum_revenue_A['date'], cum_revenue_A['revenue'] / cum_revenue_A['orders'], label = 'A')\n",
    "plt.plot(cum_revenue_B['date'], cum_revenue_B['revenue'] / cum_revenue_B['orders'], label = 'B')\n",
    "plt.legend()\n",
    "plt.show()"
   ]
  },
  {
   "cell_type": "markdown",
   "metadata": {},
   "source": [
    "Судя по графику, средний чек группы В выше, чем группы А. Необходимо будет проверить, значим ли этот результат: слишком резкий скачок на графике, похоже на какие-то аномалии."
   ]
  },
  {
   "cell_type": "markdown",
   "metadata": {},
   "source": [
    "### Относительное изменение кумулятивного среднего чека группы В к группе А. "
   ]
  },
  {
   "cell_type": "code",
   "execution_count": 21,
   "metadata": {},
   "outputs": [
    {
     "data": {
      "text/html": [
       "<div>\n",
       "<style scoped>\n",
       "    .dataframe tbody tr th:only-of-type {\n",
       "        vertical-align: middle;\n",
       "    }\n",
       "\n",
       "    .dataframe tbody tr th {\n",
       "        vertical-align: top;\n",
       "    }\n",
       "\n",
       "    .dataframe thead th {\n",
       "        text-align: right;\n",
       "    }\n",
       "</style>\n",
       "<table border=\"1\" class=\"dataframe\">\n",
       "  <thead>\n",
       "    <tr style=\"text-align: right;\">\n",
       "      <th></th>\n",
       "      <th>date</th>\n",
       "      <th>ordersA</th>\n",
       "      <th>revenueA</th>\n",
       "      <th>ordersB</th>\n",
       "      <th>revenueB</th>\n",
       "    </tr>\n",
       "  </thead>\n",
       "  <tbody>\n",
       "    <tr>\n",
       "      <td>0</td>\n",
       "      <td>2019-08-01</td>\n",
       "      <td>24</td>\n",
       "      <td>148579</td>\n",
       "      <td>21</td>\n",
       "      <td>101217</td>\n",
       "    </tr>\n",
       "    <tr>\n",
       "      <td>1</td>\n",
       "      <td>2019-08-02</td>\n",
       "      <td>44</td>\n",
       "      <td>242401</td>\n",
       "      <td>45</td>\n",
       "      <td>266748</td>\n",
       "    </tr>\n",
       "    <tr>\n",
       "      <td>2</td>\n",
       "      <td>2019-08-03</td>\n",
       "      <td>68</td>\n",
       "      <td>354874</td>\n",
       "      <td>61</td>\n",
       "      <td>380996</td>\n",
       "    </tr>\n",
       "    <tr>\n",
       "      <td>3</td>\n",
       "      <td>2019-08-04</td>\n",
       "      <td>84</td>\n",
       "      <td>425699</td>\n",
       "      <td>78</td>\n",
       "      <td>489567</td>\n",
       "    </tr>\n",
       "    <tr>\n",
       "      <td>4</td>\n",
       "      <td>2019-08-05</td>\n",
       "      <td>109</td>\n",
       "      <td>549917</td>\n",
       "      <td>101</td>\n",
       "      <td>581995</td>\n",
       "    </tr>\n",
       "  </tbody>\n",
       "</table>\n",
       "</div>"
      ],
      "text/plain": [
       "        date  ordersA  revenueA  ordersB  revenueB\n",
       "0 2019-08-01       24    148579       21    101217\n",
       "1 2019-08-02       44    242401       45    266748\n",
       "2 2019-08-03       68    354874       61    380996\n",
       "3 2019-08-04       84    425699       78    489567\n",
       "4 2019-08-05      109    549917      101    581995"
      ]
     },
     "execution_count": 21,
     "metadata": {},
     "output_type": "execute_result"
    }
   ],
   "source": [
    "# собираем агрегированные данные в одном месте:\n",
    "cum_revenue_merged = cum_revenue_A.merge(cum_revenue_B, left_on = 'date', right_on = 'date', how = 'left', \\\n",
    "suffixes = ['A', 'B'])\n",
    "cum_revenue_merged.head()"
   ]
  },
  {
   "cell_type": "code",
   "execution_count": 22,
   "metadata": {},
   "outputs": [
    {
     "data": {
      "image/png": "[encoded data removed]",
      "text/plain": [
       "<Figure size 864x360 with 1 Axes>"
      ]
     },
     "metadata": {
      "needs_background": "light"
     },
     "output_type": "display_data"
    }
   ],
   "source": [
    "# строим на графике отношение средних чеков:\n",
    "plt.figure(figsize=(12,5))\n",
    "plt.title(\"Относительное изменение кумулятивного среднего чека группы В к группе А\")\n",
    "plt.xlabel(\"Дни\")\n",
    "plt.ylabel(\"Динамика среднего чека\")\n",
    "plt.plot(cum_revenue_merged['date'], (cum_revenue_merged['revenueB'] / cum_revenue_merged['ordersB'])\\\n",
    "/ (cum_revenue_merged['revenueA'] / cum_revenue_merged['ordersA']) -1)\n",
    "plt.axhline(y = 0, color = 'red', linestyle = '--')\n",
    "plt.show()"
   ]
  },
  {
   "cell_type": "markdown",
   "metadata": {},
   "source": [
    "Слишком резкие скачки, результат не стабилен и похоже, что сильно влияют выбросы."
   ]
  },
  {
   "cell_type": "markdown",
   "metadata": {},
   "source": [
    "### Кумулятивная конверсия по группам. "
   ]
  },
  {
   "cell_type": "code",
   "execution_count": 23,
   "metadata": {},
   "outputs": [],
   "source": [
    "# считаем кумулятивную конверсию\n",
    "cumulative_data['conversion'] = cumulative_data['orders'] / cumulative_data['visitors']\n",
    "# отделяем группы\n",
    "cumulative_data_A = cumulative_data.query('group == \"A\"') \n",
    "cumulative_data_B = cumulative_data.query('group == \"B\"') "
   ]
  },
  {
   "cell_type": "code",
   "execution_count": 24,
   "metadata": {},
   "outputs": [
    {
     "data": {
      "image/png": "[encoded data removed]",
      "text/plain": [
       "<Figure size 864x360 with 1 Axes>"
      ]
     },
     "metadata": {
      "needs_background": "light"
     },
     "output_type": "display_data"
    }
   ],
   "source": [
    "plt.figure(figsize=(12,5))\n",
    "plt.title(\"Кумулятивная конверсия по дням\")\n",
    "plt.xlabel(\"Дни\")\n",
    "plt.ylabel(\"Конверсия\")\n",
    "plt.plot(cumulative_data_A['date'], cumulative_data_A['conversion'], label = 'A')\n",
    "plt.plot(cumulative_data_B['date'], cumulative_data_B['conversion'], label = 'B')\n",
    "plt.legend()\n",
    "plt.axis(['2019-08-01', '2019-08-31', 0.02, 0.05])\n",
    "plt.show()"
   ]
  },
  {
   "cell_type": "markdown",
   "metadata": {},
   "source": [
    "После недолгих колебаний конверсия группы В стабильно показывает лучший результат."
   ]
  },
  {
   "cell_type": "markdown",
   "metadata": {},
   "source": [
    "### Относительное изменение кумулятивной конверсии группы В к группе А. "
   ]
  },
  {
   "cell_type": "code",
   "execution_count": 25,
   "metadata": {},
   "outputs": [],
   "source": [
    "# собираем данные:\n",
    "cum_conversion_merged = cumulative_data_A[['date', 'conversion']].merge(cumulative_data_B[['date', 'conversion']],\\\n",
    "left_on = 'date', right_on = 'date', how = 'left', suffixes = ['A', 'B'])"
   ]
  },
  {
   "cell_type": "code",
   "execution_count": 26,
   "metadata": {},
   "outputs": [
    {
     "data": {
      "image/png": "[encoded data removed]",
      "text/plain": [
       "<Figure size 864x360 with 1 Axes>"
      ]
     },
     "metadata": {
      "needs_background": "light"
     },
     "output_type": "display_data"
    }
   ],
   "source": [
    "# строим на графике отношение кумулятивной конверсии:\n",
    "plt.figure(figsize=(12,5))\n",
    "plt.title(\"Кумулятивная конверсия группы В к группе А\")\n",
    "plt.xlabel(\"Дни\")\n",
    "plt.ylabel(\"Конверсия\")\n",
    "plt.plot(cum_conversion_merged['date'], cum_conversion_merged['conversionB'] / cum_conversion_merged['conversionA']\\\n",
    "- 1, label = \"Изменение конверсии группы В относительно группы А\")\n",
    "plt.legend()\n",
    "plt.axhline(y = 0, color = 'red', linestyle = '--')\n",
    "plt.axhline(y = 0.1, color = 'black', linestyle = '--')\n",
    "plt.axis(['2019-08-01', '2019-08-31', -0.25, 0.25])\n",
    "plt.show()"
   ]
  },
  {
   "cell_type": "markdown",
   "metadata": {},
   "source": [
    "Первенство группы В по конверсии кажется стабильным и убедительным. После первых нескольких дней резких скачков нет. <br>\n",
    "Хотя данные пока не очищены от аномалий, так что окончательные выводы делать рано. <br>\n",
    "Посмотрим ниже на распределение количества и стоимости заказов. "
   ]
  },
  {
   "cell_type": "markdown",
   "metadata": {},
   "source": [
    "### Распределение количества и стоимости заказов по пользователям; поиск аномалий.  "
   ]
  },
  {
   "cell_type": "markdown",
   "metadata": {},
   "source": [
    "Посмотрим **распределение по количеству заказов**: "
   ]
  },
  {
   "cell_type": "code",
   "execution_count": 27,
   "metadata": {},
   "outputs": [],
   "source": [
    "orders_by_users = (orders.drop(['group', 'revenue', 'date'], axis = 1).groupby('visitorId', as_index = False)\\\n",
    ".agg({'transactionId': pd.Series.nunique}))\n",
    "orders_by_users.columns = ['user_id', 'orders']"
   ]
  },
  {
   "cell_type": "code",
   "execution_count": 28,
   "metadata": {},
   "outputs": [
    {
     "data": {
      "image/png": "[encoded data removed]",
      "text/plain": [
       "<Figure size 864x432 with 1 Axes>"
      ]
     },
     "metadata": {
      "needs_background": "light"
     },
     "output_type": "display_data"
    }
   ],
   "source": [
    "plt.figure(figsize=(12,6))\n",
    "plt.title(\"Распределение по количеству заказов на пользователя\")\n",
    "plt.xlabel(\"Количество заказов\")\n",
    "plt.ylabel(\"Частота\")\n",
    "plt.hist(orders_by_users['orders'])\n",
    "plt.show()"
   ]
  },
  {
   "cell_type": "markdown",
   "metadata": {},
   "source": [
    "Значительное большинство пользователей делает только один заказ. Посмотрим распределение на точечной диаграмме."
   ]
  },
  {
   "cell_type": "code",
   "execution_count": 29,
   "metadata": {},
   "outputs": [
    {
     "data": {
      "image/png": "[encoded data removed]",
      "text/plain": [
       "<Figure size 720x432 with 1 Axes>"
      ]
     },
     "metadata": {
      "needs_background": "light"
     },
     "output_type": "display_data"
    }
   ],
   "source": [
    "plt.figure(figsize=(10,6))\n",
    "plt.title(\"Распределение по количеству заказов на пользователя\")\n",
    "plt.xlabel(\"Пользователи\")\n",
    "plt.ylabel(\"Количество заказов\")\n",
    "x_values_ord = pd.Series(range(0, len(orders_by_users)))\n",
    "plt.scatter(x_values_ord, orders_by_users['orders'], alpha = 0.5)\n",
    "plt.show()"
   ]
  },
  {
   "cell_type": "markdown",
   "metadata": {},
   "source": [
    "Много пользователей с 2 заказами. Чтобы понять, считать ли 3 заказа аномалиями или нет, нужно определиться с их точной долей. <br>\n",
    "Посчитаем перцентили (95 и 99):"
   ]
  },
  {
   "cell_type": "code",
   "execution_count": 30,
   "metadata": {},
   "outputs": [
    {
     "name": "stdout",
     "output_type": "stream",
     "text": [
      "[2. 4.]\n"
     ]
    }
   ],
   "source": [
    "print(np.percentile(orders_by_users['orders'], [95, 99]))"
   ]
  },
  {
   "cell_type": "markdown",
   "metadata": {},
   "source": [
    "всего 1% пользователей оформляли больше 4 заказов,  5% - сделали больше 2 заказов. А истина, вероятно, посередине:"
   ]
  },
  {
   "cell_type": "code",
   "execution_count": 31,
   "metadata": {},
   "outputs": [
    {
     "name": "stdout",
     "output_type": "stream",
     "text": [
      "3.0\n"
     ]
    }
   ],
   "source": [
    "print(np.percentile(orders_by_users['orders'], 97.5))"
   ]
  },
  {
   "cell_type": "markdown",
   "metadata": {},
   "source": [
    "**Определим 3 заказа (97.5 перцентиля) за верхнюю границу количества заказов и отсеем аномальных пользователей по ней**."
   ]
  },
  {
   "cell_type": "markdown",
   "metadata": {},
   "source": [
    "**Распределение по стоимости заказов:** "
   ]
  },
  {
   "cell_type": "code",
   "execution_count": 32,
   "metadata": {},
   "outputs": [
    {
     "data": {
      "image/png": "[encoded data removed]",
      "text/plain": [
       "<Figure size 864x432 with 1 Axes>"
      ]
     },
     "metadata": {
      "needs_background": "light"
     },
     "output_type": "display_data"
    }
   ],
   "source": [
    "plt.figure(figsize=(12,6))\n",
    "plt.title(\"Распределение по стоимости заказов на пользователя\")\n",
    "plt.xlabel(\"Стоимость заказов\")\n",
    "plt.ylabel(\"Частота\")\n",
    "plt.hist(orders['revenue'], range = (0, 150000))\n",
    "plt.show()"
   ]
  },
  {
   "cell_type": "markdown",
   "metadata": {},
   "source": [
    "Большая часть заказов - в пределах 30 тыс. рублей. Но от 30 до 60 тыс. рублей заказов тоже немало. Посмотрим точечные диаграммы (по всем заказам, и подробнее - по заказам в пределах 60 тыс. рублей) и посчитаем перцентили:"
   ]
  },
  {
   "cell_type": "code",
   "execution_count": 33,
   "metadata": {},
   "outputs": [
    {
     "data": {
      "image/png": "[encoded data removed]",
      "text/plain": [
       "<Figure size 1152x576 with 2 Axes>"
      ]
     },
     "metadata": {
      "needs_background": "light"
     },
     "output_type": "display_data"
    }
   ],
   "source": [
    "fig, (ax0, ax1) = plt.subplots(nrows=1, ncols=2, figsize = (16, 8))\n",
    "\n",
    "\n",
    "x_values_rev = pd.Series(range(0, len(orders['revenue'])))\n",
    "ax0.scatter(x_values_rev, orders['revenue'], alpha = 0.3)\n",
    "ax0.set_title('Все значения')\n",
    "ax0.set_xlabel('Пользователи')\n",
    "ax0.set_ylabel('Стоимость заказов')\n",
    "\n",
    "ax1.scatter(x_values_rev, orders['revenue'], alpha = 0.3)\n",
    "ax1.set_ylim([0, 60000])\n",
    "ax1.set_title('Значения без явных аномалий')\n",
    "ax1.set_xlabel('Пользователи')\n",
    "ax1.set_ylabel('Стоимость заказов')\n",
    "\n",
    "\n",
    "fig.suptitle('Распределение по стоимости заказов на пользователя',\n",
    "             y = 1.0,\n",
    "             fontsize = 17)\n",
    "plt.show()"
   ]
  },
  {
   "cell_type": "code",
   "execution_count": 34,
   "metadata": {},
   "outputs": [
    {
     "name": "stdout",
     "output_type": "stream",
     "text": [
      "[28000.  58233.2]\n"
     ]
    }
   ],
   "source": [
    "# перцентили:\n",
    "print(np.percentile(orders['revenue'], [95, 99]))"
   ]
  },
  {
   "cell_type": "markdown",
   "metadata": {},
   "source": [
    "5% заказов превышают сумму 28000 рублей и 1% заказов превышает 58233 рубля. Для симметрии и по этому параметру отбросим крайние 2.5%:\n",
    "посчитаем границей для определения аномальных заказов 97.5 перцентиль, отбросим крайние 2.5%. "
   ]
  },
  {
   "cell_type": "code",
   "execution_count": 35,
   "metadata": {},
   "outputs": [
    {
     "name": "stdout",
     "output_type": "stream",
     "text": [
      "39529.99999999997\n"
     ]
    }
   ],
   "source": [
    "print(np.percentile(orders['revenue'], 97.5))"
   ]
  },
  {
   "cell_type": "markdown",
   "metadata": {},
   "source": [
    "**Определим 39500 рублей (97.5 перцентиля) за верхнюю границу стоимости заказа и отсеем по ней аномальных пользователей**."
   ]
  },
  {
   "cell_type": "markdown",
   "metadata": {},
   "source": [
    "### Cтатистическая значимость различий в конверсии между группами по сырым и очищенным данным."
   ]
  },
  {
   "cell_type": "markdown",
   "metadata": {},
   "source": [
    "Сформулируем **нулевую и альтернативную гипотезы**, подлежащие проверке: <br>\n",
    "**H<sub>0</sub>**: Статистически значимых различий в конверсии между группами А и В нет.<br>\n",
    "**H<sub>1</sub>**: Есть статистически значимые различия в конверсии между группами А и В. "
   ]
  },
  {
   "cell_type": "markdown",
   "metadata": {},
   "source": [
    "Проверяем гипотезы **по сырым данным**:"
   ]
  },
  {
   "cell_type": "code",
   "execution_count": 36,
   "metadata": {},
   "outputs": [],
   "source": [
    "orders_by_users_A = (orders[orders['group'] == 'A'].groupby('visitorId', as_index = False).agg({'transactionId':\\\n",
    "pd.Series.nunique}))\n",
    "orders_by_users_A.columns = ['userId', 'orders']\n",
    "\n",
    "orders_by_users_B = (orders[orders['group'] == 'B'].groupby('visitorId', as_index = False).agg({'transactionId':\\\n",
    "pd.Series.nunique}))\n",
    "orders_by_users_B.columns = ['userId', 'orders']"
   ]
  },
  {
   "cell_type": "code",
   "execution_count": 37,
   "metadata": {},
   "outputs": [],
   "source": [
    "visitors_daily_A = visitors[visitors['group']=='A'][['date', 'visitors']].drop_duplicates()\n",
    "visitors_daily_B = visitors[visitors['group']=='B'][['date', 'visitors']].drop_duplicates()"
   ]
  },
  {
   "cell_type": "code",
   "execution_count": 38,
   "metadata": {},
   "outputs": [
    {
     "name": "stdout",
     "output_type": "stream",
     "text": [
      "p-value для сравнения конверсии между группами: 0.017\n",
      "Относительный прирост конверсии группы B: 0.138\n"
     ]
    }
   ],
   "source": [
    "sample_A = pd.concat([orders_by_users_A['orders'], pd.Series(0, index = np.arange(visitors_daily_A['visitors'].sum()\\\n",
    "            - len(orders_by_users_A['orders'])), name = 'orders')], axis = 0)\n",
    "sample_B = pd.concat([orders_by_users_B['orders'], pd.Series(0, index = np.arange(visitors_daily_B['visitors'].sum()\\\n",
    "            - len(orders_by_users_B['orders'])), name = 'orders')], axis = 0)\n",
    "\n",
    "print('p-value для сравнения конверсии между группами:', '{0:.3f}'.format(st.mannwhitneyu(sample_A, sample_B, alternative = 'two-sided')[1]))\n",
    "print('Относительный прирост конверсии группы B:', '{0:.3f}'.format(sample_B.mean() / sample_A.mean() -1))"
   ]
  },
  {
   "cell_type": "markdown",
   "metadata": {},
   "source": [
    "<div class=\"alert alert-block alert-info\">\n",
    "    <b>Комментарий от cтудента:</b> \n",
    "       Вывод изменен 👆 \n",
    "    </div>"
   ]
  },
  {
   "cell_type": "markdown",
   "metadata": {},
   "source": [
    "p-value = 0.017, меньше 0.05. Значит, **есть основания отвергнуть нулевую гипотезу о том, что статистически значимых различий в конверсии между группами нет**. <br>\n",
    "**Относительный выигрыш группы по В равен 13.8% (по неочищенным данным).** "
   ]
  },
  {
   "cell_type": "markdown",
   "metadata": {},
   "source": [
    "Посмотрим теперь **по очищенным данным**:"
   ]
  },
  {
   "cell_type": "code",
   "execution_count": 39,
   "metadata": {},
   "outputs": [],
   "source": [
    "# отделим аномальных пользователей (по количеству и стоимости заказов)\n",
    "users_many_orders = pd.concat([\n",
    "    orders_by_users_A[orders_by_users_A['orders'] > np.percentile(orders_by_users['orders'], 97.5)]['userId'], \n",
    "    orders_by_users_B[orders_by_users_B['orders'] > np.percentile(orders_by_users['orders'], 97.5)]['userId']\n",
    "], axis = 0)"
   ]
  },
  {
   "cell_type": "code",
   "execution_count": 40,
   "metadata": {},
   "outputs": [
    {
     "data": {
      "text/plain": [
       "(35,)"
      ]
     },
     "execution_count": 40,
     "metadata": {},
     "output_type": "execute_result"
    }
   ],
   "source": [
    "users_expensive_orders = orders[orders['revenue'] > np.percentile(orders['revenue'], 97.5)]['visitorId']\n",
    "abnormal_users = (pd.concat([users_many_orders, users_expensive_orders], axis = 0).drop_duplicates().sort_values())\n",
    "# посчитаем, сколько их\n",
    "abnormal_users.shape"
   ]
  },
  {
   "cell_type": "markdown",
   "metadata": {},
   "source": [
    "Считаем статистическую значимость различий в конверсии между группами по очищенным данным:"
   ]
  },
  {
   "cell_type": "code",
   "execution_count": 41,
   "metadata": {},
   "outputs": [
    {
     "name": "stdout",
     "output_type": "stream",
     "text": [
      "p-value для сравнения конверсии между группами: 0.009\n",
      "Относительный прирост конверсии группы B: 0.164\n"
     ]
    }
   ],
   "source": [
    "# считаем статистическую значимость различий в конверсии между группами по очищенным данным:\n",
    "sample_A_filtered = pd.concat([orders_by_users_A[np.logical_not(orders_by_users_A['userId'].isin(abnormal_users))]\\\n",
    "                    ['orders'], pd.Series(0, index = np.arange(visitors_daily_A['visitors'].sum() - \\\n",
    "                    len(orders_by_users_A['orders'])), name = 'orders')], axis = 0)\n",
    "\n",
    "sample_B_filtered = pd.concat([orders_by_users_B[np.logical_not(orders_by_users_B['userId'].isin(abnormal_users))]\\\n",
    "                    ['orders'], pd.Series(0, index = np.arange(visitors_daily_B['visitors'].sum() - \\\n",
    "                    len(orders_by_users_B['orders'])), name = 'orders')], axis = 0)\n",
    "\n",
    "print('p-value для сравнения конверсии между группами:', '{0:.3f}'.format(st.mannwhitneyu(sample_A_filtered, sample_B_filtered, alternative = 'two-sided')[1]))\n",
    "print('Относительный прирост конверсии группы B:', '{0:.3f}'.format(sample_B_filtered.mean() / sample_A_filtered.mean() -1))"
   ]
  },
  {
   "cell_type": "markdown",
   "metadata": {},
   "source": [
    "Результаты изменились, но общий вывод **по очищенным данным** тот же: <br>\n",
    "**отвергаем нулевую гипотезу об отсутствии статистически значимых различий в конверсии между группами; <br>\n",
    "группа В опережает группу А; <br>\n",
    "относительный выигрыш группы В вырос до 16.4%** (с 13.8%)."
   ]
  },
  {
   "cell_type": "markdown",
   "metadata": {},
   "source": [
    "### Cтатистическая значимость различий в среднем чеке между группами по сырым и очищенным данным."
   ]
  },
  {
   "cell_type": "markdown",
   "metadata": {},
   "source": [
    "Сформулируем **нулевую и альтернативную гипотезы**, подлежащие проверке: <br>\n",
    "**H<sub>0</sub>**: Статистически значимых различий в среднем чеке между группами А и В нет.<br>\n",
    "**H<sub>1</sub>**: Есть статистически значимые различия в среднем чеке между группами А и В. "
   ]
  },
  {
   "cell_type": "markdown",
   "metadata": {},
   "source": [
    "**По неочищенным данным**:"
   ]
  },
  {
   "cell_type": "code",
   "execution_count": 42,
   "metadata": {},
   "outputs": [
    {
     "name": "stdout",
     "output_type": "stream",
     "text": [
      "p-value для сравнения средних чеков между группами 0.729\n",
      "Относительный прирост среднего чека группы B 0.259\n"
     ]
    }
   ],
   "source": [
    "print('p-value для сравнения средних чеков между группами', \"{0:.3f}\".format(st.mannwhitneyu(orders[orders['group']=='A']\\\n",
    "    ['revenue'], orders[orders['group']=='B']['revenue'], alternative = 'two-sided')[1]))\n",
    "\n",
    "print('Относительный прирост среднего чека группы B',\"{0:.3f}\".format(orders[orders['group']=='B']['revenue'].mean()/\\\n",
    "    orders[orders['group']=='A']['revenue'].mean()-1))"
   ]
  },
  {
   "cell_type": "markdown",
   "metadata": {},
   "source": [
    "p-value значительно больше 0.05, значит, **оснований отвергать нулевую гипотезу о равенстве средних чеков между группами, нет. \n",
    "Разница между средним чеком по группам меньше статистической значимости. <br>\n",
    "Однако относительный (хотя и не подтвержденный) прирост среднего чека группы В по отношению к группе А больше 25%.** <br> \n",
    "Это может быть проблема аномалий в данных.<br>\n",
    "Посмотрим те же показатели на очищенных данных. "
   ]
  },
  {
   "cell_type": "code",
   "execution_count": 43,
   "metadata": {},
   "outputs": [],
   "source": [
    "orders_filtered = orders[np.logical_not(orders['visitorId'].isin(abnormal_users))] "
   ]
  },
  {
   "cell_type": "code",
   "execution_count": 44,
   "metadata": {},
   "outputs": [
    {
     "name": "stdout",
     "output_type": "stream",
     "text": [
      "p-value для сравнения средних чеков между группами 0.697\n",
      "Относительный прирост среднего чека группы B 0.070\n"
     ]
    }
   ],
   "source": [
    "print('p-value для сравнения средних чеков между группами', \"{0:.3f}\".format(st.mannwhitneyu(orders_filtered[orders_filtered\\\n",
    "    ['group']=='A']['revenue'], orders_filtered[orders_filtered['group']=='B']['revenue'], alternative = 'two-sided')[1]))\n",
    "\n",
    "print('Относительный прирост среднего чека группы B',\"{0:.3f}\".format(orders_filtered[orders_filtered['group']=='B']\\\n",
    "    ['revenue'].mean() / orders_filtered[orders_filtered['group']=='A']['revenue'].mean()-1))"
   ]
  },
  {
   "cell_type": "markdown",
   "metadata": {},
   "source": [
    "Шок, сенсация. Мы по-прежнему **не можем отвергнуть нулевую гипотезу о равенстве средних чеков в группах А и В. Однако эта не получившая подтверждения разница с 25% спустилась до 7%**. "
   ]
  },
  {
   "cell_type": "markdown",
   "metadata": {},
   "source": [
    "## Выводы:"
   ]
  },
  {
   "cell_type": "markdown",
   "metadata": {},
   "source": [
    "**1.** Оценка предложенных гипотез с помощью методов ICE и RICE позволяет сделать вывод о том, что **приоритетными на данный момент являются гипотеза №7 (\"Добавить форму подписки на основные страницы\") и гипотеза №0 (\"Добавить два новых канала привлечения трафика\")**. По итогам приоритизации методами ICE и RICE обе они входят в топ-3 (в обоих случаях), компанией их актуальность и значимость (impact) оценена как 7 и 10 из 10. "
   ]
  },
  {
   "cell_type": "markdown",
   "metadata": {},
   "source": [
    "**2.** Судя по всему, есть **проблемы с корректностью деления трафика** между группами для проведения теста: **разница в численном составе сравниваемых групп составляет около 15%, а около 18% пользователей являются участниками двух групп одновременно**. Исправить ситуацию на данном этапе нельзя: простое исключение неуникальных участников из исследования может нарушить репрезентативность выборки. <br>\n",
    "Анализ проведен по имеющимся данным, но на эту проблему необходимо обратить внимание. "
   ]
  },
  {
   "cell_type": "markdown",
   "metadata": {},
   "source": [
    "**3.** В данных **обнаружены аномалии**, оказывавшие существенное (но, как выяснилось, не критическое) влияние на показатели значимых метрик. В качестве пограничного значения нормы принят 97.5 перцентиль; **аномальными мы посчитали пользователей, сделавших более 3 заказов, а также заказы на сумму более 39500 рублей**.  Итоговые выводы сделаны на основе данных, очищенных от аномальных значений. "
   ]
  },
  {
   "cell_type": "markdown",
   "metadata": {},
   "source": [
    "**4.** Разница в конверсии между группами А и В: <br>\n",
    "отвергнута гипотеза об отсутствии статистически значимых различий в конверсии между группами.  <br>\n",
    "**Принимаем гипотезу о наличии статистически значимых различий в конверсии между группами.** <br>\n",
    "**Группа В опереживает группу A; относительный выигрыш группы В составляет 16.4%.**"
   ]
  },
  {
   "cell_type": "markdown",
   "metadata": {},
   "source": [
    "**5.** Разница в среднем чеке между группами А и В: <br>\n",
    " Не удалось опровергнуть гипотезу о равенстве средних чеков в группах A и В.\n",
    " **Статистически значимых различий в среднем чеке между группами нет. \n",
    " Однако предположительная разница (хотя и не получившая подтверждения) составляет 7%, что довольно существенно.\n",
    " На графиках видно, что поведение среднего чека нестабильно, рано говорить о фиксации результата. По всей видимости, имеющегося количества наблюдений недостаточно для окончательного вывода.** "
   ]
  },
  {
   "cell_type": "markdown",
   "metadata": {},
   "source": [
    "**6.** Решение по результатам теста зависит от того, что было основной целью эксперимента. <br>\n",
    "Судя по гипотезам, которые компания оценивает как наиболее значимые (столбец 'impact' в таблице с гипотезами), наиболее актуальными задачами сейчас являются привлечение новых пользователей и увеличение конверсии, а не увеличение среднего чека. <br>\n",
    "**По конверсии результат получен; тест стоит остановить, зафиксировать победу группы В.**<br>\n",
    "**Если же целью эксперимента является повышение среднего чека, то тест стоит продолжить: окончательный вывод мы пока сделать не можем.** "
   ]
  }
 ],
 "metadata": {
  "ExecuteTimeLog": [
   {
    "duration": 408,
    "start_time": "2021-09-28T10:58:52.691Z"
   },
   {
    "duration": 1141,
    "start_time": "2021-09-28T10:58:56.903Z"
   },
   {
    "duration": 19,
    "start_time": "2021-09-28T10:59:00.912Z"
   },
   {
    "duration": 14,
    "start_time": "2021-09-28T10:59:26.601Z"
   },
   {
    "duration": 9,
    "start_time": "2021-09-28T11:00:05.278Z"
   },
   {
    "duration": 13,
    "start_time": "2021-09-28T11:00:40.989Z"
   },
   {
    "duration": 1140,
    "start_time": "2021-09-28T12:29:24.779Z"
   },
   {
    "duration": 18,
    "start_time": "2021-09-28T12:29:25.921Z"
   },
   {
    "duration": 24,
    "start_time": "2021-09-28T12:29:25.942Z"
   },
   {
    "duration": 172,
    "start_time": "2021-09-28T12:29:25.970Z"
   },
   {
    "duration": 507,
    "start_time": "2021-09-28T12:29:25.637Z"
   },
   {
    "duration": 505,
    "start_time": "2021-09-28T12:29:25.640Z"
   },
   {
    "duration": 503,
    "start_time": "2021-09-28T12:29:25.642Z"
   },
   {
    "duration": 500,
    "start_time": "2021-09-28T12:29:25.646Z"
   },
   {
    "duration": 500,
    "start_time": "2021-09-28T12:29:25.648Z"
   },
   {
    "duration": 499,
    "start_time": "2021-09-28T12:29:25.650Z"
   },
   {
    "duration": 485,
    "start_time": "2021-09-28T12:29:25.665Z"
   },
   {
    "duration": 480,
    "start_time": "2021-09-28T12:29:25.672Z"
   },
   {
    "duration": 477,
    "start_time": "2021-09-28T12:29:25.676Z"
   },
   {
    "duration": 477,
    "start_time": "2021-09-28T12:29:25.679Z"
   },
   {
    "duration": 474,
    "start_time": "2021-09-28T12:29:25.684Z"
   },
   {
    "duration": 472,
    "start_time": "2021-09-28T12:29:25.687Z"
   },
   {
    "duration": 471,
    "start_time": "2021-09-28T12:29:25.690Z"
   },
   {
    "duration": 471,
    "start_time": "2021-09-28T12:29:25.692Z"
   },
   {
    "duration": 8214,
    "start_time": "2021-09-28T12:31:40.849Z"
   },
   {
    "duration": 8,
    "start_time": "2021-09-28T12:32:15.273Z"
   },
   {
    "duration": 6,
    "start_time": "2021-09-28T12:32:31.365Z"
   },
   {
    "duration": 5,
    "start_time": "2021-09-28T12:32:50.154Z"
   },
   {
    "duration": 93,
    "start_time": "2021-09-28T12:35:30.187Z"
   },
   {
    "duration": 278,
    "start_time": "2021-09-28T12:35:48.332Z"
   },
   {
    "duration": 11,
    "start_time": "2021-09-28T12:37:41.927Z"
   },
   {
    "duration": 10,
    "start_time": "2021-09-28T12:38:23.405Z"
   },
   {
    "duration": 100,
    "start_time": "2021-09-28T15:57:41.917Z"
   },
   {
    "duration": 1062,
    "start_time": "2021-09-28T15:58:46.037Z"
   },
   {
    "duration": 19,
    "start_time": "2021-09-28T15:58:47.100Z"
   },
   {
    "duration": 18,
    "start_time": "2021-09-28T15:58:47.121Z"
   },
   {
    "duration": 18,
    "start_time": "2021-09-28T15:58:47.141Z"
   },
   {
    "duration": 17,
    "start_time": "2021-09-28T15:58:47.161Z"
   },
   {
    "duration": 99,
    "start_time": "2021-09-28T15:58:47.180Z"
   },
   {
    "duration": 538,
    "start_time": "2021-09-28T15:58:46.743Z"
   },
   {
    "duration": 535,
    "start_time": "2021-09-28T15:58:46.747Z"
   },
   {
    "duration": 515,
    "start_time": "2021-09-28T15:58:46.768Z"
   },
   {
    "duration": 511,
    "start_time": "2021-09-28T15:58:46.773Z"
   },
   {
    "duration": 502,
    "start_time": "2021-09-28T15:58:46.783Z"
   },
   {
    "duration": 500,
    "start_time": "2021-09-28T15:58:46.786Z"
   },
   {
    "duration": 498,
    "start_time": "2021-09-28T15:58:46.789Z"
   },
   {
    "duration": 495,
    "start_time": "2021-09-28T15:58:46.793Z"
   },
   {
    "duration": 494,
    "start_time": "2021-09-28T15:58:46.795Z"
   },
   {
    "duration": 486,
    "start_time": "2021-09-28T15:58:46.803Z"
   },
   {
    "duration": 484,
    "start_time": "2021-09-28T15:58:46.806Z"
   },
   {
    "duration": 481,
    "start_time": "2021-09-28T15:58:46.810Z"
   },
   {
    "duration": 1426,
    "start_time": "2021-09-28T20:08:10.528Z"
   },
   {
    "duration": 25,
    "start_time": "2021-09-28T20:08:11.957Z"
   },
   {
    "duration": 53,
    "start_time": "2021-09-28T20:08:11.985Z"
   },
   {
    "duration": 16,
    "start_time": "2021-09-28T20:08:12.041Z"
   },
   {
    "duration": 18,
    "start_time": "2021-09-28T20:08:12.059Z"
   },
   {
    "duration": 240,
    "start_time": "2021-09-28T20:08:12.079Z"
   },
   {
    "duration": 510,
    "start_time": "2021-09-28T20:08:11.812Z"
   },
   {
    "duration": 509,
    "start_time": "2021-09-28T20:08:11.815Z"
   },
   {
    "duration": 498,
    "start_time": "2021-09-28T20:08:11.827Z"
   },
   {
    "duration": 497,
    "start_time": "2021-09-28T20:08:11.830Z"
   },
   {
    "duration": 495,
    "start_time": "2021-09-28T20:08:11.833Z"
   },
   {
    "duration": 493,
    "start_time": "2021-09-28T20:08:11.836Z"
   },
   {
    "duration": 490,
    "start_time": "2021-09-28T20:08:11.840Z"
   },
   {
    "duration": 483,
    "start_time": "2021-09-28T20:08:11.848Z"
   },
   {
    "duration": 479,
    "start_time": "2021-09-28T20:08:11.854Z"
   },
   {
    "duration": 370,
    "start_time": "2021-09-28T20:08:11.964Z"
   },
   {
    "duration": 333,
    "start_time": "2021-09-28T20:08:12.003Z"
   },
   {
    "duration": 51,
    "start_time": "2021-09-28T20:11:28.746Z"
   },
   {
    "duration": 17,
    "start_time": "2021-09-28T20:12:30.555Z"
   },
   {
    "duration": 591,
    "start_time": "2021-09-28T20:16:10.254Z"
   },
   {
    "duration": 9,
    "start_time": "2021-09-28T20:16:21.560Z"
   },
   {
    "duration": 15,
    "start_time": "2021-09-28T20:16:59.643Z"
   },
   {
    "duration": 5,
    "start_time": "2021-09-28T20:22:45.017Z"
   },
   {
    "duration": 9,
    "start_time": "2021-09-28T20:41:08.068Z"
   },
   {
    "duration": 6,
    "start_time": "2021-09-28T20:41:59.833Z"
   },
   {
    "duration": 1342,
    "start_time": "2021-10-01T09:37:48.617Z"
   },
   {
    "duration": 17,
    "start_time": "2021-10-01T09:37:49.962Z"
   },
   {
    "duration": 24,
    "start_time": "2021-10-01T09:37:49.983Z"
   },
   {
    "duration": 17,
    "start_time": "2021-10-01T09:37:50.011Z"
   },
   {
    "duration": 54,
    "start_time": "2021-10-01T09:37:50.031Z"
   },
   {
    "duration": 34,
    "start_time": "2021-10-01T09:37:50.088Z"
   },
   {
    "duration": 25,
    "start_time": "2021-10-01T09:37:50.125Z"
   },
   {
    "duration": 17,
    "start_time": "2021-10-01T09:37:50.168Z"
   },
   {
    "duration": 5,
    "start_time": "2021-10-01T09:37:50.190Z"
   },
   {
    "duration": 33,
    "start_time": "2021-10-01T09:37:50.197Z"
   },
   {
    "duration": 15,
    "start_time": "2021-10-01T09:37:50.233Z"
   },
   {
    "duration": 75,
    "start_time": "2021-10-01T09:37:50.250Z"
   },
   {
    "duration": -2391,
    "start_time": "2021-10-01T09:37:52.719Z"
   },
   {
    "duration": -2400,
    "start_time": "2021-10-01T09:37:52.729Z"
   },
   {
    "duration": -2414,
    "start_time": "2021-10-01T09:37:52.744Z"
   },
   {
    "duration": -2468,
    "start_time": "2021-10-01T09:37:52.800Z"
   },
   {
    "duration": -2599,
    "start_time": "2021-10-01T09:37:52.932Z"
   },
   {
    "duration": -2605,
    "start_time": "2021-10-01T09:37:52.939Z"
   },
   {
    "duration": -2606,
    "start_time": "2021-10-01T09:37:52.942Z"
   },
   {
    "duration": -2610,
    "start_time": "2021-10-01T09:37:52.947Z"
   },
   {
    "duration": -2623,
    "start_time": "2021-10-01T09:37:52.962Z"
   },
   {
    "duration": -2634,
    "start_time": "2021-10-01T09:37:52.974Z"
   },
   {
    "duration": -2636,
    "start_time": "2021-10-01T09:37:52.978Z"
   },
   {
    "duration": -2641,
    "start_time": "2021-10-01T09:37:52.984Z"
   },
   {
    "duration": 8,
    "start_time": "2021-10-01T09:58:27.012Z"
   },
   {
    "duration": 515,
    "start_time": "2021-10-01T10:04:23.277Z"
   },
   {
    "duration": 229,
    "start_time": "2021-10-01T10:59:10.209Z"
   },
   {
    "duration": 8,
    "start_time": "2021-10-01T11:01:05.804Z"
   },
   {
    "duration": 8,
    "start_time": "2021-10-01T11:01:19.859Z"
   },
   {
    "duration": 13,
    "start_time": "2021-10-01T11:01:56.099Z"
   },
   {
    "duration": 16,
    "start_time": "2021-10-01T11:03:35.888Z"
   },
   {
    "duration": 39,
    "start_time": "2021-10-01T11:05:18.660Z"
   },
   {
    "duration": 40,
    "start_time": "2021-10-01T11:05:54.061Z"
   },
   {
    "duration": 37,
    "start_time": "2021-10-01T11:06:20.801Z"
   },
   {
    "duration": 230,
    "start_time": "2021-10-01T11:06:53.909Z"
   },
   {
    "duration": 16,
    "start_time": "2021-10-01T11:06:57.809Z"
   },
   {
    "duration": 38,
    "start_time": "2021-10-01T11:07:00.030Z"
   },
   {
    "duration": 491,
    "start_time": "2021-10-01T11:07:51.942Z"
   },
   {
    "duration": 982,
    "start_time": "2021-10-02T04:28:36.700Z"
   },
   {
    "duration": 18,
    "start_time": "2021-10-02T04:28:37.684Z"
   },
   {
    "duration": 23,
    "start_time": "2021-10-02T04:28:37.704Z"
   },
   {
    "duration": 24,
    "start_time": "2021-10-02T04:28:37.729Z"
   },
   {
    "duration": 17,
    "start_time": "2021-10-02T04:28:37.754Z"
   },
   {
    "duration": 59,
    "start_time": "2021-10-02T04:28:37.772Z"
   },
   {
    "duration": 21,
    "start_time": "2021-10-02T04:28:37.833Z"
   },
   {
    "duration": 22,
    "start_time": "2021-10-02T04:28:37.857Z"
   },
   {
    "duration": 26,
    "start_time": "2021-10-02T04:28:37.881Z"
   },
   {
    "duration": 107,
    "start_time": "2021-10-02T04:28:37.908Z"
   },
   {
    "duration": -1974,
    "start_time": "2021-10-02T04:28:39.991Z"
   },
   {
    "duration": -1994,
    "start_time": "2021-10-02T04:28:40.012Z"
   },
   {
    "duration": -1998,
    "start_time": "2021-10-02T04:28:40.017Z"
   },
   {
    "duration": -2003,
    "start_time": "2021-10-02T04:28:40.023Z"
   },
   {
    "duration": -2011,
    "start_time": "2021-10-02T04:28:40.032Z"
   },
   {
    "duration": -2034,
    "start_time": "2021-10-02T04:28:40.056Z"
   },
   {
    "duration": -2046,
    "start_time": "2021-10-02T04:28:40.068Z"
   },
   {
    "duration": -2057,
    "start_time": "2021-10-02T04:28:40.080Z"
   },
   {
    "duration": -2065,
    "start_time": "2021-10-02T04:28:40.089Z"
   },
   {
    "duration": -2068,
    "start_time": "2021-10-02T04:28:40.093Z"
   },
   {
    "duration": -2116,
    "start_time": "2021-10-02T04:28:40.142Z"
   },
   {
    "duration": -2138,
    "start_time": "2021-10-02T04:28:40.164Z"
   },
   {
    "duration": -2153,
    "start_time": "2021-10-02T04:28:40.180Z"
   },
   {
    "duration": -2210,
    "start_time": "2021-10-02T04:28:40.238Z"
   },
   {
    "duration": 11,
    "start_time": "2021-10-02T04:31:28.126Z"
   },
   {
    "duration": 10,
    "start_time": "2021-10-02T04:32:05.797Z"
   },
   {
    "duration": 1308,
    "start_time": "2021-10-02T04:33:49.250Z"
   },
   {
    "duration": 1474,
    "start_time": "2021-10-02T04:34:55.722Z"
   },
   {
    "duration": 1258,
    "start_time": "2021-10-02T04:35:23.839Z"
   },
   {
    "duration": 4,
    "start_time": "2021-10-02T04:36:46.402Z"
   },
   {
    "duration": 1188,
    "start_time": "2021-10-02T04:37:03.712Z"
   },
   {
    "duration": 10,
    "start_time": "2021-10-02T04:37:25.023Z"
   },
   {
    "duration": 1053,
    "start_time": "2021-10-02T04:38:25.333Z"
   },
   {
    "duration": 18,
    "start_time": "2021-10-02T04:38:26.387Z"
   },
   {
    "duration": 20,
    "start_time": "2021-10-02T04:38:26.407Z"
   },
   {
    "duration": 14,
    "start_time": "2021-10-02T04:38:26.429Z"
   },
   {
    "duration": 11,
    "start_time": "2021-10-02T04:38:26.445Z"
   },
   {
    "duration": 47,
    "start_time": "2021-10-02T04:38:26.457Z"
   },
   {
    "duration": 10,
    "start_time": "2021-10-02T04:38:26.506Z"
   },
   {
    "duration": 16,
    "start_time": "2021-10-02T04:38:26.518Z"
   },
   {
    "duration": 10,
    "start_time": "2021-10-02T04:38:26.537Z"
   },
   {
    "duration": 11,
    "start_time": "2021-10-02T04:38:26.549Z"
   },
   {
    "duration": 11,
    "start_time": "2021-10-02T04:38:26.562Z"
   },
   {
    "duration": 80,
    "start_time": "2021-10-02T04:38:26.575Z"
   },
   {
    "duration": -27210,
    "start_time": "2021-10-02T04:38:53.867Z"
   },
   {
    "duration": -27213,
    "start_time": "2021-10-02T04:38:53.871Z"
   },
   {
    "duration": -27223,
    "start_time": "2021-10-02T04:38:53.882Z"
   },
   {
    "duration": -27228,
    "start_time": "2021-10-02T04:38:53.887Z"
   },
   {
    "duration": -27232,
    "start_time": "2021-10-02T04:38:53.892Z"
   },
   {
    "duration": -27237,
    "start_time": "2021-10-02T04:38:53.898Z"
   },
   {
    "duration": -27242,
    "start_time": "2021-10-02T04:38:53.904Z"
   },
   {
    "duration": -27259,
    "start_time": "2021-10-02T04:38:53.922Z"
   },
   {
    "duration": -27265,
    "start_time": "2021-10-02T04:38:53.928Z"
   },
   {
    "duration": 92,
    "start_time": "2021-10-02T04:38:27.617Z"
   },
   {
    "duration": -26241,
    "start_time": "2021-10-02T04:38:53.952Z"
   },
   {
    "duration": -26277,
    "start_time": "2021-10-02T04:38:53.989Z"
   },
   {
    "duration": -26281,
    "start_time": "2021-10-02T04:38:53.995Z"
   },
   {
    "duration": -26294,
    "start_time": "2021-10-02T04:38:54.009Z"
   },
   {
    "duration": 369,
    "start_time": "2021-10-02T04:43:11.988Z"
   },
   {
    "duration": 1028,
    "start_time": "2021-10-02T04:44:18.459Z"
   },
   {
    "duration": 19,
    "start_time": "2021-10-02T04:44:19.489Z"
   },
   {
    "duration": 20,
    "start_time": "2021-10-02T04:44:19.510Z"
   },
   {
    "duration": 13,
    "start_time": "2021-10-02T04:44:19.533Z"
   },
   {
    "duration": 10,
    "start_time": "2021-10-02T04:44:19.548Z"
   },
   {
    "duration": 41,
    "start_time": "2021-10-02T04:44:19.560Z"
   },
   {
    "duration": 13,
    "start_time": "2021-10-02T04:44:19.603Z"
   },
   {
    "duration": 17,
    "start_time": "2021-10-02T04:44:20.213Z"
   },
   {
    "duration": 12,
    "start_time": "2021-10-02T04:44:20.232Z"
   },
   {
    "duration": 11,
    "start_time": "2021-10-02T04:44:20.246Z"
   },
   {
    "duration": 6,
    "start_time": "2021-10-02T04:44:20.259Z"
   },
   {
    "duration": 327,
    "start_time": "2021-10-02T04:44:20.266Z"
   },
   {
    "duration": -5437,
    "start_time": "2021-10-02T04:44:26.032Z"
   },
   {
    "duration": -5503,
    "start_time": "2021-10-02T04:44:26.099Z"
   },
   {
    "duration": -5601,
    "start_time": "2021-10-02T04:44:26.198Z"
   },
   {
    "duration": -5605,
    "start_time": "2021-10-02T04:44:26.202Z"
   },
   {
    "duration": -5635,
    "start_time": "2021-10-02T04:44:26.233Z"
   },
   {
    "duration": -5690,
    "start_time": "2021-10-02T04:44:26.289Z"
   },
   {
    "duration": -5758,
    "start_time": "2021-10-02T04:44:26.358Z"
   },
   {
    "duration": -5820,
    "start_time": "2021-10-02T04:44:26.421Z"
   },
   {
    "duration": -5939,
    "start_time": "2021-10-02T04:44:26.540Z"
   },
   {
    "duration": -6003,
    "start_time": "2021-10-02T04:44:26.606Z"
   },
   {
    "duration": -6007,
    "start_time": "2021-10-02T04:44:26.610Z"
   },
   {
    "duration": 495,
    "start_time": "2021-10-02T04:44:45.045Z"
   },
   {
    "duration": 6,
    "start_time": "2021-10-02T04:45:10.956Z"
   },
   {
    "duration": 270,
    "start_time": "2021-10-02T04:51:10.787Z"
   },
   {
    "duration": 140,
    "start_time": "2021-10-02T04:54:51.861Z"
   },
   {
    "duration": 94,
    "start_time": "2021-10-02T04:54:57.869Z"
   },
   {
    "duration": 16,
    "start_time": "2021-10-02T04:58:15.126Z"
   },
   {
    "duration": 12,
    "start_time": "2021-10-02T04:58:25.985Z"
   },
   {
    "duration": 8,
    "start_time": "2021-10-02T05:03:59.853Z"
   },
   {
    "duration": 196,
    "start_time": "2021-10-02T05:06:31.773Z"
   },
   {
    "duration": 168,
    "start_time": "2021-10-02T05:06:56.293Z"
   },
   {
    "duration": 456,
    "start_time": "2021-10-02T05:07:42.180Z"
   },
   {
    "duration": 537,
    "start_time": "2021-10-02T05:08:03.068Z"
   },
   {
    "duration": 159,
    "start_time": "2021-10-02T05:08:21.194Z"
   },
   {
    "duration": 171,
    "start_time": "2021-10-02T05:08:59.729Z"
   },
   {
    "duration": 169,
    "start_time": "2021-10-02T05:12:54.402Z"
   },
   {
    "duration": 6,
    "start_time": "2021-10-02T05:22:17.748Z"
   },
   {
    "duration": 10,
    "start_time": "2021-10-02T05:22:33.341Z"
   },
   {
    "duration": 11,
    "start_time": "2021-10-02T05:23:29.014Z"
   },
   {
    "duration": 8,
    "start_time": "2021-10-02T05:24:06.001Z"
   },
   {
    "duration": 176,
    "start_time": "2021-10-02T05:33:22.363Z"
   },
   {
    "duration": 449,
    "start_time": "2021-10-02T05:34:20.875Z"
   },
   {
    "duration": 340,
    "start_time": "2021-10-02T05:34:28.119Z"
   },
   {
    "duration": 10,
    "start_time": "2021-10-02T05:38:28.240Z"
   },
   {
    "duration": 1070,
    "start_time": "2021-10-03T06:01:56.876Z"
   },
   {
    "duration": 17,
    "start_time": "2021-10-03T06:01:57.948Z"
   },
   {
    "duration": 16,
    "start_time": "2021-10-03T06:01:57.967Z"
   },
   {
    "duration": 16,
    "start_time": "2021-10-03T06:01:57.985Z"
   },
   {
    "duration": 12,
    "start_time": "2021-10-03T06:01:58.002Z"
   },
   {
    "duration": 86,
    "start_time": "2021-10-03T06:01:58.016Z"
   },
   {
    "duration": 11,
    "start_time": "2021-10-03T06:01:58.104Z"
   },
   {
    "duration": 15,
    "start_time": "2021-10-03T06:01:58.117Z"
   },
   {
    "duration": 10,
    "start_time": "2021-10-03T06:01:58.134Z"
   },
   {
    "duration": 12,
    "start_time": "2021-10-03T06:01:58.145Z"
   },
   {
    "duration": 6,
    "start_time": "2021-10-03T06:01:58.159Z"
   },
   {
    "duration": 230,
    "start_time": "2021-10-03T06:01:58.167Z"
   },
   {
    "duration": 148,
    "start_time": "2021-10-03T06:01:58.488Z"
   },
   {
    "duration": 12,
    "start_time": "2021-10-03T06:01:58.638Z"
   },
   {
    "duration": 18,
    "start_time": "2021-10-03T06:01:58.652Z"
   },
   {
    "duration": 222,
    "start_time": "2021-10-03T06:01:58.672Z"
   },
   {
    "duration": 204,
    "start_time": "2021-10-03T06:01:58.895Z"
   },
   {
    "duration": 7,
    "start_time": "2021-10-03T06:01:59.100Z"
   },
   {
    "duration": 11,
    "start_time": "2021-10-03T06:01:59.108Z"
   },
   {
    "duration": 290,
    "start_time": "2021-10-03T06:01:59.121Z"
   },
   {
    "duration": 56,
    "start_time": "2021-10-03T06:01:59.414Z"
   },
   {
    "duration": -875,
    "start_time": "2021-10-03T06:02:00.348Z"
   },
   {
    "duration": -881,
    "start_time": "2021-10-03T06:02:00.355Z"
   },
   {
    "duration": -886,
    "start_time": "2021-10-03T06:02:00.361Z"
   },
   {
    "duration": -897,
    "start_time": "2021-10-03T06:02:00.372Z"
   },
   {
    "duration": -903,
    "start_time": "2021-10-03T06:02:00.379Z"
   },
   {
    "duration": -911,
    "start_time": "2021-10-03T06:02:00.388Z"
   },
   {
    "duration": -915,
    "start_time": "2021-10-03T06:02:00.393Z"
   },
   {
    "duration": -918,
    "start_time": "2021-10-03T06:02:00.397Z"
   },
   {
    "duration": -925,
    "start_time": "2021-10-03T06:02:00.405Z"
   },
   {
    "duration": 9,
    "start_time": "2021-10-03T06:02:33.957Z"
   },
   {
    "duration": 56,
    "start_time": "2021-10-03T06:06:32.799Z"
   },
   {
    "duration": 185,
    "start_time": "2021-10-03T06:06:52.303Z"
   },
   {
    "duration": 452,
    "start_time": "2021-10-03T06:07:27.560Z"
   },
   {
    "duration": 181,
    "start_time": "2021-10-03T06:08:35.287Z"
   },
   {
    "duration": 8,
    "start_time": "2021-10-03T06:15:51.121Z"
   },
   {
    "duration": 302,
    "start_time": "2021-10-03T06:22:48.801Z"
   },
   {
    "duration": 309,
    "start_time": "2021-10-03T06:23:27.692Z"
   },
   {
    "duration": 231,
    "start_time": "2021-10-03T06:31:50.617Z"
   },
   {
    "duration": 182,
    "start_time": "2021-10-03T06:33:57.038Z"
   },
   {
    "duration": 599,
    "start_time": "2021-10-03T06:37:04.077Z"
   },
   {
    "duration": 174,
    "start_time": "2021-10-03T06:41:41.529Z"
   },
   {
    "duration": 181,
    "start_time": "2021-10-03T06:41:56.839Z"
   },
   {
    "duration": 113,
    "start_time": "2021-10-03T06:43:27.587Z"
   },
   {
    "duration": 173,
    "start_time": "2021-10-03T06:43:33.297Z"
   },
   {
    "duration": 277,
    "start_time": "2021-10-03T07:21:35.477Z"
   },
   {
    "duration": 5,
    "start_time": "2021-10-03T07:25:09.430Z"
   },
   {
    "duration": 254,
    "start_time": "2021-10-03T07:30:28.567Z"
   },
   {
    "duration": 4,
    "start_time": "2021-10-03T07:31:03.672Z"
   },
   {
    "duration": 4,
    "start_time": "2021-10-03T07:31:21.364Z"
   },
   {
    "duration": 209,
    "start_time": "2021-10-03T07:33:10.190Z"
   },
   {
    "duration": 174,
    "start_time": "2021-10-03T07:33:27.906Z"
   },
   {
    "duration": 289,
    "start_time": "2021-10-03T07:37:05.192Z"
   },
   {
    "duration": 5806,
    "start_time": "2021-10-03T07:37:52.768Z"
   },
   {
    "duration": 303,
    "start_time": "2021-10-03T07:38:04.927Z"
   },
   {
    "duration": 307,
    "start_time": "2021-10-03T07:38:24.896Z"
   },
   {
    "duration": 306,
    "start_time": "2021-10-03T07:38:36.893Z"
   },
   {
    "duration": 331,
    "start_time": "2021-10-03T07:41:21.710Z"
   },
   {
    "duration": 332,
    "start_time": "2021-10-03T07:41:38.280Z"
   },
   {
    "duration": 6,
    "start_time": "2021-10-03T07:44:13.977Z"
   },
   {
    "duration": 5,
    "start_time": "2021-10-03T07:46:11.561Z"
   },
   {
    "duration": 8,
    "start_time": "2021-10-03T07:53:05.157Z"
   },
   {
    "duration": 806,
    "start_time": "2021-10-03T07:55:22.260Z"
   },
   {
    "duration": 137,
    "start_time": "2021-10-03T07:56:09.596Z"
   },
   {
    "duration": 156,
    "start_time": "2021-10-03T07:56:24.268Z"
   },
   {
    "duration": 293,
    "start_time": "2021-10-03T07:59:42.041Z"
   },
   {
    "duration": 53,
    "start_time": "2021-10-03T07:59:49.657Z"
   },
   {
    "duration": 101,
    "start_time": "2021-10-03T08:00:13.359Z"
   },
   {
    "duration": 107,
    "start_time": "2021-10-03T08:01:29.669Z"
   },
   {
    "duration": 108,
    "start_time": "2021-10-03T08:01:48.021Z"
   },
   {
    "duration": 106,
    "start_time": "2021-10-03T08:01:58.356Z"
   },
   {
    "duration": 119,
    "start_time": "2021-10-03T08:03:11.395Z"
   },
   {
    "duration": 9,
    "start_time": "2021-10-03T08:06:44.866Z"
   },
   {
    "duration": 190,
    "start_time": "2021-10-03T08:09:43.541Z"
   },
   {
    "duration": 6,
    "start_time": "2021-10-03T08:10:17.871Z"
   },
   {
    "duration": 7,
    "start_time": "2021-10-03T08:11:03.210Z"
   },
   {
    "duration": 1615,
    "start_time": "2021-10-03T08:12:58.850Z"
   },
   {
    "duration": 130,
    "start_time": "2021-10-03T08:14:53.029Z"
   },
   {
    "duration": 181,
    "start_time": "2021-10-03T08:32:06.908Z"
   },
   {
    "duration": 10,
    "start_time": "2021-10-03T08:33:53.880Z"
   },
   {
    "duration": 12,
    "start_time": "2021-10-03T08:35:15.479Z"
   },
   {
    "duration": 1015,
    "start_time": "2021-10-03T09:07:14.637Z"
   },
   {
    "duration": 17,
    "start_time": "2021-10-03T09:07:15.653Z"
   },
   {
    "duration": 15,
    "start_time": "2021-10-03T09:07:15.671Z"
   },
   {
    "duration": 15,
    "start_time": "2021-10-03T09:07:15.688Z"
   },
   {
    "duration": 20,
    "start_time": "2021-10-03T09:07:15.705Z"
   },
   {
    "duration": 36,
    "start_time": "2021-10-03T09:07:16.307Z"
   },
   {
    "duration": 11,
    "start_time": "2021-10-03T09:07:16.345Z"
   },
   {
    "duration": 15,
    "start_time": "2021-10-03T09:07:16.358Z"
   },
   {
    "duration": 10,
    "start_time": "2021-10-03T09:07:16.374Z"
   },
   {
    "duration": 12,
    "start_time": "2021-10-03T09:07:16.386Z"
   },
   {
    "duration": 8,
    "start_time": "2021-10-03T09:07:16.400Z"
   },
   {
    "duration": 228,
    "start_time": "2021-10-03T09:07:16.410Z"
   },
   {
    "duration": 166,
    "start_time": "2021-10-03T09:07:16.639Z"
   },
   {
    "duration": 16,
    "start_time": "2021-10-03T09:07:16.808Z"
   },
   {
    "duration": 8,
    "start_time": "2021-10-03T09:07:16.827Z"
   },
   {
    "duration": 240,
    "start_time": "2021-10-03T09:07:16.837Z"
   },
   {
    "duration": 204,
    "start_time": "2021-10-03T09:07:17.079Z"
   },
   {
    "duration": 6,
    "start_time": "2021-10-03T09:07:17.285Z"
   },
   {
    "duration": 11,
    "start_time": "2021-10-03T09:07:17.300Z"
   },
   {
    "duration": 330,
    "start_time": "2021-10-03T09:07:17.313Z"
   },
   {
    "duration": 9,
    "start_time": "2021-10-03T09:07:17.644Z"
   },
   {
    "duration": 218,
    "start_time": "2021-10-03T09:07:17.654Z"
   },
   {
    "duration": 8,
    "start_time": "2021-10-03T09:07:17.874Z"
   },
   {
    "duration": 345,
    "start_time": "2021-10-03T09:07:17.883Z"
   },
   {
    "duration": 135,
    "start_time": "2021-10-03T09:07:18.230Z"
   },
   {
    "duration": 200,
    "start_time": "2021-10-03T09:07:18.367Z"
   },
   {
    "duration": 297,
    "start_time": "2021-10-03T09:07:18.569Z"
   },
   {
    "duration": 57,
    "start_time": "2021-10-03T09:07:18.869Z"
   },
   {
    "duration": 121,
    "start_time": "2021-10-03T09:07:18.807Z"
   },
   {
    "duration": 117,
    "start_time": "2021-10-03T09:07:18.812Z"
   },
   {
    "duration": 114,
    "start_time": "2021-10-03T09:07:18.816Z"
   },
   {
    "duration": 112,
    "start_time": "2021-10-03T09:07:18.819Z"
   },
   {
    "duration": 110,
    "start_time": "2021-10-03T09:07:18.822Z"
   },
   {
    "duration": 108,
    "start_time": "2021-10-03T09:07:18.825Z"
   },
   {
    "duration": 106,
    "start_time": "2021-10-03T09:07:18.828Z"
   },
   {
    "duration": 105,
    "start_time": "2021-10-03T09:07:18.830Z"
   },
   {
    "duration": 103,
    "start_time": "2021-10-03T09:07:18.834Z"
   },
   {
    "duration": 101,
    "start_time": "2021-10-03T09:07:18.837Z"
   },
   {
    "duration": 98,
    "start_time": "2021-10-03T09:07:18.841Z"
   },
   {
    "duration": 96,
    "start_time": "2021-10-03T09:07:18.844Z"
   },
   {
    "duration": 94,
    "start_time": "2021-10-03T09:07:18.847Z"
   },
   {
    "duration": 91,
    "start_time": "2021-10-03T09:07:18.851Z"
   },
   {
    "duration": 89,
    "start_time": "2021-10-03T09:07:18.854Z"
   },
   {
    "duration": 4,
    "start_time": "2021-10-03T09:08:12.681Z"
   },
   {
    "duration": 197,
    "start_time": "2021-10-03T09:08:15.784Z"
   },
   {
    "duration": 372,
    "start_time": "2021-10-03T09:08:19.204Z"
   },
   {
    "duration": 6,
    "start_time": "2021-10-03T09:08:23.306Z"
   },
   {
    "duration": 56,
    "start_time": "2021-10-03T09:08:26.029Z"
   },
   {
    "duration": 10,
    "start_time": "2021-10-03T09:08:33.854Z"
   },
   {
    "duration": 107,
    "start_time": "2021-10-03T09:08:41.610Z"
   },
   {
    "duration": 10,
    "start_time": "2021-10-03T09:08:44.261Z"
   },
   {
    "duration": 11,
    "start_time": "2021-10-03T09:08:47.149Z"
   },
   {
    "duration": 291,
    "start_time": "2021-10-03T09:11:48.523Z"
   },
   {
    "duration": 11,
    "start_time": "2021-10-03T09:12:23.991Z"
   },
   {
    "duration": 518,
    "start_time": "2021-10-03T09:12:43.741Z"
   },
   {
    "duration": 11,
    "start_time": "2021-10-03T09:12:51.322Z"
   },
   {
    "duration": 9,
    "start_time": "2021-10-03T09:13:11.373Z"
   },
   {
    "duration": 189,
    "start_time": "2021-10-03T09:42:08.175Z"
   },
   {
    "duration": 210,
    "start_time": "2021-10-03T09:42:25.392Z"
   },
   {
    "duration": 5411,
    "start_time": "2021-10-03T09:50:25.743Z"
   },
   {
    "duration": 8,
    "start_time": "2021-10-03T09:50:57.902Z"
   },
   {
    "duration": 7,
    "start_time": "2021-10-03T09:51:20.040Z"
   },
   {
    "duration": 5,
    "start_time": "2021-10-03T09:52:09.601Z"
   },
   {
    "duration": 5291,
    "start_time": "2021-10-03T09:54:22.803Z"
   },
   {
    "duration": 8,
    "start_time": "2021-10-03T09:54:48.512Z"
   },
   {
    "duration": 7,
    "start_time": "2021-10-03T09:55:33.230Z"
   },
   {
    "duration": 8,
    "start_time": "2021-10-03T09:56:29.976Z"
   },
   {
    "duration": 8,
    "start_time": "2021-10-03T09:57:48.989Z"
   },
   {
    "duration": 103,
    "start_time": "2021-10-03T10:00:52.037Z"
   },
   {
    "duration": 10,
    "start_time": "2021-10-03T10:00:54.713Z"
   },
   {
    "duration": 12,
    "start_time": "2021-10-03T10:00:57.009Z"
   },
   {
    "duration": 63,
    "start_time": "2021-10-03T10:01:00.470Z"
   },
   {
    "duration": 187,
    "start_time": "2021-10-03T10:07:21.540Z"
   },
   {
    "duration": 6,
    "start_time": "2021-10-03T10:09:00.145Z"
   },
   {
    "duration": 9,
    "start_time": "2021-10-03T10:09:36.562Z"
   },
   {
    "duration": 176,
    "start_time": "2021-10-03T10:10:37.870Z"
   },
   {
    "duration": 14,
    "start_time": "2021-10-03T10:10:45.228Z"
   },
   {
    "duration": 10,
    "start_time": "2021-10-03T10:19:21.796Z"
   },
   {
    "duration": 54,
    "start_time": "2021-10-03T10:33:25.744Z"
   },
   {
    "duration": 13,
    "start_time": "2021-10-03T10:37:09.818Z"
   },
   {
    "duration": 4559,
    "start_time": "2021-10-03T10:42:31.478Z"
   },
   {
    "duration": 6,
    "start_time": "2021-10-03T10:43:04.074Z"
   },
   {
    "duration": 5,
    "start_time": "2021-10-03T10:43:36.120Z"
   },
   {
    "duration": 6,
    "start_time": "2021-10-03T10:44:12.527Z"
   },
   {
    "duration": 171,
    "start_time": "2021-10-03T10:46:41.248Z"
   },
   {
    "duration": 10,
    "start_time": "2021-10-03T10:47:08.265Z"
   },
   {
    "duration": 1876,
    "start_time": "2021-10-03T19:06:40.040Z"
   },
   {
    "duration": 19,
    "start_time": "2021-10-03T19:06:41.919Z"
   },
   {
    "duration": 27,
    "start_time": "2021-10-03T19:06:41.941Z"
   },
   {
    "duration": 16,
    "start_time": "2021-10-03T19:06:41.971Z"
   },
   {
    "duration": 18,
    "start_time": "2021-10-03T19:06:41.989Z"
   },
   {
    "duration": 51,
    "start_time": "2021-10-03T19:06:42.009Z"
   },
   {
    "duration": 17,
    "start_time": "2021-10-03T19:06:42.062Z"
   },
   {
    "duration": 18,
    "start_time": "2021-10-03T19:06:42.082Z"
   },
   {
    "duration": 17,
    "start_time": "2021-10-03T19:06:42.103Z"
   },
   {
    "duration": 35,
    "start_time": "2021-10-03T19:06:42.122Z"
   },
   {
    "duration": 13,
    "start_time": "2021-10-03T19:06:42.160Z"
   },
   {
    "duration": 466,
    "start_time": "2021-10-03T19:06:42.175Z"
   },
   {
    "duration": 271,
    "start_time": "2021-10-03T19:06:42.644Z"
   },
   {
    "duration": 19,
    "start_time": "2021-10-03T19:06:42.918Z"
   },
   {
    "duration": 11,
    "start_time": "2021-10-03T19:06:42.958Z"
   },
   {
    "duration": 338,
    "start_time": "2021-10-03T19:06:42.971Z"
   },
   {
    "duration": 310,
    "start_time": "2021-10-03T19:06:43.311Z"
   },
   {
    "duration": 9,
    "start_time": "2021-10-03T19:06:43.624Z"
   },
   {
    "duration": 28,
    "start_time": "2021-10-03T19:06:43.635Z"
   },
   {
    "duration": 413,
    "start_time": "2021-10-03T19:06:43.666Z"
   },
   {
    "duration": 11,
    "start_time": "2021-10-03T19:06:44.082Z"
   },
   {
    "duration": 319,
    "start_time": "2021-10-03T19:06:44.096Z"
   },
   {
    "duration": 11,
    "start_time": "2021-10-03T19:06:44.422Z"
   },
   {
    "duration": 441,
    "start_time": "2021-10-03T19:06:44.437Z"
   },
   {
    "duration": 246,
    "start_time": "2021-10-03T19:06:44.881Z"
   },
   {
    "duration": 275,
    "start_time": "2021-10-03T19:06:45.129Z"
   },
   {
    "duration": 439,
    "start_time": "2021-10-03T19:06:45.406Z"
   },
   {
    "duration": 12,
    "start_time": "2021-10-03T19:06:45.848Z"
   },
   {
    "duration": 459,
    "start_time": "2021-10-03T19:06:45.863Z"
   },
   {
    "duration": 538,
    "start_time": "2021-10-03T19:06:46.326Z"
   },
   {
    "duration": 5,
    "start_time": "2021-10-03T19:06:46.866Z"
   },
   {
    "duration": 365,
    "start_time": "2021-10-03T19:06:46.874Z"
   },
   {
    "duration": 24,
    "start_time": "2021-10-03T19:06:47.242Z"
   },
   {
    "duration": 23,
    "start_time": "2021-10-03T19:06:47.270Z"
   },
   {
    "duration": 10,
    "start_time": "2021-10-03T19:06:47.297Z"
   },
   {
    "duration": 13,
    "start_time": "2021-10-03T19:06:47.310Z"
   },
   {
    "duration": 18,
    "start_time": "2021-10-03T19:06:47.358Z"
   },
   {
    "duration": 113,
    "start_time": "2021-10-03T19:06:47.378Z"
   },
   {
    "duration": -609,
    "start_time": "2021-10-03T19:06:48.102Z"
   },
   {
    "duration": -610,
    "start_time": "2021-10-03T19:06:48.105Z"
   },
   {
    "duration": -613,
    "start_time": "2021-10-03T19:06:48.109Z"
   },
   {
    "duration": -614,
    "start_time": "2021-10-03T19:06:48.111Z"
   },
   {
    "duration": -615,
    "start_time": "2021-10-03T19:06:48.114Z"
   },
   {
    "duration": -617,
    "start_time": "2021-10-03T19:06:48.117Z"
   },
   {
    "duration": -620,
    "start_time": "2021-10-03T19:06:48.121Z"
   },
   {
    "duration": -622,
    "start_time": "2021-10-03T19:06:48.125Z"
   },
   {
    "duration": 485,
    "start_time": "2021-10-03T19:08:45.258Z"
   },
   {
    "duration": 9,
    "start_time": "2021-10-03T19:09:07.807Z"
   },
   {
    "duration": 355,
    "start_time": "2021-10-03T19:10:38.753Z"
   },
   {
    "duration": 7119,
    "start_time": "2021-10-03T19:10:56.747Z"
   },
   {
    "duration": 21,
    "start_time": "2021-10-03T19:12:08.880Z"
   },
   {
    "duration": 12,
    "start_time": "2021-10-03T19:12:19.289Z"
   },
   {
    "duration": 20,
    "start_time": "2021-10-03T19:13:07.279Z"
   },
   {
    "duration": 369,
    "start_time": "2021-10-03T19:14:06.192Z"
   },
   {
    "duration": 11,
    "start_time": "2021-10-03T19:14:12.317Z"
   },
   {
    "duration": 5,
    "start_time": "2021-10-03T19:33:47.322Z"
   },
   {
    "duration": 15,
    "start_time": "2021-10-03T19:36:06.805Z"
   },
   {
    "duration": 14,
    "start_time": "2021-10-03T19:36:09.224Z"
   },
   {
    "duration": 15,
    "start_time": "2021-10-03T19:37:08.767Z"
   },
   {
    "duration": 10,
    "start_time": "2021-10-03T19:51:28.025Z"
   },
   {
    "duration": 8,
    "start_time": "2021-10-03T19:51:33.939Z"
   },
   {
    "duration": 10,
    "start_time": "2021-10-03T19:51:51.656Z"
   },
   {
    "duration": 8,
    "start_time": "2021-10-03T19:58:08.553Z"
   },
   {
    "duration": 6,
    "start_time": "2021-10-03T19:59:23.487Z"
   },
   {
    "duration": 5,
    "start_time": "2021-10-03T19:59:59.519Z"
   },
   {
    "duration": 5,
    "start_time": "2021-10-03T20:00:16.348Z"
   },
   {
    "duration": 6,
    "start_time": "2021-10-03T20:01:02.646Z"
   },
   {
    "duration": 115,
    "start_time": "2021-10-03T20:02:59.450Z"
   },
   {
    "duration": 10,
    "start_time": "2021-10-03T20:03:12.351Z"
   },
   {
    "duration": 14,
    "start_time": "2021-10-03T20:04:03.528Z"
   },
   {
    "duration": 12,
    "start_time": "2021-10-03T20:06:27.019Z"
   },
   {
    "duration": 5,
    "start_time": "2021-10-03T20:14:27.773Z"
   },
   {
    "duration": 6,
    "start_time": "2021-10-03T20:14:41.420Z"
   },
   {
    "duration": 5,
    "start_time": "2021-10-03T20:15:41.850Z"
   },
   {
    "duration": 6,
    "start_time": "2021-10-03T20:15:58.347Z"
   },
   {
    "duration": 5,
    "start_time": "2021-10-03T20:16:57.255Z"
   },
   {
    "duration": 6,
    "start_time": "2021-10-03T20:17:31.790Z"
   },
   {
    "duration": 5,
    "start_time": "2021-10-03T20:17:38.253Z"
   },
   {
    "duration": 11,
    "start_time": "2021-10-03T20:19:24.376Z"
   },
   {
    "duration": 115,
    "start_time": "2021-10-03T20:22:18.948Z"
   },
   {
    "duration": 149,
    "start_time": "2021-10-03T20:22:32.525Z"
   },
   {
    "duration": 313,
    "start_time": "2021-10-03T20:29:42.166Z"
   },
   {
    "duration": 15,
    "start_time": "2021-10-03T20:33:39.588Z"
   },
   {
    "duration": 423,
    "start_time": "2021-10-03T21:04:34.241Z"
   },
   {
    "duration": 395,
    "start_time": "2021-10-03T21:04:46.448Z"
   },
   {
    "duration": 390,
    "start_time": "2021-10-03T21:10:15.827Z"
   },
   {
    "duration": 1074,
    "start_time": "2021-10-04T07:19:51.523Z"
   },
   {
    "duration": 1717,
    "start_time": "2021-10-04T07:20:05.974Z"
   },
   {
    "duration": 21,
    "start_time": "2021-10-04T07:20:07.694Z"
   },
   {
    "duration": 28,
    "start_time": "2021-10-04T07:20:07.718Z"
   },
   {
    "duration": 15,
    "start_time": "2021-10-04T07:20:07.749Z"
   },
   {
    "duration": 17,
    "start_time": "2021-10-04T07:20:07.767Z"
   },
   {
    "duration": 85,
    "start_time": "2021-10-04T07:20:07.817Z"
   },
   {
    "duration": 19,
    "start_time": "2021-10-04T07:20:07.905Z"
   },
   {
    "duration": 18,
    "start_time": "2021-10-04T07:20:07.928Z"
   },
   {
    "duration": 20,
    "start_time": "2021-10-04T07:20:07.949Z"
   },
   {
    "duration": 22,
    "start_time": "2021-10-04T07:20:07.972Z"
   },
   {
    "duration": 9,
    "start_time": "2021-10-04T07:20:08.015Z"
   },
   {
    "duration": 15,
    "start_time": "2021-10-04T07:20:08.026Z"
   },
   {
    "duration": 13,
    "start_time": "2021-10-04T07:20:08.044Z"
   },
   {
    "duration": 401,
    "start_time": "2021-10-04T07:20:08.060Z"
   },
   {
    "duration": 295,
    "start_time": "2021-10-04T07:20:08.464Z"
   },
   {
    "duration": 21,
    "start_time": "2021-10-04T07:20:08.762Z"
   },
   {
    "duration": 40,
    "start_time": "2021-10-04T07:20:08.786Z"
   },
   {
    "duration": 404,
    "start_time": "2021-10-04T07:20:08.828Z"
   },
   {
    "duration": 463,
    "start_time": "2021-10-04T07:20:09.235Z"
   },
   {
    "duration": 20,
    "start_time": "2021-10-04T07:20:09.701Z"
   },
   {
    "duration": 22,
    "start_time": "2021-10-04T07:20:09.724Z"
   },
   {
    "duration": 446,
    "start_time": "2021-10-04T07:20:09.749Z"
   },
   {
    "duration": 20,
    "start_time": "2021-10-04T07:20:10.202Z"
   },
   {
    "duration": 316,
    "start_time": "2021-10-04T07:20:10.226Z"
   },
   {
    "duration": 12,
    "start_time": "2021-10-04T07:20:10.545Z"
   },
   {
    "duration": 409,
    "start_time": "2021-10-04T07:20:10.559Z"
   },
   {
    "duration": 215,
    "start_time": "2021-10-04T07:20:10.971Z"
   },
   {
    "duration": 312,
    "start_time": "2021-10-04T07:20:11.189Z"
   },
   {
    "duration": 407,
    "start_time": "2021-10-04T07:20:11.504Z"
   },
   {
    "duration": 6,
    "start_time": "2021-10-04T07:20:11.917Z"
   },
   {
    "duration": 310,
    "start_time": "2021-10-04T07:20:11.925Z"
   },
   {
    "duration": 489,
    "start_time": "2021-10-04T07:20:12.238Z"
   },
   {
    "duration": 6,
    "start_time": "2021-10-04T07:20:12.730Z"
   },
   {
    "duration": 239,
    "start_time": "2021-10-04T07:20:12.739Z"
   },
   {
    "duration": 15,
    "start_time": "2021-10-04T07:20:12.980Z"
   },
   {
    "duration": 33,
    "start_time": "2021-10-04T07:20:12.997Z"
   },
   {
    "duration": 7,
    "start_time": "2021-10-04T07:20:13.032Z"
   },
   {
    "duration": 13,
    "start_time": "2021-10-04T07:20:13.041Z"
   },
   {
    "duration": 18,
    "start_time": "2021-10-04T07:20:13.057Z"
   },
   {
    "duration": 169,
    "start_time": "2021-10-04T07:20:13.077Z"
   },
   {
    "duration": 63,
    "start_time": "2021-10-04T07:20:13.186Z"
   },
   {
    "duration": 60,
    "start_time": "2021-10-04T07:20:13.190Z"
   },
   {
    "duration": 57,
    "start_time": "2021-10-04T07:20:13.195Z"
   },
   {
    "duration": 54,
    "start_time": "2021-10-04T07:20:13.199Z"
   },
   {
    "duration": 51,
    "start_time": "2021-10-04T07:20:13.204Z"
   },
   {
    "duration": 49,
    "start_time": "2021-10-04T07:20:13.207Z"
   },
   {
    "duration": 43,
    "start_time": "2021-10-04T07:20:13.214Z"
   },
   {
    "duration": -7,
    "start_time": "2021-10-04T07:20:13.265Z"
   },
   {
    "duration": 26,
    "start_time": "2021-10-04T07:23:02.130Z"
   },
   {
    "duration": 511,
    "start_time": "2021-10-04T07:26:10.690Z"
   },
   {
    "duration": 412,
    "start_time": "2021-10-04T07:27:22.212Z"
   },
   {
    "duration": 506,
    "start_time": "2021-10-04T07:32:09.206Z"
   },
   {
    "duration": 514,
    "start_time": "2021-10-04T07:42:41.079Z"
   },
   {
    "duration": 371,
    "start_time": "2021-10-04T07:42:53.188Z"
   },
   {
    "duration": 366,
    "start_time": "2021-10-04T07:43:07.030Z"
   },
   {
    "duration": 473,
    "start_time": "2021-10-04T07:43:17.730Z"
   },
   {
    "duration": 379,
    "start_time": "2021-10-04T07:43:27.383Z"
   },
   {
    "duration": 343,
    "start_time": "2021-10-04T07:45:16.175Z"
   },
   {
    "duration": 497,
    "start_time": "2021-10-04T07:48:59.094Z"
   },
   {
    "duration": 455,
    "start_time": "2021-10-04T07:49:35.738Z"
   },
   {
    "duration": 558,
    "start_time": "2021-10-04T07:49:51.825Z"
   },
   {
    "duration": 435,
    "start_time": "2021-10-04T07:50:15.856Z"
   },
   {
    "duration": 7,
    "start_time": "2021-10-04T07:59:42.305Z"
   },
   {
    "duration": 12339,
    "start_time": "2021-10-04T08:05:42.722Z"
   },
   {
    "duration": 363,
    "start_time": "2021-10-04T08:06:41.256Z"
   },
   {
    "duration": 360,
    "start_time": "2021-10-04T08:07:56.467Z"
   },
   {
    "duration": 390,
    "start_time": "2021-10-04T08:08:05.656Z"
   },
   {
    "duration": 445,
    "start_time": "2021-10-04T08:10:41.156Z"
   },
   {
    "duration": 491,
    "start_time": "2021-10-04T08:12:55.887Z"
   },
   {
    "duration": 462,
    "start_time": "2021-10-04T08:13:16.757Z"
   },
   {
    "duration": 541,
    "start_time": "2021-10-04T08:13:23.585Z"
   },
   {
    "duration": 512,
    "start_time": "2021-10-04T08:13:43.323Z"
   },
   {
    "duration": 6,
    "start_time": "2021-10-04T08:15:16.493Z"
   },
   {
    "duration": 6,
    "start_time": "2021-10-04T08:18:13.901Z"
   },
   {
    "duration": 7,
    "start_time": "2021-10-04T08:29:35.609Z"
   },
   {
    "duration": 7,
    "start_time": "2021-10-04T08:29:42.250Z"
   },
   {
    "duration": 12,
    "start_time": "2021-10-04T08:29:45.237Z"
   },
   {
    "duration": 11,
    "start_time": "2021-10-04T08:30:12.868Z"
   },
   {
    "duration": 17,
    "start_time": "2021-10-04T08:32:12.281Z"
   },
   {
    "duration": 17,
    "start_time": "2021-10-04T09:06:59.959Z"
   },
   {
    "duration": 16,
    "start_time": "2021-10-04T09:07:47.476Z"
   },
   {
    "duration": 6,
    "start_time": "2021-10-04T09:13:56.086Z"
   },
   {
    "duration": 5,
    "start_time": "2021-10-04T09:14:13.263Z"
   },
   {
    "duration": 6,
    "start_time": "2021-10-04T09:14:15.928Z"
   },
   {
    "duration": 14,
    "start_time": "2021-10-04T09:14:43.333Z"
   },
   {
    "duration": 17,
    "start_time": "2021-10-04T09:25:09.068Z"
   },
   {
    "duration": 18,
    "start_time": "2021-10-04T09:25:23.618Z"
   },
   {
    "duration": 14,
    "start_time": "2021-10-04T09:26:04.871Z"
   },
   {
    "duration": 13,
    "start_time": "2021-10-04T09:29:20.106Z"
   },
   {
    "duration": 16,
    "start_time": "2021-10-04T09:30:08.231Z"
   },
   {
    "duration": 19,
    "start_time": "2021-10-04T09:32:07.268Z"
   },
   {
    "duration": 1082,
    "start_time": "2021-10-04T09:34:20.351Z"
   },
   {
    "duration": 481,
    "start_time": "2021-10-04T09:34:31.709Z"
   },
   {
    "duration": 15,
    "start_time": "2021-10-04T09:34:41.053Z"
   },
   {
    "duration": 16,
    "start_time": "2021-10-04T09:35:28.850Z"
   },
   {
    "duration": 15,
    "start_time": "2021-10-04T09:37:00.626Z"
   },
   {
    "duration": 1378,
    "start_time": "2021-10-04T12:47:10.825Z"
   },
   {
    "duration": 28,
    "start_time": "2021-10-04T12:47:12.206Z"
   },
   {
    "duration": 36,
    "start_time": "2021-10-04T12:47:12.238Z"
   },
   {
    "duration": 20,
    "start_time": "2021-10-04T12:47:12.278Z"
   },
   {
    "duration": 25,
    "start_time": "2021-10-04T12:47:12.301Z"
   },
   {
    "duration": 100,
    "start_time": "2021-10-04T12:47:12.330Z"
   },
   {
    "duration": 32,
    "start_time": "2021-10-04T12:47:12.433Z"
   },
   {
    "duration": 26,
    "start_time": "2021-10-04T12:47:12.468Z"
   },
   {
    "duration": 33,
    "start_time": "2021-10-04T12:47:12.496Z"
   },
   {
    "duration": 33,
    "start_time": "2021-10-04T12:47:12.532Z"
   },
   {
    "duration": 27,
    "start_time": "2021-10-04T12:47:12.567Z"
   },
   {
    "duration": 17,
    "start_time": "2021-10-04T12:47:12.597Z"
   },
   {
    "duration": 12,
    "start_time": "2021-10-04T12:47:12.678Z"
   },
   {
    "duration": 371,
    "start_time": "2021-10-04T12:47:12.693Z"
   },
   {
    "duration": 284,
    "start_time": "2021-10-04T12:47:13.067Z"
   },
   {
    "duration": 19,
    "start_time": "2021-10-04T12:47:13.353Z"
   },
   {
    "duration": 23,
    "start_time": "2021-10-04T12:47:13.374Z"
   },
   {
    "duration": 409,
    "start_time": "2021-10-04T12:47:13.399Z"
   },
   {
    "duration": 399,
    "start_time": "2021-10-04T12:47:13.810Z"
   },
   {
    "duration": 16,
    "start_time": "2021-10-04T12:47:14.216Z"
   },
   {
    "duration": 490,
    "start_time": "2021-10-04T12:47:14.236Z"
   },
   {
    "duration": 12,
    "start_time": "2021-10-04T12:47:14.729Z"
   },
   {
    "duration": 388,
    "start_time": "2021-10-04T12:47:14.743Z"
   },
   {
    "duration": 12,
    "start_time": "2021-10-04T12:47:15.133Z"
   },
   {
    "duration": 476,
    "start_time": "2021-10-04T12:47:15.148Z"
   },
   {
    "duration": 232,
    "start_time": "2021-10-04T12:47:15.627Z"
   },
   {
    "duration": 376,
    "start_time": "2021-10-04T12:47:15.861Z"
   },
   {
    "duration": 451,
    "start_time": "2021-10-04T12:47:16.239Z"
   },
   {
    "duration": 6,
    "start_time": "2021-10-04T12:47:16.692Z"
   },
   {
    "duration": 5,
    "start_time": "2021-10-04T12:47:16.716Z"
   },
   {
    "duration": 395,
    "start_time": "2021-10-04T12:47:16.724Z"
   },
   {
    "duration": 624,
    "start_time": "2021-10-04T12:47:17.121Z"
   },
   {
    "duration": 5,
    "start_time": "2021-10-04T12:47:17.747Z"
   },
   {
    "duration": 7,
    "start_time": "2021-10-04T12:47:17.755Z"
   },
   {
    "duration": 223,
    "start_time": "2021-10-04T12:47:17.764Z"
   },
   {
    "duration": 12,
    "start_time": "2021-10-04T12:47:17.990Z"
   },
   {
    "duration": 16,
    "start_time": "2021-10-04T12:47:18.017Z"
   },
   {
    "duration": 7,
    "start_time": "2021-10-04T12:47:18.036Z"
   },
   {
    "duration": 27,
    "start_time": "2021-10-04T12:47:18.048Z"
   },
   {
    "duration": 38,
    "start_time": "2021-10-04T12:47:18.078Z"
   },
   {
    "duration": 14,
    "start_time": "2021-10-04T12:47:18.119Z"
   },
   {
    "duration": 35,
    "start_time": "2021-10-04T12:47:18.137Z"
   },
   {
    "duration": 32,
    "start_time": "2021-10-04T12:47:18.182Z"
   },
   {
    "duration": 885,
    "start_time": "2021-10-04T12:53:25.684Z"
   },
   {
    "duration": 362,
    "start_time": "2021-10-04T12:53:53.401Z"
   },
   {
    "duration": 1408,
    "start_time": "2021-10-04T12:59:08.277Z"
   },
   {
    "duration": 31,
    "start_time": "2021-10-04T12:59:09.688Z"
   },
   {
    "duration": 23,
    "start_time": "2021-10-04T12:59:09.723Z"
   },
   {
    "duration": 15,
    "start_time": "2021-10-04T12:59:09.750Z"
   },
   {
    "duration": 16,
    "start_time": "2021-10-04T12:59:09.768Z"
   },
   {
    "duration": 86,
    "start_time": "2021-10-04T12:59:09.818Z"
   },
   {
    "duration": 17,
    "start_time": "2021-10-04T12:59:09.906Z"
   },
   {
    "duration": 19,
    "start_time": "2021-10-04T12:59:09.927Z"
   },
   {
    "duration": 19,
    "start_time": "2021-10-04T12:59:09.950Z"
   },
   {
    "duration": 46,
    "start_time": "2021-10-04T12:59:09.971Z"
   },
   {
    "duration": 11,
    "start_time": "2021-10-04T12:59:10.020Z"
   },
   {
    "duration": 16,
    "start_time": "2021-10-04T12:59:10.034Z"
   },
   {
    "duration": 16,
    "start_time": "2021-10-04T12:59:10.053Z"
   },
   {
    "duration": 394,
    "start_time": "2021-10-04T12:59:10.073Z"
   },
   {
    "duration": 281,
    "start_time": "2021-10-04T12:59:10.470Z"
   },
   {
    "duration": 18,
    "start_time": "2021-10-04T12:59:10.753Z"
   },
   {
    "duration": 26,
    "start_time": "2021-10-04T12:59:10.774Z"
   },
   {
    "duration": 414,
    "start_time": "2021-10-04T12:59:10.802Z"
   },
   {
    "duration": 397,
    "start_time": "2021-10-04T12:59:11.219Z"
   },
   {
    "duration": 17,
    "start_time": "2021-10-04T12:59:11.618Z"
   },
   {
    "duration": 500,
    "start_time": "2021-10-04T12:59:11.638Z"
   },
   {
    "duration": 11,
    "start_time": "2021-10-04T12:59:12.141Z"
   },
   {
    "duration": 385,
    "start_time": "2021-10-04T12:59:12.157Z"
   },
   {
    "duration": 12,
    "start_time": "2021-10-04T12:59:12.545Z"
   },
   {
    "duration": 514,
    "start_time": "2021-10-04T12:59:12.560Z"
   },
   {
    "duration": 194,
    "start_time": "2021-10-04T12:59:13.077Z"
   },
   {
    "duration": 367,
    "start_time": "2021-10-04T12:59:13.273Z"
   },
   {
    "duration": 432,
    "start_time": "2021-10-04T12:59:13.643Z"
   },
   {
    "duration": 8,
    "start_time": "2021-10-04T12:59:14.078Z"
   },
   {
    "duration": 7,
    "start_time": "2021-10-04T12:59:14.089Z"
   },
   {
    "duration": 405,
    "start_time": "2021-10-04T12:59:14.118Z"
   },
   {
    "duration": 614,
    "start_time": "2021-10-04T12:59:14.526Z"
   },
   {
    "duration": 6,
    "start_time": "2021-10-04T12:59:15.142Z"
   },
   {
    "duration": 96,
    "start_time": "2021-10-04T12:59:15.150Z"
   },
   {
    "duration": 201,
    "start_time": "2021-10-04T12:59:15.249Z"
   },
   {
    "duration": 13,
    "start_time": "2021-10-04T12:59:15.452Z"
   },
   {
    "duration": 17,
    "start_time": "2021-10-04T12:59:15.468Z"
   },
   {
    "duration": 39,
    "start_time": "2021-10-04T12:59:15.488Z"
   },
   {
    "duration": 15,
    "start_time": "2021-10-04T12:59:15.530Z"
   },
   {
    "duration": 17,
    "start_time": "2021-10-04T12:59:15.548Z"
   },
   {
    "duration": 18,
    "start_time": "2021-10-04T12:59:15.567Z"
   },
   {
    "duration": 28,
    "start_time": "2021-10-04T12:59:15.588Z"
   },
   {
    "duration": 15,
    "start_time": "2021-10-04T12:59:15.619Z"
   },
   {
    "duration": 68,
    "start_time": "2021-10-04T13:41:43.372Z"
   },
   {
    "duration": 78,
    "start_time": "2021-10-04T13:41:45.711Z"
   },
   {
    "duration": 208,
    "start_time": "2021-10-04T13:41:48.140Z"
   },
   {
    "duration": 1141,
    "start_time": "2021-10-04T13:58:57.802Z"
   },
   {
    "duration": 20,
    "start_time": "2021-10-04T13:58:58.946Z"
   },
   {
    "duration": 16,
    "start_time": "2021-10-04T13:58:58.968Z"
   },
   {
    "duration": 21,
    "start_time": "2021-10-04T13:58:58.985Z"
   },
   {
    "duration": 16,
    "start_time": "2021-10-04T13:58:59.008Z"
   },
   {
    "duration": 39,
    "start_time": "2021-10-04T13:58:59.026Z"
   },
   {
    "duration": 13,
    "start_time": "2021-10-04T13:58:59.067Z"
   },
   {
    "duration": 15,
    "start_time": "2021-10-04T13:58:59.083Z"
   },
   {
    "duration": 13,
    "start_time": "2021-10-04T13:58:59.101Z"
   },
   {
    "duration": 20,
    "start_time": "2021-10-04T13:58:59.116Z"
   },
   {
    "duration": 8,
    "start_time": "2021-10-04T13:58:59.138Z"
   },
   {
    "duration": 10,
    "start_time": "2021-10-04T13:58:59.148Z"
   },
   {
    "duration": 9,
    "start_time": "2021-10-04T13:58:59.160Z"
   },
   {
    "duration": 231,
    "start_time": "2021-10-04T13:58:59.200Z"
   },
   {
    "duration": 151,
    "start_time": "2021-10-04T13:58:59.432Z"
   },
   {
    "duration": 22,
    "start_time": "2021-10-04T13:58:59.585Z"
   },
   {
    "duration": 10,
    "start_time": "2021-10-04T13:58:59.608Z"
   },
   {
    "duration": 281,
    "start_time": "2021-10-04T13:58:59.620Z"
   },
   {
    "duration": 267,
    "start_time": "2021-10-04T13:58:59.903Z"
   },
   {
    "duration": 12,
    "start_time": "2021-10-04T13:59:00.172Z"
   },
   {
    "duration": 397,
    "start_time": "2021-10-04T13:59:00.186Z"
   },
   {
    "duration": 17,
    "start_time": "2021-10-04T13:59:00.586Z"
   },
   {
    "duration": 248,
    "start_time": "2021-10-04T13:59:00.608Z"
   },
   {
    "duration": 8,
    "start_time": "2021-10-04T13:59:00.858Z"
   },
   {
    "duration": 376,
    "start_time": "2021-10-04T13:59:00.868Z"
   },
   {
    "duration": 117,
    "start_time": "2021-10-04T13:59:01.247Z"
   },
   {
    "duration": 238,
    "start_time": "2021-10-04T13:59:01.366Z"
   },
   {
    "duration": 343,
    "start_time": "2021-10-04T13:59:01.607Z"
   },
   {
    "duration": 5,
    "start_time": "2021-10-04T13:59:01.952Z"
   },
   {
    "duration": 8,
    "start_time": "2021-10-04T13:59:01.959Z"
   },
   {
    "duration": 267,
    "start_time": "2021-10-04T13:59:01.969Z"
   },
   {
    "duration": 475,
    "start_time": "2021-10-04T13:59:02.238Z"
   },
   {
    "duration": 5,
    "start_time": "2021-10-04T13:59:02.715Z"
   },
   {
    "duration": 9,
    "start_time": "2021-10-04T13:59:02.722Z"
   },
   {
    "duration": 136,
    "start_time": "2021-10-04T13:59:02.733Z"
   },
   {
    "duration": 11,
    "start_time": "2021-10-04T13:59:02.871Z"
   },
   {
    "duration": 25,
    "start_time": "2021-10-04T13:59:02.884Z"
   },
   {
    "duration": 8,
    "start_time": "2021-10-04T13:59:02.911Z"
   },
   {
    "duration": 11,
    "start_time": "2021-10-04T13:59:02.921Z"
   },
   {
    "duration": 15,
    "start_time": "2021-10-04T13:59:02.934Z"
   },
   {
    "duration": 10,
    "start_time": "2021-10-04T13:59:02.951Z"
   },
   {
    "duration": 38,
    "start_time": "2021-10-04T13:59:02.963Z"
   },
   {
    "duration": 14,
    "start_time": "2021-10-04T13:59:03.003Z"
   },
   {
    "duration": 370,
    "start_time": "2021-10-05T07:05:57.502Z"
   },
   {
    "duration": 1329,
    "start_time": "2021-10-05T07:06:04.922Z"
   },
   {
    "duration": 18,
    "start_time": "2021-10-05T07:06:06.254Z"
   },
   {
    "duration": 30,
    "start_time": "2021-10-05T07:06:06.275Z"
   },
   {
    "duration": 17,
    "start_time": "2021-10-05T07:06:06.308Z"
   },
   {
    "duration": 42,
    "start_time": "2021-10-05T07:06:06.327Z"
   },
   {
    "duration": 30,
    "start_time": "2021-10-05T07:06:06.527Z"
   },
   {
    "duration": 20,
    "start_time": "2021-10-05T07:06:06.560Z"
   },
   {
    "duration": 24,
    "start_time": "2021-10-05T07:06:06.583Z"
   },
   {
    "duration": 19,
    "start_time": "2021-10-05T07:06:06.610Z"
   },
   {
    "duration": 8,
    "start_time": "2021-10-05T07:06:06.632Z"
   },
   {
    "duration": 35,
    "start_time": "2021-10-05T07:06:06.642Z"
   },
   {
    "duration": 8,
    "start_time": "2021-10-05T07:06:06.679Z"
   },
   {
    "duration": 22,
    "start_time": "2021-10-05T07:06:06.689Z"
   },
   {
    "duration": 14,
    "start_time": "2021-10-05T07:06:06.714Z"
   },
   {
    "duration": 405,
    "start_time": "2021-10-05T07:06:06.730Z"
   },
   {
    "duration": 295,
    "start_time": "2021-10-05T07:06:07.138Z"
   },
   {
    "duration": 32,
    "start_time": "2021-10-05T07:06:07.436Z"
   },
   {
    "duration": 11,
    "start_time": "2021-10-05T07:06:07.470Z"
   },
   {
    "duration": 431,
    "start_time": "2021-10-05T07:06:07.483Z"
   },
   {
    "duration": 408,
    "start_time": "2021-10-05T07:06:07.917Z"
   },
   {
    "duration": 17,
    "start_time": "2021-10-05T07:06:08.327Z"
   },
   {
    "duration": 517,
    "start_time": "2021-10-05T07:06:08.346Z"
   },
   {
    "duration": 12,
    "start_time": "2021-10-05T07:06:08.867Z"
   },
   {
    "duration": 406,
    "start_time": "2021-10-05T07:06:08.882Z"
   },
   {
    "duration": 12,
    "start_time": "2021-10-05T07:06:09.290Z"
   },
   {
    "duration": 492,
    "start_time": "2021-10-05T07:06:09.304Z"
   },
   {
    "duration": 203,
    "start_time": "2021-10-05T07:06:09.798Z"
   },
   {
    "duration": 382,
    "start_time": "2021-10-05T07:06:10.004Z"
   },
   {
    "duration": 457,
    "start_time": "2021-10-05T07:06:10.388Z"
   },
   {
    "duration": 6,
    "start_time": "2021-10-05T07:06:10.847Z"
   },
   {
    "duration": 13,
    "start_time": "2021-10-05T07:06:10.857Z"
   },
   {
    "duration": 416,
    "start_time": "2021-10-05T07:06:10.873Z"
   },
   {
    "duration": 641,
    "start_time": "2021-10-05T07:06:11.291Z"
   },
   {
    "duration": 6,
    "start_time": "2021-10-05T07:06:11.935Z"
   },
   {
    "duration": 24,
    "start_time": "2021-10-05T07:06:11.943Z"
   },
   {
    "duration": 265,
    "start_time": "2021-10-05T07:06:11.970Z"
   },
   {
    "duration": 13,
    "start_time": "2021-10-05T07:06:12.238Z"
   },
   {
    "duration": 21,
    "start_time": "2021-10-05T07:06:12.253Z"
   },
   {
    "duration": 7,
    "start_time": "2021-10-05T07:06:12.276Z"
   },
   {
    "duration": 20,
    "start_time": "2021-10-05T07:06:12.285Z"
   },
   {
    "duration": 22,
    "start_time": "2021-10-05T07:06:12.307Z"
   },
   {
    "duration": 14,
    "start_time": "2021-10-05T07:06:12.332Z"
   },
   {
    "duration": 6,
    "start_time": "2021-10-05T07:06:12.348Z"
   },
   {
    "duration": 24,
    "start_time": "2021-10-05T07:06:12.356Z"
   },
   {
    "duration": 9,
    "start_time": "2021-10-05T07:06:51.987Z"
   },
   {
    "duration": 11,
    "start_time": "2021-10-05T07:07:19.706Z"
   },
   {
    "duration": 1290,
    "start_time": "2021-10-05T07:18:24.137Z"
   },
   {
    "duration": 704,
    "start_time": "2021-10-05T07:24:01.399Z"
   },
   {
    "duration": 717,
    "start_time": "2021-10-05T07:24:53.178Z"
   },
   {
    "duration": 699,
    "start_time": "2021-10-05T07:25:04.735Z"
   },
   {
    "duration": 109,
    "start_time": "2021-10-05T07:32:27.544Z"
   },
   {
    "duration": 746,
    "start_time": "2021-10-05T07:32:57.908Z"
   },
   {
    "duration": 683,
    "start_time": "2021-10-05T07:33:14.407Z"
   },
   {
    "duration": 4514,
    "start_time": "2021-10-05T07:33:36.003Z"
   },
   {
    "duration": 1082,
    "start_time": "2021-10-05T07:34:23.771Z"
   },
   {
    "duration": 4704,
    "start_time": "2021-10-05T07:35:01.753Z"
   },
   {
    "duration": 866,
    "start_time": "2021-10-05T07:35:41.343Z"
   },
   {
    "duration": 697,
    "start_time": "2021-10-05T07:36:04.072Z"
   },
   {
    "duration": 692,
    "start_time": "2021-10-05T07:36:28.684Z"
   },
   {
    "duration": 724,
    "start_time": "2021-10-05T07:36:43.022Z"
   },
   {
    "duration": 751,
    "start_time": "2021-10-05T07:50:11.244Z"
   },
   {
    "duration": 694,
    "start_time": "2021-10-05T07:50:47.845Z"
   },
   {
    "duration": 781,
    "start_time": "2021-10-05T08:03:07.717Z"
   },
   {
    "duration": 756,
    "start_time": "2021-10-05T08:03:29.765Z"
   },
   {
    "duration": 766,
    "start_time": "2021-10-05T08:04:38.066Z"
   },
   {
    "duration": 732,
    "start_time": "2021-10-05T08:05:21.843Z"
   },
   {
    "duration": 118,
    "start_time": "2021-10-05T08:14:53.142Z"
   },
   {
    "duration": 924,
    "start_time": "2021-10-05T08:15:00.746Z"
   },
   {
    "duration": 998,
    "start_time": "2021-10-05T08:15:50.749Z"
   },
   {
    "duration": 695,
    "start_time": "2021-10-05T08:16:23.040Z"
   },
   {
    "duration": 107,
    "start_time": "2021-10-05T08:27:37.285Z"
   },
   {
    "duration": 725,
    "start_time": "2021-10-05T08:27:55.835Z"
   },
   {
    "duration": 672,
    "start_time": "2021-10-05T08:28:48.557Z"
   },
   {
    "duration": 1447,
    "start_time": "2021-10-05T08:31:07.803Z"
   },
   {
    "duration": 1606,
    "start_time": "2021-10-05T08:32:19.692Z"
   },
   {
    "duration": 694,
    "start_time": "2021-10-05T08:34:40.521Z"
   },
   {
    "duration": 418,
    "start_time": "2021-10-05T08:35:53.118Z"
   },
   {
    "duration": 431,
    "start_time": "2021-10-05T08:36:20.826Z"
   },
   {
    "duration": 671,
    "start_time": "2021-10-05T08:39:14.478Z"
   },
   {
    "duration": 829,
    "start_time": "2021-10-05T08:39:34.721Z"
   },
   {
    "duration": 685,
    "start_time": "2021-10-05T08:41:19.387Z"
   },
   {
    "duration": 763,
    "start_time": "2021-10-05T08:44:50.215Z"
   },
   {
    "duration": 1248,
    "start_time": "2021-10-05T08:45:05.878Z"
   },
   {
    "duration": 572,
    "start_time": "2021-10-05T08:45:46.986Z"
   },
   {
    "duration": 953,
    "start_time": "2021-10-05T08:46:11.642Z"
   },
   {
    "duration": 589,
    "start_time": "2021-10-05T08:46:45.428Z"
   },
   {
    "duration": 1543,
    "start_time": "2021-10-05T08:47:32.462Z"
   },
   {
    "duration": 735,
    "start_time": "2021-10-05T08:47:50.411Z"
   },
   {
    "duration": 523,
    "start_time": "2021-10-05T08:49:33.887Z"
   },
   {
    "duration": 573,
    "start_time": "2021-10-05T08:49:41.332Z"
   },
   {
    "duration": 544,
    "start_time": "2021-10-05T08:50:52.771Z"
   },
   {
    "duration": 147,
    "start_time": "2021-10-05T10:00:49.495Z"
   },
   {
    "duration": 621,
    "start_time": "2021-10-05T10:01:24.570Z"
   },
   {
    "duration": 109,
    "start_time": "2021-10-05T10:01:43.679Z"
   },
   {
    "duration": 863,
    "start_time": "2021-10-05T10:01:59.004Z"
   },
   {
    "duration": 738,
    "start_time": "2021-10-05T10:03:07.259Z"
   },
   {
    "duration": 771,
    "start_time": "2021-10-05T10:03:15.407Z"
   },
   {
    "duration": 683,
    "start_time": "2021-10-05T10:04:19.144Z"
   },
   {
    "duration": 558,
    "start_time": "2021-10-05T10:04:33.072Z"
   },
   {
    "duration": 828,
    "start_time": "2021-10-05T10:05:17.022Z"
   },
   {
    "duration": 938,
    "start_time": "2021-10-05T10:05:35.995Z"
   },
   {
    "duration": 738,
    "start_time": "2021-10-05T10:06:31.651Z"
   },
   {
    "duration": 577,
    "start_time": "2021-10-05T10:06:52.316Z"
   },
   {
    "duration": 565,
    "start_time": "2021-10-05T10:07:09.449Z"
   },
   {
    "duration": 1405,
    "start_time": "2021-10-05T10:07:35.151Z"
   },
   {
    "duration": 17,
    "start_time": "2021-10-05T10:07:36.559Z"
   },
   {
    "duration": 31,
    "start_time": "2021-10-05T10:07:36.579Z"
   },
   {
    "duration": 54,
    "start_time": "2021-10-05T10:07:36.613Z"
   },
   {
    "duration": 29,
    "start_time": "2021-10-05T10:07:36.670Z"
   },
   {
    "duration": 37,
    "start_time": "2021-10-05T10:07:36.702Z"
   },
   {
    "duration": 20,
    "start_time": "2021-10-05T10:07:36.742Z"
   },
   {
    "duration": 16,
    "start_time": "2021-10-05T10:07:36.766Z"
   },
   {
    "duration": 20,
    "start_time": "2021-10-05T10:07:36.785Z"
   },
   {
    "duration": 10,
    "start_time": "2021-10-05T10:07:36.808Z"
   },
   {
    "duration": 23,
    "start_time": "2021-10-05T10:07:36.821Z"
   },
   {
    "duration": 11,
    "start_time": "2021-10-05T10:07:36.846Z"
   },
   {
    "duration": 13,
    "start_time": "2021-10-05T10:07:38.274Z"
   },
   {
    "duration": 16,
    "start_time": "2021-10-05T10:07:38.290Z"
   },
   {
    "duration": 418,
    "start_time": "2021-10-05T10:07:38.309Z"
   },
   {
    "duration": 270,
    "start_time": "2021-10-05T10:07:38.730Z"
   },
   {
    "duration": 19,
    "start_time": "2021-10-05T10:07:39.002Z"
   },
   {
    "duration": 10,
    "start_time": "2021-10-05T10:07:39.023Z"
   },
   {
    "duration": 420,
    "start_time": "2021-10-05T10:07:39.036Z"
   },
   {
    "duration": 411,
    "start_time": "2021-10-05T10:07:39.460Z"
   },
   {
    "duration": 18,
    "start_time": "2021-10-05T10:07:39.875Z"
   },
   {
    "duration": 476,
    "start_time": "2021-10-05T10:07:39.895Z"
   },
   {
    "duration": 11,
    "start_time": "2021-10-05T10:07:40.374Z"
   },
   {
    "duration": 390,
    "start_time": "2021-10-05T10:07:40.387Z"
   },
   {
    "duration": 12,
    "start_time": "2021-10-05T10:07:40.780Z"
   },
   {
    "duration": 463,
    "start_time": "2021-10-05T10:07:40.795Z"
   },
   {
    "duration": 210,
    "start_time": "2021-10-05T10:07:41.261Z"
   },
   {
    "duration": 387,
    "start_time": "2021-10-05T10:07:41.474Z"
   },
   {
    "duration": 457,
    "start_time": "2021-10-05T10:07:41.867Z"
   },
   {
    "duration": 6,
    "start_time": "2021-10-05T10:07:42.326Z"
   },
   {
    "duration": 8,
    "start_time": "2021-10-05T10:07:42.334Z"
   },
   {
    "duration": 424,
    "start_time": "2021-10-05T10:07:42.345Z"
   },
   {
    "duration": 782,
    "start_time": "2021-10-05T10:07:42.773Z"
   },
   {
    "duration": 676,
    "start_time": "2021-10-05T10:07:43.558Z"
   },
   {
    "duration": 7,
    "start_time": "2021-10-05T10:07:44.240Z"
   },
   {
    "duration": 7,
    "start_time": "2021-10-05T10:07:44.266Z"
   },
   {
    "duration": 315,
    "start_time": "2021-10-05T10:07:44.277Z"
   },
   {
    "duration": 17,
    "start_time": "2021-10-05T10:07:44.595Z"
   },
   {
    "duration": 19,
    "start_time": "2021-10-05T10:07:44.615Z"
   },
   {
    "duration": 35,
    "start_time": "2021-10-05T10:07:44.637Z"
   },
   {
    "duration": 12,
    "start_time": "2021-10-05T10:07:44.675Z"
   },
   {
    "duration": 18,
    "start_time": "2021-10-05T10:07:44.690Z"
   },
   {
    "duration": 14,
    "start_time": "2021-10-05T10:07:44.711Z"
   },
   {
    "duration": 40,
    "start_time": "2021-10-05T10:07:44.729Z"
   },
   {
    "duration": 20,
    "start_time": "2021-10-05T10:07:44.772Z"
   },
   {
    "duration": 437,
    "start_time": "2021-10-05T10:10:11.157Z"
   },
   {
    "duration": 314,
    "start_time": "2021-10-05T10:10:22.141Z"
   },
   {
    "duration": 296,
    "start_time": "2021-10-05T10:10:28.783Z"
   },
   {
    "duration": 105,
    "start_time": "2021-10-05T10:10:55.448Z"
   },
   {
    "duration": 302,
    "start_time": "2021-10-05T10:11:02.449Z"
   },
   {
    "duration": 550,
    "start_time": "2021-10-05T10:11:16.412Z"
   },
   {
    "duration": 785,
    "start_time": "2021-10-05T10:12:02.545Z"
   },
   {
    "duration": 762,
    "start_time": "2021-10-05T10:12:21.474Z"
   },
   {
    "duration": 914,
    "start_time": "2021-10-05T10:13:18.072Z"
   },
   {
    "duration": 775,
    "start_time": "2021-10-05T10:13:47.379Z"
   },
   {
    "duration": 813,
    "start_time": "2021-10-05T10:15:34.817Z"
   },
   {
    "duration": 938,
    "start_time": "2021-10-05T10:19:09.298Z"
   },
   {
    "duration": 1249,
    "start_time": "2021-10-05T10:19:21.895Z"
   },
   {
    "duration": 842,
    "start_time": "2021-10-05T10:19:49.535Z"
   },
   {
    "duration": 961,
    "start_time": "2021-10-05T10:20:20.408Z"
   },
   {
    "duration": 1226,
    "start_time": "2021-10-05T10:21:10.296Z"
   },
   {
    "duration": 1333,
    "start_time": "2021-10-05T10:22:19.327Z"
   },
   {
    "duration": 876,
    "start_time": "2021-10-05T10:23:10.858Z"
   },
   {
    "duration": 4,
    "start_time": "2021-10-05T10:24:48.859Z"
   },
   {
    "duration": 872,
    "start_time": "2021-10-05T10:27:12.482Z"
   },
   {
    "duration": 16,
    "start_time": "2021-10-05T10:55:24.045Z"
   },
   {
    "duration": 16,
    "start_time": "2021-10-05T10:55:36.721Z"
   },
   {
    "duration": 109,
    "start_time": "2021-10-05T10:56:37.761Z"
   },
   {
    "duration": 17,
    "start_time": "2021-10-05T10:58:23.570Z"
   },
   {
    "duration": 81,
    "start_time": "2021-10-05T11:11:23.671Z"
   },
   {
    "duration": 79,
    "start_time": "2021-10-05T11:12:43.378Z"
   },
   {
    "duration": 102,
    "start_time": "2021-10-05T11:12:51.092Z"
   },
   {
    "duration": 8,
    "start_time": "2021-10-05T11:13:26.536Z"
   },
   {
    "duration": 8,
    "start_time": "2021-10-05T11:17:41.508Z"
   },
   {
    "duration": 10,
    "start_time": "2021-10-05T11:18:08.717Z"
   },
   {
    "duration": 12,
    "start_time": "2021-10-05T11:19:55.720Z"
   },
   {
    "duration": 1400,
    "start_time": "2021-10-05T11:20:38.420Z"
   },
   {
    "duration": 17,
    "start_time": "2021-10-05T11:20:39.823Z"
   },
   {
    "duration": 32,
    "start_time": "2021-10-05T11:20:39.843Z"
   },
   {
    "duration": 16,
    "start_time": "2021-10-05T11:20:39.878Z"
   },
   {
    "duration": 17,
    "start_time": "2021-10-05T11:20:39.897Z"
   },
   {
    "duration": 41,
    "start_time": "2021-10-05T11:20:39.917Z"
   },
   {
    "duration": 39,
    "start_time": "2021-10-05T11:20:39.961Z"
   },
   {
    "duration": 30,
    "start_time": "2021-10-05T11:20:40.003Z"
   },
   {
    "duration": 23,
    "start_time": "2021-10-05T11:20:40.037Z"
   },
   {
    "duration": 20,
    "start_time": "2021-10-05T11:20:40.062Z"
   },
   {
    "duration": 27,
    "start_time": "2021-10-05T11:20:40.085Z"
   },
   {
    "duration": 15,
    "start_time": "2021-10-05T11:20:40.114Z"
   },
   {
    "duration": 18,
    "start_time": "2021-10-05T11:20:40.131Z"
   },
   {
    "duration": 11,
    "start_time": "2021-10-05T11:20:40.168Z"
   },
   {
    "duration": 387,
    "start_time": "2021-10-05T11:20:40.182Z"
   },
   {
    "duration": 282,
    "start_time": "2021-10-05T11:20:40.571Z"
   },
   {
    "duration": 28,
    "start_time": "2021-10-05T11:20:40.856Z"
   },
   {
    "duration": 22,
    "start_time": "2021-10-05T11:20:40.887Z"
   },
   {
    "duration": 409,
    "start_time": "2021-10-05T11:20:40.911Z"
   },
   {
    "duration": 437,
    "start_time": "2021-10-05T11:20:41.322Z"
   },
   {
    "duration": 22,
    "start_time": "2021-10-05T11:20:41.761Z"
   },
   {
    "duration": 492,
    "start_time": "2021-10-05T11:20:41.786Z"
   },
   {
    "duration": 15,
    "start_time": "2021-10-05T11:20:42.283Z"
   },
   {
    "duration": 398,
    "start_time": "2021-10-05T11:20:42.301Z"
   },
   {
    "duration": 12,
    "start_time": "2021-10-05T11:20:42.701Z"
   },
   {
    "duration": 523,
    "start_time": "2021-10-05T11:20:42.716Z"
   },
   {
    "duration": 193,
    "start_time": "2021-10-05T11:20:43.241Z"
   },
   {
    "duration": 375,
    "start_time": "2021-10-05T11:20:43.436Z"
   },
   {
    "duration": 454,
    "start_time": "2021-10-05T11:20:43.813Z"
   },
   {
    "duration": 6,
    "start_time": "2021-10-05T11:20:44.269Z"
   },
   {
    "duration": 9,
    "start_time": "2021-10-05T11:20:44.277Z"
   },
   {
    "duration": 404,
    "start_time": "2021-10-05T11:20:44.288Z"
   },
   {
    "duration": 925,
    "start_time": "2021-10-05T11:20:44.694Z"
   },
   {
    "duration": 3,
    "start_time": "2021-10-05T11:20:45.621Z"
   },
   {
    "duration": 9,
    "start_time": "2021-10-05T11:20:45.627Z"
   },
   {
    "duration": 28,
    "start_time": "2021-10-05T11:20:45.639Z"
   },
   {
    "duration": 237,
    "start_time": "2021-10-05T11:20:45.670Z"
   },
   {
    "duration": 13,
    "start_time": "2021-10-05T11:20:45.909Z"
   },
   {
    "duration": 18,
    "start_time": "2021-10-05T11:20:45.925Z"
   },
   {
    "duration": 26,
    "start_time": "2021-10-05T11:20:45.946Z"
   },
   {
    "duration": 15,
    "start_time": "2021-10-05T11:20:45.975Z"
   },
   {
    "duration": 18,
    "start_time": "2021-10-05T11:20:45.993Z"
   },
   {
    "duration": 6,
    "start_time": "2021-10-05T11:20:46.014Z"
   },
   {
    "duration": 24,
    "start_time": "2021-10-05T11:20:46.023Z"
   },
   {
    "duration": 27,
    "start_time": "2021-10-05T11:20:46.050Z"
   },
   {
    "duration": 6,
    "start_time": "2021-10-05T11:20:46.080Z"
   },
   {
    "duration": 15,
    "start_time": "2021-10-05T11:20:46.088Z"
   },
   {
    "duration": 1436,
    "start_time": "2021-10-05T12:17:32.410Z"
   },
   {
    "duration": 18,
    "start_time": "2021-10-05T12:17:33.849Z"
   },
   {
    "duration": 24,
    "start_time": "2021-10-05T12:17:33.870Z"
   },
   {
    "duration": 17,
    "start_time": "2021-10-05T12:17:33.897Z"
   },
   {
    "duration": 59,
    "start_time": "2021-10-05T12:17:33.916Z"
   },
   {
    "duration": 33,
    "start_time": "2021-10-05T12:17:33.978Z"
   },
   {
    "duration": 22,
    "start_time": "2021-10-05T12:17:34.014Z"
   },
   {
    "duration": 29,
    "start_time": "2021-10-05T12:17:34.038Z"
   },
   {
    "duration": 20,
    "start_time": "2021-10-05T12:17:34.073Z"
   },
   {
    "duration": 15,
    "start_time": "2021-10-05T12:17:34.097Z"
   },
   {
    "duration": 70,
    "start_time": "2021-10-05T12:17:34.114Z"
   },
   {
    "duration": 12,
    "start_time": "2021-10-05T12:17:34.187Z"
   },
   {
    "duration": 14,
    "start_time": "2021-10-05T12:17:34.202Z"
   },
   {
    "duration": 49,
    "start_time": "2021-10-05T12:17:34.218Z"
   },
   {
    "duration": 379,
    "start_time": "2021-10-05T12:17:34.269Z"
   },
   {
    "duration": 385,
    "start_time": "2021-10-05T12:17:34.651Z"
   },
   {
    "duration": 29,
    "start_time": "2021-10-05T12:17:35.039Z"
   },
   {
    "duration": 11,
    "start_time": "2021-10-05T12:17:35.071Z"
   },
   {
    "duration": 439,
    "start_time": "2021-10-05T12:17:35.085Z"
   },
   {
    "duration": 443,
    "start_time": "2021-10-05T12:17:35.527Z"
   },
   {
    "duration": 19,
    "start_time": "2021-10-05T12:17:35.973Z"
   },
   {
    "duration": 652,
    "start_time": "2021-10-05T12:17:35.995Z"
   },
   {
    "duration": 24,
    "start_time": "2021-10-05T12:17:36.650Z"
   },
   {
    "duration": 396,
    "start_time": "2021-10-05T12:17:36.677Z"
   },
   {
    "duration": 13,
    "start_time": "2021-10-05T12:17:37.077Z"
   },
   {
    "duration": 473,
    "start_time": "2021-10-05T12:17:37.094Z"
   },
   {
    "duration": 264,
    "start_time": "2021-10-05T12:17:37.572Z"
   },
   {
    "duration": 398,
    "start_time": "2021-10-05T12:17:37.839Z"
   },
   {
    "duration": 486,
    "start_time": "2021-10-05T12:17:38.239Z"
   },
   {
    "duration": 6,
    "start_time": "2021-10-05T12:17:38.728Z"
   },
   {
    "duration": 8,
    "start_time": "2021-10-05T12:17:38.737Z"
   },
   {
    "duration": 419,
    "start_time": "2021-10-05T12:17:38.767Z"
   },
   {
    "duration": 1447,
    "start_time": "2021-10-05T12:17:39.189Z"
   },
   {
    "duration": 4,
    "start_time": "2021-10-05T12:17:40.639Z"
   },
   {
    "duration": 22,
    "start_time": "2021-10-05T12:17:40.645Z"
   },
   {
    "duration": 7,
    "start_time": "2021-10-05T12:17:40.670Z"
   },
   {
    "duration": 253,
    "start_time": "2021-10-05T12:17:40.679Z"
   },
   {
    "duration": 13,
    "start_time": "2021-10-05T12:17:40.935Z"
   },
   {
    "duration": 30,
    "start_time": "2021-10-05T12:17:40.951Z"
   },
   {
    "duration": 9,
    "start_time": "2021-10-05T12:17:40.983Z"
   },
   {
    "duration": 5,
    "start_time": "2021-10-05T12:17:40.995Z"
   },
   {
    "duration": 16,
    "start_time": "2021-10-05T12:17:41.003Z"
   },
   {
    "duration": 47,
    "start_time": "2021-10-05T12:17:41.022Z"
   },
   {
    "duration": 19,
    "start_time": "2021-10-05T12:17:41.071Z"
   },
   {
    "duration": 15,
    "start_time": "2021-10-05T12:17:41.092Z"
   },
   {
    "duration": 7,
    "start_time": "2021-10-05T12:17:41.109Z"
   },
   {
    "duration": 59,
    "start_time": "2021-10-05T12:17:41.118Z"
   },
   {
    "duration": 1408,
    "start_time": "2021-10-05T12:27:02.049Z"
   },
   {
    "duration": 21,
    "start_time": "2021-10-05T12:27:03.460Z"
   },
   {
    "duration": 29,
    "start_time": "2021-10-05T12:27:03.485Z"
   },
   {
    "duration": 22,
    "start_time": "2021-10-05T12:27:03.517Z"
   },
   {
    "duration": 37,
    "start_time": "2021-10-05T12:27:03.541Z"
   },
   {
    "duration": 39,
    "start_time": "2021-10-05T12:27:03.580Z"
   },
   {
    "duration": 15,
    "start_time": "2021-10-05T12:27:03.622Z"
   },
   {
    "duration": 20,
    "start_time": "2021-10-05T12:27:03.640Z"
   },
   {
    "duration": 17,
    "start_time": "2021-10-05T12:27:03.665Z"
   },
   {
    "duration": 11,
    "start_time": "2021-10-05T12:27:03.686Z"
   },
   {
    "duration": 22,
    "start_time": "2021-10-05T12:27:03.700Z"
   },
   {
    "duration": 44,
    "start_time": "2021-10-05T12:27:03.724Z"
   },
   {
    "duration": 13,
    "start_time": "2021-10-05T12:27:03.771Z"
   },
   {
    "duration": 17,
    "start_time": "2021-10-05T12:27:03.787Z"
   },
   {
    "duration": 383,
    "start_time": "2021-10-05T12:27:03.807Z"
   },
   {
    "duration": 292,
    "start_time": "2021-10-05T12:27:04.192Z"
   },
   {
    "duration": 18,
    "start_time": "2021-10-05T12:27:04.487Z"
   },
   {
    "duration": 29,
    "start_time": "2021-10-05T12:27:04.508Z"
   },
   {
    "duration": 422,
    "start_time": "2021-10-05T12:27:04.539Z"
   },
   {
    "duration": 408,
    "start_time": "2021-10-05T12:27:04.967Z"
   },
   {
    "duration": 18,
    "start_time": "2021-10-05T12:27:05.377Z"
   },
   {
    "duration": 489,
    "start_time": "2021-10-05T12:27:05.397Z"
   },
   {
    "duration": 14,
    "start_time": "2021-10-05T12:27:05.889Z"
   },
   {
    "duration": 406,
    "start_time": "2021-10-05T12:27:05.905Z"
   },
   {
    "duration": 13,
    "start_time": "2021-10-05T12:27:06.313Z"
   },
   {
    "duration": 513,
    "start_time": "2021-10-05T12:27:06.328Z"
   },
   {
    "duration": 194,
    "start_time": "2021-10-05T12:27:06.847Z"
   },
   {
    "duration": 381,
    "start_time": "2021-10-05T12:27:07.044Z"
   },
   {
    "duration": 494,
    "start_time": "2021-10-05T12:27:07.428Z"
   },
   {
    "duration": 6,
    "start_time": "2021-10-05T12:27:07.925Z"
   },
   {
    "duration": 10,
    "start_time": "2021-10-05T12:27:07.933Z"
   },
   {
    "duration": 402,
    "start_time": "2021-10-05T12:27:07.968Z"
   },
   {
    "duration": 950,
    "start_time": "2021-10-05T12:27:08.372Z"
   },
   {
    "duration": 5,
    "start_time": "2021-10-05T12:27:09.325Z"
   },
   {
    "duration": 9,
    "start_time": "2021-10-05T12:27:09.332Z"
   },
   {
    "duration": 244,
    "start_time": "2021-10-05T12:27:09.368Z"
   },
   {
    "duration": 13,
    "start_time": "2021-10-05T12:27:09.614Z"
   },
   {
    "duration": 18,
    "start_time": "2021-10-05T12:27:09.630Z"
   },
   {
    "duration": 10,
    "start_time": "2021-10-05T12:27:09.667Z"
   },
   {
    "duration": 13,
    "start_time": "2021-10-05T12:27:09.680Z"
   },
   {
    "duration": 21,
    "start_time": "2021-10-05T12:27:09.696Z"
   },
   {
    "duration": 59,
    "start_time": "2021-10-05T12:27:09.720Z"
   },
   {
    "duration": 7,
    "start_time": "2021-10-05T12:27:09.782Z"
   },
   {
    "duration": 18,
    "start_time": "2021-10-05T12:27:09.791Z"
   },
   {
    "duration": 1258,
    "start_time": "2021-10-06T08:39:28.851Z"
   },
   {
    "duration": 19,
    "start_time": "2021-10-06T08:39:30.111Z"
   },
   {
    "duration": 36,
    "start_time": "2021-10-06T08:39:30.133Z"
   },
   {
    "duration": 17,
    "start_time": "2021-10-06T08:39:30.172Z"
   },
   {
    "duration": 17,
    "start_time": "2021-10-06T08:39:30.191Z"
   },
   {
    "duration": 37,
    "start_time": "2021-10-06T08:39:30.223Z"
   },
   {
    "duration": 29,
    "start_time": "2021-10-06T08:39:30.262Z"
   },
   {
    "duration": 32,
    "start_time": "2021-10-06T08:39:30.294Z"
   },
   {
    "duration": 39,
    "start_time": "2021-10-06T08:39:30.330Z"
   },
   {
    "duration": 46,
    "start_time": "2021-10-06T08:39:30.372Z"
   },
   {
    "duration": 38,
    "start_time": "2021-10-06T08:39:30.420Z"
   },
   {
    "duration": 36,
    "start_time": "2021-10-06T08:39:30.461Z"
   },
   {
    "duration": 23,
    "start_time": "2021-10-06T08:39:30.499Z"
   },
   {
    "duration": 35,
    "start_time": "2021-10-06T08:39:30.525Z"
   },
   {
    "duration": 384,
    "start_time": "2021-10-06T08:39:30.562Z"
   },
   {
    "duration": 278,
    "start_time": "2021-10-06T08:39:30.948Z"
   },
   {
    "duration": 19,
    "start_time": "2021-10-06T08:39:31.228Z"
   },
   {
    "duration": 45,
    "start_time": "2021-10-06T08:39:31.249Z"
   },
   {
    "duration": 396,
    "start_time": "2021-10-06T08:39:31.297Z"
   },
   {
    "duration": 384,
    "start_time": "2021-10-06T08:39:31.695Z"
   },
   {
    "duration": 17,
    "start_time": "2021-10-06T08:39:32.082Z"
   },
   {
    "duration": 603,
    "start_time": "2021-10-06T08:39:32.101Z"
   },
   {
    "duration": 20,
    "start_time": "2021-10-06T08:39:32.707Z"
   },
   {
    "duration": 378,
    "start_time": "2021-10-06T08:39:32.729Z"
   },
   {
    "duration": 16,
    "start_time": "2021-10-06T08:39:33.110Z"
   },
   {
    "duration": 479,
    "start_time": "2021-10-06T08:39:33.129Z"
   },
   {
    "duration": 206,
    "start_time": "2021-10-06T08:39:33.623Z"
   },
   {
    "duration": 361,
    "start_time": "2021-10-06T08:39:33.832Z"
   },
   {
    "duration": 559,
    "start_time": "2021-10-06T08:39:34.196Z"
   },
   {
    "duration": 6,
    "start_time": "2021-10-06T08:39:34.757Z"
   },
   {
    "duration": 12,
    "start_time": "2021-10-06T08:39:34.766Z"
   },
   {
    "duration": 392,
    "start_time": "2021-10-06T08:39:34.780Z"
   },
   {
    "duration": 936,
    "start_time": "2021-10-06T08:39:35.174Z"
   },
   {
    "duration": 9,
    "start_time": "2021-10-06T08:39:36.113Z"
   },
   {
    "duration": 23,
    "start_time": "2021-10-06T08:39:36.124Z"
   },
   {
    "duration": 255,
    "start_time": "2021-10-06T08:39:36.149Z"
   },
   {
    "duration": 26,
    "start_time": "2021-10-06T08:39:36.406Z"
   },
   {
    "duration": 28,
    "start_time": "2021-10-06T08:39:36.434Z"
   },
   {
    "duration": 10,
    "start_time": "2021-10-06T08:39:36.464Z"
   },
   {
    "duration": 19,
    "start_time": "2021-10-06T08:39:36.476Z"
   },
   {
    "duration": 35,
    "start_time": "2021-10-06T08:39:36.498Z"
   },
   {
    "duration": 14,
    "start_time": "2021-10-06T08:39:36.535Z"
   },
   {
    "duration": 9,
    "start_time": "2021-10-06T08:39:36.551Z"
   },
   {
    "duration": 18,
    "start_time": "2021-10-06T08:39:36.562Z"
   }
  ],
  "kernelspec": {
   "display_name": "Python 3 (ipykernel)",
   "language": "python",
   "name": "python3"
  },
  "language_info": {
   "codemirror_mode": {
    "name": "ipython",
    "version": 3
   },
   "file_extension": ".py",
   "mimetype": "text/x-python",
   "name": "python",
   "nbconvert_exporter": "python",
   "pygments_lexer": "ipython3",
   "version": "3.9.5"
  },
  "toc": {
   "base_numbering": 1,
   "nav_menu": {},
   "number_sections": true,
   "sideBar": true,
   "skip_h1_title": true,
   "title_cell": "Содержание",
   "title_sidebar": "Содержание",
   "toc_cell": true,
   "toc_position": {},
   "toc_section_display": true,
   "toc_window_display": false
  }
 },
 "nbformat": 4,
 "nbformat_minor": 2
}

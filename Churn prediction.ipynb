{
 "cells": [
  {
   "cell_type": "markdown",
   "metadata": {
    "toc": true
   },
   "source": [
    "<h1>Содержание<span class=\"tocSkip\"></span></h1>\n",
    "<div class=\"toc\"><ul class=\"toc-item\"><li><span><a href=\"#Предобработка-данных\" data-toc-modified-id=\"Предобработка-данных-1\"><span class=\"toc-item-num\">1&nbsp;&nbsp;</span>Предобработка данных</a></span><ul class=\"toc-item\"><li><span><a href=\"#Загрузка-и-общий-обзор-данных\" data-toc-modified-id=\"Загрузка-и-общий-обзор-данных-1.1\"><span class=\"toc-item-num\">1.1&nbsp;&nbsp;</span>Загрузка и общий обзор данных</a></span></li><li><span><a href=\"#Проверка-на-пропуски-и-дубликаты:\" data-toc-modified-id=\"Проверка-на-пропуски-и-дубликаты:-1.2\"><span class=\"toc-item-num\">1.2&nbsp;&nbsp;</span>Проверка на пропуски и дубликаты:</a></span></li><li><span><a href=\"#Переименование-столбцов-(приведение-к-нижнему-регистру)-и-изменение-типа-данных:\" data-toc-modified-id=\"Переименование-столбцов-(приведение-к-нижнему-регистру)-и-изменение-типа-данных:-1.3\"><span class=\"toc-item-num\">1.3&nbsp;&nbsp;</span>Переименование столбцов (приведение к нижнему регистру) и изменение типа данных:</a></span></li><li><span><a href=\"#Выводы:\" data-toc-modified-id=\"Выводы:-1.4\"><span class=\"toc-item-num\">1.4&nbsp;&nbsp;</span>Выводы:</a></span></li></ul></li><li><span><a href=\"#EDA:-Исследовательский-анализ-данных\" data-toc-modified-id=\"EDA:-Исследовательский-анализ-данных-2\"><span class=\"toc-item-num\">2&nbsp;&nbsp;</span>EDA: Исследовательский анализ данных</a></span><ul class=\"toc-item\"><li><span><a href=\"#Общий-анализ-данных:\" data-toc-modified-id=\"Общий-анализ-данных:-2.1\"><span class=\"toc-item-num\">2.1&nbsp;&nbsp;</span>Общий анализ данных:</a></span></li><li><span><a href=\"#Средние-значения-по-двум-группам:-ушедшим-клиентам-и-оставшимся-\" data-toc-modified-id=\"Средние-значения-по-двум-группам:-ушедшим-клиентам-и-оставшимся--2.2\"><span class=\"toc-item-num\">2.2&nbsp;&nbsp;</span>Средние значения по двум группам: ушедшим клиентам и оставшимся <br></a></span></li><li><span><a href=\"#Матрица-корелляций-по-всем-параметрам:\" data-toc-modified-id=\"Матрица-корелляций-по-всем-параметрам:-2.3\"><span class=\"toc-item-num\">2.3&nbsp;&nbsp;</span>Матрица корелляций по всем параметрам:</a></span></li><li><span><a href=\"#Выводы:\" data-toc-modified-id=\"Выводы:-2.4\"><span class=\"toc-item-num\">2.4&nbsp;&nbsp;</span>Выводы:</a></span></li></ul></li><li><span><a href=\"#Модель-прогнозирования-оттока-клиентов\" data-toc-modified-id=\"Модель-прогнозирования-оттока-клиентов-3\"><span class=\"toc-item-num\">3&nbsp;&nbsp;</span>Модель прогнозирования оттока клиентов</a></span><ul class=\"toc-item\"><li><span><a href=\"#Обучение-моделей-и-прогноз\" data-toc-modified-id=\"Обучение-моделей-и-прогноз-3.1\"><span class=\"toc-item-num\">3.1&nbsp;&nbsp;</span>Обучение моделей и прогноз</a></span></li><li><span><a href=\"#Оценка-метрик-и-сравнение-моделей\" data-toc-modified-id=\"Оценка-метрик-и-сравнение-моделей-3.2\"><span class=\"toc-item-num\">3.2&nbsp;&nbsp;</span>Оценка метрик и сравнение моделей</a></span></li><li><span><a href=\"#Выводы:\" data-toc-modified-id=\"Выводы:-3.3\"><span class=\"toc-item-num\">3.3&nbsp;&nbsp;</span>Выводы:</a></span></li></ul></li><li><span><a href=\"#Кластеризация-клиентов\" data-toc-modified-id=\"Кластеризация-клиентов-4\"><span class=\"toc-item-num\">4&nbsp;&nbsp;</span>Кластеризация клиентов</a></span><ul class=\"toc-item\"><li><span><a href=\"#Разделение-на-кластеры\" data-toc-modified-id=\"Разделение-на-кластеры-4.1\"><span class=\"toc-item-num\">4.1&nbsp;&nbsp;</span>Разделение на кластеры</a></span></li><li><span><a href=\"#Обучение-модели-кластеризации-и-прогноз\" data-toc-modified-id=\"Обучение-модели-кластеризации-и-прогноз-4.2\"><span class=\"toc-item-num\">4.2&nbsp;&nbsp;</span>Обучение модели кластеризации и прогноз</a></span></li><li><span><a href=\"#Анализ-распределения-признаков-для-кластеров\" data-toc-modified-id=\"Анализ-распределения-признаков-для-кластеров-4.3\"><span class=\"toc-item-num\">4.3&nbsp;&nbsp;</span>Анализ распределения признаков для кластеров</a></span></li><li><span><a href=\"#Выводы:\" data-toc-modified-id=\"Выводы:-4.4\"><span class=\"toc-item-num\">4.4&nbsp;&nbsp;</span>Выводы:</a></span></li></ul></li><li><span><a href=\"#Общие-выводы-и-рекомендации:\" data-toc-modified-id=\"Общие-выводы-и-рекомендации:-5\"><span class=\"toc-item-num\">5&nbsp;&nbsp;</span>Общие выводы и рекомендации:</a></span></li></ul></div>"
   ]
  },
  {
   "cell_type": "markdown",
   "metadata": {},
   "source": [
    "# Прогноз оттока клиентов фитнес-центра и рекомендации по их удержанию."
   ]
  },
  {
   "cell_type": "markdown",
   "metadata": {},
   "source": [
    "Сеть фитнес-центров \"Культурист-датасаентист\" разрабатывает стратегию взаимодействия с клиентами на основе аналитических данных. \n",
    "Задача: провести анализ и подготовить план действий по удержанию клиентов, для чего:\n",
    "- спрогнозировать вероятность оттока (на уровне следующего месяца) для каждого клиента;\n",
    "- сформировать типичные портреты клиентов: выделить несколько наиболее ярких групп и охарактеризовать их основные свойства;\n",
    "- проанализировать основные признаки, наиболее сильно влияющие на отток;\n",
    "- сформулировать основные выводы и разработать рекомендации по повышению качества работы с клиентами."
   ]
  },
  {
   "cell_type": "markdown",
   "metadata": {},
   "source": [
    "Импорт библиотек"
   ]
  },
  {
   "cell_type": "code",
   "execution_count": 1,
   "metadata": {},
   "outputs": [],
   "source": [
    "import pandas as pd\n",
    "import numpy as np\n",
    "import matplotlib.pyplot as plt\n",
    "import seaborn as sns\n",
    "\n",
    "from sklearn.preprocessing import StandardScaler\n",
    "from sklearn.model_selection import train_test_split\n",
    "from sklearn.metrics import accuracy_score, precision_score, recall_score, f1_score, roc_auc_score\n",
    "from sklearn.linear_model import LogisticRegression\n",
    "from sklearn.ensemble import RandomForestClassifier\n",
    "from sklearn.cluster import KMeans\n",
    "\n",
    "from scipy.cluster.hierarchy import dendrogram, linkage\n",
    "\n",
    "from IPython import display\n",
    "\n",
    "import warnings\n",
    "warnings.filterwarnings('ignore', category=FutureWarning)\n",
    "warnings.filterwarnings('ignore', category=UserWarning)"
   ]
  },
  {
   "cell_type": "markdown",
   "metadata": {},
   "source": [
    "## Предобработка данных"
   ]
  },
  {
   "cell_type": "markdown",
   "metadata": {},
   "source": [
    "### Загрузка и общий обзор данных"
   ]
  },
  {
   "cell_type": "code",
   "execution_count": 2,
   "metadata": {},
   "outputs": [
    {
     "name": "stdout",
     "output_type": "stream",
     "text": [
      "<class 'pandas.core.frame.DataFrame'>\n",
      "RangeIndex: 4000 entries, 0 to 3999\n",
      "Data columns (total 14 columns):\n",
      "gender                               4000 non-null int64\n",
      "Near_Location                        4000 non-null int64\n",
      "Partner                              4000 non-null int64\n",
      "Promo_friends                        4000 non-null int64\n",
      "Phone                                4000 non-null int64\n",
      "Contract_period                      4000 non-null int64\n",
      "Group_visits                         4000 non-null int64\n",
      "Age                                  4000 non-null int64\n",
      "Avg_additional_charges_total         4000 non-null float64\n",
      "Month_to_end_contract                4000 non-null float64\n",
      "Lifetime                             4000 non-null int64\n",
      "Avg_class_frequency_total            4000 non-null float64\n",
      "Avg_class_frequency_current_month    4000 non-null float64\n",
      "Churn                                4000 non-null int64\n",
      "dtypes: float64(4), int64(10)\n",
      "memory usage: 437.6 KB\n"
     ]
    },
    {
     "data": {
      "text/html": [
       "<div>\n",
       "<style scoped>\n",
       "    .dataframe tbody tr th:only-of-type {\n",
       "        vertical-align: middle;\n",
       "    }\n",
       "\n",
       "    .dataframe tbody tr th {\n",
       "        vertical-align: top;\n",
       "    }\n",
       "\n",
       "    .dataframe thead th {\n",
       "        text-align: right;\n",
       "    }\n",
       "</style>\n",
       "<table border=\"1\" class=\"dataframe\">\n",
       "  <thead>\n",
       "    <tr style=\"text-align: right;\">\n",
       "      <th></th>\n",
       "      <th>gender</th>\n",
       "      <th>Near_Location</th>\n",
       "      <th>Partner</th>\n",
       "      <th>Promo_friends</th>\n",
       "      <th>Phone</th>\n",
       "      <th>Contract_period</th>\n",
       "      <th>Group_visits</th>\n",
       "      <th>Age</th>\n",
       "      <th>Avg_additional_charges_total</th>\n",
       "      <th>Month_to_end_contract</th>\n",
       "      <th>Lifetime</th>\n",
       "      <th>Avg_class_frequency_total</th>\n",
       "      <th>Avg_class_frequency_current_month</th>\n",
       "      <th>Churn</th>\n",
       "    </tr>\n",
       "  </thead>\n",
       "  <tbody>\n",
       "    <tr>\n",
       "      <td>0</td>\n",
       "      <td>1</td>\n",
       "      <td>1</td>\n",
       "      <td>1</td>\n",
       "      <td>1</td>\n",
       "      <td>0</td>\n",
       "      <td>6</td>\n",
       "      <td>1</td>\n",
       "      <td>29</td>\n",
       "      <td>14.227470</td>\n",
       "      <td>5.0</td>\n",
       "      <td>3</td>\n",
       "      <td>0.020398</td>\n",
       "      <td>0.000000</td>\n",
       "      <td>0</td>\n",
       "    </tr>\n",
       "    <tr>\n",
       "      <td>1</td>\n",
       "      <td>0</td>\n",
       "      <td>1</td>\n",
       "      <td>0</td>\n",
       "      <td>0</td>\n",
       "      <td>1</td>\n",
       "      <td>12</td>\n",
       "      <td>1</td>\n",
       "      <td>31</td>\n",
       "      <td>113.202938</td>\n",
       "      <td>12.0</td>\n",
       "      <td>7</td>\n",
       "      <td>1.922936</td>\n",
       "      <td>1.910244</td>\n",
       "      <td>0</td>\n",
       "    </tr>\n",
       "    <tr>\n",
       "      <td>2</td>\n",
       "      <td>0</td>\n",
       "      <td>1</td>\n",
       "      <td>1</td>\n",
       "      <td>0</td>\n",
       "      <td>1</td>\n",
       "      <td>1</td>\n",
       "      <td>0</td>\n",
       "      <td>28</td>\n",
       "      <td>129.448479</td>\n",
       "      <td>1.0</td>\n",
       "      <td>2</td>\n",
       "      <td>1.859098</td>\n",
       "      <td>1.736502</td>\n",
       "      <td>0</td>\n",
       "    </tr>\n",
       "    <tr>\n",
       "      <td>3</td>\n",
       "      <td>0</td>\n",
       "      <td>1</td>\n",
       "      <td>1</td>\n",
       "      <td>1</td>\n",
       "      <td>1</td>\n",
       "      <td>12</td>\n",
       "      <td>1</td>\n",
       "      <td>33</td>\n",
       "      <td>62.669863</td>\n",
       "      <td>12.0</td>\n",
       "      <td>2</td>\n",
       "      <td>3.205633</td>\n",
       "      <td>3.357215</td>\n",
       "      <td>0</td>\n",
       "    </tr>\n",
       "    <tr>\n",
       "      <td>4</td>\n",
       "      <td>1</td>\n",
       "      <td>1</td>\n",
       "      <td>1</td>\n",
       "      <td>1</td>\n",
       "      <td>1</td>\n",
       "      <td>1</td>\n",
       "      <td>0</td>\n",
       "      <td>26</td>\n",
       "      <td>198.362265</td>\n",
       "      <td>1.0</td>\n",
       "      <td>3</td>\n",
       "      <td>1.113884</td>\n",
       "      <td>1.120078</td>\n",
       "      <td>0</td>\n",
       "    </tr>\n",
       "    <tr>\n",
       "      <td>5</td>\n",
       "      <td>1</td>\n",
       "      <td>1</td>\n",
       "      <td>0</td>\n",
       "      <td>0</td>\n",
       "      <td>1</td>\n",
       "      <td>1</td>\n",
       "      <td>1</td>\n",
       "      <td>34</td>\n",
       "      <td>450.743960</td>\n",
       "      <td>1.0</td>\n",
       "      <td>3</td>\n",
       "      <td>2.623477</td>\n",
       "      <td>2.637007</td>\n",
       "      <td>0</td>\n",
       "    </tr>\n",
       "    <tr>\n",
       "      <td>6</td>\n",
       "      <td>1</td>\n",
       "      <td>1</td>\n",
       "      <td>1</td>\n",
       "      <td>1</td>\n",
       "      <td>0</td>\n",
       "      <td>6</td>\n",
       "      <td>1</td>\n",
       "      <td>32</td>\n",
       "      <td>94.266389</td>\n",
       "      <td>6.0</td>\n",
       "      <td>2</td>\n",
       "      <td>1.138941</td>\n",
       "      <td>1.277242</td>\n",
       "      <td>0</td>\n",
       "    </tr>\n",
       "    <tr>\n",
       "      <td>7</td>\n",
       "      <td>0</td>\n",
       "      <td>1</td>\n",
       "      <td>0</td>\n",
       "      <td>0</td>\n",
       "      <td>1</td>\n",
       "      <td>1</td>\n",
       "      <td>0</td>\n",
       "      <td>30</td>\n",
       "      <td>217.786641</td>\n",
       "      <td>1.0</td>\n",
       "      <td>0</td>\n",
       "      <td>1.213502</td>\n",
       "      <td>1.049387</td>\n",
       "      <td>1</td>\n",
       "    </tr>\n",
       "    <tr>\n",
       "      <td>8</td>\n",
       "      <td>1</td>\n",
       "      <td>1</td>\n",
       "      <td>1</td>\n",
       "      <td>1</td>\n",
       "      <td>1</td>\n",
       "      <td>1</td>\n",
       "      <td>1</td>\n",
       "      <td>23</td>\n",
       "      <td>45.409909</td>\n",
       "      <td>1.0</td>\n",
       "      <td>1</td>\n",
       "      <td>1.106239</td>\n",
       "      <td>1.059333</td>\n",
       "      <td>0</td>\n",
       "    </tr>\n",
       "    <tr>\n",
       "      <td>9</td>\n",
       "      <td>0</td>\n",
       "      <td>1</td>\n",
       "      <td>0</td>\n",
       "      <td>0</td>\n",
       "      <td>1</td>\n",
       "      <td>1</td>\n",
       "      <td>0</td>\n",
       "      <td>31</td>\n",
       "      <td>65.310836</td>\n",
       "      <td>1.0</td>\n",
       "      <td>11</td>\n",
       "      <td>1.810852</td>\n",
       "      <td>1.951368</td>\n",
       "      <td>0</td>\n",
       "    </tr>\n",
       "  </tbody>\n",
       "</table>\n",
       "</div>"
      ],
      "text/plain": [
       "   gender  Near_Location  Partner  Promo_friends  Phone  Contract_period  \\\n",
       "0       1              1        1              1      0                6   \n",
       "1       0              1        0              0      1               12   \n",
       "2       0              1        1              0      1                1   \n",
       "3       0              1        1              1      1               12   \n",
       "4       1              1        1              1      1                1   \n",
       "5       1              1        0              0      1                1   \n",
       "6       1              1        1              1      0                6   \n",
       "7       0              1        0              0      1                1   \n",
       "8       1              1        1              1      1                1   \n",
       "9       0              1        0              0      1                1   \n",
       "\n",
       "   Group_visits  Age  Avg_additional_charges_total  Month_to_end_contract  \\\n",
       "0             1   29                     14.227470                    5.0   \n",
       "1             1   31                    113.202938                   12.0   \n",
       "2             0   28                    129.448479                    1.0   \n",
       "3             1   33                     62.669863                   12.0   \n",
       "4             0   26                    198.362265                    1.0   \n",
       "5             1   34                    450.743960                    1.0   \n",
       "6             1   32                     94.266389                    6.0   \n",
       "7             0   30                    217.786641                    1.0   \n",
       "8             1   23                     45.409909                    1.0   \n",
       "9             0   31                     65.310836                    1.0   \n",
       "\n",
       "   Lifetime  Avg_class_frequency_total  Avg_class_frequency_current_month  \\\n",
       "0         3                   0.020398                           0.000000   \n",
       "1         7                   1.922936                           1.910244   \n",
       "2         2                   1.859098                           1.736502   \n",
       "3         2                   3.205633                           3.357215   \n",
       "4         3                   1.113884                           1.120078   \n",
       "5         3                   2.623477                           2.637007   \n",
       "6         2                   1.138941                           1.277242   \n",
       "7         0                   1.213502                           1.049387   \n",
       "8         1                   1.106239                           1.059333   \n",
       "9        11                   1.810852                           1.951368   \n",
       "\n",
       "   Churn  \n",
       "0      0  \n",
       "1      0  \n",
       "2      0  \n",
       "3      0  \n",
       "4      0  \n",
       "5      0  \n",
       "6      0  \n",
       "7      1  \n",
       "8      0  \n",
       "9      0  "
      ]
     },
     "execution_count": 2,
     "metadata": {},
     "output_type": "execute_result"
    }
   ],
   "source": [
    "ftns_churn = pd.read_csv('gym_churn.csv')\n",
    "ftns_churn.info()\n",
    "ftns_churn.head(10)"
   ]
  },
  {
   "cell_type": "markdown",
   "metadata": {},
   "source": [
    "Исходные данные в хорошем состоянии: пропусков нет, большинство столбцов имеют подходящий по значению тип данных. \n",
    "Стоит убедиться в отсутствии пропусков (маловероятно, но вдруг), проверить данные на наличие дубликатов, для удобства привести названия столбцов к нижнему регистру и изменить тип данных в столбце \"Month_to_end_contract\" - он содержит округленные до количества полных месяцев данные, нет смысла ему присваивать тип float."
   ]
  },
  {
   "cell_type": "markdown",
   "metadata": {},
   "source": [
    "### Проверка на пропуски и дубликаты:"
   ]
  },
  {
   "cell_type": "code",
   "execution_count": 3,
   "metadata": {},
   "outputs": [
    {
     "data": {
      "text/plain": [
       "gender                               0\n",
       "Near_Location                        0\n",
       "Partner                              0\n",
       "Promo_friends                        0\n",
       "Phone                                0\n",
       "Contract_period                      0\n",
       "Group_visits                         0\n",
       "Age                                  0\n",
       "Avg_additional_charges_total         0\n",
       "Month_to_end_contract                0\n",
       "Lifetime                             0\n",
       "Avg_class_frequency_total            0\n",
       "Avg_class_frequency_current_month    0\n",
       "Churn                                0\n",
       "dtype: int64"
      ]
     },
     "execution_count": 3,
     "metadata": {},
     "output_type": "execute_result"
    }
   ],
   "source": [
    "ftns_churn.isna().sum()\n",
    "# пропусков нет"
   ]
  },
  {
   "cell_type": "code",
   "execution_count": 4,
   "metadata": {},
   "outputs": [
    {
     "data": {
      "text/plain": [
       "0"
      ]
     },
     "execution_count": 4,
     "metadata": {},
     "output_type": "execute_result"
    }
   ],
   "source": [
    "ftns_churn.duplicated().sum()\n",
    "# дубликатов нет"
   ]
  },
  {
   "cell_type": "markdown",
   "metadata": {},
   "source": [
    "### Переименование столбцов (приведение к нижнему регистру) и изменение типа данных:"
   ]
  },
  {
   "cell_type": "code",
   "execution_count": 5,
   "metadata": {},
   "outputs": [
    {
     "data": {
      "text/plain": [
       "Index(['gender', 'near_location', 'partner', 'promo_friends', 'phone',\n",
       "       'contract_period', 'group_visits', 'age',\n",
       "       'avg_additional_charges_total', 'month_to_end_contract', 'lifetime',\n",
       "       'avg_class_frequency_total', 'avg_class_frequency_current_month',\n",
       "       'churn'],\n",
       "      dtype='object')"
      ]
     },
     "execution_count": 5,
     "metadata": {},
     "output_type": "execute_result"
    }
   ],
   "source": [
    "ftns_churn.columns = ftns_churn.columns.str.lower()\n",
    "ftns_churn.columns"
   ]
  },
  {
   "cell_type": "code",
   "execution_count": 6,
   "metadata": {},
   "outputs": [
    {
     "data": {
      "text/plain": [
       "gender                                 int64\n",
       "near_location                          int64\n",
       "partner                                int64\n",
       "promo_friends                          int64\n",
       "phone                                  int64\n",
       "contract_period                        int64\n",
       "group_visits                           int64\n",
       "age                                    int64\n",
       "avg_additional_charges_total         float64\n",
       "month_to_end_contract                  int64\n",
       "lifetime                               int64\n",
       "avg_class_frequency_total            float64\n",
       "avg_class_frequency_current_month    float64\n",
       "churn                                  int64\n",
       "dtype: object"
      ]
     },
     "execution_count": 6,
     "metadata": {},
     "output_type": "execute_result"
    }
   ],
   "source": [
    "# float на int:\n",
    "ftns_churn['month_to_end_contract'] = ftns_churn['month_to_end_contract'].astype('int')\n",
    "ftns_churn.dtypes"
   ]
  },
  {
   "cell_type": "markdown",
   "metadata": {},
   "source": [
    "### Выводы:\n",
    "Данные содержат информацию:\n",
    "- **о клиентах фитнес-центра** (пол, возраст, проживание или работа рядом с фитнес-центром, является ли сотрудником компании-партнёра, пришёл ли в рамках акции \"Приведи друга\" при первой записи, наличие контактного телефона); \n",
    "- информацию **о взаимодействии клиента с фитнес-центром** (время с момента первого посещения фитнес-центра, длительность текущего абонемента, время до окончания действия текущего абонемента, посещает ли групповые занятия, средняя частота посещений в неделю за весь период с начала действия абонемента, средняя частота посещений в неделю за текущий месяц, суммарная выручка за счет дополнительных услуг фитнес-центра); \n",
    "- **факт оттока в текущем месяце**. \n",
    "\n",
    "Пропусков и дубликатов в данных нет, для удобства дальнейшей работы наименования столбцов приведены к нижнему регистру, тип данных в столбце \"month_to_end_contract\" приведен к int64."
   ]
  },
  {
   "cell_type": "markdown",
   "metadata": {},
   "source": [
    "##  EDA: Исследовательский анализ данных"
   ]
  },
  {
   "cell_type": "markdown",
   "metadata": {},
   "source": [
    "### Общий анализ данных:"
   ]
  },
  {
   "cell_type": "code",
   "execution_count": 7,
   "metadata": {},
   "outputs": [
    {
     "data": {
      "text/html": [
       "<div>\n",
       "<style scoped>\n",
       "    .dataframe tbody tr th:only-of-type {\n",
       "        vertical-align: middle;\n",
       "    }\n",
       "\n",
       "    .dataframe tbody tr th {\n",
       "        vertical-align: top;\n",
       "    }\n",
       "\n",
       "    .dataframe thead th {\n",
       "        text-align: right;\n",
       "    }\n",
       "</style>\n",
       "<table border=\"1\" class=\"dataframe\">\n",
       "  <thead>\n",
       "    <tr style=\"text-align: right;\">\n",
       "      <th></th>\n",
       "      <th>gender</th>\n",
       "      <th>near_location</th>\n",
       "      <th>partner</th>\n",
       "      <th>promo_friends</th>\n",
       "      <th>phone</th>\n",
       "      <th>contract_period</th>\n",
       "      <th>group_visits</th>\n",
       "      <th>age</th>\n",
       "      <th>avg_additional_charges_total</th>\n",
       "      <th>month_to_end_contract</th>\n",
       "      <th>lifetime</th>\n",
       "      <th>avg_class_frequency_total</th>\n",
       "      <th>avg_class_frequency_current_month</th>\n",
       "      <th>churn</th>\n",
       "    </tr>\n",
       "  </thead>\n",
       "  <tbody>\n",
       "    <tr>\n",
       "      <td>count</td>\n",
       "      <td>4000.000000</td>\n",
       "      <td>4000.000000</td>\n",
       "      <td>4000.000000</td>\n",
       "      <td>4000.000000</td>\n",
       "      <td>4000.000000</td>\n",
       "      <td>4000.000000</td>\n",
       "      <td>4000.000000</td>\n",
       "      <td>4000.000000</td>\n",
       "      <td>4000.000000</td>\n",
       "      <td>4000.000000</td>\n",
       "      <td>4000.000000</td>\n",
       "      <td>4000.000000</td>\n",
       "      <td>4000.000000</td>\n",
       "      <td>4000.000000</td>\n",
       "    </tr>\n",
       "    <tr>\n",
       "      <td>mean</td>\n",
       "      <td>0.510250</td>\n",
       "      <td>0.845250</td>\n",
       "      <td>0.486750</td>\n",
       "      <td>0.308500</td>\n",
       "      <td>0.903500</td>\n",
       "      <td>4.681250</td>\n",
       "      <td>0.412250</td>\n",
       "      <td>29.184250</td>\n",
       "      <td>146.943728</td>\n",
       "      <td>4.322750</td>\n",
       "      <td>3.724750</td>\n",
       "      <td>1.879020</td>\n",
       "      <td>1.767052</td>\n",
       "      <td>0.265250</td>\n",
       "    </tr>\n",
       "    <tr>\n",
       "      <td>std</td>\n",
       "      <td>0.499957</td>\n",
       "      <td>0.361711</td>\n",
       "      <td>0.499887</td>\n",
       "      <td>0.461932</td>\n",
       "      <td>0.295313</td>\n",
       "      <td>4.549706</td>\n",
       "      <td>0.492301</td>\n",
       "      <td>3.258367</td>\n",
       "      <td>96.355602</td>\n",
       "      <td>4.191297</td>\n",
       "      <td>3.749267</td>\n",
       "      <td>0.972245</td>\n",
       "      <td>1.052906</td>\n",
       "      <td>0.441521</td>\n",
       "    </tr>\n",
       "    <tr>\n",
       "      <td>min</td>\n",
       "      <td>0.000000</td>\n",
       "      <td>0.000000</td>\n",
       "      <td>0.000000</td>\n",
       "      <td>0.000000</td>\n",
       "      <td>0.000000</td>\n",
       "      <td>1.000000</td>\n",
       "      <td>0.000000</td>\n",
       "      <td>18.000000</td>\n",
       "      <td>0.148205</td>\n",
       "      <td>1.000000</td>\n",
       "      <td>0.000000</td>\n",
       "      <td>0.000000</td>\n",
       "      <td>0.000000</td>\n",
       "      <td>0.000000</td>\n",
       "    </tr>\n",
       "    <tr>\n",
       "      <td>25%</td>\n",
       "      <td>0.000000</td>\n",
       "      <td>1.000000</td>\n",
       "      <td>0.000000</td>\n",
       "      <td>0.000000</td>\n",
       "      <td>1.000000</td>\n",
       "      <td>1.000000</td>\n",
       "      <td>0.000000</td>\n",
       "      <td>27.000000</td>\n",
       "      <td>68.868830</td>\n",
       "      <td>1.000000</td>\n",
       "      <td>1.000000</td>\n",
       "      <td>1.180875</td>\n",
       "      <td>0.963003</td>\n",
       "      <td>0.000000</td>\n",
       "    </tr>\n",
       "    <tr>\n",
       "      <td>50%</td>\n",
       "      <td>1.000000</td>\n",
       "      <td>1.000000</td>\n",
       "      <td>0.000000</td>\n",
       "      <td>0.000000</td>\n",
       "      <td>1.000000</td>\n",
       "      <td>1.000000</td>\n",
       "      <td>0.000000</td>\n",
       "      <td>29.000000</td>\n",
       "      <td>136.220159</td>\n",
       "      <td>1.000000</td>\n",
       "      <td>3.000000</td>\n",
       "      <td>1.832768</td>\n",
       "      <td>1.719574</td>\n",
       "      <td>0.000000</td>\n",
       "    </tr>\n",
       "    <tr>\n",
       "      <td>75%</td>\n",
       "      <td>1.000000</td>\n",
       "      <td>1.000000</td>\n",
       "      <td>1.000000</td>\n",
       "      <td>1.000000</td>\n",
       "      <td>1.000000</td>\n",
       "      <td>6.000000</td>\n",
       "      <td>1.000000</td>\n",
       "      <td>31.000000</td>\n",
       "      <td>210.949625</td>\n",
       "      <td>6.000000</td>\n",
       "      <td>5.000000</td>\n",
       "      <td>2.536078</td>\n",
       "      <td>2.510336</td>\n",
       "      <td>1.000000</td>\n",
       "    </tr>\n",
       "    <tr>\n",
       "      <td>max</td>\n",
       "      <td>1.000000</td>\n",
       "      <td>1.000000</td>\n",
       "      <td>1.000000</td>\n",
       "      <td>1.000000</td>\n",
       "      <td>1.000000</td>\n",
       "      <td>12.000000</td>\n",
       "      <td>1.000000</td>\n",
       "      <td>41.000000</td>\n",
       "      <td>552.590740</td>\n",
       "      <td>12.000000</td>\n",
       "      <td>31.000000</td>\n",
       "      <td>6.023668</td>\n",
       "      <td>6.146783</td>\n",
       "      <td>1.000000</td>\n",
       "    </tr>\n",
       "  </tbody>\n",
       "</table>\n",
       "</div>"
      ],
      "text/plain": [
       "            gender  near_location      partner  promo_friends        phone  \\\n",
       "count  4000.000000    4000.000000  4000.000000    4000.000000  4000.000000   \n",
       "mean      0.510250       0.845250     0.486750       0.308500     0.903500   \n",
       "std       0.499957       0.361711     0.499887       0.461932     0.295313   \n",
       "min       0.000000       0.000000     0.000000       0.000000     0.000000   \n",
       "25%       0.000000       1.000000     0.000000       0.000000     1.000000   \n",
       "50%       1.000000       1.000000     0.000000       0.000000     1.000000   \n",
       "75%       1.000000       1.000000     1.000000       1.000000     1.000000   \n",
       "max       1.000000       1.000000     1.000000       1.000000     1.000000   \n",
       "\n",
       "       contract_period  group_visits          age  \\\n",
       "count      4000.000000   4000.000000  4000.000000   \n",
       "mean          4.681250      0.412250    29.184250   \n",
       "std           4.549706      0.492301     3.258367   \n",
       "min           1.000000      0.000000    18.000000   \n",
       "25%           1.000000      0.000000    27.000000   \n",
       "50%           1.000000      0.000000    29.000000   \n",
       "75%           6.000000      1.000000    31.000000   \n",
       "max          12.000000      1.000000    41.000000   \n",
       "\n",
       "       avg_additional_charges_total  month_to_end_contract     lifetime  \\\n",
       "count                   4000.000000            4000.000000  4000.000000   \n",
       "mean                     146.943728               4.322750     3.724750   \n",
       "std                       96.355602               4.191297     3.749267   \n",
       "min                        0.148205               1.000000     0.000000   \n",
       "25%                       68.868830               1.000000     1.000000   \n",
       "50%                      136.220159               1.000000     3.000000   \n",
       "75%                      210.949625               6.000000     5.000000   \n",
       "max                      552.590740              12.000000    31.000000   \n",
       "\n",
       "       avg_class_frequency_total  avg_class_frequency_current_month  \\\n",
       "count                4000.000000                        4000.000000   \n",
       "mean                    1.879020                           1.767052   \n",
       "std                     0.972245                           1.052906   \n",
       "min                     0.000000                           0.000000   \n",
       "25%                     1.180875                           0.963003   \n",
       "50%                     1.832768                           1.719574   \n",
       "75%                     2.536078                           2.510336   \n",
       "max                     6.023668                           6.146783   \n",
       "\n",
       "             churn  \n",
       "count  4000.000000  \n",
       "mean      0.265250  \n",
       "std       0.441521  \n",
       "min       0.000000  \n",
       "25%       0.000000  \n",
       "50%       0.000000  \n",
       "75%       1.000000  \n",
       "max       1.000000  "
      ]
     },
     "execution_count": 7,
     "metadata": {},
     "output_type": "execute_result"
    }
   ],
   "source": [
    "ftns_churn.describe()"
   ]
  },
  {
   "cell_type": "markdown",
   "metadata": {},
   "source": [
    "Посмотрим на средние значения признаков: "
   ]
  },
  {
   "cell_type": "markdown",
   "metadata": {},
   "source": [
    "средние значения по клиентам фитнес-центра:"
   ]
  },
  {
   "cell_type": "markdown",
   "metadata": {},
   "source": [
    "- **пол**: примерно поровну мужчин и женщин (среднее - 0.51);\n",
    "- **возраст**: средний возраст 29 лет (среднее - 29.18, медиана - 29.0);\n",
    "- **проживание или работа рядом с фитнес-центром**: большинство живут или работают рядом (среднее - 0.85);\n",
    "- **является ли сотрудником компании-партнёра**: примерно половина клиентов являются сотрудниками компаний-партнёров (среднее - 0.49);\n",
    "- **пришел ли по акции \"Приведи друга**: примерно треть клиентов пришла по акции \"приведи друга\" (среднее - 0.3);\n",
    "- **наличие контактного телефона**: в значительном большинстве случаев (среднее = 0.9)."
   ]
  },
  {
   "cell_type": "markdown",
   "metadata": {},
   "source": [
    "средние значения по взаимодействию клиентов с фитнес-центром:"
   ]
  },
  {
   "cell_type": "markdown",
   "metadata": {},
   "source": [
    "- **время с момента первого посещения фитнес-центра**: среднее медианное значение составляет 3 мес., среднее арифметическое - 3.7.\n",
    "- **длительность текущего абонемента**: средняя составляет 4.6 месяцев, но есть перекос в данных: медианное среднее составляет 1 месяц, то есть как минимум половина текущих контрактов заключены на минимальный срок. \n",
    "- **время до окончания действия текущего абонемента**: среднее значение до окончания абонемента: около 4 мес., но медианное среднее составляет всего 1 месяц; \n",
    "- **посещение групповых занятий**: большая часть не посещает групповые занятия, но перевес небольшой (доля посещающих - 0.4); \n",
    "- **средняя частота посещений в неделю за весь период с начала действия абонемента**: чуть меньше 2-х раз в неделю, при этом выборка равномерная, так как значение среднего арифметического (1.87) близко к медиане (1.83);\n",
    "- **средняя частота посещений в неделю за текущий месяц**: чуть меньше 2-х раз в неделю, при этом выборка равномерная, так как значение среднего арифметического (1.76) близко к медиане (1.81); \n",
    "- **суммарная выручка за счет дополнительных услуг фитнес-центра**: среднее значение 147 ден.ед., медиана - 136 ден.ед."
   ]
  },
  {
   "cell_type": "markdown",
   "metadata": {},
   "source": [
    "**Отток клиентов в нашей выборке составляет около 26%**."
   ]
  },
  {
   "cell_type": "markdown",
   "metadata": {},
   "source": [
    "Итак, наш **средний клиент** - мужчина или женщина 29 лет, живет или работает рядом с фитнес-клубом, пришел сам (без помощи друга) и оставил контактный телефон. Начал посещать клуб 3 месяца назад и предпочитает краткосрочные абонементы (на 1 месяц), то есть почему-то не уверен либо в своем спортивном запале, либо в том, что именно этот клуб ему удобен, либо финансово не готов приобрести абонемент на более длительный срок (хотя, как правило, абонементы на длительный срок выгоднее. Но мы ничего не знаем о ценовой политике \"Культуриста-датасаентиста\"). Групповые занятия не посещает, занимается 2 раза в неделю, тратит на дополнительные услуги фитнес центра около 140 ден.ед."
   ]
  },
  {
   "cell_type": "markdown",
   "metadata": {},
   "source": [
    "### Средние значения по двум группам: ушедшим клиентам и оставшимся <br>\n",
    "Возможно, по каким-то параметрам мы увидим значимые различия. "
   ]
  },
  {
   "cell_type": "code",
   "execution_count": 8,
   "metadata": {},
   "outputs": [
    {
     "data": {
      "text/html": [
       "<div>\n",
       "<style scoped>\n",
       "    .dataframe tbody tr th:only-of-type {\n",
       "        vertical-align: middle;\n",
       "    }\n",
       "\n",
       "    .dataframe tbody tr th {\n",
       "        vertical-align: top;\n",
       "    }\n",
       "\n",
       "    .dataframe thead th {\n",
       "        text-align: right;\n",
       "    }\n",
       "</style>\n",
       "<table border=\"1\" class=\"dataframe\">\n",
       "  <thead>\n",
       "    <tr style=\"text-align: right;\">\n",
       "      <th></th>\n",
       "      <th>gender</th>\n",
       "      <th>near_location</th>\n",
       "      <th>partner</th>\n",
       "      <th>promo_friends</th>\n",
       "      <th>phone</th>\n",
       "      <th>contract_period</th>\n",
       "      <th>group_visits</th>\n",
       "      <th>age</th>\n",
       "      <th>avg_additional_charges_total</th>\n",
       "      <th>month_to_end_contract</th>\n",
       "      <th>lifetime</th>\n",
       "      <th>avg_class_frequency_total</th>\n",
       "      <th>avg_class_frequency_current_month</th>\n",
       "    </tr>\n",
       "    <tr>\n",
       "      <th>churn</th>\n",
       "      <th></th>\n",
       "      <th></th>\n",
       "      <th></th>\n",
       "      <th></th>\n",
       "      <th></th>\n",
       "      <th></th>\n",
       "      <th></th>\n",
       "      <th></th>\n",
       "      <th></th>\n",
       "      <th></th>\n",
       "      <th></th>\n",
       "      <th></th>\n",
       "      <th></th>\n",
       "    </tr>\n",
       "  </thead>\n",
       "  <tbody>\n",
       "    <tr>\n",
       "      <td>0</td>\n",
       "      <td>0.510037</td>\n",
       "      <td>0.873086</td>\n",
       "      <td>0.534195</td>\n",
       "      <td>0.353522</td>\n",
       "      <td>0.903709</td>\n",
       "      <td>5.747193</td>\n",
       "      <td>0.464103</td>\n",
       "      <td>29.976523</td>\n",
       "      <td>158.445715</td>\n",
       "      <td>5.283089</td>\n",
       "      <td>4.711807</td>\n",
       "      <td>2.024876</td>\n",
       "      <td>2.027882</td>\n",
       "    </tr>\n",
       "    <tr>\n",
       "      <td>1</td>\n",
       "      <td>0.510839</td>\n",
       "      <td>0.768143</td>\n",
       "      <td>0.355325</td>\n",
       "      <td>0.183789</td>\n",
       "      <td>0.902922</td>\n",
       "      <td>1.728558</td>\n",
       "      <td>0.268615</td>\n",
       "      <td>26.989632</td>\n",
       "      <td>115.082899</td>\n",
       "      <td>1.662582</td>\n",
       "      <td>0.990575</td>\n",
       "      <td>1.474995</td>\n",
       "      <td>1.044546</td>\n",
       "    </tr>\n",
       "  </tbody>\n",
       "</table>\n",
       "</div>"
      ],
      "text/plain": [
       "         gender  near_location   partner  promo_friends     phone  \\\n",
       "churn                                                               \n",
       "0      0.510037       0.873086  0.534195       0.353522  0.903709   \n",
       "1      0.510839       0.768143  0.355325       0.183789  0.902922   \n",
       "\n",
       "       contract_period  group_visits        age  avg_additional_charges_total  \\\n",
       "churn                                                                           \n",
       "0             5.747193      0.464103  29.976523                    158.445715   \n",
       "1             1.728558      0.268615  26.989632                    115.082899   \n",
       "\n",
       "       month_to_end_contract  lifetime  avg_class_frequency_total  \\\n",
       "churn                                                               \n",
       "0                   5.283089  4.711807                   2.024876   \n",
       "1                   1.662582  0.990575                   1.474995   \n",
       "\n",
       "       avg_class_frequency_current_month  \n",
       "churn                                     \n",
       "0                               2.027882  \n",
       "1                               1.044546  "
      ]
     },
     "execution_count": 8,
     "metadata": {},
     "output_type": "execute_result"
    }
   ],
   "source": [
    "# посмотрим по группам отдельно. \n",
    "ftns_churn.groupby('churn').mean()"
   ]
  },
  {
   "cell_type": "markdown",
   "metadata": {},
   "source": [
    "группа 0 у нас - лояльные клиенты, 1 - ушедшие."
   ]
  },
  {
   "cell_type": "markdown",
   "metadata": {},
   "source": [
    "Видно, что среди среди ушедших:\n",
    "- **большее количество тех, кто не живет/работает рядом с фитнес-клубом** (0.83 среди лояльных клиентов живут/работают рядом и 0.76 среди ушедших);\n",
    "- **меньше сотрудников компаний-партнеров** (0.53 среди лояльных и 0.35 среди ушедших);\n",
    "- **меньше приведенных друзьями** (0.35 среди лояльных и 0.18 среди ушедших);\n",
    "- **меньше купивших долгосрочные абонементы** (5.75 средний срок среди лояльных и 1.73 - у ушедших);\n",
    "- **реже уходят любители групповых занятий** (0.46 среди лояльных и 0.26 среди ушедших);\n",
    "- **более молодые уходят чаще** (30 лет средний возраст лояльных и 27 лет - ушедших);\n",
    "- **меньшие траты на дополнительные услуги клуба** (158 у лояльных и 115 у ушедших);\n",
    "- **больше тех, у кого котракт скоро заканчивается** (5.28 средний срок до окончания котнракта у лояльных и 1.66 - у ушедших);\n",
    "- **новичков больше, чем старожилов** (лояльные в среднем впервые обратились в клуб 4.7 месяцев назад, новички - 0.99);\n",
    "- **реже занимаются** (у лояльных среднее количество посещений в неделю - 2, у оттока - 1.5, и этот показатель снижается в последний месяц до 1 раза в неделю)."
   ]
  },
  {
   "cell_type": "markdown",
   "metadata": {},
   "source": [
    "Построим столбчатые диаграммы распределения признаков для наших двух групп:"
   ]
  },
  {
   "cell_type": "code",
   "execution_count": 9,
   "metadata": {},
   "outputs": [],
   "source": [
    "loyal_clients = ftns_churn.query('churn == 0')\n",
    "churn_clients = ftns_churn.query('churn == 1')"
   ]
  },
  {
   "cell_type": "code",
   "execution_count": 10,
   "metadata": {},
   "outputs": [
    {
     "data": {
      "image/png": "[encoded data removed]",
      "text/plain": [
       "<Figure size 432x288 with 1 Axes>"
      ]
     },
     "metadata": {
      "needs_background": "light"
     },
     "output_type": "display_data"
    },
    {
     "data": {
      "image/png": "[encoded data removed]",
      "text/plain": [
       "<Figure size 432x288 with 1 Axes>"
      ]
     },
     "metadata": {
      "needs_background": "light"
     },
     "output_type": "display_data"
    },
    {
     "data": {
      "image/png": "[encoded data removed]",
      "text/plain": [
       "<Figure size 432x288 with 1 Axes>"
      ]
     },
     "metadata": {
      "needs_background": "light"
     },
     "output_type": "display_data"
    },
    {
     "data": {
      "image/png": "[encoded data removed]",
      "text/plain": [
       "<Figure size 432x288 with 1 Axes>"
      ]
     },
     "metadata": {
      "needs_background": "light"
     },
     "output_type": "display_data"
    },
    {
     "data": {
      "image/png": "[encoded data removed]",
      "text/plain": [
       "<Figure size 432x288 with 1 Axes>"
      ]
     },
     "metadata": {
      "needs_background": "light"
     },
     "output_type": "display_data"
    },
    {
     "data": {
      "image/png": "[encoded data removed]",
      "text/plain": [
       "<Figure size 432x288 with 1 Axes>"
      ]
     },
     "metadata": {
      "needs_background": "light"
     },
     "output_type": "display_data"
    },
    {
     "data": {
      "image/png": "[encoded data removed]",
      "text/plain": [
       "<Figure size 432x288 with 1 Axes>"
      ]
     },
     "metadata": {
      "needs_background": "light"
     },
     "output_type": "display_data"
    },
    {
     "data": {
      "image/png": "[encoded data removed]",
      "text/plain": [
       "<Figure size 432x288 with 1 Axes>"
      ]
     },
     "metadata": {
      "needs_background": "light"
     },
     "output_type": "display_data"
    },
    {
     "data": {
      "image/png": "[encoded data removed]",
      "text/plain": [
       "<Figure size 432x288 with 1 Axes>"
      ]
     },
     "metadata": {
      "needs_background": "light"
     },
     "output_type": "display_data"
    },
    {
     "data": {
      "image/png": "[encoded data removed]",
      "text/plain": [
       "<Figure size 432x288 with 1 Axes>"
      ]
     },
     "metadata": {
      "needs_background": "light"
     },
     "output_type": "display_data"
    },
    {
     "data": {
      "image/png": "[encoded data removed]",
      "text/plain": [
       "<Figure size 432x288 with 1 Axes>"
      ]
     },
     "metadata": {
      "needs_background": "light"
     },
     "output_type": "display_data"
    },
    {
     "data": {
      "image/png": "[encoded data removed]",
      "text/plain": [
       "<Figure size 432x288 with 1 Axes>"
      ]
     },
     "metadata": {
      "needs_background": "light"
     },
     "output_type": "display_data"
    },
    {
     "data": {
      "image/png": "[encoded data removed]",
      "text/plain": [
       "<Figure size 432x288 with 1 Axes>"
      ]
     },
     "metadata": {
      "needs_background": "light"
     },
     "output_type": "display_data"
    }
   ],
   "source": [
    "fig, ax = plt.subplots()\n",
    "for column in ftns_churn.drop('churn', axis = 1).columns:\n",
    "    plt.title(\"Распределение признака \" + column)\n",
    "    plt.xlabel(column)\n",
    "    plt.ylabel('количество и плотность')\n",
    "    sns.distplot(churn_clients[column], label = 'churn')\n",
    "    sns.distplot(loyal_clients[column], label = 'loyal')\n",
    "    plt.legend()\n",
    "    plt.show()"
   ]
  },
  {
   "cell_type": "markdown",
   "metadata": {},
   "source": [
    " ### Матрица корелляций по всем параметрам:"
   ]
  },
  {
   "cell_type": "code",
   "execution_count": 11,
   "metadata": {},
   "outputs": [
    {
     "data": {
      "text/html": [
       "<div>\n",
       "<style scoped>\n",
       "    .dataframe tbody tr th:only-of-type {\n",
       "        vertical-align: middle;\n",
       "    }\n",
       "\n",
       "    .dataframe tbody tr th {\n",
       "        vertical-align: top;\n",
       "    }\n",
       "\n",
       "    .dataframe thead th {\n",
       "        text-align: right;\n",
       "    }\n",
       "</style>\n",
       "<table border=\"1\" class=\"dataframe\">\n",
       "  <thead>\n",
       "    <tr style=\"text-align: right;\">\n",
       "      <th></th>\n",
       "      <th>gender</th>\n",
       "      <th>near_location</th>\n",
       "      <th>partner</th>\n",
       "      <th>promo_friends</th>\n",
       "      <th>phone</th>\n",
       "      <th>contract_period</th>\n",
       "      <th>group_visits</th>\n",
       "      <th>age</th>\n",
       "      <th>avg_additional_charges_total</th>\n",
       "      <th>month_to_end_contract</th>\n",
       "      <th>lifetime</th>\n",
       "      <th>avg_class_frequency_total</th>\n",
       "      <th>avg_class_frequency_current_month</th>\n",
       "      <th>churn</th>\n",
       "    </tr>\n",
       "  </thead>\n",
       "  <tbody>\n",
       "    <tr>\n",
       "      <td>gender</td>\n",
       "      <td>1.000000</td>\n",
       "      <td>0.006699</td>\n",
       "      <td>-0.010463</td>\n",
       "      <td>-0.005033</td>\n",
       "      <td>-0.008542</td>\n",
       "      <td>0.000502</td>\n",
       "      <td>0.017879</td>\n",
       "      <td>0.013807</td>\n",
       "      <td>-0.009334</td>\n",
       "      <td>-0.001281</td>\n",
       "      <td>0.013579</td>\n",
       "      <td>0.014620</td>\n",
       "      <td>0.009156</td>\n",
       "      <td>0.000708</td>\n",
       "    </tr>\n",
       "    <tr>\n",
       "      <td>near_location</td>\n",
       "      <td>0.006699</td>\n",
       "      <td>1.000000</td>\n",
       "      <td>-0.005119</td>\n",
       "      <td>0.210964</td>\n",
       "      <td>-0.015763</td>\n",
       "      <td>0.150233</td>\n",
       "      <td>0.154728</td>\n",
       "      <td>0.058358</td>\n",
       "      <td>0.040761</td>\n",
       "      <td>0.143961</td>\n",
       "      <td>0.070921</td>\n",
       "      <td>0.043127</td>\n",
       "      <td>0.062664</td>\n",
       "      <td>-0.128098</td>\n",
       "    </tr>\n",
       "    <tr>\n",
       "      <td>partner</td>\n",
       "      <td>-0.010463</td>\n",
       "      <td>-0.005119</td>\n",
       "      <td>1.000000</td>\n",
       "      <td>0.451960</td>\n",
       "      <td>0.009970</td>\n",
       "      <td>0.306166</td>\n",
       "      <td>0.022710</td>\n",
       "      <td>0.047480</td>\n",
       "      <td>0.022941</td>\n",
       "      <td>0.294632</td>\n",
       "      <td>0.061229</td>\n",
       "      <td>0.024938</td>\n",
       "      <td>0.045561</td>\n",
       "      <td>-0.157986</td>\n",
       "    </tr>\n",
       "    <tr>\n",
       "      <td>promo_friends</td>\n",
       "      <td>-0.005033</td>\n",
       "      <td>0.210964</td>\n",
       "      <td>0.451960</td>\n",
       "      <td>1.000000</td>\n",
       "      <td>0.001982</td>\n",
       "      <td>0.244552</td>\n",
       "      <td>0.120170</td>\n",
       "      <td>0.050113</td>\n",
       "      <td>0.036898</td>\n",
       "      <td>0.239553</td>\n",
       "      <td>0.072721</td>\n",
       "      <td>0.028063</td>\n",
       "      <td>0.053768</td>\n",
       "      <td>-0.162233</td>\n",
       "    </tr>\n",
       "    <tr>\n",
       "      <td>phone</td>\n",
       "      <td>-0.008542</td>\n",
       "      <td>-0.015763</td>\n",
       "      <td>0.009970</td>\n",
       "      <td>0.001982</td>\n",
       "      <td>1.000000</td>\n",
       "      <td>-0.006893</td>\n",
       "      <td>-0.010099</td>\n",
       "      <td>-0.011403</td>\n",
       "      <td>0.009279</td>\n",
       "      <td>-0.011196</td>\n",
       "      <td>-0.018801</td>\n",
       "      <td>0.008340</td>\n",
       "      <td>0.013375</td>\n",
       "      <td>-0.001177</td>\n",
       "    </tr>\n",
       "    <tr>\n",
       "      <td>contract_period</td>\n",
       "      <td>0.000502</td>\n",
       "      <td>0.150233</td>\n",
       "      <td>0.306166</td>\n",
       "      <td>0.244552</td>\n",
       "      <td>-0.006893</td>\n",
       "      <td>1.000000</td>\n",
       "      <td>0.169991</td>\n",
       "      <td>0.138249</td>\n",
       "      <td>0.111445</td>\n",
       "      <td>0.973064</td>\n",
       "      <td>0.170725</td>\n",
       "      <td>0.096211</td>\n",
       "      <td>0.159407</td>\n",
       "      <td>-0.389984</td>\n",
       "    </tr>\n",
       "    <tr>\n",
       "      <td>group_visits</td>\n",
       "      <td>0.017879</td>\n",
       "      <td>0.154728</td>\n",
       "      <td>0.022710</td>\n",
       "      <td>0.120170</td>\n",
       "      <td>-0.010099</td>\n",
       "      <td>0.169991</td>\n",
       "      <td>1.000000</td>\n",
       "      <td>0.080934</td>\n",
       "      <td>0.032079</td>\n",
       "      <td>0.163703</td>\n",
       "      <td>0.075853</td>\n",
       "      <td>0.056695</td>\n",
       "      <td>0.075923</td>\n",
       "      <td>-0.175325</td>\n",
       "    </tr>\n",
       "    <tr>\n",
       "      <td>age</td>\n",
       "      <td>0.013807</td>\n",
       "      <td>0.058358</td>\n",
       "      <td>0.047480</td>\n",
       "      <td>0.050113</td>\n",
       "      <td>-0.011403</td>\n",
       "      <td>0.138249</td>\n",
       "      <td>0.080934</td>\n",
       "      <td>1.000000</td>\n",
       "      <td>0.080240</td>\n",
       "      <td>0.134511</td>\n",
       "      <td>0.164693</td>\n",
       "      <td>0.119953</td>\n",
       "      <td>0.183095</td>\n",
       "      <td>-0.404735</td>\n",
       "    </tr>\n",
       "    <tr>\n",
       "      <td>avg_additional_charges_total</td>\n",
       "      <td>-0.009334</td>\n",
       "      <td>0.040761</td>\n",
       "      <td>0.022941</td>\n",
       "      <td>0.036898</td>\n",
       "      <td>0.009279</td>\n",
       "      <td>0.111445</td>\n",
       "      <td>0.032079</td>\n",
       "      <td>0.080240</td>\n",
       "      <td>1.000000</td>\n",
       "      <td>0.113958</td>\n",
       "      <td>0.079028</td>\n",
       "      <td>0.044426</td>\n",
       "      <td>0.079570</td>\n",
       "      <td>-0.198697</td>\n",
       "    </tr>\n",
       "    <tr>\n",
       "      <td>month_to_end_contract</td>\n",
       "      <td>-0.001281</td>\n",
       "      <td>0.143961</td>\n",
       "      <td>0.294632</td>\n",
       "      <td>0.239553</td>\n",
       "      <td>-0.011196</td>\n",
       "      <td>0.973064</td>\n",
       "      <td>0.163703</td>\n",
       "      <td>0.134511</td>\n",
       "      <td>0.113958</td>\n",
       "      <td>1.000000</td>\n",
       "      <td>0.161078</td>\n",
       "      <td>0.085387</td>\n",
       "      <td>0.147605</td>\n",
       "      <td>-0.381393</td>\n",
       "    </tr>\n",
       "    <tr>\n",
       "      <td>lifetime</td>\n",
       "      <td>0.013579</td>\n",
       "      <td>0.070921</td>\n",
       "      <td>0.061229</td>\n",
       "      <td>0.072721</td>\n",
       "      <td>-0.018801</td>\n",
       "      <td>0.170725</td>\n",
       "      <td>0.075853</td>\n",
       "      <td>0.164693</td>\n",
       "      <td>0.079028</td>\n",
       "      <td>0.161078</td>\n",
       "      <td>1.000000</td>\n",
       "      <td>0.112338</td>\n",
       "      <td>0.181975</td>\n",
       "      <td>-0.438220</td>\n",
       "    </tr>\n",
       "    <tr>\n",
       "      <td>avg_class_frequency_total</td>\n",
       "      <td>0.014620</td>\n",
       "      <td>0.043127</td>\n",
       "      <td>0.024938</td>\n",
       "      <td>0.028063</td>\n",
       "      <td>0.008340</td>\n",
       "      <td>0.096211</td>\n",
       "      <td>0.056695</td>\n",
       "      <td>0.119953</td>\n",
       "      <td>0.044426</td>\n",
       "      <td>0.085387</td>\n",
       "      <td>0.112338</td>\n",
       "      <td>1.000000</td>\n",
       "      <td>0.952739</td>\n",
       "      <td>-0.249715</td>\n",
       "    </tr>\n",
       "    <tr>\n",
       "      <td>avg_class_frequency_current_month</td>\n",
       "      <td>0.009156</td>\n",
       "      <td>0.062664</td>\n",
       "      <td>0.045561</td>\n",
       "      <td>0.053768</td>\n",
       "      <td>0.013375</td>\n",
       "      <td>0.159407</td>\n",
       "      <td>0.075923</td>\n",
       "      <td>0.183095</td>\n",
       "      <td>0.079570</td>\n",
       "      <td>0.147605</td>\n",
       "      <td>0.181975</td>\n",
       "      <td>0.952739</td>\n",
       "      <td>1.000000</td>\n",
       "      <td>-0.412348</td>\n",
       "    </tr>\n",
       "    <tr>\n",
       "      <td>churn</td>\n",
       "      <td>0.000708</td>\n",
       "      <td>-0.128098</td>\n",
       "      <td>-0.157986</td>\n",
       "      <td>-0.162233</td>\n",
       "      <td>-0.001177</td>\n",
       "      <td>-0.389984</td>\n",
       "      <td>-0.175325</td>\n",
       "      <td>-0.404735</td>\n",
       "      <td>-0.198697</td>\n",
       "      <td>-0.381393</td>\n",
       "      <td>-0.438220</td>\n",
       "      <td>-0.249715</td>\n",
       "      <td>-0.412348</td>\n",
       "      <td>1.000000</td>\n",
       "    </tr>\n",
       "  </tbody>\n",
       "</table>\n",
       "</div>"
      ],
      "text/plain": [
       "                                     gender  near_location   partner  \\\n",
       "gender                             1.000000       0.006699 -0.010463   \n",
       "near_location                      0.006699       1.000000 -0.005119   \n",
       "partner                           -0.010463      -0.005119  1.000000   \n",
       "promo_friends                     -0.005033       0.210964  0.451960   \n",
       "phone                             -0.008542      -0.015763  0.009970   \n",
       "contract_period                    0.000502       0.150233  0.306166   \n",
       "group_visits                       0.017879       0.154728  0.022710   \n",
       "age                                0.013807       0.058358  0.047480   \n",
       "avg_additional_charges_total      -0.009334       0.040761  0.022941   \n",
       "month_to_end_contract             -0.001281       0.143961  0.294632   \n",
       "lifetime                           0.013579       0.070921  0.061229   \n",
       "avg_class_frequency_total          0.014620       0.043127  0.024938   \n",
       "avg_class_frequency_current_month  0.009156       0.062664  0.045561   \n",
       "churn                              0.000708      -0.128098 -0.157986   \n",
       "\n",
       "                                   promo_friends     phone  contract_period  \\\n",
       "gender                                 -0.005033 -0.008542         0.000502   \n",
       "near_location                           0.210964 -0.015763         0.150233   \n",
       "partner                                 0.451960  0.009970         0.306166   \n",
       "promo_friends                           1.000000  0.001982         0.244552   \n",
       "phone                                   0.001982  1.000000        -0.006893   \n",
       "contract_period                         0.244552 -0.006893         1.000000   \n",
       "group_visits                            0.120170 -0.010099         0.169991   \n",
       "age                                     0.050113 -0.011403         0.138249   \n",
       "avg_additional_charges_total            0.036898  0.009279         0.111445   \n",
       "month_to_end_contract                   0.239553 -0.011196         0.973064   \n",
       "lifetime                                0.072721 -0.018801         0.170725   \n",
       "avg_class_frequency_total               0.028063  0.008340         0.096211   \n",
       "avg_class_frequency_current_month       0.053768  0.013375         0.159407   \n",
       "churn                                  -0.162233 -0.001177        -0.389984   \n",
       "\n",
       "                                   group_visits       age  \\\n",
       "gender                                 0.017879  0.013807   \n",
       "near_location                          0.154728  0.058358   \n",
       "partner                                0.022710  0.047480   \n",
       "promo_friends                          0.120170  0.050113   \n",
       "phone                                 -0.010099 -0.011403   \n",
       "contract_period                        0.169991  0.138249   \n",
       "group_visits                           1.000000  0.080934   \n",
       "age                                    0.080934  1.000000   \n",
       "avg_additional_charges_total           0.032079  0.080240   \n",
       "month_to_end_contract                  0.163703  0.134511   \n",
       "lifetime                               0.075853  0.164693   \n",
       "avg_class_frequency_total              0.056695  0.119953   \n",
       "avg_class_frequency_current_month      0.075923  0.183095   \n",
       "churn                                 -0.175325 -0.404735   \n",
       "\n",
       "                                   avg_additional_charges_total  \\\n",
       "gender                                                -0.009334   \n",
       "near_location                                          0.040761   \n",
       "partner                                                0.022941   \n",
       "promo_friends                                          0.036898   \n",
       "phone                                                  0.009279   \n",
       "contract_period                                        0.111445   \n",
       "group_visits                                           0.032079   \n",
       "age                                                    0.080240   \n",
       "avg_additional_charges_total                           1.000000   \n",
       "month_to_end_contract                                  0.113958   \n",
       "lifetime                                               0.079028   \n",
       "avg_class_frequency_total                              0.044426   \n",
       "avg_class_frequency_current_month                      0.079570   \n",
       "churn                                                 -0.198697   \n",
       "\n",
       "                                   month_to_end_contract  lifetime  \\\n",
       "gender                                         -0.001281  0.013579   \n",
       "near_location                                   0.143961  0.070921   \n",
       "partner                                         0.294632  0.061229   \n",
       "promo_friends                                   0.239553  0.072721   \n",
       "phone                                          -0.011196 -0.018801   \n",
       "contract_period                                 0.973064  0.170725   \n",
       "group_visits                                    0.163703  0.075853   \n",
       "age                                             0.134511  0.164693   \n",
       "avg_additional_charges_total                    0.113958  0.079028   \n",
       "month_to_end_contract                           1.000000  0.161078   \n",
       "lifetime                                        0.161078  1.000000   \n",
       "avg_class_frequency_total                       0.085387  0.112338   \n",
       "avg_class_frequency_current_month               0.147605  0.181975   \n",
       "churn                                          -0.381393 -0.438220   \n",
       "\n",
       "                                   avg_class_frequency_total  \\\n",
       "gender                                              0.014620   \n",
       "near_location                                       0.043127   \n",
       "partner                                             0.024938   \n",
       "promo_friends                                       0.028063   \n",
       "phone                                               0.008340   \n",
       "contract_period                                     0.096211   \n",
       "group_visits                                        0.056695   \n",
       "age                                                 0.119953   \n",
       "avg_additional_charges_total                        0.044426   \n",
       "month_to_end_contract                               0.085387   \n",
       "lifetime                                            0.112338   \n",
       "avg_class_frequency_total                           1.000000   \n",
       "avg_class_frequency_current_month                   0.952739   \n",
       "churn                                              -0.249715   \n",
       "\n",
       "                                   avg_class_frequency_current_month     churn  \n",
       "gender                                                      0.009156  0.000708  \n",
       "near_location                                               0.062664 -0.128098  \n",
       "partner                                                     0.045561 -0.157986  \n",
       "promo_friends                                               0.053768 -0.162233  \n",
       "phone                                                       0.013375 -0.001177  \n",
       "contract_period                                             0.159407 -0.389984  \n",
       "group_visits                                                0.075923 -0.175325  \n",
       "age                                                         0.183095 -0.404735  \n",
       "avg_additional_charges_total                                0.079570 -0.198697  \n",
       "month_to_end_contract                                       0.147605 -0.381393  \n",
       "lifetime                                                    0.181975 -0.438220  \n",
       "avg_class_frequency_total                                   0.952739 -0.249715  \n",
       "avg_class_frequency_current_month                           1.000000 -0.412348  \n",
       "churn                                                      -0.412348  1.000000  "
      ]
     },
     "execution_count": 11,
     "metadata": {},
     "output_type": "execute_result"
    }
   ],
   "source": [
    "corr_matrix = ftns_churn.corr()\n",
    "corr_matrix"
   ]
  },
  {
   "cell_type": "markdown",
   "metadata": {},
   "source": [
    "И для наглядности хитмэп:"
   ]
  },
  {
   "cell_type": "code",
   "execution_count": 12,
   "metadata": {},
   "outputs": [
    {
     "data": {
      "image/png": "[encoded data removed]",
      "text/plain": [
       "<Figure size 1008x864 with 2 Axes>"
      ]
     },
     "metadata": {
      "needs_background": "light"
     },
     "output_type": "display_data"
    }
   ],
   "source": [
    "fig, ax = plt.subplots(figsize=(14, 12))\n",
    "plt.title(\"Корреляция по всем параметрам:\")\n",
    "mask = np.triu(np.ones_like(corr_matrix, dtype = np.bool))\n",
    "sns.heatmap(corr_matrix, linewidth = .4, annot = True, mask = mask, ax = ax)\n",
    "ax.set_ylim(14, 0)\n",
    "plt.show()"
   ]
  },
  {
   "cell_type": "markdown",
   "metadata": {},
   "source": [
    "Драматического влияния на отток клиентов не видно ни по одному из параметров. Все выявленные корреляции - обратные и слабые (из самых значимых: срок контракта, возраст, количество месяцев до окончания контракта, lifetime клиента и среднее количество тренировок за последний месяц). \n",
    "\n",
    "Обращает на себя внимание высокая корреляция между длительностью действующего контракта (абонемента) и сроком до его окончания, а также между средним количеством посещений в неделю и в последний месяц. Такая корреляция естественна и в нашем случае никакой ценной информации нам не дает. "
   ]
  },
  {
   "cell_type": "markdown",
   "metadata": {},
   "source": [
    "### Выводы: "
   ]
  },
  {
   "cell_type": "markdown",
   "metadata": {},
   "source": [
    "**Для группы, ушедшей в отток, характерно**:\n",
    "- большее количество тех, кто живет/работает далеко от фитнес-клуба;\n",
    "- реже являются сотрудниками компаний-партнеров;\n",
    "- чаще приходят сами, чем по акции \"Приведи друга\";\n",
    "- чаще покупают краткосрочные абонементы;\n",
    "- реже ходят на групповые занятия;\n",
    "- в среднем на 3 года моложе;\n",
    "- меньше тратят на допуслуги клуба;\n",
    "- срок абонемента приближается к концу;\n",
    "- больше новичков;\n",
    "- реже занимаются, особенно в последний месяц. \n",
    "\n",
    "**Сильной корреляции между параметрами мы не видим, но из самых значимых**: \n",
    "- срок контракта; \n",
    "- возраст; \n",
    "- количество месяцев до окончания контракта; \n",
    "- lifetime клиента; \n",
    "- среднее количество тренировок за последний месяц. "
   ]
  },
  {
   "cell_type": "markdown",
   "metadata": {},
   "source": [
    "## Модель прогнозирования оттока клиентов "
   ]
  },
  {
   "cell_type": "markdown",
   "metadata": {},
   "source": [
    "### Обучение моделей и прогноз"
   ]
  },
  {
   "cell_type": "markdown",
   "metadata": {},
   "source": [
    "Разделим данные на обучающую и валидационную выборки в соотношении 80 к 20 (на 80 - обучаем модель, на 20 - проверяем):"
   ]
  },
  {
   "cell_type": "code",
   "execution_count": 13,
   "metadata": {},
   "outputs": [],
   "source": [
    "# делим данные на признаки (матрица X) и целевую переменную (y):\n",
    "X = ftns_churn.drop('churn', axis = 1)\n",
    "y = ftns_churn['churn']\n",
    "\n",
    "# делим выборку на обучающую и валидационную в соотношении 80:20:\n",
    "x_train, x_test, y_train, y_test = train_test_split(X, y, test_size=0.2, random_state=0, stratify=y)\n",
    "\n",
    "# стандартизируем данные:\n",
    "scaler = StandardScaler()\n",
    "scaler.fit(x_train)\n",
    "x_train_st = scaler.transform(x_train)\n",
    "x_test_st = scaler.transform(x_test)"
   ]
  },
  {
   "cell_type": "markdown",
   "metadata": {},
   "source": [
    "Обучаем с помощью двух алгоритмов:"
   ]
  },
  {
   "cell_type": "markdown",
   "metadata": {},
   "source": [
    "**Логистическая регрессия**:"
   ]
  },
  {
   "cell_type": "code",
   "execution_count": 14,
   "metadata": {},
   "outputs": [],
   "source": [
    "# алгоритм для модели:\n",
    "log_m = LogisticRegression(random_state = 0)\n",
    "\n",
    "# обучение:\n",
    "log_m.fit(x_train_st, y_train)\n",
    "\n",
    "# прозноз:\n",
    "log_predictions = log_m.predict(x_test_st)\n",
    "log_probabilities = log_m.predict_proba(x_test_st)[:,1]"
   ]
  },
  {
   "cell_type": "markdown",
   "metadata": {},
   "source": [
    "**Случайный лес (Random Forest)**:"
   ]
  },
  {
   "cell_type": "code",
   "execution_count": 15,
   "metadata": {},
   "outputs": [],
   "source": [
    "# алгоритм для модели: \n",
    "rf_model = RandomForestClassifier(random_state = 0)\n",
    "\n",
    "# обучение:\n",
    "rf_model.fit(x_train_st, y_train)\n",
    "\n",
    "# прогноз:\n",
    "rf_predictions = rf_model.predict(x_test_st)\n",
    "rf_probabilities = rf_model.predict_proba(x_test_st)[:,1]"
   ]
  },
  {
   "cell_type": "markdown",
   "metadata": {},
   "source": [
    "### Оценка метрик и сравнение моделей"
   ]
  },
  {
   "cell_type": "markdown",
   "metadata": {},
   "source": [
    "Рассчитаем следующие метрики: \n",
    "- **accuracy** (доля правильных ответов); \n",
    "- **precision** (точность); \n",
    "- **recall** (полнота); \n",
    "- **F1_score** (агрегирующая метрика);\n",
    "- **ROC_AUC** (метрика оценки качества классификатора). "
   ]
  },
  {
   "cell_type": "code",
   "execution_count": 16,
   "metadata": {},
   "outputs": [],
   "source": [
    "# функция для вывода метрик:\n",
    "\n",
    "def metrics(y_true, y_pred, y_proba, model_name):\n",
    "    print('Метрики для модели '+model_name)\n",
    "    print('\\tAccuracy: {:.2f}'.format(accuracy_score(y_true, y_pred)))\n",
    "    print('\\tPrecision: {:.2f}'.format(precision_score(y_true, y_pred)))\n",
    "    print('\\tRecall: {:.2f}'.format(recall_score(y_true, y_pred)))      \n",
    "    print('\\tF1: {:.2f}'.format(f1_score(y_true, y_pred)))\n",
    "    print('\\tROC_AUC: {:.2f}'.format(roc_auc_score(y_true, y_pred)))"
   ]
  },
  {
   "cell_type": "markdown",
   "metadata": {},
   "source": [
    "Метрики для двух моделей:"
   ]
  },
  {
   "cell_type": "code",
   "execution_count": 17,
   "metadata": {},
   "outputs": [
    {
     "name": "stdout",
     "output_type": "stream",
     "text": [
      "Метрики для модели логистической регрессии\n",
      "\tAccuracy: 0.94\n",
      "\tPrecision: 0.90\n",
      "\tRecall: 0.85\n",
      "\tF1: 0.87\n",
      "\tROC_AUC: 0.91\n",
      "Метрики для модели случайного леса\n",
      "\tAccuracy: 0.92\n",
      "\tPrecision: 0.89\n",
      "\tRecall: 0.79\n",
      "\tF1: 0.83\n",
      "\tROC_AUC: 0.88\n"
     ]
    }
   ],
   "source": [
    "# метрики для модели логистической регрессии:\n",
    "metrics(y_test, log_predictions, log_probabilities, 'логистической регрессии')\n",
    "#print()\n",
    "# метрики для модели случайного леса:\n",
    "metrics(y_test, rf_predictions, rf_probabilities, 'случайного леса')"
   ]
  },
  {
   "cell_type": "markdown",
   "metadata": {},
   "source": [
    "Обе модели дают достаточно точный прогноз, но **модель логистической регрессии дает лучший результат по всем рассчитанным метрикам**."
   ]
  },
  {
   "cell_type": "markdown",
   "metadata": {},
   "source": [
    "### Выводы:\n",
    "\n",
    "При построении модели выборка разделена на обучающую и валидационную в соотношении 80 к 20. <br>\n",
    "Построены и обучены 2 модели: с помощью алгоритма логистической регрессии и алгоритмом случайного леса. Модель логистической регрессии дает более точный результат по всем метрикам: accuracy, precision, recall, F1, ROC_AUC."
   ]
  },
  {
   "cell_type": "markdown",
   "metadata": {},
   "source": [
    "## Кластеризация клиентов"
   ]
  },
  {
   "cell_type": "markdown",
   "metadata": {},
   "source": [
    "### Разделение на кластеры"
   ]
  },
  {
   "cell_type": "markdown",
   "metadata": {},
   "source": [
    "стандартизация данных:"
   ]
  },
  {
   "cell_type": "code",
   "execution_count": 18,
   "metadata": {},
   "outputs": [],
   "source": [
    "scaler = StandardScaler()\n",
    "x_st = scaler.fit_transform(X)"
   ]
  },
  {
   "cell_type": "markdown",
   "metadata": {},
   "source": [
    "матрица расстояний и дендрограммы:"
   ]
  },
  {
   "cell_type": "code",
   "execution_count": 19,
   "metadata": {},
   "outputs": [
    {
     "data": {
      "image/png": "[encoded data removed]",
      "text/plain": [
       "<Figure size 1080x720 with 1 Axes>"
      ]
     },
     "metadata": {
      "needs_background": "light"
     },
     "output_type": "display_data"
    }
   ],
   "source": [
    "# матрица расстояний:\n",
    "links = linkage(x_st, method = 'ward')\n",
    "\n",
    "# дендограмма:\n",
    "plt.figure(figsize = (15, 10))\n",
    "plt.title('Кластеризация пользователей фитнеса')\n",
    "dendrogram(links, orientation = 'top')\n",
    "plt.show()"
   ]
  },
  {
   "cell_type": "markdown",
   "metadata": {},
   "source": [
    "**Явно выделяются 5 кластеров**."
   ]
  },
  {
   "cell_type": "markdown",
   "metadata": {},
   "source": [
    "### Обучение модели кластеризации и прогноз"
   ]
  },
  {
   "cell_type": "markdown",
   "metadata": {},
   "source": [
    "Для прогноза кластеров клиентов используем 5 кластеров. Обучаем модель кластеризации с помощью алгоритма K-Means и прогнозируем кластеры клиентов: "
   ]
  },
  {
   "cell_type": "code",
   "execution_count": 20,
   "metadata": {},
   "outputs": [
    {
     "data": {
      "text/html": [
       "<div>\n",
       "<style scoped>\n",
       "    .dataframe tbody tr th:only-of-type {\n",
       "        vertical-align: middle;\n",
       "    }\n",
       "\n",
       "    .dataframe tbody tr th {\n",
       "        vertical-align: top;\n",
       "    }\n",
       "\n",
       "    .dataframe thead th {\n",
       "        text-align: right;\n",
       "    }\n",
       "</style>\n",
       "<table border=\"1\" class=\"dataframe\">\n",
       "  <thead>\n",
       "    <tr style=\"text-align: right;\">\n",
       "      <th>cluster_km</th>\n",
       "      <th>0</th>\n",
       "      <th>1</th>\n",
       "      <th>2</th>\n",
       "      <th>3</th>\n",
       "      <th>4</th>\n",
       "    </tr>\n",
       "  </thead>\n",
       "  <tbody>\n",
       "    <tr>\n",
       "      <td>gender</td>\n",
       "      <td>0.502473</td>\n",
       "      <td>0.522078</td>\n",
       "      <td>0.495050</td>\n",
       "      <td>0.485737</td>\n",
       "      <td>0.560335</td>\n",
       "    </tr>\n",
       "    <tr>\n",
       "      <td>near_location</td>\n",
       "      <td>0.959446</td>\n",
       "      <td>0.862338</td>\n",
       "      <td>0.000000</td>\n",
       "      <td>1.000000</td>\n",
       "      <td>0.976105</td>\n",
       "    </tr>\n",
       "    <tr>\n",
       "      <td>partner</td>\n",
       "      <td>0.783383</td>\n",
       "      <td>0.470130</td>\n",
       "      <td>0.463366</td>\n",
       "      <td>0.350238</td>\n",
       "      <td>0.356033</td>\n",
       "    </tr>\n",
       "    <tr>\n",
       "      <td>promo_friends</td>\n",
       "      <td>0.574679</td>\n",
       "      <td>0.306494</td>\n",
       "      <td>0.079208</td>\n",
       "      <td>0.240095</td>\n",
       "      <td>0.229391</td>\n",
       "    </tr>\n",
       "    <tr>\n",
       "      <td>phone</td>\n",
       "      <td>1.000000</td>\n",
       "      <td>0.000000</td>\n",
       "      <td>1.000000</td>\n",
       "      <td>1.000000</td>\n",
       "      <td>0.998805</td>\n",
       "    </tr>\n",
       "    <tr>\n",
       "      <td>contract_period</td>\n",
       "      <td>10.884273</td>\n",
       "      <td>4.787013</td>\n",
       "      <td>2.352475</td>\n",
       "      <td>1.948494</td>\n",
       "      <td>2.665472</td>\n",
       "    </tr>\n",
       "    <tr>\n",
       "      <td>group_visits</td>\n",
       "      <td>0.543027</td>\n",
       "      <td>0.425974</td>\n",
       "      <td>0.215842</td>\n",
       "      <td>0.341521</td>\n",
       "      <td>0.473118</td>\n",
       "    </tr>\n",
       "    <tr>\n",
       "      <td>age</td>\n",
       "      <td>29.980218</td>\n",
       "      <td>29.301299</td>\n",
       "      <td>28.477228</td>\n",
       "      <td>28.167987</td>\n",
       "      <td>30.127838</td>\n",
       "    </tr>\n",
       "    <tr>\n",
       "      <td>avg_additional_charges_total</td>\n",
       "      <td>160.706969</td>\n",
       "      <td>143.957664</td>\n",
       "      <td>135.457501</td>\n",
       "      <td>131.622204</td>\n",
       "      <td>161.724258</td>\n",
       "    </tr>\n",
       "    <tr>\n",
       "      <td>month_to_end_contract</td>\n",
       "      <td>9.950544</td>\n",
       "      <td>4.475325</td>\n",
       "      <td>2.198020</td>\n",
       "      <td>1.856577</td>\n",
       "      <td>2.455197</td>\n",
       "    </tr>\n",
       "    <tr>\n",
       "      <td>lifetime</td>\n",
       "      <td>4.738872</td>\n",
       "      <td>3.924675</td>\n",
       "      <td>2.809901</td>\n",
       "      <td>2.440571</td>\n",
       "      <td>4.896057</td>\n",
       "    </tr>\n",
       "    <tr>\n",
       "      <td>avg_class_frequency_total</td>\n",
       "      <td>1.983305</td>\n",
       "      <td>1.847220</td>\n",
       "      <td>1.660461</td>\n",
       "      <td>1.247634</td>\n",
       "      <td>2.851531</td>\n",
       "    </tr>\n",
       "    <tr>\n",
       "      <td>avg_class_frequency_current_month</td>\n",
       "      <td>1.976225</td>\n",
       "      <td>1.716369</td>\n",
       "      <td>1.477324</td>\n",
       "      <td>1.012983</td>\n",
       "      <td>2.849473</td>\n",
       "    </tr>\n",
       "    <tr>\n",
       "      <td>churn</td>\n",
       "      <td>0.027695</td>\n",
       "      <td>0.267532</td>\n",
       "      <td>0.443564</td>\n",
       "      <td>0.514263</td>\n",
       "      <td>0.068100</td>\n",
       "    </tr>\n",
       "  </tbody>\n",
       "</table>\n",
       "</div>"
      ],
      "text/plain": [
       "cluster_km                                  0           1           2  \\\n",
       "gender                               0.502473    0.522078    0.495050   \n",
       "near_location                        0.959446    0.862338    0.000000   \n",
       "partner                              0.783383    0.470130    0.463366   \n",
       "promo_friends                        0.574679    0.306494    0.079208   \n",
       "phone                                1.000000    0.000000    1.000000   \n",
       "contract_period                     10.884273    4.787013    2.352475   \n",
       "group_visits                         0.543027    0.425974    0.215842   \n",
       "age                                 29.980218   29.301299   28.477228   \n",
       "avg_additional_charges_total       160.706969  143.957664  135.457501   \n",
       "month_to_end_contract                9.950544    4.475325    2.198020   \n",
       "lifetime                             4.738872    3.924675    2.809901   \n",
       "avg_class_frequency_total            1.983305    1.847220    1.660461   \n",
       "avg_class_frequency_current_month    1.976225    1.716369    1.477324   \n",
       "churn                                0.027695    0.267532    0.443564   \n",
       "\n",
       "cluster_km                                  3           4  \n",
       "gender                               0.485737    0.560335  \n",
       "near_location                        1.000000    0.976105  \n",
       "partner                              0.350238    0.356033  \n",
       "promo_friends                        0.240095    0.229391  \n",
       "phone                                1.000000    0.998805  \n",
       "contract_period                      1.948494    2.665472  \n",
       "group_visits                         0.341521    0.473118  \n",
       "age                                 28.167987   30.127838  \n",
       "avg_additional_charges_total       131.622204  161.724258  \n",
       "month_to_end_contract                1.856577    2.455197  \n",
       "lifetime                             2.440571    4.896057  \n",
       "avg_class_frequency_total            1.247634    2.851531  \n",
       "avg_class_frequency_current_month    1.012983    2.849473  \n",
       "churn                                0.514263    0.068100  "
      ]
     },
     "execution_count": 20,
     "metadata": {},
     "output_type": "execute_result"
    }
   ],
   "source": [
    "# модель K-Means с 5 кластерами:\n",
    "km = KMeans(n_clusters = 5, random_state = 0)\n",
    "\n",
    "# прогноз кластеров для наблюдений:\n",
    "labels = km.fit_predict(x_st)\n",
    "\n",
    "# сохранение меток кластера в поле данных:\n",
    "ftns_churn['cluster_km'] = labels\n",
    "\n",
    "# средние значения признаков для кластеров\n",
    "clusters = ftns_churn.groupby('cluster_km').mean()\n",
    "clusters.T"
   ]
  },
  {
   "cell_type": "markdown",
   "metadata": {},
   "source": [
    "Судя по таблице, кластеры существенно различаются по ряду признаков. Для более наглядного разделения построим распределение для каждого признака по кластерам."
   ]
  },
  {
   "cell_type": "markdown",
   "metadata": {},
   "source": [
    "### Анализ распределения признаков для кластеров"
   ]
  },
  {
   "cell_type": "markdown",
   "metadata": {},
   "source": [
    "Для анализа распределения признаков в кластерах построим столбчатые диаграммы для дискретных пермеенных (пол, проживание или работа рядом с фитнес-центром, принадлежность к компании-партнеру, первое посещение по акции \"Приведи друга\", наличие номера телефона, срок абонемента, посещение групповых занятий, отток) и боксплоты для непрерывных переменных (возраст, время с момента первого обращения, средняя частота посещений, выручка от других услуг)."
   ]
  },
  {
   "cell_type": "code",
   "execution_count": 21,
   "metadata": {},
   "outputs": [
    {
     "data": {
      "image/png": "[encoded data removed]",
      "text/plain": [
       "<Figure size 432x288 with 1 Axes>"
      ]
     },
     "metadata": {
      "needs_background": "light"
     },
     "output_type": "display_data"
    },
    {
     "data": {
      "image/png": "[encoded data removed]",
      "text/plain": [
       "<Figure size 432x288 with 1 Axes>"
      ]
     },
     "metadata": {
      "needs_background": "light"
     },
     "output_type": "display_data"
    },
    {
     "data": {
      "image/png": "[encoded data removed]",
      "text/plain": [
       "<Figure size 432x288 with 1 Axes>"
      ]
     },
     "metadata": {
      "needs_background": "light"
     },
     "output_type": "display_data"
    },
    {
     "data": {
      "image/png": "[encoded data removed]",
      "text/plain": [
       "<Figure size 432x288 with 1 Axes>"
      ]
     },
     "metadata": {
      "needs_background": "light"
     },
     "output_type": "display_data"
    },
    {
     "data": {
      "image/png": "[encoded data removed]",
      "text/plain": [
       "<Figure size 432x288 with 1 Axes>"
      ]
     },
     "metadata": {
      "needs_background": "light"
     },
     "output_type": "display_data"
    },
    {
     "data": {
      "image/png": "[encoded data removed]",
      "text/plain": [
       "<Figure size 432x288 with 1 Axes>"
      ]
     },
     "metadata": {
      "needs_background": "light"
     },
     "output_type": "display_data"
    },
    {
     "data": {
      "image/png": "[encoded data removed]",
      "text/plain": [
       "<Figure size 432x288 with 1 Axes>"
      ]
     },
     "metadata": {
      "needs_background": "light"
     },
     "output_type": "display_data"
    },
    {
     "data": {
      "image/png": "[encoded data removed]",
      "text/plain": [
       "<Figure size 432x288 with 1 Axes>"
      ]
     },
     "metadata": {
      "needs_background": "light"
     },
     "output_type": "display_data"
    }
   ],
   "source": [
    "# дискретные величины:\n",
    "ld_values = ['gender', 'near_location', 'partner', 'promo_friends', 'phone', 'contract_period', 'group_visits', 'churn']\n",
    "fig, ax =plt.subplots()\n",
    "for column in ld_values:\n",
    "    plt.title('Распределение признака ' +column)\n",
    "    sns.countplot(data = ftns_churn, x=column, hue = 'cluster_km')\n",
    "    plt.xlabel(column)\n",
    "    plt.ylabel('количество')\n",
    "    plt.legend(bbox_to_anchor =(1.3, 1))\n",
    "    plt.show()"
   ]
  },
  {
   "cell_type": "code",
   "execution_count": 22,
   "metadata": {
    "scrolled": true
   },
   "outputs": [
    {
     "data": {
      "image/png": "[encoded data removed]",
      "text/plain": [
       "<Figure size 432x288 with 1 Axes>"
      ]
     },
     "metadata": {
      "needs_background": "light"
     },
     "output_type": "display_data"
    },
    {
     "data": {
      "image/png": "[encoded data removed]",
      "text/plain": [
       "<Figure size 432x288 with 1 Axes>"
      ]
     },
     "metadata": {
      "needs_background": "light"
     },
     "output_type": "display_data"
    },
    {
     "data": {
      "image/png": "[encoded data removed]",
      "text/plain": [
       "<Figure size 432x288 with 1 Axes>"
      ]
     },
     "metadata": {
      "needs_background": "light"
     },
     "output_type": "display_data"
    },
    {
     "data": {
      "image/png": "[encoded data removed]",
      "text/plain": [
       "<Figure size 432x288 with 1 Axes>"
      ]
     },
     "metadata": {
      "needs_background": "light"
     },
     "output_type": "display_data"
    }
   ],
   "source": [
    "# график для непрерывных величин:\n",
    "c_values = ['age', 'lifetime', 'avg_class_frequency_current_month', 'avg_additional_charges_total']\n",
    "fig, ax = plt.subplots()\n",
    "for column in c_values:\n",
    "    plt.title(\"Распределение признака \"+column)\n",
    "    sns.boxplot(x='cluster_km', y=column, data=ftns_churn)\n",
    "    plt.xlabel('кластер')\n",
    "    plt.ylabel('значение '+column)\n",
    "    plt.show()"
   ]
  },
  {
   "cell_type": "markdown",
   "metadata": {},
   "source": [
    "**Кластер 0**:\n",
    "\n",
    "- приблизительно равное распределение между мужчинами и женщинами;\n",
    "- проживание/работа рядом с фитнес-центром;\n",
    "- значительное большинство (78%) являются сотрудниками компаний-партнёров;\n",
    "- большинство (57%) пришли по акции \"Приведи друга\";\n",
    "- есть контактные данные;\n",
    "- преобладание долгосрочных абонементов (средний срок абонемента 10.9 месяцев);\n",
    "- чуть больше половины (54%) посещают групповые занятия; \n",
    "- средний возраст - 30 лет;\n",
    "- высокий уровень дополнительных трат (161 ден.ед.);\n",
    "- большой срок от начала пользования услугами (в среднем 5 мес.);\n",
    "- посещение клуба 2 раза в неделю;\n",
    "- **отток: 0.03**\n",
    "\n",
    "**Кластер 1**:\n",
    "\n",
    "- приблизительно равное распределение между мужчинами и женщинами;\n",
    "- проживание/работа рядом с фитнес-центром (но их доля меньше, чем у клиентов 0-го кластера);\n",
    "- меньше половины (47%) являются сотрудникам компаний-партнёров;\n",
    "- всего треть (31%) пришла по акции \"Приведи друга\";\n",
    "- не оставляет контактных данных;\n",
    "- средняя продолжительность абонемента - 4.8 месяцев;\n",
    "- меньше половины (43%) посещают групповые занятия;\n",
    "- средний возраст - 29 лет;\n",
    "- высокий (но нижу, чем у 0-го кластера) уровнем дополнительных трат (144 ден.ед.);\n",
    "- средним (3.9 мес.) сроком от начала пользования услугами;\n",
    "- посещение около 2 раз в неделю (1.86 раз в неделю);\n",
    "- **отток: 0.27**\n",
    "\n",
    "\n",
    "**Кластер 2**:\n",
    "\n",
    "- приблизительно равным распределением между мужчинами и женщинами;\n",
    "- живут/работают далеко от фитнес-центра;\n",
    "- около половины (46%) являются сотрудникам компаний-партнёров;\n",
    "- значительное большинство пришло не по акции \"Приведи друга\";\n",
    "- есть контактный телефон;\n",
    "- средний срок абонемента 2.35 мес.;\n",
    "- не любят групповые занятия (всего 20% из этого кластера их посещают);\n",
    "- средний возраст в 28.5 лет;\n",
    "- низкий уровень дополнительных трат: 135 ден. ед.;\n",
    "- небольшой срок от начала пользования услугами (2.8 мес.);\n",
    "- посещение около 1.66 раз в неделю;\n",
    "- **очень высокий уровень оттока: 0.44**\n",
    "\n",
    "\n",
    "**Кластер 3**:\n",
    "\n",
    "- приблизительно равное распределение между мужчинами и женщинами;\n",
    "- проживание/работа рядом с фитнес-центром;\n",
    "- всего треть (35%) являются сотрудниками компаний-партнёров;\n",
    "- всего 24% пришли по акции \"Приведи друга\";\n",
    "- контактные данные есть;\n",
    "- средний срок абонемента - 2 мес.;\n",
    "- всего треть (34%) посещают групповые занятия;\n",
    "- средний возраст -  28 лет;\n",
    "- низкий уровнем дополнительных оплат (132 ден.ед.);\n",
    "- небольшой срок от начала пользования услугами фитнес-центра (2.44 мес.);\n",
    "- посещение всего 1,25 раз в неделю;\n",
    "- **очень высокий уровень оттока: 0.51**.\n",
    "\n",
    "\n",
    "**Кластер 4**:\n",
    "\n",
    "- примерно равное распределение между мужчинами и женщинами, но кого-то чуть больше (56%);\n",
    "- проживание/работа рядом с фитнес-центром;\n",
    "- всего треть (35%) являются сотрудниками компаний-партнеров;\n",
    "- всего 23% пришли по акции \"Приведи друга\";\n",
    "- контактные данные есть;\n",
    "- срок абонемента небольшой, 2.66 мес.;\n",
    "- примерно половина посещает групповые занятия; \n",
    "- средний возраст - 30 лет;\n",
    "- очень высоким уровень дополнительных трат (162 ден.ед.);\n",
    "- длительный срок от начала пользования услугами фитнес-центра (почти 5 мес.);\n",
    "- посещение - почти 3 раза в неделю;\n",
    "- **очень низкий уровень оттока: 0.07**."
   ]
  },
  {
   "cell_type": "markdown",
   "metadata": {},
   "source": [
    "Отсортируем кластеры по убыванию оттока, для наглядности:"
   ]
  },
  {
   "cell_type": "code",
   "execution_count": 23,
   "metadata": {},
   "outputs": [
    {
     "data": {
      "text/html": [
       "<div>\n",
       "<style scoped>\n",
       "    .dataframe tbody tr th:only-of-type {\n",
       "        vertical-align: middle;\n",
       "    }\n",
       "\n",
       "    .dataframe tbody tr th {\n",
       "        vertical-align: top;\n",
       "    }\n",
       "\n",
       "    .dataframe thead th {\n",
       "        text-align: right;\n",
       "    }\n",
       "</style>\n",
       "<table border=\"1\" class=\"dataframe\">\n",
       "  <thead>\n",
       "    <tr style=\"text-align: right;\">\n",
       "      <th></th>\n",
       "      <th>cluster_km</th>\n",
       "      <th>churn</th>\n",
       "    </tr>\n",
       "  </thead>\n",
       "  <tbody>\n",
       "    <tr>\n",
       "      <td>0</td>\n",
       "      <td>3</td>\n",
       "      <td>0.514263</td>\n",
       "    </tr>\n",
       "    <tr>\n",
       "      <td>1</td>\n",
       "      <td>2</td>\n",
       "      <td>0.443564</td>\n",
       "    </tr>\n",
       "    <tr>\n",
       "      <td>2</td>\n",
       "      <td>1</td>\n",
       "      <td>0.267532</td>\n",
       "    </tr>\n",
       "    <tr>\n",
       "      <td>3</td>\n",
       "      <td>4</td>\n",
       "      <td>0.068100</td>\n",
       "    </tr>\n",
       "    <tr>\n",
       "      <td>4</td>\n",
       "      <td>0</td>\n",
       "      <td>0.027695</td>\n",
       "    </tr>\n",
       "  </tbody>\n",
       "</table>\n",
       "</div>"
      ],
      "text/plain": [
       "   cluster_km     churn\n",
       "0           3  0.514263\n",
       "1           2  0.443564\n",
       "2           1  0.267532\n",
       "3           4  0.068100\n",
       "4           0  0.027695"
      ]
     },
     "execution_count": 23,
     "metadata": {},
     "output_type": "execute_result"
    }
   ],
   "source": [
    "# Для каждого из кластеров считаем долю оттока:\n",
    "(ftns_churn\n",
    "     .groupby('cluster_km')['churn']\n",
    "     .mean()\n",
    "     .reset_index()\n",
    "     .sort_values(by='churn', ascending=False)\n",
    "     .reset_index(drop=True))"
   ]
  },
  {
   "cell_type": "markdown",
   "metadata": {},
   "source": [
    "Видим, что самые неудачные у нас - 3 и 2 кластеры, самые лояльные - 4 и 0 кластеры."
   ]
  },
  {
   "cell_type": "markdown",
   "metadata": {},
   "source": [
    "### Выводы:\n",
    "\n",
    "После стандартизации данных построена матрица расстояний и дендрограмма, на которой явно различаются 5 кластеров. На основании этого разделения и выполнен прогноз. \n",
    "\n",
    "Самый высокий уровень оттока в кластерах 3 и 2, самый низкий - в кластерах 4 и 0. \n",
    "\n",
    "Если посмотреть на явные различия в характеристиках клиентов \"удачных\" и \"неудачных\" кластеров, можно сделать вывод, что **лояльные клиенты в среднем**:\n",
    "- **существенно чаще посещают групповые занятия**;\n",
    "- **больше тратят на дополнительные услуги клуба**;\n",
    "- **занимаются чаще**;\n",
    "- **являются давними клиентами клуба**\n",
    "- **проживание/работа рядом с клубом, наличие партнерской программы, купон на скидку \"Приведи друга\" и долгосрочность абонемента  тоже влияют хорошо, снижая риски оттока**."
   ]
  },
  {
   "cell_type": "markdown",
   "metadata": {},
   "source": [
    "## Общие выводы и рекомендации: \n",
    "\n",
    "1. Мы увидели, что **обладатели долгосрочных абонементов уходят реже**; большой срок, оставшийся до окончания абонемента также снижает веротяность оттока. При этом, хотя средний срок действия приобретенных абонементов составляет 4.6 месяца, но медианное среднее - 1 месяц, то есть как минимум половина текущих абонементов - это абонементы с минимальным сроком. <br>\n",
    "Возможно, клубу необходимо **пересмотреть свою ценовую политику: сделать более привлекательным покупку долгосрочных абонементов** (увеличить разницу в цене за месяц при покупке краткосрочных и долгосрочных абонементов, дать возможность оплачивать долгосрочные абонементы в рассрочку, дать обладателям долгосрочных абонементов скидки на дополнительные услуги клуба, предлагать им специальные акции). \n",
    "\n",
    "2. Социальный фактор играет большую роль: **любители групповых занятий куда более лояльны, партнерские программы и акция \"Приведи друга\" также повышают лояльность**. Вполне возможно,что это не совсем лояльность \"за компанию\": могут играть роль другие важные факторы (партнерские программы, возможно, подразумевают скидки для клиентов, также как и акция \"Приведи друга\", а групповые занятия удерживают благодаря тому, что у них есть четкое расписание, что многих дисциплинирует). Но таких подробностей мы не знаем; главное, что это работает. <br> \n",
    "Вероятно, стоит направить усилия на то, чтобы **сделать акцент на продвижении групповых занятий (получать фидбек от пользователей, регулярно рассылать расписание занятий, рекламировать своим клиентам новые виды тренировок). \n",
    "Партнерские программы и акции также необходимо развивать: они приводят в среднем более лояльных клиентов**. \n",
    "\n",
    "4. Те, кто **чаще занимаются - реже уходят**. А спад посещаемости по сравнению с обычным уровнем - вообще тревожный сигнал.<br> \n",
    "Следует **продумать способы поощрения регулярных занятий** (не меньше 10 посещений в месяц - и бесплатная персональная тренировка/скидка в фитнес-бар, сеанс чего-нибудь в подарок?).\n",
    "Возможно, стоит отслеживать посещающих клуб редко, а также тех, у кого явный спад по сравнению с обычной активностью, и предлагать им привлекательные акции, скидки на дополнительные услуги, рекламу новых или наиболее популярных тренировок. \n",
    "\n",
    "5. Чем **больше траты на клуб - тем выше лояльность**. <br>\n",
    "Маркетологам я бы рекомендовала заняться пристальным **изучением характеристик целевых клиентов**, так чтобы определить, **какие дополнительные услуги в данном клубе окажутся наиболее востребованными** (прямой опрос клиентов на этот счет также будет полезен). "
   ]
  }
 ],
 "metadata": {
  "ExecuteTimeLog": [
   {
    "duration": 169,
    "start_time": "2022-02-22T09:03:59.273Z"
   },
   {
    "duration": 2109,
    "start_time": "2022-02-22T09:21:25.575Z"
   },
   {
    "duration": 556,
    "start_time": "2022-02-22T09:21:47.534Z"
   },
   {
    "duration": 438,
    "start_time": "2022-02-22T09:21:56.049Z"
   },
   {
    "duration": 6,
    "start_time": "2022-02-22T09:25:08.935Z"
   },
   {
    "duration": 41,
    "start_time": "2022-02-22T09:27:56.564Z"
   },
   {
    "duration": 36,
    "start_time": "2022-02-22T09:28:42.611Z"
   },
   {
    "duration": 52,
    "start_time": "2022-02-22T09:29:26.249Z"
   },
   {
    "duration": 62,
    "start_time": "2022-02-22T09:51:35.842Z"
   },
   {
    "duration": 8,
    "start_time": "2022-02-22T10:36:41.248Z"
   },
   {
    "duration": 29,
    "start_time": "2022-02-22T10:36:48.380Z"
   },
   {
    "duration": 9,
    "start_time": "2022-02-22T10:36:54.042Z"
   },
   {
    "duration": 14,
    "start_time": "2022-02-22T10:37:31.121Z"
   },
   {
    "duration": 12,
    "start_time": "2022-02-22T10:37:50.070Z"
   },
   {
    "duration": 428,
    "start_time": "2022-02-22T10:40:54.944Z"
   },
   {
    "duration": 8,
    "start_time": "2022-02-22T10:41:03.728Z"
   },
   {
    "duration": 5,
    "start_time": "2022-02-22T10:43:15.755Z"
   },
   {
    "duration": 475,
    "start_time": "2022-02-22T10:44:10.188Z"
   },
   {
    "duration": 367,
    "start_time": "2022-02-22T10:44:25.623Z"
   },
   {
    "duration": 415,
    "start_time": "2022-02-22T10:44:34.515Z"
   },
   {
    "duration": 376,
    "start_time": "2022-02-22T10:44:43.713Z"
   },
   {
    "duration": 8,
    "start_time": "2022-02-22T10:48:44.788Z"
   },
   {
    "duration": 79,
    "start_time": "2022-02-22T11:06:25.368Z"
   },
   {
    "duration": 1915,
    "start_time": "2022-02-25T10:35:21.882Z"
   },
   {
    "duration": 1397,
    "start_time": "2022-02-25T10:35:38.021Z"
   },
   {
    "duration": 43,
    "start_time": "2022-02-25T10:35:39.420Z"
   },
   {
    "duration": 8,
    "start_time": "2022-02-25T10:35:39.466Z"
   },
   {
    "duration": 11,
    "start_time": "2022-02-25T10:35:39.476Z"
   },
   {
    "duration": 4,
    "start_time": "2022-02-25T10:35:39.490Z"
   },
   {
    "duration": 8,
    "start_time": "2022-02-25T10:35:39.496Z"
   },
   {
    "duration": 77,
    "start_time": "2022-02-25T10:35:39.505Z"
   },
   {
    "duration": 18,
    "start_time": "2022-02-25T10:35:39.585Z"
   },
   {
    "duration": 309,
    "start_time": "2022-02-25T10:35:39.605Z"
   },
   {
    "duration": -58,
    "start_time": "2022-02-25T10:35:39.974Z"
   },
   {
    "duration": -60,
    "start_time": "2022-02-25T10:35:39.977Z"
   },
   {
    "duration": -61,
    "start_time": "2022-02-25T10:35:39.979Z"
   },
   {
    "duration": -62,
    "start_time": "2022-02-25T10:35:39.982Z"
   },
   {
    "duration": -64,
    "start_time": "2022-02-25T10:35:39.985Z"
   },
   {
    "duration": -67,
    "start_time": "2022-02-25T10:35:39.989Z"
   },
   {
    "duration": -83,
    "start_time": "2022-02-25T10:35:40.006Z"
   },
   {
    "duration": -84,
    "start_time": "2022-02-25T10:35:40.008Z"
   },
   {
    "duration": -85,
    "start_time": "2022-02-25T10:35:40.011Z"
   },
   {
    "duration": -88,
    "start_time": "2022-02-25T10:35:40.015Z"
   },
   {
    "duration": -98,
    "start_time": "2022-02-25T10:35:40.027Z"
   },
   {
    "duration": -100,
    "start_time": "2022-02-25T10:35:40.030Z"
   },
   {
    "duration": 1227,
    "start_time": "2022-03-01T15:00:34.059Z"
   },
   {
    "duration": 41,
    "start_time": "2022-03-01T15:00:35.288Z"
   },
   {
    "duration": 6,
    "start_time": "2022-03-01T15:00:35.332Z"
   },
   {
    "duration": 23,
    "start_time": "2022-03-01T15:00:35.340Z"
   },
   {
    "duration": 5,
    "start_time": "2022-03-01T15:00:35.364Z"
   },
   {
    "duration": 10,
    "start_time": "2022-03-01T15:00:35.371Z"
   },
   {
    "duration": 46,
    "start_time": "2022-03-01T15:00:35.382Z"
   },
   {
    "duration": 32,
    "start_time": "2022-03-01T15:00:35.432Z"
   },
   {
    "duration": 71,
    "start_time": "2022-03-01T15:00:35.466Z"
   },
   {
    "duration": -162,
    "start_time": "2022-03-01T15:00:35.702Z"
   },
   {
    "duration": -163,
    "start_time": "2022-03-01T15:00:35.704Z"
   },
   {
    "duration": -164,
    "start_time": "2022-03-01T15:00:35.707Z"
   },
   {
    "duration": -165,
    "start_time": "2022-03-01T15:00:35.709Z"
   },
   {
    "duration": -165,
    "start_time": "2022-03-01T15:00:35.711Z"
   },
   {
    "duration": -167,
    "start_time": "2022-03-01T15:00:35.714Z"
   },
   {
    "duration": -169,
    "start_time": "2022-03-01T15:00:35.718Z"
   },
   {
    "duration": -170,
    "start_time": "2022-03-01T15:00:35.720Z"
   },
   {
    "duration": -170,
    "start_time": "2022-03-01T15:00:35.722Z"
   },
   {
    "duration": -210,
    "start_time": "2022-03-01T15:00:35.763Z"
   },
   {
    "duration": -212,
    "start_time": "2022-03-01T15:00:35.766Z"
   },
   {
    "duration": -214,
    "start_time": "2022-03-01T15:00:35.770Z"
   },
   {
    "duration": 327,
    "start_time": "2022-03-01T15:01:02.733Z"
   },
   {
    "duration": 10,
    "start_time": "2022-03-01T15:02:08.877Z"
   },
   {
    "duration": 3849,
    "start_time": "2022-03-01T15:06:06.065Z"
   },
   {
    "duration": 345,
    "start_time": "2022-03-01T15:06:31.896Z"
   },
   {
    "duration": 3802,
    "start_time": "2022-03-01T15:06:43.396Z"
   },
   {
    "duration": 7,
    "start_time": "2022-03-01T15:15:27.934Z"
   },
   {
    "duration": 211,
    "start_time": "2022-03-01T15:15:38.884Z"
   },
   {
    "duration": 19,
    "start_time": "2022-03-01T15:16:14.444Z"
   },
   {
    "duration": 3980,
    "start_time": "2022-03-01T15:19:07.999Z"
   },
   {
    "duration": 3867,
    "start_time": "2022-03-01T15:19:20.329Z"
   },
   {
    "duration": 898,
    "start_time": "2022-03-01T15:26:25.847Z"
   },
   {
    "duration": 4,
    "start_time": "2022-03-01T15:41:45.104Z"
   },
   {
    "duration": 12,
    "start_time": "2022-03-01T15:47:08.397Z"
   },
   {
    "duration": 10,
    "start_time": "2022-03-01T15:52:19.842Z"
   },
   {
    "duration": 228,
    "start_time": "2022-03-01T15:57:14.647Z"
   },
   {
    "duration": 230,
    "start_time": "2022-03-01T15:57:47.231Z"
   },
   {
    "duration": 37,
    "start_time": "2022-03-01T15:58:04.659Z"
   },
   {
    "duration": 225,
    "start_time": "2022-03-01T18:29:38.687Z"
   },
   {
    "duration": 4,
    "start_time": "2022-03-01T18:29:57.008Z"
   },
   {
    "duration": 1239,
    "start_time": "2022-03-01T18:30:06.938Z"
   },
   {
    "duration": 41,
    "start_time": "2022-03-01T18:30:08.179Z"
   },
   {
    "duration": 5,
    "start_time": "2022-03-01T18:30:08.222Z"
   },
   {
    "duration": 7,
    "start_time": "2022-03-01T18:30:08.229Z"
   },
   {
    "duration": 4,
    "start_time": "2022-03-01T18:30:08.238Z"
   },
   {
    "duration": 19,
    "start_time": "2022-03-01T18:30:08.243Z"
   },
   {
    "duration": 47,
    "start_time": "2022-03-01T18:30:08.263Z"
   },
   {
    "duration": 16,
    "start_time": "2022-03-01T18:30:08.313Z"
   },
   {
    "duration": 34,
    "start_time": "2022-03-01T18:30:08.331Z"
   },
   {
    "duration": 4330,
    "start_time": "2022-03-01T18:30:08.366Z"
   },
   {
    "duration": 21,
    "start_time": "2022-03-01T18:30:12.697Z"
   },
   {
    "duration": 1029,
    "start_time": "2022-03-01T18:30:12.719Z"
   },
   {
    "duration": 9,
    "start_time": "2022-03-01T18:30:13.750Z"
   },
   {
    "duration": 69,
    "start_time": "2022-03-01T18:30:13.761Z"
   },
   {
    "duration": -164,
    "start_time": "2022-03-01T18:30:13.996Z"
   },
   {
    "duration": -181,
    "start_time": "2022-03-01T18:30:14.014Z"
   },
   {
    "duration": -184,
    "start_time": "2022-03-01T18:30:14.018Z"
   },
   {
    "duration": -188,
    "start_time": "2022-03-01T18:30:14.023Z"
   },
   {
    "duration": -191,
    "start_time": "2022-03-01T18:30:14.027Z"
   },
   {
    "duration": -194,
    "start_time": "2022-03-01T18:30:14.031Z"
   },
   {
    "duration": -197,
    "start_time": "2022-03-01T18:30:14.035Z"
   },
   {
    "duration": -200,
    "start_time": "2022-03-01T18:30:14.039Z"
   },
   {
    "duration": -202,
    "start_time": "2022-03-01T18:30:14.042Z"
   },
   {
    "duration": -205,
    "start_time": "2022-03-01T18:30:14.046Z"
   },
   {
    "duration": -209,
    "start_time": "2022-03-01T18:30:14.050Z"
   },
   {
    "duration": -212,
    "start_time": "2022-03-01T18:30:14.054Z"
   },
   {
    "duration": 15,
    "start_time": "2022-03-01T18:31:30.778Z"
   },
   {
    "duration": 11,
    "start_time": "2022-03-01T18:31:34.017Z"
   },
   {
    "duration": 39,
    "start_time": "2022-03-01T18:31:37.032Z"
   },
   {
    "duration": 4,
    "start_time": "2022-03-01T18:31:39.817Z"
   },
   {
    "duration": 285,
    "start_time": "2022-03-01T18:31:43.657Z"
   },
   {
    "duration": 17,
    "start_time": "2022-03-01T18:32:11.747Z"
   },
   {
    "duration": 3,
    "start_time": "2022-03-01T18:41:28.737Z"
   },
   {
    "duration": 6,
    "start_time": "2022-03-01T18:41:53.024Z"
   },
   {
    "duration": 999,
    "start_time": "2022-03-01T18:46:40.444Z"
   },
   {
    "duration": 93126,
    "start_time": "2022-03-01T18:47:21.790Z"
   },
   {
    "duration": 1681,
    "start_time": "2022-03-01T19:03:01.798Z"
   },
   {
    "duration": 1552,
    "start_time": "2022-03-01T19:31:37.858Z"
   },
   {
    "duration": 75,
    "start_time": "2022-03-01T19:40:28.957Z"
   },
   {
    "duration": 1595,
    "start_time": "2022-03-01T19:40:36.257Z"
   },
   {
    "duration": 1561,
    "start_time": "2022-03-01T19:41:10.799Z"
   },
   {
    "duration": 1904,
    "start_time": "2022-03-01T19:41:22.297Z"
   },
   {
    "duration": 908,
    "start_time": "2022-03-01T19:43:03.803Z"
   },
   {
    "duration": 12,
    "start_time": "2022-03-01T19:46:14.251Z"
   },
   {
    "duration": 1210,
    "start_time": "2022-03-02T16:17:19.118Z"
   },
   {
    "duration": 46,
    "start_time": "2022-03-02T16:17:20.329Z"
   },
   {
    "duration": 5,
    "start_time": "2022-03-02T16:17:20.377Z"
   },
   {
    "duration": 13,
    "start_time": "2022-03-02T16:17:20.383Z"
   },
   {
    "duration": 4,
    "start_time": "2022-03-02T16:17:20.398Z"
   },
   {
    "duration": 10,
    "start_time": "2022-03-02T16:17:20.404Z"
   },
   {
    "duration": 57,
    "start_time": "2022-03-02T16:17:20.416Z"
   },
   {
    "duration": 16,
    "start_time": "2022-03-02T16:17:20.475Z"
   },
   {
    "duration": 8,
    "start_time": "2022-03-02T16:17:20.495Z"
   },
   {
    "duration": 3967,
    "start_time": "2022-03-02T16:17:20.505Z"
   },
   {
    "duration": 17,
    "start_time": "2022-03-02T16:17:24.474Z"
   },
   {
    "duration": 945,
    "start_time": "2022-03-02T16:17:24.493Z"
   },
   {
    "duration": 5,
    "start_time": "2022-03-02T16:17:25.440Z"
   },
   {
    "duration": 19,
    "start_time": "2022-03-02T16:17:25.447Z"
   },
   {
    "duration": 10,
    "start_time": "2022-03-02T16:17:25.468Z"
   },
   {
    "duration": 36,
    "start_time": "2022-03-02T16:17:25.479Z"
   },
   {
    "duration": 18,
    "start_time": "2022-03-02T16:17:25.516Z"
   },
   {
    "duration": 30,
    "start_time": "2022-03-02T16:17:25.537Z"
   },
   {
    "duration": 56,
    "start_time": "2022-03-02T16:17:25.569Z"
   },
   {
    "duration": -131,
    "start_time": "2022-03-02T16:17:25.758Z"
   },
   {
    "duration": -145,
    "start_time": "2022-03-02T16:17:25.773Z"
   },
   {
    "duration": -149,
    "start_time": "2022-03-02T16:17:25.779Z"
   },
   {
    "duration": -153,
    "start_time": "2022-03-02T16:17:25.784Z"
   },
   {
    "duration": -152,
    "start_time": "2022-03-02T16:17:25.788Z"
   },
   {
    "duration": -155,
    "start_time": "2022-03-02T16:17:25.793Z"
   },
   {
    "duration": -157,
    "start_time": "2022-03-02T16:17:25.796Z"
   },
   {
    "duration": -159,
    "start_time": "2022-03-02T16:17:25.799Z"
   },
   {
    "duration": -160,
    "start_time": "2022-03-02T16:17:25.802Z"
   },
   {
    "duration": -181,
    "start_time": "2022-03-02T16:17:25.824Z"
   },
   {
    "duration": -185,
    "start_time": "2022-03-02T16:17:25.828Z"
   },
   {
    "duration": -188,
    "start_time": "2022-03-02T16:17:25.832Z"
   },
   {
    "duration": 6,
    "start_time": "2022-03-02T16:17:41.172Z"
   },
   {
    "duration": 91839,
    "start_time": "2022-03-02T16:17:44.778Z"
   },
   {
    "duration": 1240,
    "start_time": "2022-03-02T16:19:23.117Z"
   },
   {
    "duration": 1459,
    "start_time": "2022-03-02T16:19:29.670Z"
   },
   {
    "duration": 820,
    "start_time": "2022-03-02T16:19:48.257Z"
   },
   {
    "duration": 11,
    "start_time": "2022-03-02T16:19:58.846Z"
   },
   {
    "duration": 4615,
    "start_time": "2022-03-02T17:29:45.550Z"
   },
   {
    "duration": 1123,
    "start_time": "2022-03-02T17:30:01.479Z"
   },
   {
    "duration": 43,
    "start_time": "2022-03-02T17:30:02.603Z"
   },
   {
    "duration": 6,
    "start_time": "2022-03-02T17:30:02.649Z"
   },
   {
    "duration": 15,
    "start_time": "2022-03-02T17:30:02.657Z"
   },
   {
    "duration": 6,
    "start_time": "2022-03-02T17:30:02.674Z"
   },
   {
    "duration": 26,
    "start_time": "2022-03-02T17:30:02.682Z"
   },
   {
    "duration": 61,
    "start_time": "2022-03-02T17:30:02.710Z"
   },
   {
    "duration": 15,
    "start_time": "2022-03-02T17:30:02.774Z"
   },
   {
    "duration": 9,
    "start_time": "2022-03-02T17:30:02.792Z"
   },
   {
    "duration": 3963,
    "start_time": "2022-03-02T17:30:02.803Z"
   },
   {
    "duration": 18,
    "start_time": "2022-03-02T17:30:06.767Z"
   },
   {
    "duration": 959,
    "start_time": "2022-03-02T17:30:06.786Z"
   },
   {
    "duration": 5,
    "start_time": "2022-03-02T17:30:07.746Z"
   },
   {
    "duration": 13,
    "start_time": "2022-03-02T17:30:07.752Z"
   },
   {
    "duration": 9,
    "start_time": "2022-03-02T17:30:07.767Z"
   },
   {
    "duration": 35,
    "start_time": "2022-03-02T17:30:07.778Z"
   },
   {
    "duration": 22,
    "start_time": "2022-03-02T17:30:07.815Z"
   },
   {
    "duration": 20,
    "start_time": "2022-03-02T17:30:07.845Z"
   },
   {
    "duration": 5,
    "start_time": "2022-03-02T17:30:07.867Z"
   },
   {
    "duration": 81993,
    "start_time": "2022-03-02T17:30:07.873Z"
   },
   {
    "duration": 1193,
    "start_time": "2022-03-02T17:31:29.868Z"
   },
   {
    "duration": 1470,
    "start_time": "2022-03-02T17:31:31.063Z"
   },
   {
    "duration": 836,
    "start_time": "2022-03-02T17:31:32.536Z"
   },
   {
    "duration": 9,
    "start_time": "2022-03-02T17:31:33.374Z"
   },
   {
    "duration": 78,
    "start_time": "2022-03-02T17:31:33.385Z"
   },
   {
    "duration": -38,
    "start_time": "2022-03-02T17:31:33.502Z"
   },
   {
    "duration": -41,
    "start_time": "2022-03-02T17:31:33.506Z"
   },
   {
    "duration": -44,
    "start_time": "2022-03-02T17:31:33.510Z"
   },
   {
    "duration": -47,
    "start_time": "2022-03-02T17:31:33.514Z"
   },
   {
    "duration": -51,
    "start_time": "2022-03-02T17:31:33.519Z"
   },
   {
    "duration": 1162,
    "start_time": "2022-03-02T18:32:11.198Z"
   },
   {
    "duration": 37,
    "start_time": "2022-03-02T18:32:12.362Z"
   },
   {
    "duration": 4,
    "start_time": "2022-03-02T18:32:12.401Z"
   },
   {
    "duration": 13,
    "start_time": "2022-03-02T18:32:12.407Z"
   },
   {
    "duration": 7,
    "start_time": "2022-03-02T18:32:12.422Z"
   },
   {
    "duration": 30,
    "start_time": "2022-03-02T18:32:12.431Z"
   },
   {
    "duration": 47,
    "start_time": "2022-03-02T18:32:12.463Z"
   },
   {
    "duration": 13,
    "start_time": "2022-03-02T18:32:12.512Z"
   },
   {
    "duration": 8,
    "start_time": "2022-03-02T18:32:12.527Z"
   },
   {
    "duration": 3972,
    "start_time": "2022-03-02T18:32:12.541Z"
   },
   {
    "duration": 24,
    "start_time": "2022-03-02T18:32:16.515Z"
   },
   {
    "duration": 925,
    "start_time": "2022-03-02T18:32:16.541Z"
   },
   {
    "duration": 4,
    "start_time": "2022-03-02T18:32:17.467Z"
   },
   {
    "duration": 17,
    "start_time": "2022-03-02T18:32:17.473Z"
   },
   {
    "duration": 9,
    "start_time": "2022-03-02T18:32:17.491Z"
   },
   {
    "duration": 59,
    "start_time": "2022-03-02T18:32:17.502Z"
   },
   {
    "duration": 3,
    "start_time": "2022-03-02T18:32:17.563Z"
   },
   {
    "duration": 23,
    "start_time": "2022-03-02T18:32:17.568Z"
   },
   {
    "duration": 6,
    "start_time": "2022-03-02T18:32:17.592Z"
   },
   {
    "duration": 84151,
    "start_time": "2022-03-02T18:32:17.599Z"
   },
   {
    "duration": 1308,
    "start_time": "2022-03-02T18:33:41.753Z"
   },
   {
    "duration": 1500,
    "start_time": "2022-03-02T18:33:43.063Z"
   },
   {
    "duration": 832,
    "start_time": "2022-03-02T18:33:44.566Z"
   },
   {
    "duration": 10,
    "start_time": "2022-03-02T18:33:45.400Z"
   },
   {
    "duration": 69,
    "start_time": "2022-03-02T18:33:45.412Z"
   },
   {
    "duration": -72,
    "start_time": "2022-03-02T18:33:45.554Z"
   },
   {
    "duration": -76,
    "start_time": "2022-03-02T18:33:45.559Z"
   },
   {
    "duration": -78,
    "start_time": "2022-03-02T18:33:45.562Z"
   },
   {
    "duration": -82,
    "start_time": "2022-03-02T18:33:45.567Z"
   },
   {
    "duration": -85,
    "start_time": "2022-03-02T18:33:45.571Z"
   },
   {
    "duration": 913,
    "start_time": "2022-03-02T18:34:46.532Z"
   },
   {
    "duration": 895,
    "start_time": "2022-03-02T18:34:56.284Z"
   },
   {
    "duration": 957,
    "start_time": "2022-03-02T18:35:08.873Z"
   },
   {
    "duration": 1319,
    "start_time": "2022-03-02T18:35:45.894Z"
   },
   {
    "duration": 977,
    "start_time": "2022-03-02T18:36:00.408Z"
   },
   {
    "duration": 909,
    "start_time": "2022-03-02T18:36:40.450Z"
   },
   {
    "duration": 1011,
    "start_time": "2022-03-02T18:37:05.254Z"
   },
   {
    "duration": 889,
    "start_time": "2022-03-02T18:37:21.178Z"
   },
   {
    "duration": 912,
    "start_time": "2022-03-02T18:38:06.188Z"
   },
   {
    "duration": 1041,
    "start_time": "2022-03-02T18:38:22.301Z"
   },
   {
    "duration": 937,
    "start_time": "2022-03-02T18:38:29.251Z"
   },
   {
    "duration": 318,
    "start_time": "2022-03-02T19:10:43.966Z"
   },
   {
    "duration": 1083,
    "start_time": "2022-03-02T19:10:56.996Z"
   },
   {
    "duration": 36,
    "start_time": "2022-03-02T19:10:58.080Z"
   },
   {
    "duration": 22,
    "start_time": "2022-03-02T19:10:58.118Z"
   },
   {
    "duration": 9,
    "start_time": "2022-03-02T19:10:58.142Z"
   },
   {
    "duration": 7,
    "start_time": "2022-03-02T19:10:58.153Z"
   },
   {
    "duration": 6,
    "start_time": "2022-03-02T19:10:58.162Z"
   },
   {
    "duration": 46,
    "start_time": "2022-03-02T19:10:58.169Z"
   },
   {
    "duration": 29,
    "start_time": "2022-03-02T19:10:58.217Z"
   },
   {
    "duration": 9,
    "start_time": "2022-03-02T19:10:58.249Z"
   },
   {
    "duration": 3929,
    "start_time": "2022-03-02T19:10:58.260Z"
   },
   {
    "duration": 17,
    "start_time": "2022-03-02T19:11:02.191Z"
   },
   {
    "duration": 964,
    "start_time": "2022-03-02T19:11:02.210Z"
   },
   {
    "duration": 2,
    "start_time": "2022-03-02T19:11:03.176Z"
   },
   {
    "duration": 13,
    "start_time": "2022-03-02T19:11:03.180Z"
   },
   {
    "duration": 47,
    "start_time": "2022-03-02T19:11:03.195Z"
   },
   {
    "duration": 125,
    "start_time": "2022-03-02T19:11:03.250Z"
   },
   {
    "duration": 3,
    "start_time": "2022-03-02T19:11:03.377Z"
   },
   {
    "duration": 70,
    "start_time": "2022-03-02T19:11:03.382Z"
   },
   {
    "duration": 6,
    "start_time": "2022-03-02T19:11:03.454Z"
   },
   {
    "duration": 85975,
    "start_time": "2022-03-02T19:11:03.462Z"
   },
   {
    "duration": 1316,
    "start_time": "2022-03-02T19:12:29.439Z"
   },
   {
    "duration": 1555,
    "start_time": "2022-03-02T19:12:30.759Z"
   },
   {
    "duration": 899,
    "start_time": "2022-03-02T19:12:32.316Z"
   },
   {
    "duration": 22,
    "start_time": "2022-03-02T19:12:33.216Z"
   },
   {
    "duration": 69,
    "start_time": "2022-03-02T19:12:33.243Z"
   },
   {
    "duration": -72,
    "start_time": "2022-03-02T19:12:33.386Z"
   },
   {
    "duration": -75,
    "start_time": "2022-03-02T19:12:33.390Z"
   },
   {
    "duration": -79,
    "start_time": "2022-03-02T19:12:33.395Z"
   },
   {
    "duration": -97,
    "start_time": "2022-03-02T19:12:33.414Z"
   },
   {
    "duration": -100,
    "start_time": "2022-03-02T19:12:33.418Z"
   },
   {
    "duration": 1263,
    "start_time": "2022-03-02T21:46:28.679Z"
   },
   {
    "duration": 38,
    "start_time": "2022-03-02T21:46:29.944Z"
   },
   {
    "duration": 16,
    "start_time": "2022-03-02T21:46:29.985Z"
   },
   {
    "duration": 28,
    "start_time": "2022-03-02T21:46:30.003Z"
   },
   {
    "duration": 21,
    "start_time": "2022-03-02T21:46:30.033Z"
   },
   {
    "duration": 43,
    "start_time": "2022-03-02T21:46:30.056Z"
   },
   {
    "duration": 68,
    "start_time": "2022-03-02T21:46:30.101Z"
   },
   {
    "duration": 16,
    "start_time": "2022-03-02T21:46:30.172Z"
   },
   {
    "duration": 24,
    "start_time": "2022-03-02T21:46:30.191Z"
   },
   {
    "duration": 4357,
    "start_time": "2022-03-02T21:46:30.217Z"
   },
   {
    "duration": 33,
    "start_time": "2022-03-02T21:46:34.577Z"
   },
   {
    "duration": 963,
    "start_time": "2022-03-02T21:46:34.613Z"
   },
   {
    "duration": 2,
    "start_time": "2022-03-02T21:46:35.578Z"
   },
   {
    "duration": 32,
    "start_time": "2022-03-02T21:46:35.582Z"
   },
   {
    "duration": 89,
    "start_time": "2022-03-02T21:46:35.616Z"
   },
   {
    "duration": 134,
    "start_time": "2022-03-02T21:46:35.710Z"
   },
   {
    "duration": 3,
    "start_time": "2022-03-02T21:46:35.846Z"
   },
   {
    "duration": 26,
    "start_time": "2022-03-02T21:46:35.851Z"
   },
   {
    "duration": 26,
    "start_time": "2022-03-02T21:46:35.879Z"
   },
   {
    "duration": 89059,
    "start_time": "2022-03-02T21:46:35.907Z"
   },
   {
    "duration": 1648,
    "start_time": "2022-03-02T21:48:04.968Z"
   },
   {
    "duration": 1539,
    "start_time": "2022-03-02T21:48:06.618Z"
   },
   {
    "duration": 858,
    "start_time": "2022-03-02T21:48:08.160Z"
   },
   {
    "duration": 11,
    "start_time": "2022-03-02T21:48:09.020Z"
   },
   {
    "duration": 69,
    "start_time": "2022-03-02T21:48:09.033Z"
   },
   {
    "duration": -70,
    "start_time": "2022-03-02T21:48:09.174Z"
   },
   {
    "duration": -72,
    "start_time": "2022-03-02T21:48:09.177Z"
   },
   {
    "duration": -74,
    "start_time": "2022-03-02T21:48:09.180Z"
   },
   {
    "duration": -78,
    "start_time": "2022-03-02T21:48:09.185Z"
   },
   {
    "duration": -81,
    "start_time": "2022-03-02T21:48:09.189Z"
   },
   {
    "duration": 1196,
    "start_time": "2022-03-03T06:53:26.194Z"
   },
   {
    "duration": 39,
    "start_time": "2022-03-03T06:53:27.392Z"
   },
   {
    "duration": 6,
    "start_time": "2022-03-03T06:53:27.433Z"
   },
   {
    "duration": 19,
    "start_time": "2022-03-03T06:53:27.441Z"
   },
   {
    "duration": 5,
    "start_time": "2022-03-03T06:53:27.461Z"
   },
   {
    "duration": 6,
    "start_time": "2022-03-03T06:53:27.468Z"
   },
   {
    "duration": 48,
    "start_time": "2022-03-03T06:53:27.475Z"
   },
   {
    "duration": 41,
    "start_time": "2022-03-03T06:53:27.526Z"
   },
   {
    "duration": 7,
    "start_time": "2022-03-03T06:53:27.569Z"
   },
   {
    "duration": 4411,
    "start_time": "2022-03-03T06:53:27.578Z"
   },
   {
    "duration": 20,
    "start_time": "2022-03-03T06:53:31.991Z"
   },
   {
    "duration": 1063,
    "start_time": "2022-03-03T06:53:32.013Z"
   },
   {
    "duration": 2,
    "start_time": "2022-03-03T06:53:33.078Z"
   },
   {
    "duration": 18,
    "start_time": "2022-03-03T06:53:33.082Z"
   },
   {
    "duration": 63,
    "start_time": "2022-03-03T06:53:33.102Z"
   },
   {
    "duration": 224,
    "start_time": "2022-03-03T06:53:33.167Z"
   },
   {
    "duration": 4,
    "start_time": "2022-03-03T06:53:33.393Z"
   },
   {
    "duration": 17,
    "start_time": "2022-03-03T06:53:33.399Z"
   },
   {
    "duration": 5,
    "start_time": "2022-03-03T06:53:33.418Z"
   },
   {
    "duration": 95816,
    "start_time": "2022-03-03T06:53:33.424Z"
   },
   {
    "duration": 1830,
    "start_time": "2022-03-03T06:55:09.242Z"
   },
   {
    "duration": 1587,
    "start_time": "2022-03-03T06:55:11.073Z"
   },
   {
    "duration": 919,
    "start_time": "2022-03-03T06:55:12.664Z"
   },
   {
    "duration": 12,
    "start_time": "2022-03-03T06:55:13.585Z"
   },
   {
    "duration": 74,
    "start_time": "2022-03-03T06:55:13.599Z"
   },
   {
    "duration": -102,
    "start_time": "2022-03-03T06:55:13.777Z"
   },
   {
    "duration": -105,
    "start_time": "2022-03-03T06:55:13.782Z"
   },
   {
    "duration": -109,
    "start_time": "2022-03-03T06:55:13.788Z"
   },
   {
    "duration": -130,
    "start_time": "2022-03-03T06:55:13.811Z"
   },
   {
    "duration": -142,
    "start_time": "2022-03-03T06:55:13.824Z"
   },
   {
    "duration": 4,
    "start_time": "2022-03-03T08:10:15.615Z"
   },
   {
    "duration": 1198,
    "start_time": "2022-03-03T08:10:26.898Z"
   },
   {
    "duration": 39,
    "start_time": "2022-03-03T08:10:28.098Z"
   },
   {
    "duration": 5,
    "start_time": "2022-03-03T08:10:28.139Z"
   },
   {
    "duration": 13,
    "start_time": "2022-03-03T08:10:28.146Z"
   },
   {
    "duration": 7,
    "start_time": "2022-03-03T08:10:28.161Z"
   },
   {
    "duration": 8,
    "start_time": "2022-03-03T08:10:28.169Z"
   },
   {
    "duration": 49,
    "start_time": "2022-03-03T08:10:28.179Z"
   },
   {
    "duration": 36,
    "start_time": "2022-03-03T08:10:28.230Z"
   },
   {
    "duration": 8,
    "start_time": "2022-03-03T08:10:28.268Z"
   },
   {
    "duration": 4467,
    "start_time": "2022-03-03T08:10:28.278Z"
   },
   {
    "duration": 23,
    "start_time": "2022-03-03T08:10:32.747Z"
   },
   {
    "duration": 1043,
    "start_time": "2022-03-03T08:10:32.772Z"
   },
   {
    "duration": 3,
    "start_time": "2022-03-03T08:10:33.817Z"
   },
   {
    "duration": 15,
    "start_time": "2022-03-03T08:10:33.821Z"
   },
   {
    "duration": 34,
    "start_time": "2022-03-03T08:10:33.838Z"
   },
   {
    "duration": 216,
    "start_time": "2022-03-03T08:10:33.874Z"
   },
   {
    "duration": 4,
    "start_time": "2022-03-03T08:10:34.091Z"
   },
   {
    "duration": 22,
    "start_time": "2022-03-03T08:10:34.097Z"
   },
   {
    "duration": 6,
    "start_time": "2022-03-03T08:10:34.121Z"
   },
   {
    "duration": 1170,
    "start_time": "2022-03-03T08:11:20.595Z"
   },
   {
    "duration": 41,
    "start_time": "2022-03-03T08:11:21.767Z"
   },
   {
    "duration": 6,
    "start_time": "2022-03-03T08:11:21.810Z"
   },
   {
    "duration": 10,
    "start_time": "2022-03-03T08:11:21.818Z"
   },
   {
    "duration": 4,
    "start_time": "2022-03-03T08:11:21.830Z"
   },
   {
    "duration": 23,
    "start_time": "2022-03-03T08:11:21.836Z"
   },
   {
    "duration": 47,
    "start_time": "2022-03-03T08:11:21.861Z"
   },
   {
    "duration": 15,
    "start_time": "2022-03-03T08:11:21.910Z"
   },
   {
    "duration": 8,
    "start_time": "2022-03-03T08:11:21.927Z"
   },
   {
    "duration": 4498,
    "start_time": "2022-03-03T08:11:21.936Z"
   },
   {
    "duration": 28,
    "start_time": "2022-03-03T08:11:26.435Z"
   },
   {
    "duration": 1018,
    "start_time": "2022-03-03T08:11:26.464Z"
   },
   {
    "duration": 3,
    "start_time": "2022-03-03T08:11:27.484Z"
   },
   {
    "duration": 16,
    "start_time": "2022-03-03T08:11:27.489Z"
   },
   {
    "duration": 57,
    "start_time": "2022-03-03T08:11:27.507Z"
   },
   {
    "duration": 228,
    "start_time": "2022-03-03T08:11:27.567Z"
   },
   {
    "duration": 4,
    "start_time": "2022-03-03T08:11:27.796Z"
   },
   {
    "duration": 26,
    "start_time": "2022-03-03T08:11:27.802Z"
   },
   {
    "duration": 6,
    "start_time": "2022-03-03T08:11:27.829Z"
   },
   {
    "duration": 94249,
    "start_time": "2022-03-03T08:11:27.837Z"
   },
   {
    "duration": 1790,
    "start_time": "2022-03-03T08:13:02.088Z"
   },
   {
    "duration": 1620,
    "start_time": "2022-03-03T08:13:03.879Z"
   },
   {
    "duration": 914,
    "start_time": "2022-03-03T08:13:05.502Z"
   },
   {
    "duration": 11,
    "start_time": "2022-03-03T08:13:06.418Z"
   },
   {
    "duration": 9724,
    "start_time": "2022-03-03T08:30:18.600Z"
   },
   {
    "duration": 9753,
    "start_time": "2022-03-03T08:30:39.949Z"
   },
   {
    "duration": 9818,
    "start_time": "2022-03-03T08:32:32.135Z"
   },
   {
    "duration": 9696,
    "start_time": "2022-03-03T08:32:58.338Z"
   },
   {
    "duration": 9417,
    "start_time": "2022-03-03T08:33:36.805Z"
   },
   {
    "duration": 9438,
    "start_time": "2022-03-03T08:34:48.381Z"
   },
   {
    "duration": 1214,
    "start_time": "2022-03-03T08:39:31.791Z"
   },
   {
    "duration": 43,
    "start_time": "2022-03-03T08:39:33.007Z"
   },
   {
    "duration": 5,
    "start_time": "2022-03-03T08:39:33.052Z"
   },
   {
    "duration": 10,
    "start_time": "2022-03-03T08:39:33.059Z"
   },
   {
    "duration": 6,
    "start_time": "2022-03-03T08:39:33.071Z"
   },
   {
    "duration": 8,
    "start_time": "2022-03-03T08:39:33.079Z"
   },
   {
    "duration": 85,
    "start_time": "2022-03-03T08:39:33.089Z"
   },
   {
    "duration": 17,
    "start_time": "2022-03-03T08:39:33.177Z"
   },
   {
    "duration": 8,
    "start_time": "2022-03-03T08:39:33.196Z"
   },
   {
    "duration": 4445,
    "start_time": "2022-03-03T08:39:33.206Z"
   },
   {
    "duration": 25,
    "start_time": "2022-03-03T08:39:37.652Z"
   },
   {
    "duration": 1013,
    "start_time": "2022-03-03T08:39:37.679Z"
   },
   {
    "duration": 2,
    "start_time": "2022-03-03T08:39:38.694Z"
   },
   {
    "duration": 14,
    "start_time": "2022-03-03T08:39:38.698Z"
   },
   {
    "duration": 52,
    "start_time": "2022-03-03T08:39:38.713Z"
   },
   {
    "duration": 227,
    "start_time": "2022-03-03T08:39:38.767Z"
   },
   {
    "duration": 4,
    "start_time": "2022-03-03T08:39:38.996Z"
   },
   {
    "duration": 65,
    "start_time": "2022-03-03T08:39:39.001Z"
   },
   {
    "duration": 32,
    "start_time": "2022-03-03T08:39:39.069Z"
   },
   {
    "duration": 94559,
    "start_time": "2022-03-03T08:39:39.102Z"
   },
   {
    "duration": 1619,
    "start_time": "2022-03-03T08:41:13.663Z"
   },
   {
    "duration": 1668,
    "start_time": "2022-03-03T08:41:15.284Z"
   },
   {
    "duration": 915,
    "start_time": "2022-03-03T08:41:16.954Z"
   },
   {
    "duration": 11,
    "start_time": "2022-03-03T08:41:17.871Z"
   },
   {
    "duration": 333,
    "start_time": "2022-03-03T08:41:17.884Z"
   },
   {
    "duration": 75,
    "start_time": "2022-03-03T08:43:35.692Z"
   },
   {
    "duration": 9670,
    "start_time": "2022-03-03T08:44:08.379Z"
   },
   {
    "duration": 1277,
    "start_time": "2022-03-03T08:51:11.077Z"
   },
   {
    "duration": 35,
    "start_time": "2022-03-03T08:51:12.356Z"
   },
   {
    "duration": 6,
    "start_time": "2022-03-03T08:51:12.393Z"
   },
   {
    "duration": 10,
    "start_time": "2022-03-03T08:51:12.401Z"
   },
   {
    "duration": 4,
    "start_time": "2022-03-03T08:51:12.413Z"
   },
   {
    "duration": 7,
    "start_time": "2022-03-03T08:51:12.419Z"
   },
   {
    "duration": 75,
    "start_time": "2022-03-03T08:51:12.428Z"
   },
   {
    "duration": 17,
    "start_time": "2022-03-03T08:51:12.505Z"
   },
   {
    "duration": 7,
    "start_time": "2022-03-03T08:51:12.524Z"
   },
   {
    "duration": 4467,
    "start_time": "2022-03-03T08:51:12.533Z"
   },
   {
    "duration": 20,
    "start_time": "2022-03-03T08:51:17.002Z"
   },
   {
    "duration": 1041,
    "start_time": "2022-03-03T08:51:17.023Z"
   },
   {
    "duration": 2,
    "start_time": "2022-03-03T08:51:18.066Z"
   },
   {
    "duration": 14,
    "start_time": "2022-03-03T08:51:18.070Z"
   },
   {
    "duration": 76,
    "start_time": "2022-03-03T08:51:18.086Z"
   },
   {
    "duration": 230,
    "start_time": "2022-03-03T08:51:18.165Z"
   },
   {
    "duration": 4,
    "start_time": "2022-03-03T08:51:18.396Z"
   },
   {
    "duration": 18,
    "start_time": "2022-03-03T08:51:18.402Z"
   },
   {
    "duration": 6,
    "start_time": "2022-03-03T08:51:18.421Z"
   },
   {
    "duration": 94280,
    "start_time": "2022-03-03T08:51:18.428Z"
   },
   {
    "duration": 1770,
    "start_time": "2022-03-03T08:52:52.710Z"
   },
   {
    "duration": 1574,
    "start_time": "2022-03-03T08:52:54.482Z"
   },
   {
    "duration": 901,
    "start_time": "2022-03-03T08:52:56.059Z"
   },
   {
    "duration": 9,
    "start_time": "2022-03-03T08:52:56.962Z"
   },
   {
    "duration": 6,
    "start_time": "2022-03-03T08:53:55.959Z"
   },
   {
    "duration": 37,
    "start_time": "2022-03-03T08:54:05.724Z"
   },
   {
    "duration": 491,
    "start_time": "2022-03-03T09:01:51.833Z"
   },
   {
    "duration": 1206,
    "start_time": "2022-03-03T09:02:03.072Z"
   },
   {
    "duration": 42,
    "start_time": "2022-03-03T09:02:04.280Z"
   },
   {
    "duration": 6,
    "start_time": "2022-03-03T09:02:04.326Z"
   },
   {
    "duration": 8,
    "start_time": "2022-03-03T09:02:04.334Z"
   },
   {
    "duration": 4,
    "start_time": "2022-03-03T09:02:04.359Z"
   },
   {
    "duration": 7,
    "start_time": "2022-03-03T09:02:04.365Z"
   },
   {
    "duration": 50,
    "start_time": "2022-03-03T09:02:04.375Z"
   },
   {
    "duration": 45,
    "start_time": "2022-03-03T09:02:04.427Z"
   },
   {
    "duration": 8,
    "start_time": "2022-03-03T09:02:04.474Z"
   },
   {
    "duration": 4868,
    "start_time": "2022-03-03T09:02:04.484Z"
   },
   {
    "duration": 22,
    "start_time": "2022-03-03T09:02:09.354Z"
   },
   {
    "duration": 1004,
    "start_time": "2022-03-03T09:02:09.378Z"
   },
   {
    "duration": 2,
    "start_time": "2022-03-03T09:02:10.384Z"
   },
   {
    "duration": 14,
    "start_time": "2022-03-03T09:02:10.388Z"
   },
   {
    "duration": 62,
    "start_time": "2022-03-03T09:02:10.403Z"
   },
   {
    "duration": 240,
    "start_time": "2022-03-03T09:02:10.467Z"
   },
   {
    "duration": 5,
    "start_time": "2022-03-03T09:02:10.708Z"
   },
   {
    "duration": 21,
    "start_time": "2022-03-03T09:02:10.714Z"
   },
   {
    "duration": 23,
    "start_time": "2022-03-03T09:02:10.737Z"
   },
   {
    "duration": 95664,
    "start_time": "2022-03-03T09:02:10.762Z"
   },
   {
    "duration": 1739,
    "start_time": "2022-03-03T09:03:46.428Z"
   },
   {
    "duration": 1605,
    "start_time": "2022-03-03T09:03:48.170Z"
   },
   {
    "duration": 918,
    "start_time": "2022-03-03T09:03:49.777Z"
   },
   {
    "duration": 12,
    "start_time": "2022-03-03T09:03:50.697Z"
   },
   {
    "duration": 10133,
    "start_time": "2022-03-03T09:03:50.710Z"
   },
   {
    "duration": 9473,
    "start_time": "2022-03-03T09:04:06.644Z"
   },
   {
    "duration": 1158,
    "start_time": "2022-03-03T09:04:33.022Z"
   },
   {
    "duration": 38,
    "start_time": "2022-03-03T09:04:34.182Z"
   },
   {
    "duration": 5,
    "start_time": "2022-03-03T09:04:34.222Z"
   },
   {
    "duration": 9,
    "start_time": "2022-03-03T09:04:34.229Z"
   },
   {
    "duration": 4,
    "start_time": "2022-03-03T09:04:34.240Z"
   },
   {
    "duration": 18,
    "start_time": "2022-03-03T09:04:34.245Z"
   },
   {
    "duration": 51,
    "start_time": "2022-03-03T09:04:34.264Z"
   },
   {
    "duration": 16,
    "start_time": "2022-03-03T09:04:34.317Z"
   },
   {
    "duration": 24,
    "start_time": "2022-03-03T09:04:34.336Z"
   },
   {
    "duration": 4436,
    "start_time": "2022-03-03T09:04:34.362Z"
   },
   {
    "duration": 19,
    "start_time": "2022-03-03T09:04:38.800Z"
   },
   {
    "duration": 1044,
    "start_time": "2022-03-03T09:04:38.821Z"
   },
   {
    "duration": 3,
    "start_time": "2022-03-03T09:04:39.867Z"
   },
   {
    "duration": 20,
    "start_time": "2022-03-03T09:04:39.872Z"
   },
   {
    "duration": 67,
    "start_time": "2022-03-03T09:04:39.894Z"
   },
   {
    "duration": 226,
    "start_time": "2022-03-03T09:04:39.964Z"
   },
   {
    "duration": 4,
    "start_time": "2022-03-03T09:04:40.192Z"
   },
   {
    "duration": 24,
    "start_time": "2022-03-03T09:04:40.198Z"
   },
   {
    "duration": 6,
    "start_time": "2022-03-03T09:04:40.223Z"
   },
   {
    "duration": 94982,
    "start_time": "2022-03-03T09:04:40.230Z"
   },
   {
    "duration": 1657,
    "start_time": "2022-03-03T09:06:15.214Z"
   },
   {
    "duration": 1588,
    "start_time": "2022-03-03T09:06:16.873Z"
   },
   {
    "duration": 921,
    "start_time": "2022-03-03T09:06:18.463Z"
   },
   {
    "duration": 11,
    "start_time": "2022-03-03T09:06:19.386Z"
   },
   {
    "duration": 1976,
    "start_time": "2022-03-03T09:12:11.388Z"
   },
   {
    "duration": 1744,
    "start_time": "2022-03-03T09:13:24.526Z"
   },
   {
    "duration": 684,
    "start_time": "2022-03-03T09:14:49.391Z"
   },
   {
    "duration": 1881,
    "start_time": "2022-03-03T09:15:43.968Z"
   },
   {
    "duration": 1208,
    "start_time": "2022-03-03T10:41:28.380Z"
   },
   {
    "duration": 35,
    "start_time": "2022-03-03T10:41:29.590Z"
   },
   {
    "duration": 6,
    "start_time": "2022-03-03T10:41:29.627Z"
   },
   {
    "duration": 9,
    "start_time": "2022-03-03T10:41:29.635Z"
   },
   {
    "duration": 5,
    "start_time": "2022-03-03T10:41:29.659Z"
   },
   {
    "duration": 7,
    "start_time": "2022-03-03T10:41:29.665Z"
   },
   {
    "duration": 62,
    "start_time": "2022-03-03T10:41:29.674Z"
   },
   {
    "duration": 25,
    "start_time": "2022-03-03T10:41:29.739Z"
   },
   {
    "duration": 8,
    "start_time": "2022-03-03T10:41:29.766Z"
   },
   {
    "duration": 4524,
    "start_time": "2022-03-03T10:41:29.776Z"
   },
   {
    "duration": 20,
    "start_time": "2022-03-03T10:41:34.301Z"
   },
   {
    "duration": 1041,
    "start_time": "2022-03-03T10:41:34.323Z"
   },
   {
    "duration": 16,
    "start_time": "2022-03-03T10:41:35.366Z"
   },
   {
    "duration": 19,
    "start_time": "2022-03-03T10:41:35.384Z"
   },
   {
    "duration": 131,
    "start_time": "2022-03-03T10:41:35.461Z"
   },
   {
    "duration": 4,
    "start_time": "2022-03-03T10:41:35.594Z"
   },
   {
    "duration": 22,
    "start_time": "2022-03-03T10:41:35.600Z"
   },
   {
    "duration": 7,
    "start_time": "2022-03-03T10:41:35.624Z"
   },
   {
    "duration": 95155,
    "start_time": "2022-03-03T10:41:35.633Z"
   },
   {
    "duration": 1679,
    "start_time": "2022-03-03T10:43:10.790Z"
   },
   {
    "duration": 1638,
    "start_time": "2022-03-03T10:43:12.471Z"
   },
   {
    "duration": 934,
    "start_time": "2022-03-03T10:43:14.111Z"
   },
   {
    "duration": 20,
    "start_time": "2022-03-03T10:43:15.048Z"
   },
   {
    "duration": 1227,
    "start_time": "2022-03-03T10:46:39.338Z"
   },
   {
    "duration": 35,
    "start_time": "2022-03-03T10:46:40.567Z"
   },
   {
    "duration": 5,
    "start_time": "2022-03-03T10:46:40.604Z"
   },
   {
    "duration": 9,
    "start_time": "2022-03-03T10:46:40.611Z"
   },
   {
    "duration": 3,
    "start_time": "2022-03-03T10:46:40.622Z"
   },
   {
    "duration": 36,
    "start_time": "2022-03-03T10:46:40.627Z"
   },
   {
    "duration": 50,
    "start_time": "2022-03-03T10:46:40.665Z"
   },
   {
    "duration": 16,
    "start_time": "2022-03-03T10:46:40.717Z"
   },
   {
    "duration": 8,
    "start_time": "2022-03-03T10:46:40.760Z"
   },
   {
    "duration": 4496,
    "start_time": "2022-03-03T10:46:40.770Z"
   },
   {
    "duration": 20,
    "start_time": "2022-03-03T10:46:45.269Z"
   },
   {
    "duration": 1014,
    "start_time": "2022-03-03T10:46:45.291Z"
   },
   {
    "duration": 13,
    "start_time": "2022-03-03T10:46:46.306Z"
   },
   {
    "duration": 46,
    "start_time": "2022-03-03T10:46:46.321Z"
   },
   {
    "duration": 225,
    "start_time": "2022-03-03T10:46:46.370Z"
   },
   {
    "duration": 3,
    "start_time": "2022-03-03T10:46:46.597Z"
   },
   {
    "duration": 19,
    "start_time": "2022-03-03T10:46:46.602Z"
   },
   {
    "duration": 5,
    "start_time": "2022-03-03T10:46:46.623Z"
   },
   {
    "duration": 96439,
    "start_time": "2022-03-03T10:46:46.630Z"
   },
   {
    "duration": 1695,
    "start_time": "2022-03-03T10:48:23.071Z"
   },
   {
    "duration": 1630,
    "start_time": "2022-03-03T10:48:24.768Z"
   },
   {
    "duration": 926,
    "start_time": "2022-03-03T10:48:26.400Z"
   },
   {
    "duration": 12,
    "start_time": "2022-03-03T10:48:27.328Z"
   },
   {
    "duration": 2497,
    "start_time": "2022-03-04T07:07:57.696Z"
   },
   {
    "duration": 94,
    "start_time": "2022-03-04T07:08:00.195Z"
   },
   {
    "duration": 6,
    "start_time": "2022-03-04T07:08:00.291Z"
   },
   {
    "duration": 68,
    "start_time": "2022-03-04T07:08:00.299Z"
   },
   {
    "duration": 6,
    "start_time": "2022-03-04T07:08:00.369Z"
   },
   {
    "duration": 10,
    "start_time": "2022-03-04T07:08:00.377Z"
   },
   {
    "duration": 101,
    "start_time": "2022-03-04T07:08:00.389Z"
   },
   {
    "duration": 15,
    "start_time": "2022-03-04T07:08:00.492Z"
   },
   {
    "duration": 8,
    "start_time": "2022-03-04T07:08:00.564Z"
   },
   {
    "duration": 8415,
    "start_time": "2022-03-04T07:08:00.574Z"
   },
   {
    "duration": 74,
    "start_time": "2022-03-04T07:08:08.991Z"
   },
   {
    "duration": 1613,
    "start_time": "2022-03-04T07:08:09.067Z"
   },
   {
    "duration": 13,
    "start_time": "2022-03-04T07:08:10.682Z"
   },
   {
    "duration": 176,
    "start_time": "2022-03-04T07:08:10.696Z"
   },
   {
    "duration": 40,
    "start_time": "2022-03-04T07:08:10.964Z"
   },
   {
    "duration": 60,
    "start_time": "2022-03-04T07:08:11.006Z"
   },
   {
    "duration": 22,
    "start_time": "2022-03-04T07:08:11.068Z"
   },
   {
    "duration": 6,
    "start_time": "2022-03-04T07:08:11.092Z"
   },
   {
    "duration": 180367,
    "start_time": "2022-03-04T07:08:11.100Z"
   },
   {
    "duration": 1600,
    "start_time": "2022-03-04T07:11:11.469Z"
   },
   {
    "duration": 1622,
    "start_time": "2022-03-04T07:11:13.071Z"
   },
   {
    "duration": 768,
    "start_time": "2022-03-04T07:11:14.695Z"
   },
   {
    "duration": 10,
    "start_time": "2022-03-04T07:11:15.465Z"
   }
  ],
  "celltoolbar": "Необработанный формат ячейки",
  "kernelspec": {
   "display_name": "Python 3",
   "language": "python",
   "name": "python3"
  },
  "language_info": {
   "codemirror_mode": {
    "name": "ipython",
    "version": 3
   },
   "file_extension": ".py",
   "mimetype": "text/x-python",
   "name": "python",
   "nbconvert_exporter": "python",
   "pygments_lexer": "ipython3",
   "version": "3.7.0"
  },
  "toc": {
   "base_numbering": 1,
   "nav_menu": {},
   "number_sections": true,
   "sideBar": true,
   "skip_h1_title": true,
   "title_cell": "Содержание",
   "title_sidebar": "Содержание",
   "toc_cell": true,
   "toc_position": {},
   "toc_section_display": true,
   "toc_window_display": false
  }
 },
 "nbformat": 4,
 "nbformat_minor": 2
}
